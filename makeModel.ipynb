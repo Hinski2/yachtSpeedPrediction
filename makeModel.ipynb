{
 "cells": [
  {
   "cell_type": "markdown",
   "metadata": {},
   "source": [
    "# creating models"
   ]
  },
  {
   "cell_type": "code",
   "execution_count": 30,
   "metadata": {},
   "outputs": [
    {
     "data": {
      "text/plain": [
       "'cuda'"
      ]
     },
     "execution_count": 30,
     "metadata": {},
     "output_type": "execute_result"
    }
   ],
   "source": [
    "import numpy as np \n",
    "import matplotlib.pyplot as plt \n",
    "import torch \n",
    "import pandas as pd\n",
    " \n",
    "device = \"cuda\" if torch.cuda.is_available() else \"cpu\"\n",
    "device"
   ]
  },
  {
   "cell_type": "code",
   "execution_count": 31,
   "metadata": {},
   "outputs": [
    {
     "data": {
      "text/plain": [
       "(9228, 2308, 11536)"
      ]
     },
     "execution_count": 31,
     "metadata": {},
     "output_type": "execute_result"
    }
   ],
   "source": [
    "indf = pd.read_excel('data/clean/indf.xlsx').drop('Unnamed: 0', axis=1)\n",
    "outdf = pd.read_excel('data/clean/outdf.xlsx').drop('Unnamed: 0', axis=1)\n",
    "\n",
    "TEST_SPLIT = int(0.80 * len(indf))\n",
    "X_train, y_train, X_test, y_test = indf.iloc[:TEST_SPLIT], outdf.iloc[:TEST_SPLIT], indf.iloc[TEST_SPLIT:], outdf.iloc[TEST_SPLIT:]\n",
    "len(X_train), len(X_test), len(indf)"
   ]
  },
  {
   "cell_type": "code",
   "execution_count": 32,
   "metadata": {},
   "outputs": [
    {
     "data": {
      "text/html": [
       "<div>\n",
       "<style scoped>\n",
       "    .dataframe tbody tr th:only-of-type {\n",
       "        vertical-align: middle;\n",
       "    }\n",
       "\n",
       "    .dataframe tbody tr th {\n",
       "        vertical-align: top;\n",
       "    }\n",
       "\n",
       "    .dataframe thead th {\n",
       "        text-align: right;\n",
       "    }\n",
       "</style>\n",
       "<table border=\"1\" class=\"dataframe\">\n",
       "  <thead>\n",
       "    <tr style=\"text-align: right;\">\n",
       "      <th></th>\n",
       "      <th>Series date</th>\n",
       "      <th>Length Overall</th>\n",
       "      <th>Maximum Beam</th>\n",
       "      <th>Draft</th>\n",
       "      <th>Displacement</th>\n",
       "      <th>DLR</th>\n",
       "      <th>IMS Division</th>\n",
       "      <th>Dynamic Allowance</th>\n",
       "      <th>Age Allowance</th>\n",
       "      <th>Mainsail measured</th>\n",
       "      <th>...</th>\n",
       "      <th>Mizzen measured</th>\n",
       "      <th>Mizzen rated</th>\n",
       "      <th>Headsail Flying measured</th>\n",
       "      <th>Headsail Flying rated</th>\n",
       "      <th>Asymmetric measured</th>\n",
       "      <th>Asymmetric rated</th>\n",
       "      <th>Quad. Mainsail measured</th>\n",
       "      <th>Quad. Mainsail rated</th>\n",
       "      <th>Mizzen Staysail measured</th>\n",
       "      <th>Mizzen Staysail rated</th>\n",
       "    </tr>\n",
       "  </thead>\n",
       "  <tbody>\n",
       "    <tr>\n",
       "      <th>0</th>\n",
       "      <td>0.926917</td>\n",
       "      <td>0.129929</td>\n",
       "      <td>0.092691</td>\n",
       "      <td>0.166967</td>\n",
       "      <td>0.012646</td>\n",
       "      <td>0.198474</td>\n",
       "      <td>0.666667</td>\n",
       "      <td>0.200000</td>\n",
       "      <td>1.000000</td>\n",
       "      <td>0.049676</td>\n",
       "      <td>...</td>\n",
       "      <td>0.000000</td>\n",
       "      <td>0.000000</td>\n",
       "      <td>0.000000</td>\n",
       "      <td>0.000000</td>\n",
       "      <td>0.000000</td>\n",
       "      <td>0.000000</td>\n",
       "      <td>0.0</td>\n",
       "      <td>0.0</td>\n",
       "      <td>0.0</td>\n",
       "      <td>0.0</td>\n",
       "    </tr>\n",
       "    <tr>\n",
       "      <th>1</th>\n",
       "      <td>0.880755</td>\n",
       "      <td>0.139393</td>\n",
       "      <td>0.102733</td>\n",
       "      <td>0.062528</td>\n",
       "      <td>0.019525</td>\n",
       "      <td>0.406542</td>\n",
       "      <td>0.000000</td>\n",
       "      <td>0.800000</td>\n",
       "      <td>1.000000</td>\n",
       "      <td>0.031359</td>\n",
       "      <td>...</td>\n",
       "      <td>0.056285</td>\n",
       "      <td>0.056638</td>\n",
       "      <td>0.050080</td>\n",
       "      <td>0.148463</td>\n",
       "      <td>0.032390</td>\n",
       "      <td>0.135318</td>\n",
       "      <td>0.0</td>\n",
       "      <td>0.0</td>\n",
       "      <td>0.0</td>\n",
       "      <td>0.0</td>\n",
       "    </tr>\n",
       "    <tr>\n",
       "      <th>2</th>\n",
       "      <td>0.940614</td>\n",
       "      <td>0.161120</td>\n",
       "      <td>0.107443</td>\n",
       "      <td>0.207639</td>\n",
       "      <td>0.019245</td>\n",
       "      <td>0.264876</td>\n",
       "      <td>0.666667</td>\n",
       "      <td>0.000000</td>\n",
       "      <td>1.000000</td>\n",
       "      <td>0.069499</td>\n",
       "      <td>...</td>\n",
       "      <td>0.000000</td>\n",
       "      <td>0.000000</td>\n",
       "      <td>0.000000</td>\n",
       "      <td>0.000000</td>\n",
       "      <td>0.000000</td>\n",
       "      <td>0.000000</td>\n",
       "      <td>0.0</td>\n",
       "      <td>0.0</td>\n",
       "      <td>0.0</td>\n",
       "      <td>0.0</td>\n",
       "    </tr>\n",
       "    <tr>\n",
       "      <th>3</th>\n",
       "      <td>0.964422</td>\n",
       "      <td>0.098186</td>\n",
       "      <td>0.070207</td>\n",
       "      <td>0.155250</td>\n",
       "      <td>0.004272</td>\n",
       "      <td>0.078507</td>\n",
       "      <td>1.000000</td>\n",
       "      <td>0.000000</td>\n",
       "      <td>0.800821</td>\n",
       "      <td>0.044433</td>\n",
       "      <td>...</td>\n",
       "      <td>0.000000</td>\n",
       "      <td>0.000000</td>\n",
       "      <td>0.000000</td>\n",
       "      <td>0.000000</td>\n",
       "      <td>0.043438</td>\n",
       "      <td>0.181478</td>\n",
       "      <td>0.0</td>\n",
       "      <td>0.0</td>\n",
       "      <td>0.0</td>\n",
       "      <td>0.0</td>\n",
       "    </tr>\n",
       "    <tr>\n",
       "      <th>4</th>\n",
       "      <td>0.964422</td>\n",
       "      <td>0.098186</td>\n",
       "      <td>0.070207</td>\n",
       "      <td>0.155250</td>\n",
       "      <td>0.004272</td>\n",
       "      <td>0.078507</td>\n",
       "      <td>1.000000</td>\n",
       "      <td>0.000000</td>\n",
       "      <td>0.800821</td>\n",
       "      <td>0.044433</td>\n",
       "      <td>...</td>\n",
       "      <td>0.000000</td>\n",
       "      <td>0.000000</td>\n",
       "      <td>0.000000</td>\n",
       "      <td>0.000000</td>\n",
       "      <td>0.043438</td>\n",
       "      <td>0.181478</td>\n",
       "      <td>0.0</td>\n",
       "      <td>0.0</td>\n",
       "      <td>0.0</td>\n",
       "      <td>0.0</td>\n",
       "    </tr>\n",
       "    <tr>\n",
       "      <th>...</th>\n",
       "      <td>...</td>\n",
       "      <td>...</td>\n",
       "      <td>...</td>\n",
       "      <td>...</td>\n",
       "      <td>...</td>\n",
       "      <td>...</td>\n",
       "      <td>...</td>\n",
       "      <td>...</td>\n",
       "      <td>...</td>\n",
       "      <td>...</td>\n",
       "      <td>...</td>\n",
       "      <td>...</td>\n",
       "      <td>...</td>\n",
       "      <td>...</td>\n",
       "      <td>...</td>\n",
       "      <td>...</td>\n",
       "      <td>...</td>\n",
       "      <td>...</td>\n",
       "      <td>...</td>\n",
       "      <td>...</td>\n",
       "      <td>...</td>\n",
       "    </tr>\n",
       "    <tr>\n",
       "      <th>11531</th>\n",
       "      <td>0.993278</td>\n",
       "      <td>0.114077</td>\n",
       "      <td>0.099711</td>\n",
       "      <td>0.163024</td>\n",
       "      <td>0.009759</td>\n",
       "      <td>0.174742</td>\n",
       "      <td>1.000000</td>\n",
       "      <td>0.000000</td>\n",
       "      <td>0.133470</td>\n",
       "      <td>0.042830</td>\n",
       "      <td>...</td>\n",
       "      <td>0.000000</td>\n",
       "      <td>0.000000</td>\n",
       "      <td>0.055708</td>\n",
       "      <td>0.165149</td>\n",
       "      <td>0.044585</td>\n",
       "      <td>0.186268</td>\n",
       "      <td>0.0</td>\n",
       "      <td>0.0</td>\n",
       "      <td>0.0</td>\n",
       "      <td>0.0</td>\n",
       "    </tr>\n",
       "    <tr>\n",
       "      <th>11532</th>\n",
       "      <td>0.817285</td>\n",
       "      <td>0.081329</td>\n",
       "      <td>0.061409</td>\n",
       "      <td>0.076386</td>\n",
       "      <td>0.008794</td>\n",
       "      <td>0.436856</td>\n",
       "      <td>0.666667</td>\n",
       "      <td>0.680000</td>\n",
       "      <td>1.000000</td>\n",
       "      <td>0.027189</td>\n",
       "      <td>...</td>\n",
       "      <td>0.000000</td>\n",
       "      <td>0.000000</td>\n",
       "      <td>0.000000</td>\n",
       "      <td>0.000000</td>\n",
       "      <td>0.020251</td>\n",
       "      <td>0.084603</td>\n",
       "      <td>0.0</td>\n",
       "      <td>0.0</td>\n",
       "      <td>0.0</td>\n",
       "      <td>0.0</td>\n",
       "    </tr>\n",
       "    <tr>\n",
       "      <th>11533</th>\n",
       "      <td>0.931483</td>\n",
       "      <td>0.134661</td>\n",
       "      <td>0.095001</td>\n",
       "      <td>0.179811</td>\n",
       "      <td>0.010956</td>\n",
       "      <td>0.191282</td>\n",
       "      <td>1.000000</td>\n",
       "      <td>0.000000</td>\n",
       "      <td>1.000000</td>\n",
       "      <td>0.055850</td>\n",
       "      <td>...</td>\n",
       "      <td>0.000000</td>\n",
       "      <td>0.000000</td>\n",
       "      <td>0.000000</td>\n",
       "      <td>0.000000</td>\n",
       "      <td>0.055785</td>\n",
       "      <td>0.233060</td>\n",
       "      <td>0.0</td>\n",
       "      <td>0.0</td>\n",
       "      <td>0.0</td>\n",
       "      <td>0.0</td>\n",
       "    </tr>\n",
       "    <tr>\n",
       "      <th>11534</th>\n",
       "      <td>0.926917</td>\n",
       "      <td>0.125631</td>\n",
       "      <td>0.108509</td>\n",
       "      <td>0.183979</td>\n",
       "      <td>0.010565</td>\n",
       "      <td>0.177380</td>\n",
       "      <td>0.666667</td>\n",
       "      <td>0.146667</td>\n",
       "      <td>1.000000</td>\n",
       "      <td>0.051593</td>\n",
       "      <td>...</td>\n",
       "      <td>0.000000</td>\n",
       "      <td>0.000000</td>\n",
       "      <td>0.000000</td>\n",
       "      <td>0.000000</td>\n",
       "      <td>0.054677</td>\n",
       "      <td>0.228430</td>\n",
       "      <td>0.0</td>\n",
       "      <td>0.0</td>\n",
       "      <td>0.0</td>\n",
       "      <td>0.0</td>\n",
       "    </tr>\n",
       "    <tr>\n",
       "      <th>11535</th>\n",
       "      <td>0.948063</td>\n",
       "      <td>0.229278</td>\n",
       "      <td>0.130371</td>\n",
       "      <td>0.357256</td>\n",
       "      <td>0.019176</td>\n",
       "      <td>0.070426</td>\n",
       "      <td>1.000000</td>\n",
       "      <td>0.000000</td>\n",
       "      <td>1.000000</td>\n",
       "      <td>0.131112</td>\n",
       "      <td>...</td>\n",
       "      <td>0.000000</td>\n",
       "      <td>0.000000</td>\n",
       "      <td>0.167105</td>\n",
       "      <td>0.495389</td>\n",
       "      <td>0.107078</td>\n",
       "      <td>0.447353</td>\n",
       "      <td>0.0</td>\n",
       "      <td>0.0</td>\n",
       "      <td>0.0</td>\n",
       "      <td>0.0</td>\n",
       "    </tr>\n",
       "  </tbody>\n",
       "</table>\n",
       "<p>11536 rows × 25 columns</p>\n",
       "</div>"
      ],
      "text/plain": [
       "       Series date  Length Overall  Maximum Beam     Draft  Displacement  \\\n",
       "0         0.926917        0.129929      0.092691  0.166967      0.012646   \n",
       "1         0.880755        0.139393      0.102733  0.062528      0.019525   \n",
       "2         0.940614        0.161120      0.107443  0.207639      0.019245   \n",
       "3         0.964422        0.098186      0.070207  0.155250      0.004272   \n",
       "4         0.964422        0.098186      0.070207  0.155250      0.004272   \n",
       "...            ...             ...           ...       ...           ...   \n",
       "11531     0.993278        0.114077      0.099711  0.163024      0.009759   \n",
       "11532     0.817285        0.081329      0.061409  0.076386      0.008794   \n",
       "11533     0.931483        0.134661      0.095001  0.179811      0.010956   \n",
       "11534     0.926917        0.125631      0.108509  0.183979      0.010565   \n",
       "11535     0.948063        0.229278      0.130371  0.357256      0.019176   \n",
       "\n",
       "            DLR  IMS Division  Dynamic Allowance  Age Allowance  \\\n",
       "0      0.198474      0.666667           0.200000       1.000000   \n",
       "1      0.406542      0.000000           0.800000       1.000000   \n",
       "2      0.264876      0.666667           0.000000       1.000000   \n",
       "3      0.078507      1.000000           0.000000       0.800821   \n",
       "4      0.078507      1.000000           0.000000       0.800821   \n",
       "...         ...           ...                ...            ...   \n",
       "11531  0.174742      1.000000           0.000000       0.133470   \n",
       "11532  0.436856      0.666667           0.680000       1.000000   \n",
       "11533  0.191282      1.000000           0.000000       1.000000   \n",
       "11534  0.177380      0.666667           0.146667       1.000000   \n",
       "11535  0.070426      1.000000           0.000000       1.000000   \n",
       "\n",
       "       Mainsail measured  ...  Mizzen measured  Mizzen rated  \\\n",
       "0               0.049676  ...         0.000000      0.000000   \n",
       "1               0.031359  ...         0.056285      0.056638   \n",
       "2               0.069499  ...         0.000000      0.000000   \n",
       "3               0.044433  ...         0.000000      0.000000   \n",
       "4               0.044433  ...         0.000000      0.000000   \n",
       "...                  ...  ...              ...           ...   \n",
       "11531           0.042830  ...         0.000000      0.000000   \n",
       "11532           0.027189  ...         0.000000      0.000000   \n",
       "11533           0.055850  ...         0.000000      0.000000   \n",
       "11534           0.051593  ...         0.000000      0.000000   \n",
       "11535           0.131112  ...         0.000000      0.000000   \n",
       "\n",
       "       Headsail Flying measured  Headsail Flying rated  Asymmetric measured  \\\n",
       "0                      0.000000               0.000000             0.000000   \n",
       "1                      0.050080               0.148463             0.032390   \n",
       "2                      0.000000               0.000000             0.000000   \n",
       "3                      0.000000               0.000000             0.043438   \n",
       "4                      0.000000               0.000000             0.043438   \n",
       "...                         ...                    ...                  ...   \n",
       "11531                  0.055708               0.165149             0.044585   \n",
       "11532                  0.000000               0.000000             0.020251   \n",
       "11533                  0.000000               0.000000             0.055785   \n",
       "11534                  0.000000               0.000000             0.054677   \n",
       "11535                  0.167105               0.495389             0.107078   \n",
       "\n",
       "       Asymmetric rated  Quad. Mainsail measured  Quad. Mainsail rated  \\\n",
       "0              0.000000                      0.0                   0.0   \n",
       "1              0.135318                      0.0                   0.0   \n",
       "2              0.000000                      0.0                   0.0   \n",
       "3              0.181478                      0.0                   0.0   \n",
       "4              0.181478                      0.0                   0.0   \n",
       "...                 ...                      ...                   ...   \n",
       "11531          0.186268                      0.0                   0.0   \n",
       "11532          0.084603                      0.0                   0.0   \n",
       "11533          0.233060                      0.0                   0.0   \n",
       "11534          0.228430                      0.0                   0.0   \n",
       "11535          0.447353                      0.0                   0.0   \n",
       "\n",
       "       Mizzen Staysail measured  Mizzen Staysail rated  \n",
       "0                           0.0                    0.0  \n",
       "1                           0.0                    0.0  \n",
       "2                           0.0                    0.0  \n",
       "3                           0.0                    0.0  \n",
       "4                           0.0                    0.0  \n",
       "...                         ...                    ...  \n",
       "11531                       0.0                    0.0  \n",
       "11532                       0.0                    0.0  \n",
       "11533                       0.0                    0.0  \n",
       "11534                       0.0                    0.0  \n",
       "11535                       0.0                    0.0  \n",
       "\n",
       "[11536 rows x 25 columns]"
      ]
     },
     "execution_count": 32,
     "metadata": {},
     "output_type": "execute_result"
    }
   ],
   "source": [
    "indf"
   ]
  },
  {
   "cell_type": "code",
   "execution_count": 33,
   "metadata": {},
   "outputs": [
    {
     "data": {
      "text/html": [
       "<div>\n",
       "<style scoped>\n",
       "    .dataframe tbody tr th:only-of-type {\n",
       "        vertical-align: middle;\n",
       "    }\n",
       "\n",
       "    .dataframe tbody tr th {\n",
       "        vertical-align: top;\n",
       "    }\n",
       "\n",
       "    .dataframe thead th {\n",
       "        text-align: right;\n",
       "    }\n",
       "</style>\n",
       "<table border=\"1\" class=\"dataframe\">\n",
       "  <thead>\n",
       "    <tr style=\"text-align: right;\">\n",
       "      <th></th>\n",
       "      <th>Beat Angles 6 kt</th>\n",
       "      <th>Beat Angles 8 kt</th>\n",
       "      <th>Beat Angles 10 kt</th>\n",
       "      <th>Beat Angles 12 kt</th>\n",
       "      <th>Beat Angles 14 kt</th>\n",
       "      <th>Beat Angles 16 kt</th>\n",
       "      <th>Beat Angles 20 kt</th>\n",
       "      <th>Beat Angles 24 kt</th>\n",
       "      <th>Beat VMG 6 kt</th>\n",
       "      <th>Beat VMG 8 kt</th>\n",
       "      <th>...</th>\n",
       "      <th>Run VMG 20 kt</th>\n",
       "      <th>Run VMG 24 kt</th>\n",
       "      <th>Gybe Angles 6 kt</th>\n",
       "      <th>Gybe Angles 8 kt</th>\n",
       "      <th>Gybe Angles 10 kt</th>\n",
       "      <th>Gybe Angles 12 kt</th>\n",
       "      <th>Gybe Angles 14 kt</th>\n",
       "      <th>Gybe Angles 16 kt</th>\n",
       "      <th>Gybe Angles 20 kt</th>\n",
       "      <th>Gybe Angles 24 kt</th>\n",
       "    </tr>\n",
       "  </thead>\n",
       "  <tbody>\n",
       "    <tr>\n",
       "      <th>0</th>\n",
       "      <td>42.900002</td>\n",
       "      <td>40.799999</td>\n",
       "      <td>39.099998</td>\n",
       "      <td>37.799999</td>\n",
       "      <td>37.099998</td>\n",
       "      <td>36.599998</td>\n",
       "      <td>36.200001</td>\n",
       "      <td>36.599998</td>\n",
       "      <td>3.74</td>\n",
       "      <td>4.58</td>\n",
       "      <td>...</td>\n",
       "      <td>8.46</td>\n",
       "      <td>9.370000</td>\n",
       "      <td>140.800003</td>\n",
       "      <td>146.899994</td>\n",
       "      <td>150.500000</td>\n",
       "      <td>155.800003</td>\n",
       "      <td>165.100006</td>\n",
       "      <td>176.800003</td>\n",
       "      <td>177.699997</td>\n",
       "      <td>176.399994</td>\n",
       "    </tr>\n",
       "    <tr>\n",
       "      <th>1</th>\n",
       "      <td>49.400002</td>\n",
       "      <td>48.000000</td>\n",
       "      <td>47.200001</td>\n",
       "      <td>47.200001</td>\n",
       "      <td>47.500000</td>\n",
       "      <td>48.200001</td>\n",
       "      <td>49.599998</td>\n",
       "      <td>51.700001</td>\n",
       "      <td>2.63</td>\n",
       "      <td>3.24</td>\n",
       "      <td>...</td>\n",
       "      <td>7.71</td>\n",
       "      <td>8.320000</td>\n",
       "      <td>144.800003</td>\n",
       "      <td>148.699997</td>\n",
       "      <td>152.500000</td>\n",
       "      <td>156.800003</td>\n",
       "      <td>165.100006</td>\n",
       "      <td>175.000000</td>\n",
       "      <td>179.000000</td>\n",
       "      <td>179.000000</td>\n",
       "    </tr>\n",
       "    <tr>\n",
       "      <th>2</th>\n",
       "      <td>42.500000</td>\n",
       "      <td>40.200001</td>\n",
       "      <td>38.599998</td>\n",
       "      <td>37.799999</td>\n",
       "      <td>37.299999</td>\n",
       "      <td>37.099998</td>\n",
       "      <td>37.500000</td>\n",
       "      <td>38.500000</td>\n",
       "      <td>4.14</td>\n",
       "      <td>4.96</td>\n",
       "      <td>...</td>\n",
       "      <td>8.70</td>\n",
       "      <td>9.510000</td>\n",
       "      <td>141.399994</td>\n",
       "      <td>146.500000</td>\n",
       "      <td>150.699997</td>\n",
       "      <td>155.600006</td>\n",
       "      <td>163.300003</td>\n",
       "      <td>175.399994</td>\n",
       "      <td>178.300003</td>\n",
       "      <td>178.100006</td>\n",
       "    </tr>\n",
       "    <tr>\n",
       "      <th>3</th>\n",
       "      <td>42.599998</td>\n",
       "      <td>40.200001</td>\n",
       "      <td>38.799999</td>\n",
       "      <td>38.700001</td>\n",
       "      <td>38.400002</td>\n",
       "      <td>38.200001</td>\n",
       "      <td>38.900002</td>\n",
       "      <td>40.599998</td>\n",
       "      <td>4.08</td>\n",
       "      <td>4.85</td>\n",
       "      <td>...</td>\n",
       "      <td>11.50</td>\n",
       "      <td>14.570000</td>\n",
       "      <td>143.100006</td>\n",
       "      <td>145.800003</td>\n",
       "      <td>149.699997</td>\n",
       "      <td>149.600006</td>\n",
       "      <td>146.500000</td>\n",
       "      <td>145.699997</td>\n",
       "      <td>146.199997</td>\n",
       "      <td>150.300003</td>\n",
       "    </tr>\n",
       "    <tr>\n",
       "      <th>4</th>\n",
       "      <td>42.599998</td>\n",
       "      <td>40.200001</td>\n",
       "      <td>38.799999</td>\n",
       "      <td>38.700001</td>\n",
       "      <td>38.400002</td>\n",
       "      <td>38.200001</td>\n",
       "      <td>38.900002</td>\n",
       "      <td>40.599998</td>\n",
       "      <td>4.08</td>\n",
       "      <td>4.85</td>\n",
       "      <td>...</td>\n",
       "      <td>11.50</td>\n",
       "      <td>14.570000</td>\n",
       "      <td>143.100006</td>\n",
       "      <td>145.800003</td>\n",
       "      <td>149.699997</td>\n",
       "      <td>149.600006</td>\n",
       "      <td>146.500000</td>\n",
       "      <td>145.699997</td>\n",
       "      <td>146.199997</td>\n",
       "      <td>150.300003</td>\n",
       "    </tr>\n",
       "    <tr>\n",
       "      <th>...</th>\n",
       "      <td>...</td>\n",
       "      <td>...</td>\n",
       "      <td>...</td>\n",
       "      <td>...</td>\n",
       "      <td>...</td>\n",
       "      <td>...</td>\n",
       "      <td>...</td>\n",
       "      <td>...</td>\n",
       "      <td>...</td>\n",
       "      <td>...</td>\n",
       "      <td>...</td>\n",
       "      <td>...</td>\n",
       "      <td>...</td>\n",
       "      <td>...</td>\n",
       "      <td>...</td>\n",
       "      <td>...</td>\n",
       "      <td>...</td>\n",
       "      <td>...</td>\n",
       "      <td>...</td>\n",
       "      <td>...</td>\n",
       "      <td>...</td>\n",
       "    </tr>\n",
       "    <tr>\n",
       "      <th>11531</th>\n",
       "      <td>44.099998</td>\n",
       "      <td>41.700001</td>\n",
       "      <td>40.000000</td>\n",
       "      <td>38.900002</td>\n",
       "      <td>38.400002</td>\n",
       "      <td>38.299999</td>\n",
       "      <td>39.200001</td>\n",
       "      <td>40.400002</td>\n",
       "      <td>3.53</td>\n",
       "      <td>4.33</td>\n",
       "      <td>...</td>\n",
       "      <td>8.27</td>\n",
       "      <td>10.320000</td>\n",
       "      <td>143.300003</td>\n",
       "      <td>146.899994</td>\n",
       "      <td>148.000000</td>\n",
       "      <td>149.399994</td>\n",
       "      <td>148.399994</td>\n",
       "      <td>146.600006</td>\n",
       "      <td>143.100006</td>\n",
       "      <td>139.500000</td>\n",
       "    </tr>\n",
       "    <tr>\n",
       "      <th>11532</th>\n",
       "      <td>43.799999</td>\n",
       "      <td>42.000000</td>\n",
       "      <td>41.299999</td>\n",
       "      <td>40.599998</td>\n",
       "      <td>39.900002</td>\n",
       "      <td>39.599998</td>\n",
       "      <td>39.799999</td>\n",
       "      <td>40.900002</td>\n",
       "      <td>2.96</td>\n",
       "      <td>3.56</td>\n",
       "      <td>...</td>\n",
       "      <td>6.98</td>\n",
       "      <td>7.520000</td>\n",
       "      <td>145.300003</td>\n",
       "      <td>151.000000</td>\n",
       "      <td>153.800003</td>\n",
       "      <td>159.399994</td>\n",
       "      <td>173.600006</td>\n",
       "      <td>178.100006</td>\n",
       "      <td>179.000000</td>\n",
       "      <td>179.000000</td>\n",
       "    </tr>\n",
       "    <tr>\n",
       "      <th>11533</th>\n",
       "      <td>42.400002</td>\n",
       "      <td>40.000000</td>\n",
       "      <td>38.200001</td>\n",
       "      <td>37.400002</td>\n",
       "      <td>37.099998</td>\n",
       "      <td>37.299999</td>\n",
       "      <td>37.400002</td>\n",
       "      <td>38.900002</td>\n",
       "      <td>3.99</td>\n",
       "      <td>4.80</td>\n",
       "      <td>...</td>\n",
       "      <td>8.90</td>\n",
       "      <td>11.450000</td>\n",
       "      <td>143.000000</td>\n",
       "      <td>146.199997</td>\n",
       "      <td>149.300003</td>\n",
       "      <td>151.300003</td>\n",
       "      <td>149.399994</td>\n",
       "      <td>146.699997</td>\n",
       "      <td>143.600006</td>\n",
       "      <td>144.199997</td>\n",
       "    </tr>\n",
       "    <tr>\n",
       "      <th>11534</th>\n",
       "      <td>42.799999</td>\n",
       "      <td>40.599998</td>\n",
       "      <td>38.799999</td>\n",
       "      <td>37.599998</td>\n",
       "      <td>37.599998</td>\n",
       "      <td>37.500000</td>\n",
       "      <td>37.500000</td>\n",
       "      <td>38.700001</td>\n",
       "      <td>3.77</td>\n",
       "      <td>4.61</td>\n",
       "      <td>...</td>\n",
       "      <td>8.91</td>\n",
       "      <td>11.580000</td>\n",
       "      <td>143.100006</td>\n",
       "      <td>146.500000</td>\n",
       "      <td>148.899994</td>\n",
       "      <td>150.600006</td>\n",
       "      <td>148.600006</td>\n",
       "      <td>146.500000</td>\n",
       "      <td>143.300003</td>\n",
       "      <td>143.500000</td>\n",
       "    </tr>\n",
       "    <tr>\n",
       "      <th>11535</th>\n",
       "      <td>41.900002</td>\n",
       "      <td>39.799999</td>\n",
       "      <td>38.400002</td>\n",
       "      <td>37.700001</td>\n",
       "      <td>37.000000</td>\n",
       "      <td>36.400002</td>\n",
       "      <td>36.200001</td>\n",
       "      <td>36.900002</td>\n",
       "      <td>5.62</td>\n",
       "      <td>6.29</td>\n",
       "      <td>...</td>\n",
       "      <td>13.27</td>\n",
       "      <td>16.360001</td>\n",
       "      <td>140.600006</td>\n",
       "      <td>142.899994</td>\n",
       "      <td>147.800003</td>\n",
       "      <td>151.600006</td>\n",
       "      <td>147.399994</td>\n",
       "      <td>145.000000</td>\n",
       "      <td>146.199997</td>\n",
       "      <td>149.300003</td>\n",
       "    </tr>\n",
       "  </tbody>\n",
       "</table>\n",
       "<p>11536 rows × 96 columns</p>\n",
       "</div>"
      ],
      "text/plain": [
       "       Beat Angles 6 kt  Beat Angles 8 kt  Beat Angles 10 kt  \\\n",
       "0             42.900002         40.799999          39.099998   \n",
       "1             49.400002         48.000000          47.200001   \n",
       "2             42.500000         40.200001          38.599998   \n",
       "3             42.599998         40.200001          38.799999   \n",
       "4             42.599998         40.200001          38.799999   \n",
       "...                 ...               ...                ...   \n",
       "11531         44.099998         41.700001          40.000000   \n",
       "11532         43.799999         42.000000          41.299999   \n",
       "11533         42.400002         40.000000          38.200001   \n",
       "11534         42.799999         40.599998          38.799999   \n",
       "11535         41.900002         39.799999          38.400002   \n",
       "\n",
       "       Beat Angles 12 kt  Beat Angles 14 kt  Beat Angles 16 kt  \\\n",
       "0              37.799999          37.099998          36.599998   \n",
       "1              47.200001          47.500000          48.200001   \n",
       "2              37.799999          37.299999          37.099998   \n",
       "3              38.700001          38.400002          38.200001   \n",
       "4              38.700001          38.400002          38.200001   \n",
       "...                  ...                ...                ...   \n",
       "11531          38.900002          38.400002          38.299999   \n",
       "11532          40.599998          39.900002          39.599998   \n",
       "11533          37.400002          37.099998          37.299999   \n",
       "11534          37.599998          37.599998          37.500000   \n",
       "11535          37.700001          37.000000          36.400002   \n",
       "\n",
       "       Beat Angles 20 kt  Beat Angles 24 kt  Beat VMG 6 kt  Beat VMG 8 kt  \\\n",
       "0              36.200001          36.599998           3.74           4.58   \n",
       "1              49.599998          51.700001           2.63           3.24   \n",
       "2              37.500000          38.500000           4.14           4.96   \n",
       "3              38.900002          40.599998           4.08           4.85   \n",
       "4              38.900002          40.599998           4.08           4.85   \n",
       "...                  ...                ...            ...            ...   \n",
       "11531          39.200001          40.400002           3.53           4.33   \n",
       "11532          39.799999          40.900002           2.96           3.56   \n",
       "11533          37.400002          38.900002           3.99           4.80   \n",
       "11534          37.500000          38.700001           3.77           4.61   \n",
       "11535          36.200001          36.900002           5.62           6.29   \n",
       "\n",
       "       ...  Run VMG 20 kt  Run VMG 24 kt  Gybe Angles 6 kt  Gybe Angles 8 kt  \\\n",
       "0      ...           8.46       9.370000        140.800003        146.899994   \n",
       "1      ...           7.71       8.320000        144.800003        148.699997   \n",
       "2      ...           8.70       9.510000        141.399994        146.500000   \n",
       "3      ...          11.50      14.570000        143.100006        145.800003   \n",
       "4      ...          11.50      14.570000        143.100006        145.800003   \n",
       "...    ...            ...            ...               ...               ...   \n",
       "11531  ...           8.27      10.320000        143.300003        146.899994   \n",
       "11532  ...           6.98       7.520000        145.300003        151.000000   \n",
       "11533  ...           8.90      11.450000        143.000000        146.199997   \n",
       "11534  ...           8.91      11.580000        143.100006        146.500000   \n",
       "11535  ...          13.27      16.360001        140.600006        142.899994   \n",
       "\n",
       "       Gybe Angles 10 kt  Gybe Angles 12 kt  Gybe Angles 14 kt  \\\n",
       "0             150.500000         155.800003         165.100006   \n",
       "1             152.500000         156.800003         165.100006   \n",
       "2             150.699997         155.600006         163.300003   \n",
       "3             149.699997         149.600006         146.500000   \n",
       "4             149.699997         149.600006         146.500000   \n",
       "...                  ...                ...                ...   \n",
       "11531         148.000000         149.399994         148.399994   \n",
       "11532         153.800003         159.399994         173.600006   \n",
       "11533         149.300003         151.300003         149.399994   \n",
       "11534         148.899994         150.600006         148.600006   \n",
       "11535         147.800003         151.600006         147.399994   \n",
       "\n",
       "       Gybe Angles 16 kt  Gybe Angles 20 kt  Gybe Angles 24 kt  \n",
       "0             176.800003         177.699997         176.399994  \n",
       "1             175.000000         179.000000         179.000000  \n",
       "2             175.399994         178.300003         178.100006  \n",
       "3             145.699997         146.199997         150.300003  \n",
       "4             145.699997         146.199997         150.300003  \n",
       "...                  ...                ...                ...  \n",
       "11531         146.600006         143.100006         139.500000  \n",
       "11532         178.100006         179.000000         179.000000  \n",
       "11533         146.699997         143.600006         144.199997  \n",
       "11534         146.500000         143.300003         143.500000  \n",
       "11535         145.000000         146.199997         149.300003  \n",
       "\n",
       "[11536 rows x 96 columns]"
      ]
     },
     "execution_count": 33,
     "metadata": {},
     "output_type": "execute_result"
    }
   ],
   "source": [
    "outdf"
   ]
  },
  {
   "cell_type": "code",
   "execution_count": 34,
   "metadata": {},
   "outputs": [
    {
     "data": {
      "text/plain": [
       "tensor([0.9269, 0.1299, 0.0927, 0.1670, 0.0126, 0.1985, 0.6667, 0.2000, 1.0000,\n",
       "        0.0497, 0.0446, 0.0445, 0.0651, 0.2816, 0.2816, 0.0000, 0.0000, 0.0000,\n",
       "        0.0000, 0.0000, 0.0000, 0.0000, 0.0000, 0.0000, 0.0000])"
      ]
     },
     "execution_count": 34,
     "metadata": {},
     "output_type": "execute_result"
    }
   ],
   "source": [
    "import os \n",
    "if not os.path.exists('models'):\n",
    "    os.mkdir('models')\n",
    "    \n",
    "tesatTensor = torch.tensor(indf.iloc[0].values, dtype=torch.float32)\n",
    "tesatTensor"
   ]
  },
  {
   "cell_type": "markdown",
   "metadata": {},
   "source": [
    "#### custom dataset and dataloader"
   ]
  },
  {
   "cell_type": "code",
   "execution_count": 35,
   "metadata": {},
   "outputs": [
    {
     "name": "stdout",
     "output_type": "stream",
     "text": [
      "289 73\n",
      "torch.Size([32, 25]) torch.Size([32])\n"
     ]
    }
   ],
   "source": [
    "from torch.utils.data import Dataset, DataLoader\n",
    "col0 = outdf.columns.tolist()[0]\n",
    "\n",
    "# making dataset\n",
    "class MyDataset(Dataset):\n",
    "    def __init__(self, input_df, output_df):\n",
    "        self.input_df = input_df \n",
    "        self.output_df = output_df \n",
    "    \n",
    "    def __len__(self):\n",
    "        return len(self.input_df)\n",
    "    \n",
    "    def __getitem__(self, idx):\n",
    "        input_data = self.input_df.iloc[idx].values \n",
    "        output_data = self.output_df.iloc[idx] \n",
    "        \n",
    "        input_tensor = torch.tensor(input_data, dtype=torch.float32)\n",
    "        output_tensor = torch.tensor(output_data, dtype=torch.float32)\n",
    "        return input_tensor, output_tensor\n",
    "    \n",
    "train_dataset = MyDataset(X_train, y_train[col0])\n",
    "test_dataset = MyDataset(X_test, y_test[col0]) \n",
    "\n",
    "# making dataloader\n",
    "train_dataloader = DataLoader(dataset=train_dataset, \n",
    "                              batch_size=32,\n",
    "                              shuffle=True, \n",
    "                              num_workers=os.cpu_count())\n",
    "test_dataloader = DataLoader(dataset=test_dataset, \n",
    "                             batch_size=32, \n",
    "                             shuffle=False, \n",
    "                             num_workers=os.cpu_count())\n",
    "\n",
    "# test \n",
    "print(len(train_dataloader), len(test_dataloader))\n",
    "x, y = next(iter(train_dataloader))\n",
    "print(x.shape, y.shape)"
   ]
  },
  {
   "cell_type": "code",
   "execution_count": 36,
   "metadata": {},
   "outputs": [],
   "source": [
    "from tqdm.auto import tqdm\n",
    "def test_step(model: torch.nn.Module, \n",
    "              dataloader: torch.utils.data.DataLoader, \n",
    "              loss_fn: torch.nn.Module,\n",
    "              device=device):\n",
    "    # Put model in eval mode\n",
    "    model.eval() \n",
    "    \n",
    "    # Setup test loss and test accuracy values\n",
    "    test_loss = 0\n",
    "    \n",
    "    # Turn on inference context manager\n",
    "    with torch.inference_mode():\n",
    "        # Loop through DataLoader batches\n",
    "        for batch, (X, y) in enumerate(dataloader):\n",
    "            # Send data to target device\n",
    "            X, y = X.to(device), y.to(device)\n",
    "    \n",
    "            # 1. Forward pass\n",
    "            test_pred = model(X).squeeze()\n",
    "\n",
    "            # 2. Calculate and accumulate loss\n",
    "            loss = loss_fn(test_pred, y)\n",
    "            test_loss += loss.item()\n",
    "            \n",
    "    # Adjust metrics to get average loss and accuracy per batch \n",
    "    test_loss = test_loss / len(dataloader)\n",
    "    return test_loss\n",
    "\n",
    "def train_step(model: torch.nn.Module, \n",
    "               dataloader: torch.utils.data.DataLoader, \n",
    "               loss_fn: torch.nn.Module, \n",
    "               optimizer: torch.optim.Optimizer,\n",
    "               device=device):\n",
    "    # Put model in train mode\n",
    "    model.train()\n",
    "    \n",
    "    # Setup train loss and train accuracy values\n",
    "    train_loss = 0 \n",
    "    \n",
    "    # Loop through data loader data batches\n",
    "    for batch, (X, y) in enumerate(dataloader):\n",
    "        # Send data to target device\n",
    "        X, y = X.to(device), y.to(device)\n",
    "\n",
    "        # 1. Forward pass\n",
    "        y_pred = model(X).squeeze()\n",
    "\n",
    "        # 2. Calculate  and accumulate loss\n",
    "        loss = loss_fn(y_pred, y)\n",
    "        train_loss += loss.item() \n",
    "\n",
    "        # 3. Optimizer zero grad\n",
    "        optimizer.zero_grad()\n",
    "\n",
    "        # 4. Loss backward\n",
    "        loss.backward()\n",
    "\n",
    "        # 5. Optimizer step\n",
    "        optimizer.step()\n",
    "\n",
    "    # Adjust metrics to get average loss and accuracy per batch \n",
    "    train_loss = train_loss / len(dataloader)\n",
    "    return train_loss\n",
    "\n",
    "def train(model: torch.nn.Module, \n",
    "          train_dataloader: torch.utils.data.DataLoader, \n",
    "          test_dataloader: torch.utils.data.DataLoader,\n",
    "          loss_fn: torch.nn.Module, \n",
    "          optimizer: torch.optim.Optimizer, \n",
    "          epochs: int, \n",
    "          device: torch.device = device):\n",
    "    results = {\"train_loss\": [], \n",
    "               \"test_loss\": []}\n",
    "    \n",
    "    for epoch in tqdm(range(epochs)):\n",
    "        train_loss = train_step(model=model, \n",
    "                                dataloader=train_dataloader, \n",
    "                                loss_fn=loss_fn, \n",
    "                                optimizer=optimizer,\n",
    "                                device=device)\n",
    "        test_loss = test_step(model=model, \n",
    "                              dataloader=test_dataloader, \n",
    "                              loss_fn=loss_fn,\n",
    "                              device=device)\n",
    "        \n",
    "        print(f\"epoch: {epoch}, train_loss: {train_loss:.4f}, test_loss: {test_loss:.4f}\")\n",
    "        results['train_loss'].append(train_loss)\n",
    "        results['test_loss'].append(test_loss)\n",
    "    \n",
    "    return results\n",
    "    "
   ]
  },
  {
   "cell_type": "code",
   "execution_count": 37,
   "metadata": {},
   "outputs": [],
   "source": [
    "def plot_results(res):\n",
    "    test_loss = res['test_loss']\n",
    "    train_loss = res['train_loss'] \n",
    "    epochs = range(len(train_loss))\n",
    "    \n",
    "    plt.figure(figsize=(10, 7)) \n",
    "    plt.plot(epochs, train_loss, label=\"train_loss\") \n",
    "    plt.plot(epochs, test_loss, label=\"test_loss\") \n",
    "    plt.title(\"loss\")\n",
    "    plt.legend()\n",
    "    plt.show()\n",
    "\n",
    "def plot_results_since(res, since):\n",
    "    test_loss = res['test_loss'][since:]\n",
    "    train_loss = res['train_loss'][since:]\n",
    "    epochs = range(len(train_loss))\n",
    "    \n",
    "    plt.figure(figsize=(10, 7)) \n",
    "    plt.plot(epochs, train_loss, label=\"train_loss\") \n",
    "    plt.plot(epochs, test_loss, label=\"test_loss\") \n",
    "    plt.title(\"loss\")\n",
    "    plt.legend()\n",
    "    plt.show()\n",
    "    \n",
    "    \n",
    "    "
   ]
  },
  {
   "cell_type": "markdown",
   "metadata": {},
   "source": [
    "#### model 0"
   ]
  },
  {
   "cell_type": "code",
   "execution_count": 38,
   "metadata": {},
   "outputs": [],
   "source": [
    "from torch import nn\n",
    "class yachtModel0(nn.Module):\n",
    "    def __init__(self, \n",
    "                 input_shape: int, \n",
    "                 hidden_units: int, \n",
    "                 output_shape: int): \n",
    "        super().__init__()\n",
    "        self.layer_stack = nn.Sequential(\n",
    "            nn.Linear(in_features=input_shape, out_features= hidden_units),\n",
    "            nn.ReLU(), \n",
    "            nn.Linear(in_features=hidden_units, out_features=hidden_units),\n",
    "            nn.ReLU(), \n",
    "            nn.Linear(in_features=hidden_units, out_features=output_shape)\n",
    "        )\n",
    "        \n",
    "    def forward(self, x):\n",
    "        return self.layer_stack(x) \n",
    "    \n",
    "IN_FEATURES = len(indf.columns)\n",
    "HIDDEN_UNITS = 32\n",
    "OUT_FEATURES = 1\n",
    "EPOCHS = 50\n",
    "\n",
    "torch.manual_seed(42) \n",
    "model0 = yachtModel0(input_shape=IN_FEATURES, \n",
    "                     hidden_units=HIDDEN_UNITS, \n",
    "                     output_shape=OUT_FEATURES).to(device)\n",
    "\n",
    "loss_fun = nn.MSELoss()\n",
    "optimizer = torch.optim.Adam(params=model0.parameters(),\n",
    "                             lr=0.0002)"
   ]
  },
  {
   "cell_type": "code",
   "execution_count": 39,
   "metadata": {},
   "outputs": [
    {
     "name": "stderr",
     "output_type": "stream",
     "text": [
      "  2%|▏         | 1/50 [00:02<01:40,  2.05s/it]"
     ]
    },
    {
     "name": "stdout",
     "output_type": "stream",
     "text": [
      "epoch: 0, train_loss: 1862.4671, test_loss: 1751.9011\n"
     ]
    },
    {
     "name": "stderr",
     "output_type": "stream",
     "text": [
      "  4%|▍         | 2/50 [00:03<01:34,  1.97s/it]"
     ]
    },
    {
     "name": "stdout",
     "output_type": "stream",
     "text": [
      "epoch: 1, train_loss: 1364.0157, test_loss: 781.6338\n"
     ]
    },
    {
     "name": "stderr",
     "output_type": "stream",
     "text": [
      "  6%|▌         | 3/50 [00:05<01:33,  1.99s/it]"
     ]
    },
    {
     "name": "stdout",
     "output_type": "stream",
     "text": [
      "epoch: 2, train_loss: 307.5306, test_loss: 50.7169\n"
     ]
    },
    {
     "name": "stderr",
     "output_type": "stream",
     "text": [
      "  8%|▊         | 4/50 [00:07<01:30,  1.97s/it]"
     ]
    },
    {
     "name": "stdout",
     "output_type": "stream",
     "text": [
      "epoch: 3, train_loss: 23.9390, test_loss: 22.3305\n"
     ]
    },
    {
     "name": "stderr",
     "output_type": "stream",
     "text": [
      " 10%|█         | 5/50 [00:10<01:31,  2.04s/it]"
     ]
    },
    {
     "name": "stdout",
     "output_type": "stream",
     "text": [
      "epoch: 4, train_loss: 18.1340, test_loss: 21.0307\n"
     ]
    },
    {
     "name": "stderr",
     "output_type": "stream",
     "text": [
      " 12%|█▏        | 6/50 [00:12<01:29,  2.03s/it]"
     ]
    },
    {
     "name": "stdout",
     "output_type": "stream",
     "text": [
      "epoch: 5, train_loss: 16.9596, test_loss: 19.7153\n"
     ]
    },
    {
     "name": "stderr",
     "output_type": "stream",
     "text": [
      " 14%|█▍        | 7/50 [00:14<01:27,  2.03s/it]"
     ]
    },
    {
     "name": "stdout",
     "output_type": "stream",
     "text": [
      "epoch: 6, train_loss: 15.7107, test_loss: 18.1134\n"
     ]
    },
    {
     "name": "stderr",
     "output_type": "stream",
     "text": [
      " 16%|█▌        | 8/50 [00:16<01:24,  2.02s/it]"
     ]
    },
    {
     "name": "stdout",
     "output_type": "stream",
     "text": [
      "epoch: 7, train_loss: 14.0385, test_loss: 16.2120\n"
     ]
    },
    {
     "name": "stderr",
     "output_type": "stream",
     "text": [
      " 18%|█▊        | 9/50 [00:18<01:21,  1.99s/it]"
     ]
    },
    {
     "name": "stdout",
     "output_type": "stream",
     "text": [
      "epoch: 8, train_loss: 12.3192, test_loss: 14.3078\n"
     ]
    },
    {
     "name": "stderr",
     "output_type": "stream",
     "text": [
      " 20%|██        | 10/50 [00:19<01:18,  1.97s/it]"
     ]
    },
    {
     "name": "stdout",
     "output_type": "stream",
     "text": [
      "epoch: 9, train_loss: 10.7466, test_loss: 12.6174\n"
     ]
    },
    {
     "name": "stderr",
     "output_type": "stream",
     "text": [
      " 22%|██▏       | 11/50 [00:21<01:16,  1.97s/it]"
     ]
    },
    {
     "name": "stdout",
     "output_type": "stream",
     "text": [
      "epoch: 10, train_loss: 9.3828, test_loss: 11.2572\n"
     ]
    },
    {
     "name": "stderr",
     "output_type": "stream",
     "text": [
      " 24%|██▍       | 12/50 [00:23<01:14,  1.97s/it]"
     ]
    },
    {
     "name": "stdout",
     "output_type": "stream",
     "text": [
      "epoch: 11, train_loss: 8.2622, test_loss: 9.9437\n"
     ]
    },
    {
     "name": "stderr",
     "output_type": "stream",
     "text": [
      " 26%|██▌       | 13/50 [00:25<01:13,  1.99s/it]"
     ]
    },
    {
     "name": "stdout",
     "output_type": "stream",
     "text": [
      "epoch: 12, train_loss: 7.3397, test_loss: 8.7787\n"
     ]
    },
    {
     "name": "stderr",
     "output_type": "stream",
     "text": [
      " 28%|██▊       | 14/50 [00:27<01:11,  1.98s/it]"
     ]
    },
    {
     "name": "stdout",
     "output_type": "stream",
     "text": [
      "epoch: 13, train_loss: 6.5395, test_loss: 7.8032\n"
     ]
    },
    {
     "name": "stderr",
     "output_type": "stream",
     "text": [
      " 30%|███       | 15/50 [00:30<01:11,  2.04s/it]"
     ]
    },
    {
     "name": "stdout",
     "output_type": "stream",
     "text": [
      "epoch: 14, train_loss: 5.8446, test_loss: 6.9291\n"
     ]
    },
    {
     "name": "stderr",
     "output_type": "stream",
     "text": [
      " 32%|███▏      | 16/50 [00:31<01:08,  2.01s/it]"
     ]
    },
    {
     "name": "stdout",
     "output_type": "stream",
     "text": [
      "epoch: 15, train_loss: 5.2266, test_loss: 6.0569\n"
     ]
    },
    {
     "name": "stderr",
     "output_type": "stream",
     "text": [
      " 34%|███▍      | 17/50 [00:34<01:06,  2.02s/it]"
     ]
    },
    {
     "name": "stdout",
     "output_type": "stream",
     "text": [
      "epoch: 16, train_loss: 4.6711, test_loss: 5.3072\n"
     ]
    },
    {
     "name": "stderr",
     "output_type": "stream",
     "text": [
      " 36%|███▌      | 18/50 [00:36<01:04,  2.00s/it]"
     ]
    },
    {
     "name": "stdout",
     "output_type": "stream",
     "text": [
      "epoch: 17, train_loss: 4.1572, test_loss: 4.7449\n"
     ]
    },
    {
     "name": "stderr",
     "output_type": "stream",
     "text": [
      " 38%|███▊      | 19/50 [00:38<01:02,  2.02s/it]"
     ]
    },
    {
     "name": "stdout",
     "output_type": "stream",
     "text": [
      "epoch: 18, train_loss: 3.7314, test_loss: 4.0505\n"
     ]
    },
    {
     "name": "stderr",
     "output_type": "stream",
     "text": [
      " 40%|████      | 20/50 [00:40<01:00,  2.03s/it]"
     ]
    },
    {
     "name": "stdout",
     "output_type": "stream",
     "text": [
      "epoch: 19, train_loss: 3.2557, test_loss: 3.5286\n"
     ]
    },
    {
     "name": "stderr",
     "output_type": "stream",
     "text": [
      " 42%|████▏     | 21/50 [00:42<00:58,  2.02s/it]"
     ]
    },
    {
     "name": "stdout",
     "output_type": "stream",
     "text": [
      "epoch: 20, train_loss: 2.8728, test_loss: 2.9821\n"
     ]
    },
    {
     "name": "stderr",
     "output_type": "stream",
     "text": [
      " 44%|████▍     | 22/50 [00:44<00:55,  1.98s/it]"
     ]
    },
    {
     "name": "stdout",
     "output_type": "stream",
     "text": [
      "epoch: 21, train_loss: 2.5309, test_loss: 2.5285\n"
     ]
    },
    {
     "name": "stderr",
     "output_type": "stream",
     "text": [
      " 46%|████▌     | 23/50 [00:45<00:53,  1.97s/it]"
     ]
    },
    {
     "name": "stdout",
     "output_type": "stream",
     "text": [
      "epoch: 22, train_loss: 2.2407, test_loss: 2.1294\n"
     ]
    },
    {
     "name": "stderr",
     "output_type": "stream",
     "text": [
      " 48%|████▊     | 24/50 [00:48<00:51,  2.00s/it]"
     ]
    },
    {
     "name": "stdout",
     "output_type": "stream",
     "text": [
      "epoch: 23, train_loss: 2.0038, test_loss: 1.8642\n"
     ]
    },
    {
     "name": "stderr",
     "output_type": "stream",
     "text": [
      " 50%|█████     | 25/50 [00:49<00:49,  1.98s/it]"
     ]
    },
    {
     "name": "stdout",
     "output_type": "stream",
     "text": [
      "epoch: 24, train_loss: 1.8145, test_loss: 1.6608\n"
     ]
    },
    {
     "name": "stderr",
     "output_type": "stream",
     "text": [
      " 52%|█████▏    | 26/50 [00:52<00:49,  2.05s/it]"
     ]
    },
    {
     "name": "stdout",
     "output_type": "stream",
     "text": [
      "epoch: 25, train_loss: 1.6779, test_loss: 1.5121\n"
     ]
    },
    {
     "name": "stderr",
     "output_type": "stream",
     "text": [
      " 54%|█████▍    | 27/50 [00:54<00:45,  2.00s/it]"
     ]
    },
    {
     "name": "stdout",
     "output_type": "stream",
     "text": [
      "epoch: 26, train_loss: 1.5704, test_loss: 1.4024\n"
     ]
    },
    {
     "name": "stderr",
     "output_type": "stream",
     "text": [
      " 56%|█████▌    | 28/50 [00:55<00:43,  1.97s/it]"
     ]
    },
    {
     "name": "stdout",
     "output_type": "stream",
     "text": [
      "epoch: 27, train_loss: 1.4921, test_loss: 1.3303\n"
     ]
    },
    {
     "name": "stderr",
     "output_type": "stream",
     "text": [
      " 58%|█████▊    | 29/50 [00:57<00:41,  1.96s/it]"
     ]
    },
    {
     "name": "stdout",
     "output_type": "stream",
     "text": [
      "epoch: 28, train_loss: 1.4299, test_loss: 1.3199\n"
     ]
    },
    {
     "name": "stderr",
     "output_type": "stream",
     "text": [
      " 60%|██████    | 30/50 [00:59<00:39,  1.99s/it]"
     ]
    },
    {
     "name": "stdout",
     "output_type": "stream",
     "text": [
      "epoch: 29, train_loss: 1.3790, test_loss: 1.2232\n"
     ]
    },
    {
     "name": "stderr",
     "output_type": "stream",
     "text": [
      " 62%|██████▏   | 31/50 [01:01<00:37,  1.98s/it]"
     ]
    },
    {
     "name": "stdout",
     "output_type": "stream",
     "text": [
      "epoch: 30, train_loss: 1.3378, test_loss: 1.1865\n"
     ]
    },
    {
     "name": "stderr",
     "output_type": "stream",
     "text": [
      " 64%|██████▍   | 32/50 [01:03<00:35,  1.99s/it]"
     ]
    },
    {
     "name": "stdout",
     "output_type": "stream",
     "text": [
      "epoch: 31, train_loss: 1.3018, test_loss: 1.1428\n"
     ]
    },
    {
     "name": "stderr",
     "output_type": "stream",
     "text": [
      " 66%|██████▌   | 33/50 [01:06<00:35,  2.10s/it]"
     ]
    },
    {
     "name": "stdout",
     "output_type": "stream",
     "text": [
      "epoch: 32, train_loss: 1.2605, test_loss: 1.1533\n"
     ]
    },
    {
     "name": "stderr",
     "output_type": "stream",
     "text": [
      " 68%|██████▊   | 34/50 [01:08<00:31,  1.99s/it]"
     ]
    },
    {
     "name": "stdout",
     "output_type": "stream",
     "text": [
      "epoch: 33, train_loss: 1.2291, test_loss: 1.0796\n"
     ]
    },
    {
     "name": "stderr",
     "output_type": "stream",
     "text": [
      " 70%|███████   | 35/50 [01:09<00:28,  1.93s/it]"
     ]
    },
    {
     "name": "stdout",
     "output_type": "stream",
     "text": [
      "epoch: 34, train_loss: 1.1960, test_loss: 1.0453\n"
     ]
    },
    {
     "name": "stderr",
     "output_type": "stream",
     "text": [
      " 72%|███████▏  | 36/50 [01:11<00:26,  1.86s/it]"
     ]
    },
    {
     "name": "stdout",
     "output_type": "stream",
     "text": [
      "epoch: 35, train_loss: 1.1631, test_loss: 1.0250\n"
     ]
    },
    {
     "name": "stderr",
     "output_type": "stream",
     "text": [
      " 74%|███████▍  | 37/50 [01:13<00:24,  1.87s/it]"
     ]
    },
    {
     "name": "stdout",
     "output_type": "stream",
     "text": [
      "epoch: 36, train_loss: 1.1376, test_loss: 0.9854\n"
     ]
    },
    {
     "name": "stderr",
     "output_type": "stream",
     "text": [
      " 76%|███████▌  | 38/50 [01:15<00:22,  1.86s/it]"
     ]
    },
    {
     "name": "stdout",
     "output_type": "stream",
     "text": [
      "epoch: 37, train_loss: 1.1037, test_loss: 0.9790\n"
     ]
    },
    {
     "name": "stderr",
     "output_type": "stream",
     "text": [
      " 78%|███████▊  | 39/50 [01:17<00:20,  1.89s/it]"
     ]
    },
    {
     "name": "stdout",
     "output_type": "stream",
     "text": [
      "epoch: 38, train_loss: 1.0781, test_loss: 0.9642\n"
     ]
    },
    {
     "name": "stderr",
     "output_type": "stream",
     "text": [
      " 80%|████████  | 40/50 [01:19<00:18,  1.89s/it]"
     ]
    },
    {
     "name": "stdout",
     "output_type": "stream",
     "text": [
      "epoch: 39, train_loss: 1.0567, test_loss: 0.9039\n"
     ]
    },
    {
     "name": "stderr",
     "output_type": "stream",
     "text": [
      " 82%|████████▏ | 41/50 [01:21<00:17,  1.92s/it]"
     ]
    },
    {
     "name": "stdout",
     "output_type": "stream",
     "text": [
      "epoch: 40, train_loss: 1.0242, test_loss: 0.8842\n"
     ]
    },
    {
     "name": "stderr",
     "output_type": "stream",
     "text": [
      " 84%|████████▍ | 42/50 [01:22<00:15,  1.89s/it]"
     ]
    },
    {
     "name": "stdout",
     "output_type": "stream",
     "text": [
      "epoch: 41, train_loss: 1.0037, test_loss: 0.8644\n"
     ]
    },
    {
     "name": "stderr",
     "output_type": "stream",
     "text": [
      " 86%|████████▌ | 43/50 [01:24<00:13,  1.90s/it]"
     ]
    },
    {
     "name": "stdout",
     "output_type": "stream",
     "text": [
      "epoch: 42, train_loss: 0.9774, test_loss: 0.8458\n"
     ]
    },
    {
     "name": "stderr",
     "output_type": "stream",
     "text": [
      " 88%|████████▊ | 44/50 [01:26<00:11,  1.94s/it]"
     ]
    },
    {
     "name": "stdout",
     "output_type": "stream",
     "text": [
      "epoch: 43, train_loss: 0.9623, test_loss: 0.8560\n"
     ]
    },
    {
     "name": "stderr",
     "output_type": "stream",
     "text": [
      " 90%|█████████ | 45/50 [01:28<00:09,  1.98s/it]"
     ]
    },
    {
     "name": "stdout",
     "output_type": "stream",
     "text": [
      "epoch: 44, train_loss: 0.9394, test_loss: 0.8567\n"
     ]
    },
    {
     "name": "stderr",
     "output_type": "stream",
     "text": [
      " 92%|█████████▏| 46/50 [01:30<00:07,  1.98s/it]"
     ]
    },
    {
     "name": "stdout",
     "output_type": "stream",
     "text": [
      "epoch: 45, train_loss: 0.9203, test_loss: 0.8278\n"
     ]
    },
    {
     "name": "stderr",
     "output_type": "stream",
     "text": [
      " 94%|█████████▍| 47/50 [01:32<00:05,  1.95s/it]"
     ]
    },
    {
     "name": "stdout",
     "output_type": "stream",
     "text": [
      "epoch: 46, train_loss: 0.9011, test_loss: 0.7998\n"
     ]
    },
    {
     "name": "stderr",
     "output_type": "stream",
     "text": [
      " 96%|█████████▌| 48/50 [01:34<00:03,  1.95s/it]"
     ]
    },
    {
     "name": "stdout",
     "output_type": "stream",
     "text": [
      "epoch: 47, train_loss: 0.8864, test_loss: 0.7470\n"
     ]
    },
    {
     "name": "stderr",
     "output_type": "stream",
     "text": [
      " 98%|█████████▊| 49/50 [01:36<00:01,  1.92s/it]"
     ]
    },
    {
     "name": "stdout",
     "output_type": "stream",
     "text": [
      "epoch: 48, train_loss: 0.8658, test_loss: 0.7314\n"
     ]
    },
    {
     "name": "stderr",
     "output_type": "stream",
     "text": [
      "100%|██████████| 50/50 [01:38<00:00,  1.97s/it]"
     ]
    },
    {
     "name": "stdout",
     "output_type": "stream",
     "text": [
      "epoch: 49, train_loss: 0.8494, test_loss: 0.7164\n"
     ]
    },
    {
     "name": "stderr",
     "output_type": "stream",
     "text": [
      "\n"
     ]
    },
    {
     "data": {
      "image/png": "[encoded data removed]",
      "text/plain": [
       "<Figure size 1000x700 with 1 Axes>"
      ]
     },
     "metadata": {},
     "output_type": "display_data"
    }
   ],
   "source": [
    "model0_results = train(model=model0, \n",
    "                       train_dataloader=train_dataloader, \n",
    "                       test_dataloader=test_dataloader, \n",
    "                       loss_fn=loss_fun, \n",
    "                       optimizer=optimizer, \n",
    "                       epochs=EPOCHS, \n",
    "                       device=device)\n",
    "\n",
    "plot_results_since(model0_results, 5)"
   ]
  },
  {
   "cell_type": "markdown",
   "metadata": {},
   "source": [
    "#### model 1"
   ]
  },
  {
   "cell_type": "code",
   "execution_count": 40,
   "metadata": {},
   "outputs": [],
   "source": [
    "class yachtModel1(nn.Module):\n",
    "    def __init__(self, \n",
    "                 input_shape: int, \n",
    "                 hidden_units1: int, \n",
    "                 hidden_units2: int, \n",
    "                 output_shape: int): \n",
    "        super().__init__()\n",
    "        self.layer_stack = nn.Sequential(\n",
    "            nn.Linear(in_features=input_shape, out_features= hidden_units2),\n",
    "            nn.ReLU(), \n",
    "            nn.Linear(in_features=hidden_units2, out_features=hidden_units2),\n",
    "            nn.ReLU(), \n",
    "            nn.Linear(in_features=hidden_units2, out_features=hidden_units1),\n",
    "            nn.ReLU(), \n",
    "            nn.Linear(in_features=hidden_units1, out_features=output_shape)\n",
    "        )\n",
    "        \n",
    "    def forward(self, x):\n",
    "        return self.layer_stack(x) \n",
    "    \n",
    "IN_FEATURES = len(indf.columns)\n",
    "HIDDEN_UNITS1 = 64\n",
    "HIDDEN_UNITS2 = 32\n",
    "OUT_FEATURES = 1\n",
    "\n",
    "torch.manual_seed(42) \n",
    "model1 = yachtModel1(input_shape=IN_FEATURES, \n",
    "                     hidden_units1=HIDDEN_UNITS1,\n",
    "                     hidden_units2=HIDDEN_UNITS2,\n",
    "                     output_shape=OUT_FEATURES).to(device)\n",
    "\n",
    "loss_fun = nn.MSELoss()\n",
    "optimizer = torch.optim.Adam(params=model1.parameters(),\n",
    "                             lr=0.0002)"
   ]
  },
  {
   "cell_type": "code",
   "execution_count": 41,
   "metadata": {},
   "outputs": [
    {
     "name": "stderr",
     "output_type": "stream",
     "text": [
      "  0%|          | 0/50 [00:00<?, ?it/s]"
     ]
    },
    {
     "name": "stderr",
     "output_type": "stream",
     "text": [
      "  2%|▏         | 1/50 [00:01<01:33,  1.91s/it]"
     ]
    },
    {
     "name": "stdout",
     "output_type": "stream",
     "text": [
      "epoch: 0, train_loss: 1654.8724, test_loss: 850.8917\n"
     ]
    },
    {
     "name": "stderr",
     "output_type": "stream",
     "text": [
      "  4%|▍         | 2/50 [00:03<01:32,  1.94s/it]"
     ]
    },
    {
     "name": "stdout",
     "output_type": "stream",
     "text": [
      "epoch: 1, train_loss: 139.1843, test_loss: 18.7102\n"
     ]
    },
    {
     "name": "stderr",
     "output_type": "stream",
     "text": [
      "  6%|▌         | 3/50 [00:05<01:32,  1.96s/it]"
     ]
    },
    {
     "name": "stdout",
     "output_type": "stream",
     "text": [
      "epoch: 2, train_loss: 14.8365, test_loss: 16.2664\n"
     ]
    },
    {
     "name": "stderr",
     "output_type": "stream",
     "text": [
      "  8%|▊         | 4/50 [00:07<01:28,  1.93s/it]"
     ]
    },
    {
     "name": "stdout",
     "output_type": "stream",
     "text": [
      "epoch: 3, train_loss: 12.2129, test_loss: 13.2806\n"
     ]
    },
    {
     "name": "stderr",
     "output_type": "stream",
     "text": [
      " 10%|█         | 5/50 [00:09<01:29,  1.99s/it]"
     ]
    },
    {
     "name": "stdout",
     "output_type": "stream",
     "text": [
      "epoch: 4, train_loss: 9.7072, test_loss: 10.7305\n"
     ]
    },
    {
     "name": "stderr",
     "output_type": "stream",
     "text": [
      " 12%|█▏        | 6/50 [00:11<01:25,  1.95s/it]"
     ]
    },
    {
     "name": "stdout",
     "output_type": "stream",
     "text": [
      "epoch: 5, train_loss: 7.6719, test_loss: 8.7175\n"
     ]
    },
    {
     "name": "stderr",
     "output_type": "stream",
     "text": [
      " 14%|█▍        | 7/50 [00:13<01:24,  1.96s/it]"
     ]
    },
    {
     "name": "stdout",
     "output_type": "stream",
     "text": [
      "epoch: 6, train_loss: 6.2915, test_loss: 7.3590\n"
     ]
    },
    {
     "name": "stderr",
     "output_type": "stream",
     "text": [
      " 16%|█▌        | 8/50 [00:15<01:22,  1.96s/it]"
     ]
    },
    {
     "name": "stdout",
     "output_type": "stream",
     "text": [
      "epoch: 7, train_loss: 5.2639, test_loss: 5.8918\n"
     ]
    },
    {
     "name": "stderr",
     "output_type": "stream",
     "text": [
      " 18%|█▊        | 9/50 [00:17<01:18,  1.91s/it]"
     ]
    },
    {
     "name": "stdout",
     "output_type": "stream",
     "text": [
      "epoch: 8, train_loss: 4.4296, test_loss: 4.9486\n"
     ]
    },
    {
     "name": "stderr",
     "output_type": "stream",
     "text": [
      " 20%|██        | 10/50 [00:19<01:16,  1.92s/it]"
     ]
    },
    {
     "name": "stdout",
     "output_type": "stream",
     "text": [
      "epoch: 9, train_loss: 3.6950, test_loss: 3.9684\n"
     ]
    },
    {
     "name": "stderr",
     "output_type": "stream",
     "text": [
      " 22%|██▏       | 11/50 [00:21<01:14,  1.90s/it]"
     ]
    },
    {
     "name": "stdout",
     "output_type": "stream",
     "text": [
      "epoch: 10, train_loss: 3.0849, test_loss: 3.1597\n"
     ]
    },
    {
     "name": "stderr",
     "output_type": "stream",
     "text": [
      " 24%|██▍       | 12/50 [00:23<01:13,  1.94s/it]"
     ]
    },
    {
     "name": "stdout",
     "output_type": "stream",
     "text": [
      "epoch: 11, train_loss: 2.5576, test_loss: 2.5467\n"
     ]
    },
    {
     "name": "stderr",
     "output_type": "stream",
     "text": [
      " 26%|██▌       | 13/50 [00:25<01:11,  1.94s/it]"
     ]
    },
    {
     "name": "stdout",
     "output_type": "stream",
     "text": [
      "epoch: 12, train_loss: 2.1371, test_loss: 2.0594\n"
     ]
    },
    {
     "name": "stderr",
     "output_type": "stream",
     "text": [
      " 28%|██▊       | 14/50 [00:27<01:11,  1.98s/it]"
     ]
    },
    {
     "name": "stdout",
     "output_type": "stream",
     "text": [
      "epoch: 13, train_loss: 1.8156, test_loss: 1.6889\n"
     ]
    },
    {
     "name": "stderr",
     "output_type": "stream",
     "text": [
      " 30%|███       | 15/50 [00:29<01:09,  1.99s/it]"
     ]
    },
    {
     "name": "stdout",
     "output_type": "stream",
     "text": [
      "epoch: 14, train_loss: 1.5807, test_loss: 1.4639\n"
     ]
    },
    {
     "name": "stderr",
     "output_type": "stream",
     "text": [
      " 32%|███▏      | 16/50 [00:31<01:07,  1.97s/it]"
     ]
    },
    {
     "name": "stdout",
     "output_type": "stream",
     "text": [
      "epoch: 15, train_loss: 1.4281, test_loss: 1.3318\n"
     ]
    },
    {
     "name": "stderr",
     "output_type": "stream",
     "text": [
      " 34%|███▍      | 17/50 [00:33<01:04,  1.95s/it]"
     ]
    },
    {
     "name": "stdout",
     "output_type": "stream",
     "text": [
      "epoch: 16, train_loss: 1.3129, test_loss: 1.2302\n"
     ]
    },
    {
     "name": "stderr",
     "output_type": "stream",
     "text": [
      " 36%|███▌      | 18/50 [00:35<01:01,  1.94s/it]"
     ]
    },
    {
     "name": "stdout",
     "output_type": "stream",
     "text": [
      "epoch: 17, train_loss: 1.2350, test_loss: 1.1407\n"
     ]
    },
    {
     "name": "stderr",
     "output_type": "stream",
     "text": [
      " 38%|███▊      | 19/50 [00:37<01:02,  2.00s/it]"
     ]
    },
    {
     "name": "stdout",
     "output_type": "stream",
     "text": [
      "epoch: 18, train_loss: 1.1703, test_loss: 1.0907\n"
     ]
    },
    {
     "name": "stderr",
     "output_type": "stream",
     "text": [
      " 40%|████      | 20/50 [00:39<00:59,  1.98s/it]"
     ]
    },
    {
     "name": "stdout",
     "output_type": "stream",
     "text": [
      "epoch: 19, train_loss: 1.1162, test_loss: 1.0273\n"
     ]
    },
    {
     "name": "stderr",
     "output_type": "stream",
     "text": [
      " 42%|████▏     | 21/50 [00:41<00:58,  2.03s/it]"
     ]
    },
    {
     "name": "stdout",
     "output_type": "stream",
     "text": [
      "epoch: 20, train_loss: 1.0591, test_loss: 0.9942\n"
     ]
    },
    {
     "name": "stderr",
     "output_type": "stream",
     "text": [
      " 44%|████▍     | 22/50 [00:43<00:58,  2.09s/it]"
     ]
    },
    {
     "name": "stdout",
     "output_type": "stream",
     "text": [
      "epoch: 21, train_loss: 1.0016, test_loss: 0.9079\n"
     ]
    },
    {
     "name": "stderr",
     "output_type": "stream",
     "text": [
      " 46%|████▌     | 23/50 [00:45<00:55,  2.05s/it]"
     ]
    },
    {
     "name": "stdout",
     "output_type": "stream",
     "text": [
      "epoch: 22, train_loss: 0.9508, test_loss: 0.8562\n"
     ]
    },
    {
     "name": "stderr",
     "output_type": "stream",
     "text": [
      " 48%|████▊     | 24/50 [00:47<00:54,  2.12s/it]"
     ]
    },
    {
     "name": "stdout",
     "output_type": "stream",
     "text": [
      "epoch: 23, train_loss: 0.9162, test_loss: 0.8114\n"
     ]
    },
    {
     "name": "stderr",
     "output_type": "stream",
     "text": [
      " 50%|█████     | 25/50 [00:49<00:53,  2.13s/it]"
     ]
    },
    {
     "name": "stdout",
     "output_type": "stream",
     "text": [
      "epoch: 24, train_loss: 0.8873, test_loss: 0.8185\n"
     ]
    },
    {
     "name": "stderr",
     "output_type": "stream",
     "text": [
      " 52%|█████▏    | 26/50 [00:52<00:51,  2.15s/it]"
     ]
    },
    {
     "name": "stdout",
     "output_type": "stream",
     "text": [
      "epoch: 25, train_loss: 0.8270, test_loss: 0.8378\n"
     ]
    },
    {
     "name": "stderr",
     "output_type": "stream",
     "text": [
      " 54%|█████▍    | 27/50 [00:54<00:48,  2.11s/it]"
     ]
    },
    {
     "name": "stdout",
     "output_type": "stream",
     "text": [
      "epoch: 26, train_loss: 0.7825, test_loss: 0.7129\n"
     ]
    },
    {
     "name": "stderr",
     "output_type": "stream",
     "text": [
      " 56%|█████▌    | 28/50 [00:56<00:46,  2.09s/it]"
     ]
    },
    {
     "name": "stdout",
     "output_type": "stream",
     "text": [
      "epoch: 27, train_loss: 0.7496, test_loss: 0.6721\n"
     ]
    },
    {
     "name": "stderr",
     "output_type": "stream",
     "text": [
      " 58%|█████▊    | 29/50 [00:58<00:43,  2.07s/it]"
     ]
    },
    {
     "name": "stdout",
     "output_type": "stream",
     "text": [
      "epoch: 28, train_loss: 0.7199, test_loss: 0.6141\n"
     ]
    },
    {
     "name": "stderr",
     "output_type": "stream",
     "text": [
      " 60%|██████    | 30/50 [01:00<00:41,  2.07s/it]"
     ]
    },
    {
     "name": "stdout",
     "output_type": "stream",
     "text": [
      "epoch: 29, train_loss: 0.6932, test_loss: 0.6102\n"
     ]
    },
    {
     "name": "stderr",
     "output_type": "stream",
     "text": [
      " 62%|██████▏   | 31/50 [01:01<00:37,  1.97s/it]"
     ]
    },
    {
     "name": "stdout",
     "output_type": "stream",
     "text": [
      "epoch: 30, train_loss: 0.6635, test_loss: 0.5615\n"
     ]
    },
    {
     "name": "stderr",
     "output_type": "stream",
     "text": [
      " 64%|██████▍   | 32/50 [01:04<00:36,  2.00s/it]"
     ]
    },
    {
     "name": "stdout",
     "output_type": "stream",
     "text": [
      "epoch: 31, train_loss: 0.6534, test_loss: 0.5561\n"
     ]
    },
    {
     "name": "stderr",
     "output_type": "stream",
     "text": [
      " 66%|██████▌   | 33/50 [01:06<00:35,  2.07s/it]"
     ]
    },
    {
     "name": "stdout",
     "output_type": "stream",
     "text": [
      "epoch: 32, train_loss: 0.6298, test_loss: 0.5189\n"
     ]
    },
    {
     "name": "stderr",
     "output_type": "stream",
     "text": [
      " 68%|██████▊   | 34/50 [01:08<00:32,  2.03s/it]"
     ]
    },
    {
     "name": "stdout",
     "output_type": "stream",
     "text": [
      "epoch: 33, train_loss: 0.6125, test_loss: 0.5007\n"
     ]
    },
    {
     "name": "stderr",
     "output_type": "stream",
     "text": [
      " 70%|███████   | 35/50 [01:10<00:31,  2.11s/it]"
     ]
    },
    {
     "name": "stdout",
     "output_type": "stream",
     "text": [
      "epoch: 34, train_loss: 0.5915, test_loss: 0.5008\n"
     ]
    },
    {
     "name": "stderr",
     "output_type": "stream",
     "text": [
      " 72%|███████▏  | 36/50 [01:12<00:29,  2.08s/it]"
     ]
    },
    {
     "name": "stdout",
     "output_type": "stream",
     "text": [
      "epoch: 35, train_loss: 0.5808, test_loss: 0.4801\n"
     ]
    },
    {
     "name": "stderr",
     "output_type": "stream",
     "text": [
      " 74%|███████▍  | 37/50 [01:14<00:27,  2.11s/it]"
     ]
    },
    {
     "name": "stdout",
     "output_type": "stream",
     "text": [
      "epoch: 36, train_loss: 0.5764, test_loss: 0.4706\n"
     ]
    },
    {
     "name": "stderr",
     "output_type": "stream",
     "text": [
      " 76%|███████▌  | 38/50 [01:16<00:25,  2.09s/it]"
     ]
    },
    {
     "name": "stdout",
     "output_type": "stream",
     "text": [
      "epoch: 37, train_loss: 0.5584, test_loss: 0.4611\n"
     ]
    },
    {
     "name": "stderr",
     "output_type": "stream",
     "text": [
      " 78%|███████▊  | 39/50 [01:18<00:23,  2.12s/it]"
     ]
    },
    {
     "name": "stdout",
     "output_type": "stream",
     "text": [
      "epoch: 38, train_loss: 0.5521, test_loss: 0.4915\n"
     ]
    },
    {
     "name": "stderr",
     "output_type": "stream",
     "text": [
      " 80%|████████  | 40/50 [01:20<00:20,  2.10s/it]"
     ]
    },
    {
     "name": "stdout",
     "output_type": "stream",
     "text": [
      "epoch: 39, train_loss: 0.5483, test_loss: 0.4736\n"
     ]
    },
    {
     "name": "stderr",
     "output_type": "stream",
     "text": [
      " 82%|████████▏ | 41/50 [01:22<00:18,  2.07s/it]"
     ]
    },
    {
     "name": "stdout",
     "output_type": "stream",
     "text": [
      "epoch: 40, train_loss: 0.5428, test_loss: 0.4509\n"
     ]
    },
    {
     "name": "stderr",
     "output_type": "stream",
     "text": [
      " 84%|████████▍ | 42/50 [01:24<00:16,  2.03s/it]"
     ]
    },
    {
     "name": "stdout",
     "output_type": "stream",
     "text": [
      "epoch: 41, train_loss: 0.5321, test_loss: 0.4430\n"
     ]
    },
    {
     "name": "stderr",
     "output_type": "stream",
     "text": [
      " 86%|████████▌ | 43/50 [01:26<00:14,  2.05s/it]"
     ]
    },
    {
     "name": "stdout",
     "output_type": "stream",
     "text": [
      "epoch: 42, train_loss: 0.5302, test_loss: 0.4312\n"
     ]
    },
    {
     "name": "stderr",
     "output_type": "stream",
     "text": [
      " 88%|████████▊ | 44/50 [01:29<00:12,  2.08s/it]"
     ]
    },
    {
     "name": "stdout",
     "output_type": "stream",
     "text": [
      "epoch: 43, train_loss: 0.5228, test_loss: 0.4248\n"
     ]
    },
    {
     "name": "stderr",
     "output_type": "stream",
     "text": [
      " 90%|█████████ | 45/50 [01:31<00:10,  2.05s/it]"
     ]
    },
    {
     "name": "stdout",
     "output_type": "stream",
     "text": [
      "epoch: 44, train_loss: 0.5277, test_loss: 0.4281\n"
     ]
    },
    {
     "name": "stderr",
     "output_type": "stream",
     "text": [
      " 92%|█████████▏| 46/50 [01:33<00:08,  2.03s/it]"
     ]
    },
    {
     "name": "stdout",
     "output_type": "stream",
     "text": [
      "epoch: 45, train_loss: 0.5193, test_loss: 0.4290\n"
     ]
    },
    {
     "name": "stderr",
     "output_type": "stream",
     "text": [
      " 94%|█████████▍| 47/50 [01:35<00:06,  2.03s/it]"
     ]
    },
    {
     "name": "stdout",
     "output_type": "stream",
     "text": [
      "epoch: 46, train_loss: 0.5111, test_loss: 0.4247\n"
     ]
    },
    {
     "name": "stderr",
     "output_type": "stream",
     "text": [
      " 96%|█████████▌| 48/50 [01:37<00:04,  2.06s/it]"
     ]
    },
    {
     "name": "stdout",
     "output_type": "stream",
     "text": [
      "epoch: 47, train_loss: 0.5151, test_loss: 0.4177\n"
     ]
    },
    {
     "name": "stderr",
     "output_type": "stream",
     "text": [
      " 98%|█████████▊| 49/50 [01:39<00:02,  2.03s/it]"
     ]
    },
    {
     "name": "stdout",
     "output_type": "stream",
     "text": [
      "epoch: 48, train_loss: 0.5074, test_loss: 0.4237\n"
     ]
    },
    {
     "name": "stderr",
     "output_type": "stream",
     "text": [
      "100%|██████████| 50/50 [01:41<00:00,  2.03s/it]"
     ]
    },
    {
     "name": "stdout",
     "output_type": "stream",
     "text": [
      "epoch: 49, train_loss: 0.5080, test_loss: 0.4150\n"
     ]
    },
    {
     "name": "stderr",
     "output_type": "stream",
     "text": [
      "\n"
     ]
    },
    {
     "data": {
      "image/png": "[encoded data removed]",
      "text/plain": [
       "<Figure size 1000x700 with 1 Axes>"
      ]
     },
     "metadata": {},
     "output_type": "display_data"
    }
   ],
   "source": [
    "model1_results = train(model=model1, \n",
    "                       train_dataloader=train_dataloader, \n",
    "                       test_dataloader=test_dataloader, \n",
    "                       loss_fn=loss_fun, \n",
    "                       optimizer=optimizer, \n",
    "                       epochs=EPOCHS, \n",
    "                       device=device)\n",
    "\n",
    "plot_results_since(model1_results, 5)"
   ]
  },
  {
   "cell_type": "markdown",
   "metadata": {},
   "source": [
    "### model 2"
   ]
  },
  {
   "cell_type": "code",
   "execution_count": 42,
   "metadata": {},
   "outputs": [],
   "source": [
    "class yachtModel2(nn.Module):\n",
    "    def __init__(self, \n",
    "                 input_shape: int, \n",
    "                 hidden_units1: int, \n",
    "                 hidden_units2: int, \n",
    "                 output_shape: int): \n",
    "        super().__init__()\n",
    "        self.layer_stack = nn.Sequential(\n",
    "            nn.Linear(in_features=input_shape, out_features= hidden_units2),\n",
    "            nn.Linear(in_features=hidden_units2, out_features=hidden_units2),\n",
    "            nn.Linear(in_features=hidden_units2, out_features=hidden_units1),\n",
    "            nn.Linear(in_features=hidden_units1, out_features=output_shape)\n",
    "        )\n",
    "        \n",
    "    def forward(self, x):\n",
    "        return self.layer_stack(x) \n",
    "    \n",
    "IN_FEATURES = len(indf.columns)\n",
    "HIDDEN_UNITS1 = 64\n",
    "HIDDEN_UNITS2 = 32\n",
    "OUT_FEATURES = 1\n",
    "\n",
    "torch.manual_seed(42) \n",
    "model2 = yachtModel2(input_shape=IN_FEATURES, \n",
    "                     hidden_units1=HIDDEN_UNITS1,\n",
    "                     hidden_units2=HIDDEN_UNITS2,\n",
    "                     output_shape=OUT_FEATURES).to(device)\n",
    "\n",
    "loss_fun = nn.MSELoss()\n",
    "optimizer = torch.optim.Adam(params=model2.parameters(),\n",
    "                             lr=0.00015)"
   ]
  },
  {
   "cell_type": "code",
   "execution_count": 43,
   "metadata": {},
   "outputs": [
    {
     "name": "stderr",
     "output_type": "stream",
     "text": [
      "  2%|▏         | 1/50 [00:02<01:39,  2.03s/it]"
     ]
    },
    {
     "name": "stdout",
     "output_type": "stream",
     "text": [
      "epoch: 0, train_loss: 1543.6060, test_loss: 580.0082\n"
     ]
    },
    {
     "name": "stderr",
     "output_type": "stream",
     "text": [
      "  4%|▍         | 2/50 [00:04<01:39,  2.08s/it]"
     ]
    },
    {
     "name": "stdout",
     "output_type": "stream",
     "text": [
      "epoch: 1, train_loss: 78.9134, test_loss: 17.3881\n"
     ]
    },
    {
     "name": "stderr",
     "output_type": "stream",
     "text": [
      "  6%|▌         | 3/50 [00:06<01:33,  2.00s/it]"
     ]
    },
    {
     "name": "stdout",
     "output_type": "stream",
     "text": [
      "epoch: 2, train_loss: 13.0214, test_loss: 15.3451\n"
     ]
    },
    {
     "name": "stderr",
     "output_type": "stream",
     "text": [
      "  8%|▊         | 4/50 [00:08<01:32,  2.00s/it]"
     ]
    },
    {
     "name": "stdout",
     "output_type": "stream",
     "text": [
      "epoch: 3, train_loss: 11.3307, test_loss: 13.4663\n"
     ]
    },
    {
     "name": "stderr",
     "output_type": "stream",
     "text": [
      " 10%|█         | 5/50 [00:10<01:31,  2.02s/it]"
     ]
    },
    {
     "name": "stdout",
     "output_type": "stream",
     "text": [
      "epoch: 4, train_loss: 9.7897, test_loss: 11.7730\n"
     ]
    },
    {
     "name": "stderr",
     "output_type": "stream",
     "text": [
      " 12%|█▏        | 6/50 [00:12<01:30,  2.05s/it]"
     ]
    },
    {
     "name": "stdout",
     "output_type": "stream",
     "text": [
      "epoch: 5, train_loss: 8.3824, test_loss: 10.1630\n"
     ]
    },
    {
     "name": "stderr",
     "output_type": "stream",
     "text": [
      " 14%|█▍        | 7/50 [00:14<01:27,  2.04s/it]"
     ]
    },
    {
     "name": "stdout",
     "output_type": "stream",
     "text": [
      "epoch: 6, train_loss: 7.2163, test_loss: 8.9069\n"
     ]
    },
    {
     "name": "stderr",
     "output_type": "stream",
     "text": [
      " 16%|█▌        | 8/50 [00:16<01:25,  2.03s/it]"
     ]
    },
    {
     "name": "stdout",
     "output_type": "stream",
     "text": [
      "epoch: 7, train_loss: 6.2120, test_loss: 7.5728\n"
     ]
    },
    {
     "name": "stderr",
     "output_type": "stream",
     "text": [
      " 18%|█▊        | 9/50 [00:18<01:24,  2.07s/it]"
     ]
    },
    {
     "name": "stdout",
     "output_type": "stream",
     "text": [
      "epoch: 8, train_loss: 5.3664, test_loss: 6.6651\n"
     ]
    },
    {
     "name": "stderr",
     "output_type": "stream",
     "text": [
      " 20%|██        | 10/50 [00:20<01:20,  2.01s/it]"
     ]
    },
    {
     "name": "stdout",
     "output_type": "stream",
     "text": [
      "epoch: 9, train_loss: 4.6292, test_loss: 5.6618\n"
     ]
    },
    {
     "name": "stderr",
     "output_type": "stream",
     "text": [
      " 22%|██▏       | 11/50 [00:22<01:20,  2.06s/it]"
     ]
    },
    {
     "name": "stdout",
     "output_type": "stream",
     "text": [
      "epoch: 10, train_loss: 4.0250, test_loss: 4.7592\n"
     ]
    },
    {
     "name": "stderr",
     "output_type": "stream",
     "text": [
      " 24%|██▍       | 12/50 [00:24<01:17,  2.04s/it]"
     ]
    },
    {
     "name": "stdout",
     "output_type": "stream",
     "text": [
      "epoch: 11, train_loss: 3.4779, test_loss: 4.0056\n"
     ]
    },
    {
     "name": "stderr",
     "output_type": "stream",
     "text": [
      " 26%|██▌       | 13/50 [00:26<01:14,  2.02s/it]"
     ]
    },
    {
     "name": "stdout",
     "output_type": "stream",
     "text": [
      "epoch: 12, train_loss: 3.0098, test_loss: 3.3431\n"
     ]
    },
    {
     "name": "stderr",
     "output_type": "stream",
     "text": [
      " 28%|██▊       | 14/50 [00:28<01:11,  1.99s/it]"
     ]
    },
    {
     "name": "stdout",
     "output_type": "stream",
     "text": [
      "epoch: 13, train_loss: 2.5943, test_loss: 2.7109\n"
     ]
    },
    {
     "name": "stderr",
     "output_type": "stream",
     "text": [
      " 30%|███       | 15/50 [00:30<01:12,  2.07s/it]"
     ]
    },
    {
     "name": "stdout",
     "output_type": "stream",
     "text": [
      "epoch: 14, train_loss: 2.2422, test_loss: 2.2168\n"
     ]
    },
    {
     "name": "stderr",
     "output_type": "stream",
     "text": [
      " 32%|███▏      | 16/50 [00:32<01:09,  2.05s/it]"
     ]
    },
    {
     "name": "stdout",
     "output_type": "stream",
     "text": [
      "epoch: 15, train_loss: 1.9651, test_loss: 1.8262\n"
     ]
    },
    {
     "name": "stderr",
     "output_type": "stream",
     "text": [
      " 34%|███▍      | 17/50 [00:34<01:06,  2.02s/it]"
     ]
    },
    {
     "name": "stdout",
     "output_type": "stream",
     "text": [
      "epoch: 16, train_loss: 1.7380, test_loss: 1.5576\n"
     ]
    },
    {
     "name": "stderr",
     "output_type": "stream",
     "text": [
      " 36%|███▌      | 18/50 [00:36<01:03,  2.00s/it]"
     ]
    },
    {
     "name": "stdout",
     "output_type": "stream",
     "text": [
      "epoch: 17, train_loss: 1.5813, test_loss: 1.3909\n"
     ]
    },
    {
     "name": "stderr",
     "output_type": "stream",
     "text": [
      " 38%|███▊      | 19/50 [00:38<01:01,  1.98s/it]"
     ]
    },
    {
     "name": "stdout",
     "output_type": "stream",
     "text": [
      "epoch: 18, train_loss: 1.4688, test_loss: 1.2639\n"
     ]
    },
    {
     "name": "stderr",
     "output_type": "stream",
     "text": [
      " 40%|████      | 20/50 [00:40<00:59,  2.00s/it]"
     ]
    },
    {
     "name": "stdout",
     "output_type": "stream",
     "text": [
      "epoch: 19, train_loss: 1.3965, test_loss: 1.1935\n"
     ]
    },
    {
     "name": "stderr",
     "output_type": "stream",
     "text": [
      " 42%|████▏     | 21/50 [00:42<00:58,  2.00s/it]"
     ]
    },
    {
     "name": "stdout",
     "output_type": "stream",
     "text": [
      "epoch: 20, train_loss: 1.3361, test_loss: 1.1617\n"
     ]
    },
    {
     "name": "stderr",
     "output_type": "stream",
     "text": [
      " 44%|████▍     | 22/50 [00:44<00:54,  1.94s/it]"
     ]
    },
    {
     "name": "stdout",
     "output_type": "stream",
     "text": [
      "epoch: 21, train_loss: 1.2814, test_loss: 1.0893\n"
     ]
    },
    {
     "name": "stderr",
     "output_type": "stream",
     "text": [
      " 46%|████▌     | 23/50 [00:46<00:52,  1.95s/it]"
     ]
    },
    {
     "name": "stdout",
     "output_type": "stream",
     "text": [
      "epoch: 22, train_loss: 1.2350, test_loss: 1.0469\n"
     ]
    },
    {
     "name": "stderr",
     "output_type": "stream",
     "text": [
      " 48%|████▊     | 24/50 [00:48<00:51,  1.97s/it]"
     ]
    },
    {
     "name": "stdout",
     "output_type": "stream",
     "text": [
      "epoch: 23, train_loss: 1.2062, test_loss: 1.0217\n"
     ]
    },
    {
     "name": "stderr",
     "output_type": "stream",
     "text": [
      " 50%|█████     | 25/50 [00:50<00:49,  1.98s/it]"
     ]
    },
    {
     "name": "stdout",
     "output_type": "stream",
     "text": [
      "epoch: 24, train_loss: 1.2124, test_loss: 1.0427\n"
     ]
    },
    {
     "name": "stderr",
     "output_type": "stream",
     "text": [
      " 52%|█████▏    | 26/50 [00:52<00:47,  1.98s/it]"
     ]
    },
    {
     "name": "stdout",
     "output_type": "stream",
     "text": [
      "epoch: 25, train_loss: 1.1302, test_loss: 1.0907\n"
     ]
    },
    {
     "name": "stderr",
     "output_type": "stream",
     "text": [
      " 54%|█████▍    | 27/50 [00:54<00:45,  1.99s/it]"
     ]
    },
    {
     "name": "stdout",
     "output_type": "stream",
     "text": [
      "epoch: 26, train_loss: 1.0826, test_loss: 0.9556\n"
     ]
    },
    {
     "name": "stderr",
     "output_type": "stream",
     "text": [
      " 56%|█████▌    | 28/50 [00:56<00:43,  1.99s/it]"
     ]
    },
    {
     "name": "stdout",
     "output_type": "stream",
     "text": [
      "epoch: 27, train_loss: 1.0494, test_loss: 0.8896\n"
     ]
    },
    {
     "name": "stderr",
     "output_type": "stream",
     "text": [
      " 58%|█████▊    | 29/50 [00:58<00:42,  2.01s/it]"
     ]
    },
    {
     "name": "stdout",
     "output_type": "stream",
     "text": [
      "epoch: 28, train_loss: 1.0206, test_loss: 0.8337\n"
     ]
    },
    {
     "name": "stderr",
     "output_type": "stream",
     "text": [
      " 60%|██████    | 30/50 [01:00<00:39,  1.97s/it]"
     ]
    },
    {
     "name": "stdout",
     "output_type": "stream",
     "text": [
      "epoch: 29, train_loss: 0.9829, test_loss: 0.8727\n"
     ]
    },
    {
     "name": "stderr",
     "output_type": "stream",
     "text": [
      " 62%|██████▏   | 31/50 [01:02<00:37,  1.97s/it]"
     ]
    },
    {
     "name": "stdout",
     "output_type": "stream",
     "text": [
      "epoch: 30, train_loss: 0.9468, test_loss: 0.7744\n"
     ]
    },
    {
     "name": "stderr",
     "output_type": "stream",
     "text": [
      " 64%|██████▍   | 32/50 [01:04<00:35,  1.98s/it]"
     ]
    },
    {
     "name": "stdout",
     "output_type": "stream",
     "text": [
      "epoch: 31, train_loss: 0.9246, test_loss: 0.7998\n"
     ]
    },
    {
     "name": "stderr",
     "output_type": "stream",
     "text": [
      " 66%|██████▌   | 33/50 [01:06<00:33,  1.97s/it]"
     ]
    },
    {
     "name": "stdout",
     "output_type": "stream",
     "text": [
      "epoch: 32, train_loss: 0.8988, test_loss: 0.7250\n"
     ]
    },
    {
     "name": "stderr",
     "output_type": "stream",
     "text": [
      " 68%|██████▊   | 34/50 [01:08<00:31,  1.95s/it]"
     ]
    },
    {
     "name": "stdout",
     "output_type": "stream",
     "text": [
      "epoch: 33, train_loss: 0.8692, test_loss: 0.7020\n"
     ]
    },
    {
     "name": "stderr",
     "output_type": "stream",
     "text": [
      " 70%|███████   | 35/50 [01:09<00:28,  1.91s/it]"
     ]
    },
    {
     "name": "stdout",
     "output_type": "stream",
     "text": [
      "epoch: 34, train_loss: 0.8405, test_loss: 0.6714\n"
     ]
    },
    {
     "name": "stderr",
     "output_type": "stream",
     "text": [
      " 72%|███████▏  | 36/50 [01:11<00:27,  1.95s/it]"
     ]
    },
    {
     "name": "stdout",
     "output_type": "stream",
     "text": [
      "epoch: 35, train_loss: 0.8187, test_loss: 0.6620\n"
     ]
    },
    {
     "name": "stderr",
     "output_type": "stream",
     "text": [
      " 74%|███████▍  | 37/50 [01:13<00:25,  1.95s/it]"
     ]
    },
    {
     "name": "stdout",
     "output_type": "stream",
     "text": [
      "epoch: 36, train_loss: 0.7995, test_loss: 0.6441\n"
     ]
    },
    {
     "name": "stderr",
     "output_type": "stream",
     "text": [
      " 76%|███████▌  | 38/50 [01:15<00:23,  1.95s/it]"
     ]
    },
    {
     "name": "stdout",
     "output_type": "stream",
     "text": [
      "epoch: 37, train_loss: 0.7690, test_loss: 0.6170\n"
     ]
    },
    {
     "name": "stderr",
     "output_type": "stream",
     "text": [
      " 78%|███████▊  | 39/50 [01:17<00:21,  1.94s/it]"
     ]
    },
    {
     "name": "stdout",
     "output_type": "stream",
     "text": [
      "epoch: 38, train_loss: 0.7548, test_loss: 0.6315\n"
     ]
    },
    {
     "name": "stderr",
     "output_type": "stream",
     "text": [
      " 80%|████████  | 40/50 [01:19<00:19,  1.93s/it]"
     ]
    },
    {
     "name": "stdout",
     "output_type": "stream",
     "text": [
      "epoch: 39, train_loss: 0.7409, test_loss: 0.5840\n"
     ]
    },
    {
     "name": "stderr",
     "output_type": "stream",
     "text": [
      " 82%|████████▏ | 41/50 [01:21<00:17,  1.91s/it]"
     ]
    },
    {
     "name": "stdout",
     "output_type": "stream",
     "text": [
      "epoch: 40, train_loss: 0.7223, test_loss: 0.5746\n"
     ]
    },
    {
     "name": "stderr",
     "output_type": "stream",
     "text": [
      " 84%|████████▍ | 42/50 [01:23<00:15,  1.94s/it]"
     ]
    },
    {
     "name": "stdout",
     "output_type": "stream",
     "text": [
      "epoch: 41, train_loss: 0.6980, test_loss: 0.5678\n"
     ]
    },
    {
     "name": "stderr",
     "output_type": "stream",
     "text": [
      " 86%|████████▌ | 43/50 [01:25<00:13,  1.88s/it]"
     ]
    },
    {
     "name": "stdout",
     "output_type": "stream",
     "text": [
      "epoch: 42, train_loss: 0.6915, test_loss: 0.5453\n"
     ]
    },
    {
     "name": "stderr",
     "output_type": "stream",
     "text": [
      " 88%|████████▊ | 44/50 [01:27<00:11,  1.88s/it]"
     ]
    },
    {
     "name": "stdout",
     "output_type": "stream",
     "text": [
      "epoch: 43, train_loss: 0.6721, test_loss: 0.5290\n"
     ]
    },
    {
     "name": "stderr",
     "output_type": "stream",
     "text": [
      " 90%|█████████ | 45/50 [01:28<00:09,  1.84s/it]"
     ]
    },
    {
     "name": "stdout",
     "output_type": "stream",
     "text": [
      "epoch: 44, train_loss: 0.6684, test_loss: 0.5299\n"
     ]
    },
    {
     "name": "stderr",
     "output_type": "stream",
     "text": [
      " 92%|█████████▏| 46/50 [01:30<00:07,  1.88s/it]"
     ]
    },
    {
     "name": "stdout",
     "output_type": "stream",
     "text": [
      "epoch: 45, train_loss: 0.6490, test_loss: 0.5194\n"
     ]
    },
    {
     "name": "stderr",
     "output_type": "stream",
     "text": [
      " 94%|█████████▍| 47/50 [01:32<00:05,  1.90s/it]"
     ]
    },
    {
     "name": "stdout",
     "output_type": "stream",
     "text": [
      "epoch: 46, train_loss: 0.6345, test_loss: 0.4994\n"
     ]
    },
    {
     "name": "stderr",
     "output_type": "stream",
     "text": [
      " 96%|█████████▌| 48/50 [01:34<00:03,  1.90s/it]"
     ]
    },
    {
     "name": "stdout",
     "output_type": "stream",
     "text": [
      "epoch: 47, train_loss: 0.6291, test_loss: 0.4879\n"
     ]
    },
    {
     "name": "stderr",
     "output_type": "stream",
     "text": [
      " 98%|█████████▊| 49/50 [01:36<00:01,  1.93s/it]"
     ]
    },
    {
     "name": "stdout",
     "output_type": "stream",
     "text": [
      "epoch: 48, train_loss: 0.6127, test_loss: 0.4903\n"
     ]
    },
    {
     "name": "stderr",
     "output_type": "stream",
     "text": [
      "100%|██████████| 50/50 [01:38<00:00,  1.97s/it]"
     ]
    },
    {
     "name": "stdout",
     "output_type": "stream",
     "text": [
      "epoch: 49, train_loss: 0.6063, test_loss: 0.4812\n"
     ]
    },
    {
     "name": "stderr",
     "output_type": "stream",
     "text": [
      "\n"
     ]
    },
    {
     "data": {
      "image/png": "[encoded data removed]",
      "text/plain": [
       "<Figure size 1000x700 with 1 Axes>"
      ]
     },
     "metadata": {},
     "output_type": "display_data"
    }
   ],
   "source": [
    "model2_results = train(model=model2, \n",
    "                       train_dataloader=train_dataloader, \n",
    "                       test_dataloader=test_dataloader, \n",
    "                       loss_fn=loss_fun, \n",
    "                       optimizer=optimizer, \n",
    "                       epochs=EPOCHS, \n",
    "                       device=device)\n",
    "\n",
    "plot_results_since(model2_results, 5)"
   ]
  },
  {
   "cell_type": "markdown",
   "metadata": {},
   "source": [
    "## model 3"
   ]
  },
  {
   "cell_type": "code",
   "execution_count": 44,
   "metadata": {},
   "outputs": [],
   "source": [
    "class yachtModel3(nn.Module):\n",
    "    def __init__(self, \n",
    "                 input_shape: int, \n",
    "                 hidden_units1: int, \n",
    "                 hidden_units2: int, \n",
    "                 output_shape: int): \n",
    "        super().__init__()\n",
    "        self.layer_stack = nn.Sequential(\n",
    "            nn.Linear(in_features=input_shape, out_features= hidden_units2),\n",
    "            nn.Linear(in_features=hidden_units2, out_features=hidden_units2),\n",
    "            nn.Linear(in_features=hidden_units2, out_features=hidden_units1),\n",
    "            nn.Linear(in_features=hidden_units1, out_features=output_shape)\n",
    "        )\n",
    "        \n",
    "    def forward(self, x):\n",
    "        return self.layer_stack(x) \n",
    "    \n",
    "IN_FEATURES = len(indf.columns)\n",
    "HIDDEN_UNITS1 = 32\n",
    "HIDDEN_UNITS2 = 32\n",
    "OUT_FEATURES = 1\n",
    "\n",
    "torch.manual_seed(42) \n",
    "model3 = yachtModel3(input_shape=IN_FEATURES, \n",
    "                     hidden_units1=HIDDEN_UNITS1,\n",
    "                     hidden_units2=HIDDEN_UNITS2,\n",
    "                     output_shape=OUT_FEATURES).to(device)\n",
    "\n",
    "loss_fun = nn.MSELoss()\n",
    "optimizer = torch.optim.Adam(params=model3.parameters(),\n",
    "                             lr=0.00015)"
   ]
  },
  {
   "cell_type": "code",
   "execution_count": 45,
   "metadata": {},
   "outputs": [
    {
     "name": "stderr",
     "output_type": "stream",
     "text": [
      "  2%|▏         | 1/50 [00:01<01:37,  2.00s/it]"
     ]
    },
    {
     "name": "stdout",
     "output_type": "stream",
     "text": [
      "epoch: 0, train_loss: 1680.8475, test_loss: 1008.0948\n"
     ]
    },
    {
     "name": "stderr",
     "output_type": "stream",
     "text": [
      "  4%|▍         | 2/50 [00:03<01:32,  1.93s/it]"
     ]
    },
    {
     "name": "stdout",
     "output_type": "stream",
     "text": [
      "epoch: 1, train_loss: 209.0508, test_loss: 20.5520\n"
     ]
    },
    {
     "name": "stderr",
     "output_type": "stream",
     "text": [
      "  6%|▌         | 3/50 [00:05<01:28,  1.88s/it]"
     ]
    },
    {
     "name": "stdout",
     "output_type": "stream",
     "text": [
      "epoch: 2, train_loss: 15.1199, test_loss: 18.6497\n"
     ]
    },
    {
     "name": "stderr",
     "output_type": "stream",
     "text": [
      "  8%|▊         | 4/50 [00:07<01:25,  1.86s/it]"
     ]
    },
    {
     "name": "stdout",
     "output_type": "stream",
     "text": [
      "epoch: 3, train_loss: 13.5455, test_loss: 17.0023\n"
     ]
    },
    {
     "name": "stderr",
     "output_type": "stream",
     "text": [
      " 10%|█         | 5/50 [00:09<01:24,  1.88s/it]"
     ]
    },
    {
     "name": "stdout",
     "output_type": "stream",
     "text": [
      "epoch: 4, train_loss: 12.0867, test_loss: 14.9829\n"
     ]
    },
    {
     "name": "stderr",
     "output_type": "stream",
     "text": [
      " 12%|█▏        | 6/50 [00:11<01:24,  1.93s/it]"
     ]
    },
    {
     "name": "stdout",
     "output_type": "stream",
     "text": [
      "epoch: 5, train_loss: 10.7457, test_loss: 13.5056\n"
     ]
    },
    {
     "name": "stderr",
     "output_type": "stream",
     "text": [
      " 14%|█▍        | 7/50 [00:13<01:21,  1.91s/it]"
     ]
    },
    {
     "name": "stdout",
     "output_type": "stream",
     "text": [
      "epoch: 6, train_loss: 9.5221, test_loss: 11.9841\n"
     ]
    },
    {
     "name": "stderr",
     "output_type": "stream",
     "text": [
      " 16%|█▌        | 8/50 [00:15<01:19,  1.90s/it]"
     ]
    },
    {
     "name": "stdout",
     "output_type": "stream",
     "text": [
      "epoch: 7, train_loss: 8.4486, test_loss: 10.8699\n"
     ]
    },
    {
     "name": "stderr",
     "output_type": "stream",
     "text": [
      " 18%|█▊        | 9/50 [00:17<01:19,  1.93s/it]"
     ]
    },
    {
     "name": "stdout",
     "output_type": "stream",
     "text": [
      "epoch: 8, train_loss: 7.5147, test_loss: 9.5544\n"
     ]
    },
    {
     "name": "stderr",
     "output_type": "stream",
     "text": [
      " 20%|██        | 10/50 [00:19<01:15,  1.90s/it]"
     ]
    },
    {
     "name": "stdout",
     "output_type": "stream",
     "text": [
      "epoch: 9, train_loss: 6.7008, test_loss: 8.4346\n"
     ]
    },
    {
     "name": "stderr",
     "output_type": "stream",
     "text": [
      " 22%|██▏       | 11/50 [00:20<01:13,  1.87s/it]"
     ]
    },
    {
     "name": "stdout",
     "output_type": "stream",
     "text": [
      "epoch: 10, train_loss: 5.9856, test_loss: 7.6070\n"
     ]
    },
    {
     "name": "stderr",
     "output_type": "stream",
     "text": [
      " 24%|██▍       | 12/50 [00:22<01:13,  1.92s/it]"
     ]
    },
    {
     "name": "stdout",
     "output_type": "stream",
     "text": [
      "epoch: 11, train_loss: 5.3218, test_loss: 6.5668\n"
     ]
    },
    {
     "name": "stderr",
     "output_type": "stream",
     "text": [
      " 26%|██▌       | 13/50 [00:24<01:10,  1.90s/it]"
     ]
    },
    {
     "name": "stdout",
     "output_type": "stream",
     "text": [
      "epoch: 12, train_loss: 4.7100, test_loss: 5.5999\n"
     ]
    },
    {
     "name": "stderr",
     "output_type": "stream",
     "text": [
      " 28%|██▊       | 14/50 [00:26<01:09,  1.92s/it]"
     ]
    },
    {
     "name": "stdout",
     "output_type": "stream",
     "text": [
      "epoch: 13, train_loss: 4.1613, test_loss: 4.9013\n"
     ]
    },
    {
     "name": "stderr",
     "output_type": "stream",
     "text": [
      " 30%|███       | 15/50 [00:28<01:06,  1.90s/it]"
     ]
    },
    {
     "name": "stdout",
     "output_type": "stream",
     "text": [
      "epoch: 14, train_loss: 3.6516, test_loss: 4.1292\n"
     ]
    },
    {
     "name": "stderr",
     "output_type": "stream",
     "text": [
      " 32%|███▏      | 16/50 [00:30<01:04,  1.90s/it]"
     ]
    },
    {
     "name": "stdout",
     "output_type": "stream",
     "text": [
      "epoch: 15, train_loss: 3.1715, test_loss: 3.4809\n"
     ]
    },
    {
     "name": "stderr",
     "output_type": "stream",
     "text": [
      " 34%|███▍      | 17/50 [00:32<01:03,  1.92s/it]"
     ]
    },
    {
     "name": "stdout",
     "output_type": "stream",
     "text": [
      "epoch: 16, train_loss: 2.7407, test_loss: 2.7885\n"
     ]
    },
    {
     "name": "stderr",
     "output_type": "stream",
     "text": [
      " 36%|███▌      | 18/50 [00:34<01:01,  1.93s/it]"
     ]
    },
    {
     "name": "stdout",
     "output_type": "stream",
     "text": [
      "epoch: 17, train_loss: 2.3802, test_loss: 2.4096\n"
     ]
    },
    {
     "name": "stderr",
     "output_type": "stream",
     "text": [
      " 38%|███▊      | 19/50 [00:36<00:58,  1.89s/it]"
     ]
    },
    {
     "name": "stdout",
     "output_type": "stream",
     "text": [
      "epoch: 18, train_loss: 2.0671, test_loss: 1.9277\n"
     ]
    },
    {
     "name": "stderr",
     "output_type": "stream",
     "text": [
      " 40%|████      | 20/50 [00:38<00:57,  1.90s/it]"
     ]
    },
    {
     "name": "stdout",
     "output_type": "stream",
     "text": [
      "epoch: 19, train_loss: 1.8254, test_loss: 1.6424\n"
     ]
    },
    {
     "name": "stderr",
     "output_type": "stream",
     "text": [
      " 42%|████▏     | 21/50 [00:40<00:55,  1.92s/it]"
     ]
    },
    {
     "name": "stdout",
     "output_type": "stream",
     "text": [
      "epoch: 20, train_loss: 1.6455, test_loss: 1.4957\n"
     ]
    },
    {
     "name": "stderr",
     "output_type": "stream",
     "text": [
      " 44%|████▍     | 22/50 [00:41<00:53,  1.91s/it]"
     ]
    },
    {
     "name": "stdout",
     "output_type": "stream",
     "text": [
      "epoch: 21, train_loss: 1.5187, test_loss: 1.3202\n"
     ]
    },
    {
     "name": "stderr",
     "output_type": "stream",
     "text": [
      " 46%|████▌     | 23/50 [00:43<00:51,  1.90s/it]"
     ]
    },
    {
     "name": "stdout",
     "output_type": "stream",
     "text": [
      "epoch: 22, train_loss: 1.4210, test_loss: 1.2339\n"
     ]
    },
    {
     "name": "stderr",
     "output_type": "stream",
     "text": [
      " 48%|████▊     | 24/50 [00:45<00:49,  1.89s/it]"
     ]
    },
    {
     "name": "stdout",
     "output_type": "stream",
     "text": [
      "epoch: 23, train_loss: 1.3503, test_loss: 1.1784\n"
     ]
    },
    {
     "name": "stderr",
     "output_type": "stream",
     "text": [
      " 50%|█████     | 25/50 [00:47<00:48,  1.94s/it]"
     ]
    },
    {
     "name": "stdout",
     "output_type": "stream",
     "text": [
      "epoch: 24, train_loss: 1.2998, test_loss: 1.1093\n"
     ]
    },
    {
     "name": "stderr",
     "output_type": "stream",
     "text": [
      " 52%|█████▏    | 26/50 [00:49<00:47,  1.96s/it]"
     ]
    },
    {
     "name": "stdout",
     "output_type": "stream",
     "text": [
      "epoch: 25, train_loss: 1.2455, test_loss: 1.0663\n"
     ]
    },
    {
     "name": "stderr",
     "output_type": "stream",
     "text": [
      " 54%|█████▍    | 27/50 [00:51<00:46,  2.01s/it]"
     ]
    },
    {
     "name": "stdout",
     "output_type": "stream",
     "text": [
      "epoch: 26, train_loss: 1.2085, test_loss: 1.0258\n"
     ]
    },
    {
     "name": "stderr",
     "output_type": "stream",
     "text": [
      " 56%|█████▌    | 28/50 [00:53<00:43,  1.96s/it]"
     ]
    },
    {
     "name": "stdout",
     "output_type": "stream",
     "text": [
      "epoch: 27, train_loss: 1.1654, test_loss: 0.9916\n"
     ]
    },
    {
     "name": "stderr",
     "output_type": "stream",
     "text": [
      " 58%|█████▊    | 29/50 [00:55<00:39,  1.90s/it]"
     ]
    },
    {
     "name": "stdout",
     "output_type": "stream",
     "text": [
      "epoch: 28, train_loss: 1.1226, test_loss: 0.9689\n"
     ]
    },
    {
     "name": "stderr",
     "output_type": "stream",
     "text": [
      " 60%|██████    | 30/50 [00:57<00:38,  1.93s/it]"
     ]
    },
    {
     "name": "stdout",
     "output_type": "stream",
     "text": [
      "epoch: 29, train_loss: 1.0933, test_loss: 0.9143\n"
     ]
    },
    {
     "name": "stderr",
     "output_type": "stream",
     "text": [
      " 62%|██████▏   | 31/50 [00:59<00:36,  1.93s/it]"
     ]
    },
    {
     "name": "stdout",
     "output_type": "stream",
     "text": [
      "epoch: 30, train_loss: 1.0578, test_loss: 0.9608\n"
     ]
    },
    {
     "name": "stderr",
     "output_type": "stream",
     "text": [
      " 64%|██████▍   | 32/50 [01:01<00:34,  1.94s/it]"
     ]
    },
    {
     "name": "stdout",
     "output_type": "stream",
     "text": [
      "epoch: 31, train_loss: 1.0258, test_loss: 0.8872\n"
     ]
    },
    {
     "name": "stderr",
     "output_type": "stream",
     "text": [
      " 66%|██████▌   | 33/50 [01:03<00:33,  1.96s/it]"
     ]
    },
    {
     "name": "stdout",
     "output_type": "stream",
     "text": [
      "epoch: 32, train_loss: 0.9854, test_loss: 0.8161\n"
     ]
    },
    {
     "name": "stderr",
     "output_type": "stream",
     "text": [
      " 68%|██████▊   | 34/50 [01:05<00:31,  1.97s/it]"
     ]
    },
    {
     "name": "stdout",
     "output_type": "stream",
     "text": [
      "epoch: 33, train_loss: 0.9630, test_loss: 0.8031\n"
     ]
    },
    {
     "name": "stderr",
     "output_type": "stream",
     "text": [
      " 70%|███████   | 35/50 [01:07<00:29,  1.95s/it]"
     ]
    },
    {
     "name": "stdout",
     "output_type": "stream",
     "text": [
      "epoch: 34, train_loss: 0.9291, test_loss: 0.7679\n"
     ]
    },
    {
     "name": "stderr",
     "output_type": "stream",
     "text": [
      " 72%|███████▏  | 36/50 [01:09<00:26,  1.90s/it]"
     ]
    },
    {
     "name": "stdout",
     "output_type": "stream",
     "text": [
      "epoch: 35, train_loss: 0.8980, test_loss: 0.7369\n"
     ]
    },
    {
     "name": "stderr",
     "output_type": "stream",
     "text": [
      " 74%|███████▍  | 37/50 [01:10<00:24,  1.91s/it]"
     ]
    },
    {
     "name": "stdout",
     "output_type": "stream",
     "text": [
      "epoch: 36, train_loss: 0.8788, test_loss: 0.7127\n"
     ]
    },
    {
     "name": "stderr",
     "output_type": "stream",
     "text": [
      " 76%|███████▌  | 38/50 [01:12<00:22,  1.90s/it]"
     ]
    },
    {
     "name": "stdout",
     "output_type": "stream",
     "text": [
      "epoch: 37, train_loss: 0.8485, test_loss: 0.7188\n"
     ]
    },
    {
     "name": "stderr",
     "output_type": "stream",
     "text": [
      " 78%|███████▊  | 39/50 [01:14<00:20,  1.88s/it]"
     ]
    },
    {
     "name": "stdout",
     "output_type": "stream",
     "text": [
      "epoch: 38, train_loss: 0.8266, test_loss: 0.6751\n"
     ]
    },
    {
     "name": "stderr",
     "output_type": "stream",
     "text": [
      " 80%|████████  | 40/50 [01:16<00:19,  1.93s/it]"
     ]
    },
    {
     "name": "stdout",
     "output_type": "stream",
     "text": [
      "epoch: 39, train_loss: 0.8005, test_loss: 0.6579\n"
     ]
    },
    {
     "name": "stderr",
     "output_type": "stream",
     "text": [
      " 82%|████████▏ | 41/50 [01:18<00:16,  1.88s/it]"
     ]
    },
    {
     "name": "stdout",
     "output_type": "stream",
     "text": [
      "epoch: 40, train_loss: 0.7868, test_loss: 0.6808\n"
     ]
    },
    {
     "name": "stderr",
     "output_type": "stream",
     "text": [
      " 84%|████████▍ | 42/50 [01:20<00:15,  1.89s/it]"
     ]
    },
    {
     "name": "stdout",
     "output_type": "stream",
     "text": [
      "epoch: 41, train_loss: 0.7654, test_loss: 0.6264\n"
     ]
    },
    {
     "name": "stderr",
     "output_type": "stream",
     "text": [
      " 86%|████████▌ | 43/50 [01:22<00:13,  1.94s/it]"
     ]
    },
    {
     "name": "stdout",
     "output_type": "stream",
     "text": [
      "epoch: 42, train_loss: 0.7468, test_loss: 0.6022\n"
     ]
    },
    {
     "name": "stderr",
     "output_type": "stream",
     "text": [
      " 88%|████████▊ | 44/50 [01:24<00:11,  1.96s/it]"
     ]
    },
    {
     "name": "stdout",
     "output_type": "stream",
     "text": [
      "epoch: 43, train_loss: 0.7294, test_loss: 0.5876\n"
     ]
    },
    {
     "name": "stderr",
     "output_type": "stream",
     "text": [
      " 90%|█████████ | 45/50 [01:26<00:09,  1.95s/it]"
     ]
    },
    {
     "name": "stdout",
     "output_type": "stream",
     "text": [
      "epoch: 44, train_loss: 0.7146, test_loss: 0.5748\n"
     ]
    },
    {
     "name": "stderr",
     "output_type": "stream",
     "text": [
      " 92%|█████████▏| 46/50 [01:28<00:07,  1.97s/it]"
     ]
    },
    {
     "name": "stdout",
     "output_type": "stream",
     "text": [
      "epoch: 45, train_loss: 0.7026, test_loss: 0.5563\n"
     ]
    },
    {
     "name": "stderr",
     "output_type": "stream",
     "text": [
      " 94%|█████████▍| 47/50 [01:30<00:06,  2.02s/it]"
     ]
    },
    {
     "name": "stdout",
     "output_type": "stream",
     "text": [
      "epoch: 46, train_loss: 0.6838, test_loss: 0.5638\n"
     ]
    },
    {
     "name": "stderr",
     "output_type": "stream",
     "text": [
      " 96%|█████████▌| 48/50 [01:32<00:03,  1.97s/it]"
     ]
    },
    {
     "name": "stdout",
     "output_type": "stream",
     "text": [
      "epoch: 47, train_loss: 0.6729, test_loss: 0.5337\n"
     ]
    },
    {
     "name": "stderr",
     "output_type": "stream",
     "text": [
      " 98%|█████████▊| 49/50 [01:34<00:01,  1.94s/it]"
     ]
    },
    {
     "name": "stdout",
     "output_type": "stream",
     "text": [
      "epoch: 48, train_loss: 0.6673, test_loss: 0.5289\n"
     ]
    },
    {
     "name": "stderr",
     "output_type": "stream",
     "text": [
      "100%|██████████| 50/50 [01:36<00:00,  1.93s/it]"
     ]
    },
    {
     "name": "stdout",
     "output_type": "stream",
     "text": [
      "epoch: 49, train_loss: 0.6512, test_loss: 0.5270\n"
     ]
    },
    {
     "name": "stderr",
     "output_type": "stream",
     "text": [
      "\n"
     ]
    },
    {
     "data": {
      "image/png": "[encoded data removed]",
      "text/plain": [
       "<Figure size 1000x700 with 1 Axes>"
      ]
     },
     "metadata": {},
     "output_type": "display_data"
    }
   ],
   "source": [
    "model3_results = train(model=model3, \n",
    "                       train_dataloader=train_dataloader, \n",
    "                       test_dataloader=test_dataloader, \n",
    "                       loss_fn=loss_fun, \n",
    "                       optimizer=optimizer, \n",
    "                       epochs=EPOCHS, \n",
    "                       device=device)\n",
    "\n",
    "plot_results_since(model3_results, 5)"
   ]
  },
  {
   "cell_type": "markdown",
   "metadata": {},
   "source": [
    "### model 4"
   ]
  },
  {
   "cell_type": "code",
   "execution_count": 46,
   "metadata": {},
   "outputs": [],
   "source": [
    "class yachtModel4(nn.Module):\n",
    "    def __init__(self, \n",
    "                 input_shape: int, \n",
    "                 hidden_units1: int, \n",
    "                 hidden_units2: int, \n",
    "                 output_shape: int): \n",
    "        super().__init__()\n",
    "        self.layer_stack = nn.Sequential(\n",
    "            nn.Linear(in_features=input_shape, out_features= hidden_units2),\n",
    "            nn.Linear(in_features=hidden_units2, out_features=hidden_units2),\n",
    "            nn.Linear(in_features=hidden_units2, out_features=hidden_units1),\n",
    "            nn.Linear(in_features=hidden_units1, out_features=output_shape)\n",
    "        )\n",
    "        \n",
    "    def forward(self, x):\n",
    "        return self.layer_stack(x) \n",
    "    \n",
    "IN_FEATURES = len(indf.columns)\n",
    "HIDDEN_UNITS1 = 128\n",
    "HIDDEN_UNITS2 = 64\n",
    "OUT_FEATURES = 1\n",
    "\n",
    "torch.manual_seed(42) \n",
    "model4 = yachtModel4(input_shape=IN_FEATURES, \n",
    "                     hidden_units1=HIDDEN_UNITS1,\n",
    "                     hidden_units2=HIDDEN_UNITS2,\n",
    "                     output_shape=OUT_FEATURES).to(device)\n",
    "\n",
    "loss_fun = nn.MSELoss()\n",
    "optimizer = torch.optim.Adam(params=model4.parameters(),\n",
    "                             lr=0.00015)"
   ]
  },
  {
   "cell_type": "code",
   "execution_count": 47,
   "metadata": {},
   "outputs": [
    {
     "name": "stderr",
     "output_type": "stream",
     "text": [
      "  2%|▏         | 1/50 [00:01<01:32,  1.88s/it]"
     ]
    },
    {
     "name": "stdout",
     "output_type": "stream",
     "text": [
      "epoch: 0, train_loss: 918.2735, test_loss: 17.6907\n"
     ]
    },
    {
     "name": "stderr",
     "output_type": "stream",
     "text": [
      "  4%|▍         | 2/50 [00:03<01:29,  1.87s/it]"
     ]
    },
    {
     "name": "stdout",
     "output_type": "stream",
     "text": [
      "epoch: 1, train_loss: 13.3952, test_loss: 15.0018\n"
     ]
    },
    {
     "name": "stderr",
     "output_type": "stream",
     "text": [
      "  6%|▌         | 3/50 [00:05<01:29,  1.91s/it]"
     ]
    },
    {
     "name": "stdout",
     "output_type": "stream",
     "text": [
      "epoch: 2, train_loss: 11.1325, test_loss: 12.7229\n"
     ]
    },
    {
     "name": "stderr",
     "output_type": "stream",
     "text": [
      "  8%|▊         | 4/50 [00:07<01:30,  1.98s/it]"
     ]
    },
    {
     "name": "stdout",
     "output_type": "stream",
     "text": [
      "epoch: 3, train_loss: 9.2066, test_loss: 10.8256\n"
     ]
    },
    {
     "name": "stderr",
     "output_type": "stream",
     "text": [
      " 10%|█         | 5/50 [00:09<01:27,  1.94s/it]"
     ]
    },
    {
     "name": "stdout",
     "output_type": "stream",
     "text": [
      "epoch: 4, train_loss: 7.7062, test_loss: 9.2291\n"
     ]
    },
    {
     "name": "stderr",
     "output_type": "stream",
     "text": [
      " 12%|█▏        | 6/50 [00:11<01:24,  1.92s/it]"
     ]
    },
    {
     "name": "stdout",
     "output_type": "stream",
     "text": [
      "epoch: 5, train_loss: 6.4544, test_loss: 7.6815\n"
     ]
    },
    {
     "name": "stderr",
     "output_type": "stream",
     "text": [
      " 14%|█▍        | 7/50 [00:13<01:20,  1.87s/it]"
     ]
    },
    {
     "name": "stdout",
     "output_type": "stream",
     "text": [
      "epoch: 6, train_loss: 5.3406, test_loss: 5.9970\n"
     ]
    },
    {
     "name": "stderr",
     "output_type": "stream",
     "text": [
      " 16%|█▌        | 8/50 [00:15<01:20,  1.91s/it]"
     ]
    },
    {
     "name": "stdout",
     "output_type": "stream",
     "text": [
      "epoch: 7, train_loss: 4.3718, test_loss: 4.8076\n"
     ]
    },
    {
     "name": "stderr",
     "output_type": "stream",
     "text": [
      " 18%|█▊        | 9/50 [00:17<01:19,  1.93s/it]"
     ]
    },
    {
     "name": "stdout",
     "output_type": "stream",
     "text": [
      "epoch: 8, train_loss: 3.5173, test_loss: 3.8499\n"
     ]
    },
    {
     "name": "stderr",
     "output_type": "stream",
     "text": [
      " 20%|██        | 10/50 [00:19<01:19,  1.98s/it]"
     ]
    },
    {
     "name": "stdout",
     "output_type": "stream",
     "text": [
      "epoch: 9, train_loss: 2.7694, test_loss: 2.6877\n"
     ]
    },
    {
     "name": "stderr",
     "output_type": "stream",
     "text": [
      " 22%|██▏       | 11/50 [00:21<01:18,  2.00s/it]"
     ]
    },
    {
     "name": "stdout",
     "output_type": "stream",
     "text": [
      "epoch: 10, train_loss: 2.1810, test_loss: 2.0402\n"
     ]
    },
    {
     "name": "stderr",
     "output_type": "stream",
     "text": [
      " 24%|██▍       | 12/50 [00:23<01:15,  2.00s/it]"
     ]
    },
    {
     "name": "stdout",
     "output_type": "stream",
     "text": [
      "epoch: 11, train_loss: 1.7479, test_loss: 1.5503\n"
     ]
    },
    {
     "name": "stderr",
     "output_type": "stream",
     "text": [
      " 26%|██▌       | 13/50 [00:25<01:14,  2.02s/it]"
     ]
    },
    {
     "name": "stdout",
     "output_type": "stream",
     "text": [
      "epoch: 12, train_loss: 1.4718, test_loss: 1.2396\n"
     ]
    },
    {
     "name": "stderr",
     "output_type": "stream",
     "text": [
      " 28%|██▊       | 14/50 [00:27<01:13,  2.03s/it]"
     ]
    },
    {
     "name": "stdout",
     "output_type": "stream",
     "text": [
      "epoch: 13, train_loss: 1.3055, test_loss: 1.0689\n"
     ]
    },
    {
     "name": "stderr",
     "output_type": "stream",
     "text": [
      " 30%|███       | 15/50 [00:29<01:11,  2.04s/it]"
     ]
    },
    {
     "name": "stdout",
     "output_type": "stream",
     "text": [
      "epoch: 14, train_loss: 1.2099, test_loss: 0.9978\n"
     ]
    },
    {
     "name": "stderr",
     "output_type": "stream",
     "text": [
      " 32%|███▏      | 16/50 [00:31<01:09,  2.05s/it]"
     ]
    },
    {
     "name": "stdout",
     "output_type": "stream",
     "text": [
      "epoch: 15, train_loss: 1.1488, test_loss: 0.9478\n"
     ]
    },
    {
     "name": "stderr",
     "output_type": "stream",
     "text": [
      " 34%|███▍      | 17/50 [00:33<01:07,  2.03s/it]"
     ]
    },
    {
     "name": "stdout",
     "output_type": "stream",
     "text": [
      "epoch: 16, train_loss: 1.0942, test_loss: 0.8978\n"
     ]
    },
    {
     "name": "stderr",
     "output_type": "stream",
     "text": [
      " 36%|███▌      | 18/50 [00:35<01:04,  2.02s/it]"
     ]
    },
    {
     "name": "stdout",
     "output_type": "stream",
     "text": [
      "epoch: 17, train_loss: 1.0544, test_loss: 0.8677\n"
     ]
    },
    {
     "name": "stderr",
     "output_type": "stream",
     "text": [
      " 38%|███▊      | 19/50 [00:37<01:03,  2.05s/it]"
     ]
    },
    {
     "name": "stdout",
     "output_type": "stream",
     "text": [
      "epoch: 18, train_loss: 1.0124, test_loss: 0.8151\n"
     ]
    },
    {
     "name": "stderr",
     "output_type": "stream",
     "text": [
      " 40%|████      | 20/50 [00:39<01:00,  2.03s/it]"
     ]
    },
    {
     "name": "stdout",
     "output_type": "stream",
     "text": [
      "epoch: 19, train_loss: 0.9691, test_loss: 0.7567\n"
     ]
    },
    {
     "name": "stderr",
     "output_type": "stream",
     "text": [
      " 42%|████▏     | 21/50 [00:41<00:58,  2.02s/it]"
     ]
    },
    {
     "name": "stdout",
     "output_type": "stream",
     "text": [
      "epoch: 20, train_loss: 0.9119, test_loss: 0.7112\n"
     ]
    },
    {
     "name": "stderr",
     "output_type": "stream",
     "text": [
      " 44%|████▍     | 22/50 [00:43<00:56,  2.02s/it]"
     ]
    },
    {
     "name": "stdout",
     "output_type": "stream",
     "text": [
      "epoch: 21, train_loss: 0.8727, test_loss: 0.6726\n"
     ]
    },
    {
     "name": "stderr",
     "output_type": "stream",
     "text": [
      " 46%|████▌     | 23/50 [00:45<00:53,  1.97s/it]"
     ]
    },
    {
     "name": "stdout",
     "output_type": "stream",
     "text": [
      "epoch: 22, train_loss: 0.8346, test_loss: 0.6349\n"
     ]
    },
    {
     "name": "stderr",
     "output_type": "stream",
     "text": [
      " 48%|████▊     | 24/50 [00:47<00:52,  2.00s/it]"
     ]
    },
    {
     "name": "stdout",
     "output_type": "stream",
     "text": [
      "epoch: 23, train_loss: 0.8031, test_loss: 0.6023\n"
     ]
    },
    {
     "name": "stderr",
     "output_type": "stream",
     "text": [
      " 50%|█████     | 25/50 [00:49<00:49,  2.00s/it]"
     ]
    },
    {
     "name": "stdout",
     "output_type": "stream",
     "text": [
      "epoch: 24, train_loss: 0.7803, test_loss: 0.5755\n"
     ]
    },
    {
     "name": "stderr",
     "output_type": "stream",
     "text": [
      " 52%|█████▏    | 26/50 [00:52<00:51,  2.13s/it]"
     ]
    },
    {
     "name": "stdout",
     "output_type": "stream",
     "text": [
      "epoch: 25, train_loss: 0.7305, test_loss: 0.5566\n"
     ]
    },
    {
     "name": "stderr",
     "output_type": "stream",
     "text": [
      " 54%|█████▍    | 27/50 [00:53<00:46,  2.01s/it]"
     ]
    },
    {
     "name": "stdout",
     "output_type": "stream",
     "text": [
      "epoch: 26, train_loss: 0.7106, test_loss: 0.5508\n"
     ]
    },
    {
     "name": "stderr",
     "output_type": "stream",
     "text": [
      " 56%|█████▌    | 28/50 [00:55<00:42,  1.95s/it]"
     ]
    },
    {
     "name": "stdout",
     "output_type": "stream",
     "text": [
      "epoch: 27, train_loss: 0.6852, test_loss: 0.5279\n"
     ]
    },
    {
     "name": "stderr",
     "output_type": "stream",
     "text": [
      " 58%|█████▊    | 29/50 [00:57<00:39,  1.88s/it]"
     ]
    },
    {
     "name": "stdout",
     "output_type": "stream",
     "text": [
      "epoch: 28, train_loss: 0.6611, test_loss: 0.5235\n"
     ]
    },
    {
     "name": "stderr",
     "output_type": "stream",
     "text": [
      " 60%|██████    | 30/50 [00:59<00:37,  1.85s/it]"
     ]
    },
    {
     "name": "stdout",
     "output_type": "stream",
     "text": [
      "epoch: 29, train_loss: 0.6513, test_loss: 0.4801\n"
     ]
    },
    {
     "name": "stderr",
     "output_type": "stream",
     "text": [
      " 62%|██████▏   | 31/50 [01:00<00:34,  1.83s/it]"
     ]
    },
    {
     "name": "stdout",
     "output_type": "stream",
     "text": [
      "epoch: 30, train_loss: 0.6332, test_loss: 0.4621\n"
     ]
    },
    {
     "name": "stderr",
     "output_type": "stream",
     "text": [
      " 64%|██████▍   | 32/50 [01:02<00:32,  1.83s/it]"
     ]
    },
    {
     "name": "stdout",
     "output_type": "stream",
     "text": [
      "epoch: 31, train_loss: 0.6107, test_loss: 0.5826\n"
     ]
    },
    {
     "name": "stderr",
     "output_type": "stream",
     "text": [
      " 66%|██████▌   | 33/50 [01:04<00:31,  1.85s/it]"
     ]
    },
    {
     "name": "stdout",
     "output_type": "stream",
     "text": [
      "epoch: 32, train_loss: 0.6056, test_loss: 0.4395\n"
     ]
    },
    {
     "name": "stderr",
     "output_type": "stream",
     "text": [
      " 68%|██████▊   | 34/50 [01:06<00:29,  1.84s/it]"
     ]
    },
    {
     "name": "stdout",
     "output_type": "stream",
     "text": [
      "epoch: 33, train_loss: 0.5951, test_loss: 0.4352\n"
     ]
    },
    {
     "name": "stderr",
     "output_type": "stream",
     "text": [
      " 70%|███████   | 35/50 [01:08<00:28,  1.87s/it]"
     ]
    },
    {
     "name": "stdout",
     "output_type": "stream",
     "text": [
      "epoch: 34, train_loss: 0.5929, test_loss: 0.4935\n"
     ]
    },
    {
     "name": "stderr",
     "output_type": "stream",
     "text": [
      " 72%|███████▏  | 36/50 [01:10<00:26,  1.89s/it]"
     ]
    },
    {
     "name": "stdout",
     "output_type": "stream",
     "text": [
      "epoch: 35, train_loss: 0.5733, test_loss: 0.4206\n"
     ]
    },
    {
     "name": "stderr",
     "output_type": "stream",
     "text": [
      " 74%|███████▍  | 37/50 [01:12<00:24,  1.91s/it]"
     ]
    },
    {
     "name": "stdout",
     "output_type": "stream",
     "text": [
      "epoch: 36, train_loss: 0.5612, test_loss: 0.5761\n"
     ]
    },
    {
     "name": "stderr",
     "output_type": "stream",
     "text": [
      " 76%|███████▌  | 38/50 [01:14<00:22,  1.89s/it]"
     ]
    },
    {
     "name": "stdout",
     "output_type": "stream",
     "text": [
      "epoch: 37, train_loss: 0.5657, test_loss: 0.4149\n"
     ]
    },
    {
     "name": "stderr",
     "output_type": "stream",
     "text": [
      " 78%|███████▊  | 39/50 [01:16<00:20,  1.90s/it]"
     ]
    },
    {
     "name": "stdout",
     "output_type": "stream",
     "text": [
      "epoch: 38, train_loss: 0.5620, test_loss: 0.4136\n"
     ]
    },
    {
     "name": "stderr",
     "output_type": "stream",
     "text": [
      " 80%|████████  | 40/50 [01:17<00:18,  1.88s/it]"
     ]
    },
    {
     "name": "stdout",
     "output_type": "stream",
     "text": [
      "epoch: 39, train_loss: 0.5413, test_loss: 0.4114\n"
     ]
    },
    {
     "name": "stderr",
     "output_type": "stream",
     "text": [
      " 82%|████████▏ | 41/50 [01:19<00:16,  1.88s/it]"
     ]
    },
    {
     "name": "stdout",
     "output_type": "stream",
     "text": [
      "epoch: 40, train_loss: 0.5507, test_loss: 0.4093\n"
     ]
    },
    {
     "name": "stderr",
     "output_type": "stream",
     "text": [
      " 84%|████████▍ | 42/50 [01:21<00:15,  1.93s/it]"
     ]
    },
    {
     "name": "stdout",
     "output_type": "stream",
     "text": [
      "epoch: 41, train_loss: 0.5493, test_loss: 0.4210\n"
     ]
    },
    {
     "name": "stderr",
     "output_type": "stream",
     "text": [
      " 86%|████████▌ | 43/50 [01:23<00:13,  1.92s/it]"
     ]
    },
    {
     "name": "stdout",
     "output_type": "stream",
     "text": [
      "epoch: 42, train_loss: 0.5458, test_loss: 0.4142\n"
     ]
    },
    {
     "name": "stderr",
     "output_type": "stream",
     "text": [
      " 88%|████████▊ | 44/50 [01:25<00:11,  1.93s/it]"
     ]
    },
    {
     "name": "stdout",
     "output_type": "stream",
     "text": [
      "epoch: 43, train_loss: 0.5454, test_loss: 0.4089\n"
     ]
    },
    {
     "name": "stderr",
     "output_type": "stream",
     "text": [
      " 90%|█████████ | 45/50 [01:27<00:09,  1.88s/it]"
     ]
    },
    {
     "name": "stdout",
     "output_type": "stream",
     "text": [
      "epoch: 44, train_loss: 0.5406, test_loss: 0.4075\n"
     ]
    },
    {
     "name": "stderr",
     "output_type": "stream",
     "text": [
      " 92%|█████████▏| 46/50 [01:29<00:07,  1.88s/it]"
     ]
    },
    {
     "name": "stdout",
     "output_type": "stream",
     "text": [
      "epoch: 45, train_loss: 0.5388, test_loss: 0.4039\n"
     ]
    },
    {
     "name": "stderr",
     "output_type": "stream",
     "text": [
      " 94%|█████████▍| 47/50 [01:31<00:05,  1.85s/it]"
     ]
    },
    {
     "name": "stdout",
     "output_type": "stream",
     "text": [
      "epoch: 46, train_loss: 0.5377, test_loss: 0.4066\n"
     ]
    },
    {
     "name": "stderr",
     "output_type": "stream",
     "text": [
      " 96%|█████████▌| 48/50 [01:32<00:03,  1.83s/it]"
     ]
    },
    {
     "name": "stdout",
     "output_type": "stream",
     "text": [
      "epoch: 47, train_loss: 0.5328, test_loss: 0.5283\n"
     ]
    },
    {
     "name": "stderr",
     "output_type": "stream",
     "text": [
      " 98%|█████████▊| 49/50 [01:34<00:01,  1.83s/it]"
     ]
    },
    {
     "name": "stdout",
     "output_type": "stream",
     "text": [
      "epoch: 48, train_loss: 0.5287, test_loss: 0.4211\n"
     ]
    },
    {
     "name": "stderr",
     "output_type": "stream",
     "text": [
      "100%|██████████| 50/50 [01:36<00:00,  1.93s/it]"
     ]
    },
    {
     "name": "stdout",
     "output_type": "stream",
     "text": [
      "epoch: 49, train_loss: 0.5352, test_loss: 0.4341\n"
     ]
    },
    {
     "name": "stderr",
     "output_type": "stream",
     "text": [
      "\n"
     ]
    },
    {
     "data": {
      "image/png": "[encoded data removed]",
      "text/plain": [
       "<Figure size 1000x700 with 1 Axes>"
      ]
     },
     "metadata": {},
     "output_type": "display_data"
    }
   ],
   "source": [
    "model4_results = train(model=model4, \n",
    "                       train_dataloader=train_dataloader, \n",
    "                       test_dataloader=test_dataloader, \n",
    "                       loss_fn=loss_fun, \n",
    "                       optimizer=optimizer, \n",
    "                       epochs=EPOCHS, \n",
    "                       device=device)\n",
    "\n",
    "plot_results_since(model4_results, 5)"
   ]
  },
  {
   "cell_type": "markdown",
   "metadata": {},
   "source": [
    "### trying different loss functions"
   ]
  },
  {
   "cell_type": "code",
   "execution_count": 48,
   "metadata": {},
   "outputs": [],
   "source": [
    "class yachtModel5(nn.Module):\n",
    "    def __init__(self, \n",
    "                 input_shape: int, \n",
    "                 hidden_units1: int, \n",
    "                 hidden_units2: int, \n",
    "                 output_shape: int): \n",
    "        super().__init__()\n",
    "        self.layer_stack = nn.Sequential(\n",
    "            nn.Linear(in_features=input_shape, out_features= hidden_units2),\n",
    "            nn.Linear(in_features=hidden_units2, out_features=hidden_units2),\n",
    "            nn.Linear(in_features=hidden_units2, out_features=hidden_units1),\n",
    "            nn.Linear(in_features=hidden_units1, out_features=output_shape)\n",
    "        )\n",
    "        \n",
    "    def forward(self, x):\n",
    "        return self.layer_stack(x) \n",
    "    \n",
    "IN_FEATURES = len(indf.columns)\n",
    "HIDDEN_UNITS1 = 128\n",
    "HIDDEN_UNITS2 = 64\n",
    "OUT_FEATURES = 1\n",
    "\n",
    "torch.manual_seed(42) \n",
    "model5 = yachtModel5(input_shape=IN_FEATURES, \n",
    "                     hidden_units1=HIDDEN_UNITS1,\n",
    "                     hidden_units2=HIDDEN_UNITS2,\n",
    "                     output_shape=OUT_FEATURES).to(device)\n",
    "\n",
    "loss_fun = nn.L1Loss()\n",
    "optimizer = torch.optim.Adam(params=model5.parameters(),\n",
    "                             lr=0.00015)"
   ]
  },
  {
   "cell_type": "code",
   "execution_count": 49,
   "metadata": {},
   "outputs": [
    {
     "name": "stderr",
     "output_type": "stream",
     "text": [
      "  2%|▏         | 1/50 [00:01<01:30,  1.85s/it]"
     ]
    },
    {
     "name": "stdout",
     "output_type": "stream",
     "text": [
      "epoch: 0, train_loss: 24.2000, test_loss: 2.9303\n"
     ]
    },
    {
     "name": "stderr",
     "output_type": "stream",
     "text": [
      "  4%|▍         | 2/50 [00:03<01:29,  1.87s/it]"
     ]
    },
    {
     "name": "stdout",
     "output_type": "stream",
     "text": [
      "epoch: 1, train_loss: 2.2762, test_loss: 2.4289\n"
     ]
    },
    {
     "name": "stderr",
     "output_type": "stream",
     "text": [
      "  6%|▌         | 3/50 [00:05<01:30,  1.93s/it]"
     ]
    },
    {
     "name": "stdout",
     "output_type": "stream",
     "text": [
      "epoch: 2, train_loss: 1.8981, test_loss: 2.0838\n"
     ]
    },
    {
     "name": "stderr",
     "output_type": "stream",
     "text": [
      "  8%|▊         | 4/50 [00:07<01:29,  1.95s/it]"
     ]
    },
    {
     "name": "stdout",
     "output_type": "stream",
     "text": [
      "epoch: 3, train_loss: 1.5972, test_loss: 1.6949\n"
     ]
    },
    {
     "name": "stderr",
     "output_type": "stream",
     "text": [
      " 10%|█         | 5/50 [00:09<01:26,  1.93s/it]"
     ]
    },
    {
     "name": "stdout",
     "output_type": "stream",
     "text": [
      "epoch: 4, train_loss: 1.3322, test_loss: 1.3333\n"
     ]
    },
    {
     "name": "stderr",
     "output_type": "stream",
     "text": [
      " 12%|█▏        | 6/50 [00:11<01:23,  1.89s/it]"
     ]
    },
    {
     "name": "stdout",
     "output_type": "stream",
     "text": [
      "epoch: 5, train_loss: 1.0698, test_loss: 0.9969\n"
     ]
    },
    {
     "name": "stderr",
     "output_type": "stream",
     "text": [
      " 14%|█▍        | 7/50 [00:13<01:21,  1.89s/it]"
     ]
    },
    {
     "name": "stdout",
     "output_type": "stream",
     "text": [
      "epoch: 6, train_loss: 0.8338, test_loss: 0.7410\n"
     ]
    },
    {
     "name": "stderr",
     "output_type": "stream",
     "text": [
      " 16%|█▌        | 8/50 [00:15<01:18,  1.87s/it]"
     ]
    },
    {
     "name": "stdout",
     "output_type": "stream",
     "text": [
      "epoch: 7, train_loss: 0.7072, test_loss: 0.6967\n"
     ]
    },
    {
     "name": "stderr",
     "output_type": "stream",
     "text": [
      " 18%|█▊        | 9/50 [00:17<01:19,  1.94s/it]"
     ]
    },
    {
     "name": "stdout",
     "output_type": "stream",
     "text": [
      "epoch: 8, train_loss: 0.6667, test_loss: 0.6853\n"
     ]
    },
    {
     "name": "stderr",
     "output_type": "stream",
     "text": [
      " 20%|██        | 10/50 [00:19<01:16,  1.90s/it]"
     ]
    },
    {
     "name": "stdout",
     "output_type": "stream",
     "text": [
      "epoch: 9, train_loss: 0.6456, test_loss: 0.6061\n"
     ]
    },
    {
     "name": "stderr",
     "output_type": "stream",
     "text": [
      " 22%|██▏       | 11/50 [00:21<01:16,  1.95s/it]"
     ]
    },
    {
     "name": "stdout",
     "output_type": "stream",
     "text": [
      "epoch: 10, train_loss: 0.6286, test_loss: 0.5771\n"
     ]
    },
    {
     "name": "stderr",
     "output_type": "stream",
     "text": [
      " 24%|██▍       | 12/50 [00:23<01:14,  1.95s/it]"
     ]
    },
    {
     "name": "stdout",
     "output_type": "stream",
     "text": [
      "epoch: 11, train_loss: 0.6198, test_loss: 0.5662\n"
     ]
    },
    {
     "name": "stderr",
     "output_type": "stream",
     "text": [
      " 26%|██▌       | 13/50 [00:25<01:12,  1.96s/it]"
     ]
    },
    {
     "name": "stdout",
     "output_type": "stream",
     "text": [
      "epoch: 12, train_loss: 0.6069, test_loss: 0.6434\n"
     ]
    },
    {
     "name": "stderr",
     "output_type": "stream",
     "text": [
      " 28%|██▊       | 14/50 [00:26<01:10,  1.95s/it]"
     ]
    },
    {
     "name": "stdout",
     "output_type": "stream",
     "text": [
      "epoch: 13, train_loss: 0.5955, test_loss: 0.6189\n"
     ]
    },
    {
     "name": "stderr",
     "output_type": "stream",
     "text": [
      " 30%|███       | 15/50 [00:28<01:08,  1.96s/it]"
     ]
    },
    {
     "name": "stdout",
     "output_type": "stream",
     "text": [
      "epoch: 14, train_loss: 0.5877, test_loss: 0.5325\n"
     ]
    },
    {
     "name": "stderr",
     "output_type": "stream",
     "text": [
      " 32%|███▏      | 16/50 [00:31<01:13,  2.16s/it]"
     ]
    },
    {
     "name": "stdout",
     "output_type": "stream",
     "text": [
      "epoch: 15, train_loss: 0.5857, test_loss: 0.5736\n"
     ]
    },
    {
     "name": "stderr",
     "output_type": "stream",
     "text": [
      " 34%|███▍      | 17/50 [00:33<01:09,  2.10s/it]"
     ]
    },
    {
     "name": "stdout",
     "output_type": "stream",
     "text": [
      "epoch: 16, train_loss: 0.5776, test_loss: 0.5261\n"
     ]
    },
    {
     "name": "stderr",
     "output_type": "stream",
     "text": [
      " 36%|███▌      | 18/50 [00:35<01:05,  2.04s/it]"
     ]
    },
    {
     "name": "stdout",
     "output_type": "stream",
     "text": [
      "epoch: 17, train_loss: 0.5683, test_loss: 0.5228\n"
     ]
    },
    {
     "name": "stderr",
     "output_type": "stream",
     "text": [
      " 38%|███▊      | 19/50 [00:37<01:02,  2.01s/it]"
     ]
    },
    {
     "name": "stdout",
     "output_type": "stream",
     "text": [
      "epoch: 18, train_loss: 0.5622, test_loss: 0.5852\n"
     ]
    },
    {
     "name": "stderr",
     "output_type": "stream",
     "text": [
      " 40%|████      | 20/50 [00:39<00:57,  1.93s/it]"
     ]
    },
    {
     "name": "stdout",
     "output_type": "stream",
     "text": [
      "epoch: 19, train_loss: 0.5587, test_loss: 0.5443\n"
     ]
    },
    {
     "name": "stderr",
     "output_type": "stream",
     "text": [
      " 42%|████▏     | 21/50 [00:40<00:54,  1.88s/it]"
     ]
    },
    {
     "name": "stdout",
     "output_type": "stream",
     "text": [
      "epoch: 20, train_loss: 0.5573, test_loss: 0.6354\n"
     ]
    },
    {
     "name": "stderr",
     "output_type": "stream",
     "text": [
      " 44%|████▍     | 22/50 [00:42<00:53,  1.90s/it]"
     ]
    },
    {
     "name": "stdout",
     "output_type": "stream",
     "text": [
      "epoch: 21, train_loss: 0.5568, test_loss: 0.5062\n"
     ]
    },
    {
     "name": "stderr",
     "output_type": "stream",
     "text": [
      " 46%|████▌     | 23/50 [00:44<00:50,  1.88s/it]"
     ]
    },
    {
     "name": "stdout",
     "output_type": "stream",
     "text": [
      "epoch: 22, train_loss: 0.5446, test_loss: 0.5028\n"
     ]
    },
    {
     "name": "stderr",
     "output_type": "stream",
     "text": [
      " 48%|████▊     | 24/50 [00:46<00:49,  1.91s/it]"
     ]
    },
    {
     "name": "stdout",
     "output_type": "stream",
     "text": [
      "epoch: 23, train_loss: 0.5434, test_loss: 0.4964\n"
     ]
    },
    {
     "name": "stderr",
     "output_type": "stream",
     "text": [
      " 50%|█████     | 25/50 [00:48<00:47,  1.92s/it]"
     ]
    },
    {
     "name": "stdout",
     "output_type": "stream",
     "text": [
      "epoch: 24, train_loss: 0.5370, test_loss: 0.4935\n"
     ]
    },
    {
     "name": "stderr",
     "output_type": "stream",
     "text": [
      " 52%|█████▏    | 26/50 [00:50<00:46,  1.93s/it]"
     ]
    },
    {
     "name": "stdout",
     "output_type": "stream",
     "text": [
      "epoch: 25, train_loss: 0.5376, test_loss: 0.5026\n"
     ]
    },
    {
     "name": "stderr",
     "output_type": "stream",
     "text": [
      " 54%|█████▍    | 27/50 [00:52<00:44,  1.92s/it]"
     ]
    },
    {
     "name": "stdout",
     "output_type": "stream",
     "text": [
      "epoch: 26, train_loss: 0.5348, test_loss: 0.4911\n"
     ]
    },
    {
     "name": "stderr",
     "output_type": "stream",
     "text": [
      " 56%|█████▌    | 28/50 [00:54<00:43,  1.97s/it]"
     ]
    },
    {
     "name": "stdout",
     "output_type": "stream",
     "text": [
      "epoch: 27, train_loss: 0.5379, test_loss: 0.4936\n"
     ]
    },
    {
     "name": "stderr",
     "output_type": "stream",
     "text": [
      " 58%|█████▊    | 29/50 [00:56<00:41,  1.99s/it]"
     ]
    },
    {
     "name": "stdout",
     "output_type": "stream",
     "text": [
      "epoch: 28, train_loss: 0.5387, test_loss: 0.5047\n"
     ]
    },
    {
     "name": "stderr",
     "output_type": "stream",
     "text": [
      " 60%|██████    | 30/50 [00:58<00:40,  2.00s/it]"
     ]
    },
    {
     "name": "stdout",
     "output_type": "stream",
     "text": [
      "epoch: 29, train_loss: 0.5354, test_loss: 0.4877\n"
     ]
    },
    {
     "name": "stderr",
     "output_type": "stream",
     "text": [
      " 62%|██████▏   | 31/50 [01:00<00:38,  2.02s/it]"
     ]
    },
    {
     "name": "stdout",
     "output_type": "stream",
     "text": [
      "epoch: 30, train_loss: 0.5296, test_loss: 0.4871\n"
     ]
    },
    {
     "name": "stderr",
     "output_type": "stream",
     "text": [
      " 64%|██████▍   | 32/50 [01:02<00:36,  2.03s/it]"
     ]
    },
    {
     "name": "stdout",
     "output_type": "stream",
     "text": [
      "epoch: 31, train_loss: 0.5237, test_loss: 0.5816\n"
     ]
    },
    {
     "name": "stderr",
     "output_type": "stream",
     "text": [
      " 66%|██████▌   | 33/50 [01:05<00:37,  2.19s/it]"
     ]
    },
    {
     "name": "stdout",
     "output_type": "stream",
     "text": [
      "epoch: 32, train_loss: 0.5297, test_loss: 0.4809\n"
     ]
    },
    {
     "name": "stderr",
     "output_type": "stream",
     "text": [
      " 68%|██████▊   | 34/50 [01:07<00:33,  2.12s/it]"
     ]
    },
    {
     "name": "stdout",
     "output_type": "stream",
     "text": [
      "epoch: 33, train_loss: 0.5315, test_loss: 0.5098\n"
     ]
    },
    {
     "name": "stderr",
     "output_type": "stream",
     "text": [
      " 70%|███████   | 35/50 [01:08<00:30,  2.02s/it]"
     ]
    },
    {
     "name": "stdout",
     "output_type": "stream",
     "text": [
      "epoch: 34, train_loss: 0.5348, test_loss: 0.4787\n"
     ]
    },
    {
     "name": "stderr",
     "output_type": "stream",
     "text": [
      " 72%|███████▏  | 36/50 [01:10<00:27,  1.94s/it]"
     ]
    },
    {
     "name": "stdout",
     "output_type": "stream",
     "text": [
      "epoch: 35, train_loss: 0.5218, test_loss: 0.4851\n"
     ]
    },
    {
     "name": "stderr",
     "output_type": "stream",
     "text": [
      " 74%|███████▍  | 37/50 [01:12<00:24,  1.92s/it]"
     ]
    },
    {
     "name": "stdout",
     "output_type": "stream",
     "text": [
      "epoch: 36, train_loss: 0.5267, test_loss: 0.4783\n"
     ]
    },
    {
     "name": "stderr",
     "output_type": "stream",
     "text": [
      " 76%|███████▌  | 38/50 [01:14<00:23,  1.95s/it]"
     ]
    },
    {
     "name": "stdout",
     "output_type": "stream",
     "text": [
      "epoch: 37, train_loss: 0.5167, test_loss: 0.4789\n"
     ]
    },
    {
     "name": "stderr",
     "output_type": "stream",
     "text": [
      " 78%|███████▊  | 39/50 [01:16<00:21,  1.96s/it]"
     ]
    },
    {
     "name": "stdout",
     "output_type": "stream",
     "text": [
      "epoch: 38, train_loss: 0.5239, test_loss: 0.4918\n"
     ]
    },
    {
     "name": "stderr",
     "output_type": "stream",
     "text": [
      " 80%|████████  | 40/50 [01:19<00:21,  2.20s/it]"
     ]
    },
    {
     "name": "stdout",
     "output_type": "stream",
     "text": [
      "epoch: 39, train_loss: 0.5119, test_loss: 0.4753\n"
     ]
    },
    {
     "name": "stderr",
     "output_type": "stream",
     "text": [
      " 82%|████████▏ | 41/50 [01:21<00:18,  2.07s/it]"
     ]
    },
    {
     "name": "stdout",
     "output_type": "stream",
     "text": [
      "epoch: 40, train_loss: 0.5148, test_loss: 0.4751\n"
     ]
    },
    {
     "name": "stderr",
     "output_type": "stream",
     "text": [
      " 84%|████████▍ | 42/50 [01:22<00:15,  1.96s/it]"
     ]
    },
    {
     "name": "stdout",
     "output_type": "stream",
     "text": [
      "epoch: 41, train_loss: 0.5150, test_loss: 0.4822\n"
     ]
    },
    {
     "name": "stderr",
     "output_type": "stream",
     "text": [
      " 86%|████████▌ | 43/50 [01:24<00:13,  1.96s/it]"
     ]
    },
    {
     "name": "stdout",
     "output_type": "stream",
     "text": [
      "epoch: 42, train_loss: 0.5115, test_loss: 0.4991\n"
     ]
    },
    {
     "name": "stderr",
     "output_type": "stream",
     "text": [
      " 88%|████████▊ | 44/50 [01:26<00:11,  1.91s/it]"
     ]
    },
    {
     "name": "stdout",
     "output_type": "stream",
     "text": [
      "epoch: 43, train_loss: 0.5140, test_loss: 0.4792\n"
     ]
    },
    {
     "name": "stderr",
     "output_type": "stream",
     "text": [
      " 90%|█████████ | 45/50 [01:29<00:10,  2.13s/it]"
     ]
    },
    {
     "name": "stdout",
     "output_type": "stream",
     "text": [
      "epoch: 44, train_loss: 0.5105, test_loss: 0.4826\n"
     ]
    },
    {
     "name": "stderr",
     "output_type": "stream",
     "text": [
      " 92%|█████████▏| 46/50 [01:31<00:08,  2.06s/it]"
     ]
    },
    {
     "name": "stdout",
     "output_type": "stream",
     "text": [
      "epoch: 45, train_loss: 0.5115, test_loss: 0.4983\n"
     ]
    },
    {
     "name": "stderr",
     "output_type": "stream",
     "text": [
      " 94%|█████████▍| 47/50 [01:33<00:06,  2.06s/it]"
     ]
    },
    {
     "name": "stdout",
     "output_type": "stream",
     "text": [
      "epoch: 46, train_loss: 0.5123, test_loss: 0.4784\n"
     ]
    },
    {
     "name": "stderr",
     "output_type": "stream",
     "text": [
      " 96%|█████████▌| 48/50 [01:34<00:03,  1.96s/it]"
     ]
    },
    {
     "name": "stdout",
     "output_type": "stream",
     "text": [
      "epoch: 47, train_loss: 0.5079, test_loss: 0.4766\n"
     ]
    },
    {
     "name": "stderr",
     "output_type": "stream",
     "text": [
      " 98%|█████████▊| 49/50 [01:36<00:01,  1.95s/it]"
     ]
    },
    {
     "name": "stdout",
     "output_type": "stream",
     "text": [
      "epoch: 48, train_loss: 0.5082, test_loss: 0.5157\n"
     ]
    },
    {
     "name": "stderr",
     "output_type": "stream",
     "text": [
      "100%|██████████| 50/50 [01:38<00:00,  1.98s/it]"
     ]
    },
    {
     "name": "stdout",
     "output_type": "stream",
     "text": [
      "epoch: 49, train_loss: 0.5076, test_loss: 0.5033\n"
     ]
    },
    {
     "name": "stderr",
     "output_type": "stream",
     "text": [
      "\n"
     ]
    },
    {
     "data": {
      "image/png": "[encoded data removed]",
      "text/plain": [
       "<Figure size 1000x700 with 1 Axes>"
      ]
     },
     "metadata": {},
     "output_type": "display_data"
    }
   ],
   "source": [
    "model5_results = train(model=model5, \n",
    "                       train_dataloader=train_dataloader, \n",
    "                       test_dataloader=test_dataloader, \n",
    "                       loss_fn=loss_fun, \n",
    "                       optimizer=optimizer, \n",
    "                       epochs=EPOCHS, \n",
    "                       device=device)\n",
    "\n",
    "plot_results_since(model5_results, 5)"
   ]
  },
  {
   "cell_type": "code",
   "execution_count": 50,
   "metadata": {},
   "outputs": [],
   "source": [
    "def train_step(model: torch.nn.Module, \n",
    "               dataloader: torch.utils.data.DataLoader, \n",
    "               loss_fn: torch.nn.Module, \n",
    "               optimizer: torch.optim.Optimizer,\n",
    "               device=device):\n",
    "    # Put model in train mode\n",
    "    model.train()\n",
    "    \n",
    "    # Setup train loss and train accuracy values\n",
    "    train_loss = 0 \n",
    "    \n",
    "    # Loop through data loader data batches\n",
    "    for batch, (X, y) in enumerate(dataloader):\n",
    "        # Send data to target device\n",
    "        X, y = X.to(device), y.to(device)\n",
    "\n",
    "        # 1. Forward pass\n",
    "        y_pred = model(X).view(-1)\n",
    "\n",
    "        # 2. Calculate  and accumulate loss\n",
    "        loss = loss_fn(y_pred, y)\n",
    "        train_loss += loss.item() \n",
    "\n",
    "        # 3. Optimizer zero grad\n",
    "        optimizer.zero_grad()\n",
    "\n",
    "        # 4. Loss backward\n",
    "        loss.backward()\n",
    "\n",
    "        # 5. Optimizer step\n",
    "        optimizer.step()\n",
    "\n",
    "    # Adjust metrics to get average loss and accuracy per batch \n",
    "    train_loss = train_loss / len(dataloader)\n",
    "    return train_loss"
   ]
  },
  {
   "cell_type": "code",
   "execution_count": 51,
   "metadata": {},
   "outputs": [],
   "source": [
    "class yachtModel6(nn.Module):\n",
    "    def __init__(self, \n",
    "                 input_shape: int, \n",
    "                 hidden_units1: int, \n",
    "                 hidden_units2: int, \n",
    "                 output_shape: int): \n",
    "        super().__init__()\n",
    "        self.layer_stack = nn.Sequential(\n",
    "            nn.Linear(in_features=input_shape, out_features= hidden_units2),\n",
    "            nn.Linear(in_features=hidden_units2, out_features=hidden_units2),\n",
    "            nn.Linear(in_features=hidden_units2, out_features=hidden_units1),\n",
    "            nn.Linear(in_features=hidden_units1, out_features=output_shape)\n",
    "        )\n",
    "        \n",
    "    def forward(self, x):\n",
    "        return self.layer_stack(x) \n",
    "    \n",
    "IN_FEATURES = len(indf.columns)\n",
    "HIDDEN_UNITS1 = 128\n",
    "HIDDEN_UNITS2 = 64\n",
    "OUT_FEATURES = 1\n",
    "\n",
    "torch.manual_seed(42) \n",
    "model6 = yachtModel6(input_shape=IN_FEATURES, \n",
    "                     hidden_units1=HIDDEN_UNITS1,\n",
    "                     hidden_units2=HIDDEN_UNITS2,\n",
    "                     output_shape=OUT_FEATURES).to(device)\n",
    "\n",
    "loss_fun = nn.HuberLoss()\n",
    "optimizer = torch.optim.Adam(params=model6.parameters(),\n",
    "                             lr=0.00015)"
   ]
  },
  {
   "cell_type": "code",
   "execution_count": 52,
   "metadata": {},
   "outputs": [
    {
     "name": "stderr",
     "output_type": "stream",
     "text": [
      "  2%|▏         | 1/50 [00:02<01:38,  2.00s/it]"
     ]
    },
    {
     "name": "stdout",
     "output_type": "stream",
     "text": [
      "epoch: 0, train_loss: 23.7201, test_loss: 2.4765\n"
     ]
    },
    {
     "name": "stderr",
     "output_type": "stream",
     "text": [
      "  4%|▍         | 2/50 [00:04<01:36,  2.01s/it]"
     ]
    },
    {
     "name": "stdout",
     "output_type": "stream",
     "text": [
      "epoch: 1, train_loss: 1.8469, test_loss: 1.9788\n"
     ]
    },
    {
     "name": "stderr",
     "output_type": "stream",
     "text": [
      "  6%|▌         | 3/50 [00:06<01:35,  2.03s/it]"
     ]
    },
    {
     "name": "stdout",
     "output_type": "stream",
     "text": [
      "epoch: 2, train_loss: 1.4714, test_loss: 1.6444\n"
     ]
    },
    {
     "name": "stderr",
     "output_type": "stream",
     "text": [
      "  8%|▊         | 4/50 [00:07<01:30,  1.98s/it]"
     ]
    },
    {
     "name": "stdout",
     "output_type": "stream",
     "text": [
      "epoch: 3, train_loss: 1.1640, test_loss: 1.2238\n"
     ]
    },
    {
     "name": "stderr",
     "output_type": "stream",
     "text": [
      " 10%|█         | 5/50 [00:09<01:28,  1.98s/it]"
     ]
    },
    {
     "name": "stdout",
     "output_type": "stream",
     "text": [
      "epoch: 4, train_loss: 0.8804, test_loss: 0.8364\n"
     ]
    },
    {
     "name": "stderr",
     "output_type": "stream",
     "text": [
      " 12%|█▏        | 6/50 [00:11<01:24,  1.91s/it]"
     ]
    },
    {
     "name": "stdout",
     "output_type": "stream",
     "text": [
      "epoch: 5, train_loss: 0.6129, test_loss: 0.5072\n"
     ]
    },
    {
     "name": "stderr",
     "output_type": "stream",
     "text": [
      " 14%|█▍        | 7/50 [00:13<01:21,  1.89s/it]"
     ]
    },
    {
     "name": "stdout",
     "output_type": "stream",
     "text": [
      "epoch: 6, train_loss: 0.4152, test_loss: 0.3402\n"
     ]
    },
    {
     "name": "stderr",
     "output_type": "stream",
     "text": [
      " 16%|█▌        | 8/50 [00:15<01:19,  1.89s/it]"
     ]
    },
    {
     "name": "stdout",
     "output_type": "stream",
     "text": [
      "epoch: 7, train_loss: 0.3444, test_loss: 0.3474\n"
     ]
    },
    {
     "name": "stderr",
     "output_type": "stream",
     "text": [
      " 18%|█▊        | 9/50 [00:17<01:17,  1.88s/it]"
     ]
    },
    {
     "name": "stdout",
     "output_type": "stream",
     "text": [
      "epoch: 8, train_loss: 0.3263, test_loss: 0.3004\n"
     ]
    },
    {
     "name": "stderr",
     "output_type": "stream",
     "text": [
      " 20%|██        | 10/50 [00:19<01:16,  1.91s/it]"
     ]
    },
    {
     "name": "stdout",
     "output_type": "stream",
     "text": [
      "epoch: 9, train_loss: 0.3119, test_loss: 0.2792\n"
     ]
    },
    {
     "name": "stderr",
     "output_type": "stream",
     "text": [
      " 22%|██▏       | 11/50 [00:21<01:14,  1.92s/it]"
     ]
    },
    {
     "name": "stdout",
     "output_type": "stream",
     "text": [
      "epoch: 10, train_loss: 0.2995, test_loss: 0.2593\n"
     ]
    },
    {
     "name": "stderr",
     "output_type": "stream",
     "text": [
      " 24%|██▍       | 12/50 [00:23<01:13,  1.93s/it]"
     ]
    },
    {
     "name": "stdout",
     "output_type": "stream",
     "text": [
      "epoch: 11, train_loss: 0.2885, test_loss: 0.2493\n"
     ]
    },
    {
     "name": "stderr",
     "output_type": "stream",
     "text": [
      " 26%|██▌       | 13/50 [00:25<01:14,  2.02s/it]"
     ]
    },
    {
     "name": "stdout",
     "output_type": "stream",
     "text": [
      "epoch: 12, train_loss: 0.2813, test_loss: 0.2779\n"
     ]
    },
    {
     "name": "stderr",
     "output_type": "stream",
     "text": [
      " 28%|██▊       | 14/50 [00:27<01:12,  2.01s/it]"
     ]
    },
    {
     "name": "stdout",
     "output_type": "stream",
     "text": [
      "epoch: 13, train_loss: 0.2705, test_loss: 0.2459\n"
     ]
    },
    {
     "name": "stderr",
     "output_type": "stream",
     "text": [
      " 30%|███       | 15/50 [00:29<01:10,  2.01s/it]"
     ]
    },
    {
     "name": "stdout",
     "output_type": "stream",
     "text": [
      "epoch: 14, train_loss: 0.2652, test_loss: 0.2383\n"
     ]
    },
    {
     "name": "stderr",
     "output_type": "stream",
     "text": [
      " 32%|███▏      | 16/50 [00:31<01:09,  2.03s/it]"
     ]
    },
    {
     "name": "stdout",
     "output_type": "stream",
     "text": [
      "epoch: 15, train_loss: 0.2613, test_loss: 0.2355\n"
     ]
    },
    {
     "name": "stderr",
     "output_type": "stream",
     "text": [
      " 34%|███▍      | 17/50 [00:33<01:07,  2.04s/it]"
     ]
    },
    {
     "name": "stdout",
     "output_type": "stream",
     "text": [
      "epoch: 16, train_loss: 0.2595, test_loss: 0.2242\n"
     ]
    },
    {
     "name": "stderr",
     "output_type": "stream",
     "text": [
      " 36%|███▌      | 18/50 [00:35<01:04,  2.00s/it]"
     ]
    },
    {
     "name": "stdout",
     "output_type": "stream",
     "text": [
      "epoch: 17, train_loss: 0.2516, test_loss: 0.2282\n"
     ]
    },
    {
     "name": "stderr",
     "output_type": "stream",
     "text": [
      " 38%|███▊      | 19/50 [00:37<01:01,  1.99s/it]"
     ]
    },
    {
     "name": "stdout",
     "output_type": "stream",
     "text": [
      "epoch: 18, train_loss: 0.2463, test_loss: 0.2745\n"
     ]
    },
    {
     "name": "stderr",
     "output_type": "stream",
     "text": [
      " 40%|████      | 20/50 [00:39<00:59,  1.99s/it]"
     ]
    },
    {
     "name": "stdout",
     "output_type": "stream",
     "text": [
      "epoch: 19, train_loss: 0.2424, test_loss: 0.2126\n"
     ]
    },
    {
     "name": "stderr",
     "output_type": "stream",
     "text": [
      " 42%|████▏     | 21/50 [00:41<00:57,  1.99s/it]"
     ]
    },
    {
     "name": "stdout",
     "output_type": "stream",
     "text": [
      "epoch: 20, train_loss: 0.2386, test_loss: 0.2367\n"
     ]
    },
    {
     "name": "stderr",
     "output_type": "stream",
     "text": [
      " 44%|████▍     | 22/50 [00:43<00:56,  2.02s/it]"
     ]
    },
    {
     "name": "stdout",
     "output_type": "stream",
     "text": [
      "epoch: 21, train_loss: 0.2381, test_loss: 0.2150\n"
     ]
    },
    {
     "name": "stderr",
     "output_type": "stream",
     "text": [
      " 46%|████▌     | 23/50 [00:45<00:54,  2.02s/it]"
     ]
    },
    {
     "name": "stdout",
     "output_type": "stream",
     "text": [
      "epoch: 22, train_loss: 0.2351, test_loss: 0.2033\n"
     ]
    },
    {
     "name": "stderr",
     "output_type": "stream",
     "text": [
      " 48%|████▊     | 24/50 [00:47<00:52,  2.02s/it]"
     ]
    },
    {
     "name": "stdout",
     "output_type": "stream",
     "text": [
      "epoch: 23, train_loss: 0.2313, test_loss: 0.2000\n"
     ]
    },
    {
     "name": "stderr",
     "output_type": "stream",
     "text": [
      " 50%|█████     | 25/50 [00:49<00:50,  2.00s/it]"
     ]
    },
    {
     "name": "stdout",
     "output_type": "stream",
     "text": [
      "epoch: 24, train_loss: 0.2306, test_loss: 0.1997\n"
     ]
    },
    {
     "name": "stderr",
     "output_type": "stream",
     "text": [
      " 52%|█████▏    | 26/50 [00:51<00:47,  2.00s/it]"
     ]
    },
    {
     "name": "stdout",
     "output_type": "stream",
     "text": [
      "epoch: 25, train_loss: 0.2274, test_loss: 0.2221\n"
     ]
    },
    {
     "name": "stderr",
     "output_type": "stream",
     "text": [
      " 54%|█████▍    | 27/50 [00:53<00:46,  2.04s/it]"
     ]
    },
    {
     "name": "stdout",
     "output_type": "stream",
     "text": [
      "epoch: 26, train_loss: 0.2267, test_loss: 0.1974\n"
     ]
    },
    {
     "name": "stderr",
     "output_type": "stream",
     "text": [
      " 56%|█████▌    | 28/50 [00:55<00:44,  2.00s/it]"
     ]
    },
    {
     "name": "stdout",
     "output_type": "stream",
     "text": [
      "epoch: 27, train_loss: 0.2247, test_loss: 0.2136\n"
     ]
    },
    {
     "name": "stderr",
     "output_type": "stream",
     "text": [
      " 58%|█████▊    | 29/50 [00:57<00:42,  2.01s/it]"
     ]
    },
    {
     "name": "stdout",
     "output_type": "stream",
     "text": [
      "epoch: 28, train_loss: 0.2255, test_loss: 0.1973\n"
     ]
    },
    {
     "name": "stderr",
     "output_type": "stream",
     "text": [
      " 60%|██████    | 30/50 [00:59<00:40,  2.01s/it]"
     ]
    },
    {
     "name": "stdout",
     "output_type": "stream",
     "text": [
      "epoch: 29, train_loss: 0.2297, test_loss: 0.2151\n"
     ]
    },
    {
     "name": "stderr",
     "output_type": "stream",
     "text": [
      " 62%|██████▏   | 31/50 [01:01<00:38,  2.01s/it]"
     ]
    },
    {
     "name": "stdout",
     "output_type": "stream",
     "text": [
      "epoch: 30, train_loss: 0.2247, test_loss: 0.1939\n"
     ]
    },
    {
     "name": "stderr",
     "output_type": "stream",
     "text": [
      " 64%|██████▍   | 32/50 [01:03<00:36,  2.00s/it]"
     ]
    },
    {
     "name": "stdout",
     "output_type": "stream",
     "text": [
      "epoch: 31, train_loss: 0.2184, test_loss: 0.2504\n"
     ]
    },
    {
     "name": "stderr",
     "output_type": "stream",
     "text": [
      " 66%|██████▌   | 33/50 [01:05<00:33,  2.00s/it]"
     ]
    },
    {
     "name": "stdout",
     "output_type": "stream",
     "text": [
      "epoch: 32, train_loss: 0.2223, test_loss: 0.1921\n"
     ]
    },
    {
     "name": "stderr",
     "output_type": "stream",
     "text": [
      " 68%|██████▊   | 34/50 [01:07<00:32,  2.01s/it]"
     ]
    },
    {
     "name": "stdout",
     "output_type": "stream",
     "text": [
      "epoch: 33, train_loss: 0.2205, test_loss: 0.1911\n"
     ]
    },
    {
     "name": "stderr",
     "output_type": "stream",
     "text": [
      " 70%|███████   | 35/50 [01:09<00:30,  2.02s/it]"
     ]
    },
    {
     "name": "stdout",
     "output_type": "stream",
     "text": [
      "epoch: 34, train_loss: 0.2241, test_loss: 0.2205\n"
     ]
    },
    {
     "name": "stderr",
     "output_type": "stream",
     "text": [
      " 72%|███████▏  | 36/50 [01:11<00:28,  2.02s/it]"
     ]
    },
    {
     "name": "stdout",
     "output_type": "stream",
     "text": [
      "epoch: 35, train_loss: 0.2157, test_loss: 0.1891\n"
     ]
    },
    {
     "name": "stderr",
     "output_type": "stream",
     "text": [
      " 74%|███████▍  | 37/50 [01:13<00:26,  2.02s/it]"
     ]
    },
    {
     "name": "stdout",
     "output_type": "stream",
     "text": [
      "epoch: 36, train_loss: 0.2149, test_loss: 0.2105\n"
     ]
    },
    {
     "name": "stderr",
     "output_type": "stream",
     "text": [
      " 76%|███████▌  | 38/50 [01:15<00:24,  2.02s/it]"
     ]
    },
    {
     "name": "stdout",
     "output_type": "stream",
     "text": [
      "epoch: 37, train_loss: 0.2145, test_loss: 0.1937\n"
     ]
    },
    {
     "name": "stderr",
     "output_type": "stream",
     "text": [
      " 78%|███████▊  | 39/50 [01:17<00:22,  2.00s/it]"
     ]
    },
    {
     "name": "stdout",
     "output_type": "stream",
     "text": [
      "epoch: 38, train_loss: 0.2164, test_loss: 0.1889\n"
     ]
    },
    {
     "name": "stderr",
     "output_type": "stream",
     "text": [
      " 80%|████████  | 40/50 [01:19<00:19,  1.99s/it]"
     ]
    },
    {
     "name": "stdout",
     "output_type": "stream",
     "text": [
      "epoch: 39, train_loss: 0.2094, test_loss: 0.1880\n"
     ]
    },
    {
     "name": "stderr",
     "output_type": "stream",
     "text": [
      " 82%|████████▏ | 41/50 [01:21<00:18,  2.01s/it]"
     ]
    },
    {
     "name": "stdout",
     "output_type": "stream",
     "text": [
      "epoch: 40, train_loss: 0.2109, test_loss: 0.1877\n"
     ]
    },
    {
     "name": "stderr",
     "output_type": "stream",
     "text": [
      " 84%|████████▍ | 42/50 [01:23<00:16,  2.02s/it]"
     ]
    },
    {
     "name": "stdout",
     "output_type": "stream",
     "text": [
      "epoch: 41, train_loss: 0.2141, test_loss: 0.1930\n"
     ]
    },
    {
     "name": "stderr",
     "output_type": "stream",
     "text": [
      " 86%|████████▌ | 43/50 [01:25<00:14,  2.01s/it]"
     ]
    },
    {
     "name": "stdout",
     "output_type": "stream",
     "text": [
      "epoch: 42, train_loss: 0.2117, test_loss: 0.1986\n"
     ]
    },
    {
     "name": "stderr",
     "output_type": "stream",
     "text": [
      " 88%|████████▊ | 44/50 [01:27<00:12,  2.02s/it]"
     ]
    },
    {
     "name": "stdout",
     "output_type": "stream",
     "text": [
      "epoch: 43, train_loss: 0.2131, test_loss: 0.1881\n"
     ]
    },
    {
     "name": "stderr",
     "output_type": "stream",
     "text": [
      " 90%|█████████ | 45/50 [01:29<00:10,  2.01s/it]"
     ]
    },
    {
     "name": "stdout",
     "output_type": "stream",
     "text": [
      "epoch: 44, train_loss: 0.2104, test_loss: 0.1875\n"
     ]
    },
    {
     "name": "stderr",
     "output_type": "stream",
     "text": [
      " 92%|█████████▏| 46/50 [01:31<00:07,  1.98s/it]"
     ]
    },
    {
     "name": "stdout",
     "output_type": "stream",
     "text": [
      "epoch: 45, train_loss: 0.2094, test_loss: 0.1900\n"
     ]
    },
    {
     "name": "stderr",
     "output_type": "stream",
     "text": [
      " 94%|█████████▍| 47/50 [01:33<00:05,  1.96s/it]"
     ]
    },
    {
     "name": "stdout",
     "output_type": "stream",
     "text": [
      "epoch: 46, train_loss: 0.2082, test_loss: 0.1894\n"
     ]
    },
    {
     "name": "stderr",
     "output_type": "stream",
     "text": [
      " 96%|█████████▌| 48/50 [01:35<00:03,  1.99s/it]"
     ]
    },
    {
     "name": "stdout",
     "output_type": "stream",
     "text": [
      "epoch: 47, train_loss: 0.2074, test_loss: 0.1959\n"
     ]
    },
    {
     "name": "stderr",
     "output_type": "stream",
     "text": [
      " 98%|█████████▊| 49/50 [01:37<00:01,  1.99s/it]"
     ]
    },
    {
     "name": "stdout",
     "output_type": "stream",
     "text": [
      "epoch: 48, train_loss: 0.2073, test_loss: 0.1868\n"
     ]
    },
    {
     "name": "stderr",
     "output_type": "stream",
     "text": [
      "100%|██████████| 50/50 [01:39<00:00,  1.99s/it]"
     ]
    },
    {
     "name": "stdout",
     "output_type": "stream",
     "text": [
      "epoch: 49, train_loss: 0.2086, test_loss: 0.1911\n"
     ]
    },
    {
     "name": "stderr",
     "output_type": "stream",
     "text": [
      "\n"
     ]
    },
    {
     "data": {
      "image/png": "[encoded data removed]",
      "text/plain": [
       "<Figure size 1000x700 with 1 Axes>"
      ]
     },
     "metadata": {},
     "output_type": "display_data"
    }
   ],
   "source": [
    "model6_results = train(model=model6, \n",
    "                       train_dataloader=train_dataloader, \n",
    "                       test_dataloader=test_dataloader, \n",
    "                       loss_fn=loss_fun, \n",
    "                       optimizer=optimizer, \n",
    "                       epochs=EPOCHS, \n",
    "                       device=device)\n",
    "\n",
    "plot_results_since(model6_results, 5)"
   ]
  },
  {
   "cell_type": "code",
   "execution_count": 53,
   "metadata": {},
   "outputs": [],
   "source": [
    "class yachtModel7(nn.Module):\n",
    "    def __init__(self, \n",
    "                 input_shape: int, \n",
    "                 hidden_units1: int, \n",
    "                 hidden_units2: int, \n",
    "                 output_shape: int): \n",
    "        super().__init__()\n",
    "        self.layer_stack = nn.Sequential(\n",
    "            nn.Linear(in_features=input_shape, out_features= hidden_units2),\n",
    "            nn.Linear(in_features=hidden_units2, out_features=hidden_units2),\n",
    "            nn.Linear(in_features=hidden_units2, out_features=hidden_units1),\n",
    "            nn.Linear(in_features=hidden_units1, out_features=output_shape)\n",
    "        )\n",
    "        \n",
    "    def forward(self, x):\n",
    "        return self.layer_stack(x) \n",
    "    \n",
    "IN_FEATURES = len(indf.columns)\n",
    "HIDDEN_UNITS1 = 64\n",
    "HIDDEN_UNITS2 = 32\n",
    "OUT_FEATURES = 1\n",
    "\n",
    "torch.manual_seed(42) \n",
    "model7 = yachtModel7(input_shape=IN_FEATURES, \n",
    "                     hidden_units1=HIDDEN_UNITS1,\n",
    "                     hidden_units2=HIDDEN_UNITS2,\n",
    "                     output_shape=OUT_FEATURES).to(device)\n",
    "\n",
    "loss_fun = nn.HuberLoss()\n",
    "optimizer = torch.optim.Adam(params=model7.parameters(),\n",
    "                             lr=0.00015)"
   ]
  },
  {
   "cell_type": "code",
   "execution_count": 54,
   "metadata": {},
   "outputs": [
    {
     "name": "stderr",
     "output_type": "stream",
     "text": [
      "  2%|▏         | 1/50 [00:02<01:49,  2.22s/it]"
     ]
    },
    {
     "name": "stdout",
     "output_type": "stream",
     "text": [
      "epoch: 0, train_loss: 38.1084, test_loss: 20.4441\n"
     ]
    },
    {
     "name": "stderr",
     "output_type": "stream",
     "text": [
      "  4%|▍         | 2/50 [00:05<02:09,  2.70s/it]"
     ]
    },
    {
     "name": "stdout",
     "output_type": "stream",
     "text": [
      "epoch: 1, train_loss: 3.6511, test_loss: 2.3211\n"
     ]
    },
    {
     "name": "stderr",
     "output_type": "stream",
     "text": [
      "  6%|▌         | 3/50 [00:07<01:51,  2.38s/it]"
     ]
    },
    {
     "name": "stdout",
     "output_type": "stream",
     "text": [
      "epoch: 2, train_loss: 1.7025, test_loss: 1.9712\n"
     ]
    },
    {
     "name": "stderr",
     "output_type": "stream",
     "text": [
      "  8%|▊         | 4/50 [00:09<01:43,  2.26s/it]"
     ]
    },
    {
     "name": "stdout",
     "output_type": "stream",
     "text": [
      "epoch: 3, train_loss: 1.3988, test_loss: 1.6635\n"
     ]
    },
    {
     "name": "stderr",
     "output_type": "stream",
     "text": [
      " 10%|█         | 5/50 [00:11<01:37,  2.17s/it]"
     ]
    },
    {
     "name": "stdout",
     "output_type": "stream",
     "text": [
      "epoch: 4, train_loss: 1.1684, test_loss: 1.4432\n"
     ]
    },
    {
     "name": "stderr",
     "output_type": "stream",
     "text": [
      " 12%|█▏        | 6/50 [00:13<01:32,  2.10s/it]"
     ]
    },
    {
     "name": "stdout",
     "output_type": "stream",
     "text": [
      "epoch: 5, train_loss: 0.9777, test_loss: 1.1870\n"
     ]
    },
    {
     "name": "stderr",
     "output_type": "stream",
     "text": [
      " 14%|█▍        | 7/50 [00:15<01:30,  2.11s/it]"
     ]
    },
    {
     "name": "stdout",
     "output_type": "stream",
     "text": [
      "epoch: 6, train_loss: 0.8034, test_loss: 0.9289\n"
     ]
    },
    {
     "name": "stderr",
     "output_type": "stream",
     "text": [
      " 16%|█▌        | 8/50 [00:17<01:26,  2.05s/it]"
     ]
    },
    {
     "name": "stdout",
     "output_type": "stream",
     "text": [
      "epoch: 7, train_loss: 0.6476, test_loss: 0.6972\n"
     ]
    },
    {
     "name": "stderr",
     "output_type": "stream",
     "text": [
      " 18%|█▊        | 9/50 [00:19<01:24,  2.06s/it]"
     ]
    },
    {
     "name": "stdout",
     "output_type": "stream",
     "text": [
      "epoch: 8, train_loss: 0.5145, test_loss: 0.5287\n"
     ]
    },
    {
     "name": "stderr",
     "output_type": "stream",
     "text": [
      " 20%|██        | 10/50 [00:21<01:22,  2.06s/it]"
     ]
    },
    {
     "name": "stdout",
     "output_type": "stream",
     "text": [
      "epoch: 9, train_loss: 0.4212, test_loss: 0.4299\n"
     ]
    },
    {
     "name": "stderr",
     "output_type": "stream",
     "text": [
      " 22%|██▏       | 11/50 [00:23<01:21,  2.08s/it]"
     ]
    },
    {
     "name": "stdout",
     "output_type": "stream",
     "text": [
      "epoch: 10, train_loss: 0.3757, test_loss: 0.3543\n"
     ]
    },
    {
     "name": "stderr",
     "output_type": "stream",
     "text": [
      " 24%|██▍       | 12/50 [00:25<01:18,  2.06s/it]"
     ]
    },
    {
     "name": "stdout",
     "output_type": "stream",
     "text": [
      "epoch: 11, train_loss: 0.3523, test_loss: 0.3239\n"
     ]
    },
    {
     "name": "stderr",
     "output_type": "stream",
     "text": [
      " 26%|██▌       | 13/50 [00:27<01:16,  2.06s/it]"
     ]
    },
    {
     "name": "stdout",
     "output_type": "stream",
     "text": [
      "epoch: 12, train_loss: 0.3377, test_loss: 0.3095\n"
     ]
    },
    {
     "name": "stderr",
     "output_type": "stream",
     "text": [
      " 28%|██▊       | 14/50 [00:29<01:14,  2.07s/it]"
     ]
    },
    {
     "name": "stdout",
     "output_type": "stream",
     "text": [
      "epoch: 13, train_loss: 0.3288, test_loss: 0.3022\n"
     ]
    },
    {
     "name": "stderr",
     "output_type": "stream",
     "text": [
      " 30%|███       | 15/50 [00:31<01:11,  2.04s/it]"
     ]
    },
    {
     "name": "stdout",
     "output_type": "stream",
     "text": [
      "epoch: 14, train_loss: 0.3192, test_loss: 0.3076\n"
     ]
    },
    {
     "name": "stderr",
     "output_type": "stream",
     "text": [
      " 32%|███▏      | 16/50 [00:33<01:09,  2.04s/it]"
     ]
    },
    {
     "name": "stdout",
     "output_type": "stream",
     "text": [
      "epoch: 15, train_loss: 0.3119, test_loss: 0.3357\n"
     ]
    },
    {
     "name": "stderr",
     "output_type": "stream",
     "text": [
      " 34%|███▍      | 17/50 [00:35<01:06,  2.02s/it]"
     ]
    },
    {
     "name": "stdout",
     "output_type": "stream",
     "text": [
      "epoch: 16, train_loss: 0.3023, test_loss: 0.2820\n"
     ]
    },
    {
     "name": "stderr",
     "output_type": "stream",
     "text": [
      " 36%|███▌      | 18/50 [00:37<01:04,  2.01s/it]"
     ]
    },
    {
     "name": "stdout",
     "output_type": "stream",
     "text": [
      "epoch: 17, train_loss: 0.2969, test_loss: 0.2651\n"
     ]
    },
    {
     "name": "stderr",
     "output_type": "stream",
     "text": [
      " 38%|███▊      | 19/50 [00:39<01:01,  1.99s/it]"
     ]
    },
    {
     "name": "stdout",
     "output_type": "stream",
     "text": [
      "epoch: 18, train_loss: 0.2901, test_loss: 0.2648\n"
     ]
    },
    {
     "name": "stderr",
     "output_type": "stream",
     "text": [
      " 40%|████      | 20/50 [00:41<01:00,  2.02s/it]"
     ]
    },
    {
     "name": "stdout",
     "output_type": "stream",
     "text": [
      "epoch: 19, train_loss: 0.2863, test_loss: 0.2531\n"
     ]
    },
    {
     "name": "stderr",
     "output_type": "stream",
     "text": [
      " 42%|████▏     | 21/50 [00:43<00:58,  2.03s/it]"
     ]
    },
    {
     "name": "stdout",
     "output_type": "stream",
     "text": [
      "epoch: 20, train_loss: 0.2793, test_loss: 0.2523\n"
     ]
    },
    {
     "name": "stderr",
     "output_type": "stream",
     "text": [
      " 44%|████▍     | 22/50 [00:45<00:55,  1.98s/it]"
     ]
    },
    {
     "name": "stdout",
     "output_type": "stream",
     "text": [
      "epoch: 21, train_loss: 0.2737, test_loss: 0.2440\n"
     ]
    },
    {
     "name": "stderr",
     "output_type": "stream",
     "text": [
      " 46%|████▌     | 23/50 [00:47<00:53,  1.96s/it]"
     ]
    },
    {
     "name": "stdout",
     "output_type": "stream",
     "text": [
      "epoch: 22, train_loss: 0.2698, test_loss: 0.2412\n"
     ]
    },
    {
     "name": "stderr",
     "output_type": "stream",
     "text": [
      " 48%|████▊     | 24/50 [00:49<00:51,  1.99s/it]"
     ]
    },
    {
     "name": "stdout",
     "output_type": "stream",
     "text": [
      "epoch: 23, train_loss: 0.2721, test_loss: 0.2558\n"
     ]
    },
    {
     "name": "stderr",
     "output_type": "stream",
     "text": [
      " 50%|█████     | 25/50 [00:51<00:50,  2.00s/it]"
     ]
    },
    {
     "name": "stdout",
     "output_type": "stream",
     "text": [
      "epoch: 24, train_loss: 0.2683, test_loss: 0.2339\n"
     ]
    },
    {
     "name": "stderr",
     "output_type": "stream",
     "text": [
      " 52%|█████▏    | 26/50 [00:53<00:47,  1.97s/it]"
     ]
    },
    {
     "name": "stdout",
     "output_type": "stream",
     "text": [
      "epoch: 25, train_loss: 0.2593, test_loss: 0.2662\n"
     ]
    },
    {
     "name": "stderr",
     "output_type": "stream",
     "text": [
      " 54%|█████▍    | 27/50 [00:55<00:44,  1.94s/it]"
     ]
    },
    {
     "name": "stdout",
     "output_type": "stream",
     "text": [
      "epoch: 26, train_loss: 0.2575, test_loss: 0.2519\n"
     ]
    },
    {
     "name": "stderr",
     "output_type": "stream",
     "text": [
      " 56%|█████▌    | 28/50 [00:57<00:42,  1.93s/it]"
     ]
    },
    {
     "name": "stdout",
     "output_type": "stream",
     "text": [
      "epoch: 27, train_loss: 0.2556, test_loss: 0.2523\n"
     ]
    },
    {
     "name": "stderr",
     "output_type": "stream",
     "text": [
      " 58%|█████▊    | 29/50 [00:59<00:40,  1.94s/it]"
     ]
    },
    {
     "name": "stdout",
     "output_type": "stream",
     "text": [
      "epoch: 28, train_loss: 0.2515, test_loss: 0.2250\n"
     ]
    },
    {
     "name": "stderr",
     "output_type": "stream",
     "text": [
      " 60%|██████    | 30/50 [01:01<00:39,  1.96s/it]"
     ]
    },
    {
     "name": "stdout",
     "output_type": "stream",
     "text": [
      "epoch: 29, train_loss: 0.2514, test_loss: 0.2443\n"
     ]
    },
    {
     "name": "stderr",
     "output_type": "stream",
     "text": [
      " 62%|██████▏   | 31/50 [01:03<00:37,  1.98s/it]"
     ]
    },
    {
     "name": "stdout",
     "output_type": "stream",
     "text": [
      "epoch: 30, train_loss: 0.2485, test_loss: 0.2236\n"
     ]
    },
    {
     "name": "stderr",
     "output_type": "stream",
     "text": [
      " 64%|██████▍   | 32/50 [01:05<00:35,  1.98s/it]"
     ]
    },
    {
     "name": "stdout",
     "output_type": "stream",
     "text": [
      "epoch: 31, train_loss: 0.2492, test_loss: 0.2234\n"
     ]
    },
    {
     "name": "stderr",
     "output_type": "stream",
     "text": [
      " 66%|██████▌   | 33/50 [01:07<00:33,  1.99s/it]"
     ]
    },
    {
     "name": "stdout",
     "output_type": "stream",
     "text": [
      "epoch: 32, train_loss: 0.2441, test_loss: 0.2182\n"
     ]
    },
    {
     "name": "stderr",
     "output_type": "stream",
     "text": [
      " 68%|██████▊   | 34/50 [01:09<00:31,  1.95s/it]"
     ]
    },
    {
     "name": "stdout",
     "output_type": "stream",
     "text": [
      "epoch: 33, train_loss: 0.2441, test_loss: 0.2167\n"
     ]
    },
    {
     "name": "stderr",
     "output_type": "stream",
     "text": [
      " 70%|███████   | 35/50 [01:11<00:29,  2.00s/it]"
     ]
    },
    {
     "name": "stdout",
     "output_type": "stream",
     "text": [
      "epoch: 34, train_loss: 0.2404, test_loss: 0.2277\n"
     ]
    },
    {
     "name": "stderr",
     "output_type": "stream",
     "text": [
      " 72%|███████▏  | 36/50 [01:13<00:28,  2.02s/it]"
     ]
    },
    {
     "name": "stdout",
     "output_type": "stream",
     "text": [
      "epoch: 35, train_loss: 0.2385, test_loss: 0.2185\n"
     ]
    },
    {
     "name": "stderr",
     "output_type": "stream",
     "text": [
      " 74%|███████▍  | 37/50 [01:15<00:26,  2.01s/it]"
     ]
    },
    {
     "name": "stdout",
     "output_type": "stream",
     "text": [
      "epoch: 36, train_loss: 0.2413, test_loss: 0.2134\n"
     ]
    },
    {
     "name": "stderr",
     "output_type": "stream",
     "text": [
      " 76%|███████▌  | 38/50 [01:17<00:24,  2.01s/it]"
     ]
    },
    {
     "name": "stdout",
     "output_type": "stream",
     "text": [
      "epoch: 37, train_loss: 0.2357, test_loss: 0.2123\n"
     ]
    },
    {
     "name": "stderr",
     "output_type": "stream",
     "text": [
      " 78%|███████▊  | 39/50 [01:19<00:21,  1.99s/it]"
     ]
    },
    {
     "name": "stdout",
     "output_type": "stream",
     "text": [
      "epoch: 38, train_loss: 0.2337, test_loss: 0.2276\n"
     ]
    },
    {
     "name": "stderr",
     "output_type": "stream",
     "text": [
      " 80%|████████  | 40/50 [01:21<00:19,  1.98s/it]"
     ]
    },
    {
     "name": "stdout",
     "output_type": "stream",
     "text": [
      "epoch: 39, train_loss: 0.2350, test_loss: 0.2350\n"
     ]
    },
    {
     "name": "stderr",
     "output_type": "stream",
     "text": [
      " 82%|████████▏ | 41/50 [01:23<00:18,  2.02s/it]"
     ]
    },
    {
     "name": "stdout",
     "output_type": "stream",
     "text": [
      "epoch: 40, train_loss: 0.2343, test_loss: 0.2101\n"
     ]
    },
    {
     "name": "stderr",
     "output_type": "stream",
     "text": [
      " 84%|████████▍ | 42/50 [01:25<00:15,  1.99s/it]"
     ]
    },
    {
     "name": "stdout",
     "output_type": "stream",
     "text": [
      "epoch: 41, train_loss: 0.2311, test_loss: 0.2122\n"
     ]
    },
    {
     "name": "stderr",
     "output_type": "stream",
     "text": [
      " 86%|████████▌ | 43/50 [01:27<00:14,  2.01s/it]"
     ]
    },
    {
     "name": "stdout",
     "output_type": "stream",
     "text": [
      "epoch: 42, train_loss: 0.2309, test_loss: 0.2111\n"
     ]
    },
    {
     "name": "stderr",
     "output_type": "stream",
     "text": [
      " 88%|████████▊ | 44/50 [01:29<00:12,  2.02s/it]"
     ]
    },
    {
     "name": "stdout",
     "output_type": "stream",
     "text": [
      "epoch: 43, train_loss: 0.2288, test_loss: 0.2097\n"
     ]
    },
    {
     "name": "stderr",
     "output_type": "stream",
     "text": [
      " 90%|█████████ | 45/50 [01:31<00:10,  2.01s/it]"
     ]
    },
    {
     "name": "stdout",
     "output_type": "stream",
     "text": [
      "epoch: 44, train_loss: 0.2307, test_loss: 0.2058\n"
     ]
    },
    {
     "name": "stderr",
     "output_type": "stream",
     "text": [
      " 92%|█████████▏| 46/50 [01:33<00:07,  1.97s/it]"
     ]
    },
    {
     "name": "stdout",
     "output_type": "stream",
     "text": [
      "epoch: 45, train_loss: 0.2273, test_loss: 0.2079\n"
     ]
    },
    {
     "name": "stderr",
     "output_type": "stream",
     "text": [
      " 94%|█████████▍| 47/50 [01:35<00:06,  2.04s/it]"
     ]
    },
    {
     "name": "stdout",
     "output_type": "stream",
     "text": [
      "epoch: 46, train_loss: 0.2245, test_loss: 0.2099\n"
     ]
    },
    {
     "name": "stderr",
     "output_type": "stream",
     "text": [
      " 96%|█████████▌| 48/50 [01:37<00:04,  2.02s/it]"
     ]
    },
    {
     "name": "stdout",
     "output_type": "stream",
     "text": [
      "epoch: 47, train_loss: 0.2254, test_loss: 0.2033\n"
     ]
    },
    {
     "name": "stderr",
     "output_type": "stream",
     "text": [
      " 98%|█████████▊| 49/50 [01:39<00:02,  2.01s/it]"
     ]
    },
    {
     "name": "stdout",
     "output_type": "stream",
     "text": [
      "epoch: 48, train_loss: 0.2242, test_loss: 0.2138\n"
     ]
    },
    {
     "name": "stderr",
     "output_type": "stream",
     "text": [
      "100%|██████████| 50/50 [01:41<00:00,  2.03s/it]"
     ]
    },
    {
     "name": "stdout",
     "output_type": "stream",
     "text": [
      "epoch: 49, train_loss: 0.2229, test_loss: 0.2028\n"
     ]
    },
    {
     "name": "stderr",
     "output_type": "stream",
     "text": [
      "\n"
     ]
    },
    {
     "data": {
      "image/png": "[encoded data removed]",
      "text/plain": [
       "<Figure size 1000x700 with 1 Axes>"
      ]
     },
     "metadata": {},
     "output_type": "display_data"
    }
   ],
   "source": [
    "model7_results = train(model=model7, \n",
    "                       train_dataloader=train_dataloader, \n",
    "                       test_dataloader=test_dataloader, \n",
    "                       loss_fn=loss_fun, \n",
    "                       optimizer=optimizer, \n",
    "                       epochs=EPOCHS, \n",
    "                       device=device)\n",
    "\n",
    "plot_results_since(model7_results, 5)"
   ]
  },
  {
   "cell_type": "markdown",
   "metadata": {},
   "source": [
    "### results\n",
    "model6 is the best"
   ]
  },
  {
   "cell_type": "code",
   "execution_count": 55,
   "metadata": {},
   "outputs": [
    {
     "name": "stderr",
     "output_type": "stream",
     "text": [
      "  2%|▏         | 1/50 [00:01<01:37,  1.99s/it]"
     ]
    },
    {
     "name": "stdout",
     "output_type": "stream",
     "text": [
      "epoch: 0, train_loss: 32.7833, test_loss: 3.1282\n"
     ]
    },
    {
     "name": "stderr",
     "output_type": "stream",
     "text": [
      "  2%|▏         | 1/50 [00:03<03:03,  3.74s/it]\n"
     ]
    },
    {
     "ename": "KeyboardInterrupt",
     "evalue": "",
     "output_type": "error",
     "traceback": [
      "\u001b[0;31m---------------------------------------------------------------------------\u001b[0m",
      "\u001b[0;31mKeyboardInterrupt\u001b[0m                         Traceback (most recent call last)",
      "Cell \u001b[0;32mIn[55], line 16\u001b[0m\n\u001b[1;32m     12\u001b[0m loss_fun \u001b[38;5;241m=\u001b[39m nn\u001b[38;5;241m.\u001b[39mHuberLoss()\n\u001b[1;32m     13\u001b[0m optimizer \u001b[38;5;241m=\u001b[39m torch\u001b[38;5;241m.\u001b[39moptim\u001b[38;5;241m.\u001b[39mAdam(params\u001b[38;5;241m=\u001b[39mmodel\u001b[38;5;241m.\u001b[39mparameters(),\n\u001b[1;32m     14\u001b[0m                              lr\u001b[38;5;241m=\u001b[39m\u001b[38;5;241m0.0001\u001b[39m)\n\u001b[0;32m---> 16\u001b[0m model_results \u001b[38;5;241m=\u001b[39m \u001b[43mtrain\u001b[49m\u001b[43m(\u001b[49m\u001b[43mmodel\u001b[49m\u001b[38;5;241;43m=\u001b[39;49m\u001b[43mmodel\u001b[49m\u001b[43m,\u001b[49m\u001b[43m \u001b[49m\n\u001b[1;32m     17\u001b[0m \u001b[43m                       \u001b[49m\u001b[43mtrain_dataloader\u001b[49m\u001b[38;5;241;43m=\u001b[39;49m\u001b[43mtrain_dataloader\u001b[49m\u001b[43m,\u001b[49m\u001b[43m \u001b[49m\n\u001b[1;32m     18\u001b[0m \u001b[43m                       \u001b[49m\u001b[43mtest_dataloader\u001b[49m\u001b[38;5;241;43m=\u001b[39;49m\u001b[43mtest_dataloader\u001b[49m\u001b[43m,\u001b[49m\u001b[43m \u001b[49m\n\u001b[1;32m     19\u001b[0m \u001b[43m                       \u001b[49m\u001b[43mloss_fn\u001b[49m\u001b[38;5;241;43m=\u001b[39;49m\u001b[43mloss_fun\u001b[49m\u001b[43m,\u001b[49m\u001b[43m \u001b[49m\n\u001b[1;32m     20\u001b[0m \u001b[43m                       \u001b[49m\u001b[43moptimizer\u001b[49m\u001b[38;5;241;43m=\u001b[39;49m\u001b[43moptimizer\u001b[49m\u001b[43m,\u001b[49m\u001b[43m \u001b[49m\n\u001b[1;32m     21\u001b[0m \u001b[43m                       \u001b[49m\u001b[43mepochs\u001b[49m\u001b[38;5;241;43m=\u001b[39;49m\u001b[43mEPOCHS\u001b[49m\u001b[43m,\u001b[49m\u001b[43m \u001b[49m\n\u001b[1;32m     22\u001b[0m \u001b[43m                       \u001b[49m\u001b[43mdevice\u001b[49m\u001b[38;5;241;43m=\u001b[39;49m\u001b[43mdevice\u001b[49m\u001b[43m)\u001b[49m\n\u001b[1;32m     24\u001b[0m plot_results_since(model_results, \u001b[38;5;241m5\u001b[39m)\n",
      "Cell \u001b[0;32mIn[36], line 82\u001b[0m, in \u001b[0;36mtrain\u001b[0;34m(model, train_dataloader, test_dataloader, loss_fn, optimizer, epochs, device)\u001b[0m\n\u001b[1;32m     76\u001b[0m \u001b[38;5;28;01mfor\u001b[39;00m epoch \u001b[38;5;129;01min\u001b[39;00m tqdm(\u001b[38;5;28mrange\u001b[39m(epochs)):\n\u001b[1;32m     77\u001b[0m     train_loss \u001b[38;5;241m=\u001b[39m train_step(model\u001b[38;5;241m=\u001b[39mmodel, \n\u001b[1;32m     78\u001b[0m                             dataloader\u001b[38;5;241m=\u001b[39mtrain_dataloader, \n\u001b[1;32m     79\u001b[0m                             loss_fn\u001b[38;5;241m=\u001b[39mloss_fn, \n\u001b[1;32m     80\u001b[0m                             optimizer\u001b[38;5;241m=\u001b[39moptimizer,\n\u001b[1;32m     81\u001b[0m                             device\u001b[38;5;241m=\u001b[39mdevice)\n\u001b[0;32m---> 82\u001b[0m     test_loss \u001b[38;5;241m=\u001b[39m \u001b[43mtest_step\u001b[49m\u001b[43m(\u001b[49m\u001b[43mmodel\u001b[49m\u001b[38;5;241;43m=\u001b[39;49m\u001b[43mmodel\u001b[49m\u001b[43m,\u001b[49m\u001b[43m \u001b[49m\n\u001b[1;32m     83\u001b[0m \u001b[43m                          \u001b[49m\u001b[43mdataloader\u001b[49m\u001b[38;5;241;43m=\u001b[39;49m\u001b[43mtest_dataloader\u001b[49m\u001b[43m,\u001b[49m\u001b[43m \u001b[49m\n\u001b[1;32m     84\u001b[0m \u001b[43m                          \u001b[49m\u001b[43mloss_fn\u001b[49m\u001b[38;5;241;43m=\u001b[39;49m\u001b[43mloss_fn\u001b[49m\u001b[43m,\u001b[49m\n\u001b[1;32m     85\u001b[0m \u001b[43m                          \u001b[49m\u001b[43mdevice\u001b[49m\u001b[38;5;241;43m=\u001b[39;49m\u001b[43mdevice\u001b[49m\u001b[43m)\u001b[49m\n\u001b[1;32m     87\u001b[0m     \u001b[38;5;28mprint\u001b[39m(\u001b[38;5;124mf\u001b[39m\u001b[38;5;124m\"\u001b[39m\u001b[38;5;124mepoch: \u001b[39m\u001b[38;5;132;01m{\u001b[39;00mepoch\u001b[38;5;132;01m}\u001b[39;00m\u001b[38;5;124m, train_loss: \u001b[39m\u001b[38;5;132;01m{\u001b[39;00mtrain_loss\u001b[38;5;132;01m:\u001b[39;00m\u001b[38;5;124m.4f\u001b[39m\u001b[38;5;132;01m}\u001b[39;00m\u001b[38;5;124m, test_loss: \u001b[39m\u001b[38;5;132;01m{\u001b[39;00mtest_loss\u001b[38;5;132;01m:\u001b[39;00m\u001b[38;5;124m.4f\u001b[39m\u001b[38;5;132;01m}\u001b[39;00m\u001b[38;5;124m\"\u001b[39m)\n\u001b[1;32m     88\u001b[0m     results[\u001b[38;5;124m'\u001b[39m\u001b[38;5;124mtrain_loss\u001b[39m\u001b[38;5;124m'\u001b[39m]\u001b[38;5;241m.\u001b[39mappend(train_loss)\n",
      "Cell \u001b[0;32mIn[36], line 15\u001b[0m, in \u001b[0;36mtest_step\u001b[0;34m(model, dataloader, loss_fn, device)\u001b[0m\n\u001b[1;32m     12\u001b[0m \u001b[38;5;66;03m# Turn on inference context manager\u001b[39;00m\n\u001b[1;32m     13\u001b[0m \u001b[38;5;28;01mwith\u001b[39;00m torch\u001b[38;5;241m.\u001b[39minference_mode():\n\u001b[1;32m     14\u001b[0m     \u001b[38;5;66;03m# Loop through DataLoader batches\u001b[39;00m\n\u001b[0;32m---> 15\u001b[0m     \u001b[38;5;28;01mfor\u001b[39;00m batch, (X, y) \u001b[38;5;129;01min\u001b[39;00m \u001b[38;5;28menumerate\u001b[39m(dataloader):\n\u001b[1;32m     16\u001b[0m         \u001b[38;5;66;03m# Send data to target device\u001b[39;00m\n\u001b[1;32m     17\u001b[0m         X, y \u001b[38;5;241m=\u001b[39m X\u001b[38;5;241m.\u001b[39mto(device), y\u001b[38;5;241m.\u001b[39mto(device)\n\u001b[1;32m     19\u001b[0m         \u001b[38;5;66;03m# 1. Forward pass\u001b[39;00m\n",
      "File \u001b[0;32m~/miniconda3/envs/pytorch/lib/python3.10/site-packages/torch/utils/data/dataloader.py:631\u001b[0m, in \u001b[0;36m_BaseDataLoaderIter.__next__\u001b[0;34m(self)\u001b[0m\n\u001b[1;32m    628\u001b[0m \u001b[38;5;28;01mif\u001b[39;00m \u001b[38;5;28mself\u001b[39m\u001b[38;5;241m.\u001b[39m_sampler_iter \u001b[38;5;129;01mis\u001b[39;00m \u001b[38;5;28;01mNone\u001b[39;00m:\n\u001b[1;32m    629\u001b[0m     \u001b[38;5;66;03m# TODO(https://github.com/pytorch/pytorch/issues/76750)\u001b[39;00m\n\u001b[1;32m    630\u001b[0m     \u001b[38;5;28mself\u001b[39m\u001b[38;5;241m.\u001b[39m_reset()  \u001b[38;5;66;03m# type: ignore[call-arg]\u001b[39;00m\n\u001b[0;32m--> 631\u001b[0m data \u001b[38;5;241m=\u001b[39m \u001b[38;5;28;43mself\u001b[39;49m\u001b[38;5;241;43m.\u001b[39;49m\u001b[43m_next_data\u001b[49m\u001b[43m(\u001b[49m\u001b[43m)\u001b[49m\n\u001b[1;32m    632\u001b[0m \u001b[38;5;28mself\u001b[39m\u001b[38;5;241m.\u001b[39m_num_yielded \u001b[38;5;241m+\u001b[39m\u001b[38;5;241m=\u001b[39m \u001b[38;5;241m1\u001b[39m\n\u001b[1;32m    633\u001b[0m \u001b[38;5;28;01mif\u001b[39;00m \u001b[38;5;28mself\u001b[39m\u001b[38;5;241m.\u001b[39m_dataset_kind \u001b[38;5;241m==\u001b[39m _DatasetKind\u001b[38;5;241m.\u001b[39mIterable \u001b[38;5;129;01mand\u001b[39;00m \\\n\u001b[1;32m    634\u001b[0m         \u001b[38;5;28mself\u001b[39m\u001b[38;5;241m.\u001b[39m_IterableDataset_len_called \u001b[38;5;129;01mis\u001b[39;00m \u001b[38;5;129;01mnot\u001b[39;00m \u001b[38;5;28;01mNone\u001b[39;00m \u001b[38;5;129;01mand\u001b[39;00m \\\n\u001b[1;32m    635\u001b[0m         \u001b[38;5;28mself\u001b[39m\u001b[38;5;241m.\u001b[39m_num_yielded \u001b[38;5;241m>\u001b[39m \u001b[38;5;28mself\u001b[39m\u001b[38;5;241m.\u001b[39m_IterableDataset_len_called:\n",
      "File \u001b[0;32m~/miniconda3/envs/pytorch/lib/python3.10/site-packages/torch/utils/data/dataloader.py:1329\u001b[0m, in \u001b[0;36m_MultiProcessingDataLoaderIter._next_data\u001b[0;34m(self)\u001b[0m\n\u001b[1;32m   1326\u001b[0m     \u001b[38;5;28;01mreturn\u001b[39;00m \u001b[38;5;28mself\u001b[39m\u001b[38;5;241m.\u001b[39m_process_data(data)\n\u001b[1;32m   1328\u001b[0m \u001b[38;5;28;01massert\u001b[39;00m \u001b[38;5;129;01mnot\u001b[39;00m \u001b[38;5;28mself\u001b[39m\u001b[38;5;241m.\u001b[39m_shutdown \u001b[38;5;129;01mand\u001b[39;00m \u001b[38;5;28mself\u001b[39m\u001b[38;5;241m.\u001b[39m_tasks_outstanding \u001b[38;5;241m>\u001b[39m \u001b[38;5;241m0\u001b[39m\n\u001b[0;32m-> 1329\u001b[0m idx, data \u001b[38;5;241m=\u001b[39m \u001b[38;5;28;43mself\u001b[39;49m\u001b[38;5;241;43m.\u001b[39;49m\u001b[43m_get_data\u001b[49m\u001b[43m(\u001b[49m\u001b[43m)\u001b[49m\n\u001b[1;32m   1330\u001b[0m \u001b[38;5;28mself\u001b[39m\u001b[38;5;241m.\u001b[39m_tasks_outstanding \u001b[38;5;241m-\u001b[39m\u001b[38;5;241m=\u001b[39m \u001b[38;5;241m1\u001b[39m\n\u001b[1;32m   1331\u001b[0m \u001b[38;5;28;01mif\u001b[39;00m \u001b[38;5;28mself\u001b[39m\u001b[38;5;241m.\u001b[39m_dataset_kind \u001b[38;5;241m==\u001b[39m _DatasetKind\u001b[38;5;241m.\u001b[39mIterable:\n\u001b[1;32m   1332\u001b[0m     \u001b[38;5;66;03m# Check for _IterableDatasetStopIteration\u001b[39;00m\n",
      "File \u001b[0;32m~/miniconda3/envs/pytorch/lib/python3.10/site-packages/torch/utils/data/dataloader.py:1295\u001b[0m, in \u001b[0;36m_MultiProcessingDataLoaderIter._get_data\u001b[0;34m(self)\u001b[0m\n\u001b[1;32m   1291\u001b[0m     \u001b[38;5;66;03m# In this case, `self._data_queue` is a `queue.Queue`,. But we don't\u001b[39;00m\n\u001b[1;32m   1292\u001b[0m     \u001b[38;5;66;03m# need to call `.task_done()` because we don't use `.join()`.\u001b[39;00m\n\u001b[1;32m   1293\u001b[0m \u001b[38;5;28;01melse\u001b[39;00m:\n\u001b[1;32m   1294\u001b[0m     \u001b[38;5;28;01mwhile\u001b[39;00m \u001b[38;5;28;01mTrue\u001b[39;00m:\n\u001b[0;32m-> 1295\u001b[0m         success, data \u001b[38;5;241m=\u001b[39m \u001b[38;5;28;43mself\u001b[39;49m\u001b[38;5;241;43m.\u001b[39;49m\u001b[43m_try_get_data\u001b[49m\u001b[43m(\u001b[49m\u001b[43m)\u001b[49m\n\u001b[1;32m   1296\u001b[0m         \u001b[38;5;28;01mif\u001b[39;00m success:\n\u001b[1;32m   1297\u001b[0m             \u001b[38;5;28;01mreturn\u001b[39;00m data\n",
      "File \u001b[0;32m~/miniconda3/envs/pytorch/lib/python3.10/site-packages/torch/utils/data/dataloader.py:1133\u001b[0m, in \u001b[0;36m_MultiProcessingDataLoaderIter._try_get_data\u001b[0;34m(self, timeout)\u001b[0m\n\u001b[1;32m   1120\u001b[0m \u001b[38;5;28;01mdef\u001b[39;00m \u001b[38;5;21m_try_get_data\u001b[39m(\u001b[38;5;28mself\u001b[39m, timeout\u001b[38;5;241m=\u001b[39m_utils\u001b[38;5;241m.\u001b[39mMP_STATUS_CHECK_INTERVAL):\n\u001b[1;32m   1121\u001b[0m     \u001b[38;5;66;03m# Tries to fetch data from `self._data_queue` once for a given timeout.\u001b[39;00m\n\u001b[1;32m   1122\u001b[0m     \u001b[38;5;66;03m# This can also be used as inner loop of fetching without timeout, with\u001b[39;00m\n\u001b[0;32m   (...)\u001b[0m\n\u001b[1;32m   1130\u001b[0m     \u001b[38;5;66;03m# Returns a 2-tuple:\u001b[39;00m\n\u001b[1;32m   1131\u001b[0m     \u001b[38;5;66;03m#   (bool: whether successfully get data, any: data if successful else None)\u001b[39;00m\n\u001b[1;32m   1132\u001b[0m     \u001b[38;5;28;01mtry\u001b[39;00m:\n\u001b[0;32m-> 1133\u001b[0m         data \u001b[38;5;241m=\u001b[39m \u001b[38;5;28;43mself\u001b[39;49m\u001b[38;5;241;43m.\u001b[39;49m\u001b[43m_data_queue\u001b[49m\u001b[38;5;241;43m.\u001b[39;49m\u001b[43mget\u001b[49m\u001b[43m(\u001b[49m\u001b[43mtimeout\u001b[49m\u001b[38;5;241;43m=\u001b[39;49m\u001b[43mtimeout\u001b[49m\u001b[43m)\u001b[49m\n\u001b[1;32m   1134\u001b[0m         \u001b[38;5;28;01mreturn\u001b[39;00m (\u001b[38;5;28;01mTrue\u001b[39;00m, data)\n\u001b[1;32m   1135\u001b[0m     \u001b[38;5;28;01mexcept\u001b[39;00m \u001b[38;5;167;01mException\u001b[39;00m \u001b[38;5;28;01mas\u001b[39;00m e:\n\u001b[1;32m   1136\u001b[0m         \u001b[38;5;66;03m# At timeout and error, we manually check whether any worker has\u001b[39;00m\n\u001b[1;32m   1137\u001b[0m         \u001b[38;5;66;03m# failed. Note that this is the only mechanism for Windows to detect\u001b[39;00m\n\u001b[1;32m   1138\u001b[0m         \u001b[38;5;66;03m# worker failures.\u001b[39;00m\n",
      "File \u001b[0;32m~/miniconda3/envs/pytorch/lib/python3.10/multiprocessing/queues.py:113\u001b[0m, in \u001b[0;36mQueue.get\u001b[0;34m(self, block, timeout)\u001b[0m\n\u001b[1;32m    111\u001b[0m \u001b[38;5;28;01mif\u001b[39;00m block:\n\u001b[1;32m    112\u001b[0m     timeout \u001b[38;5;241m=\u001b[39m deadline \u001b[38;5;241m-\u001b[39m time\u001b[38;5;241m.\u001b[39mmonotonic()\n\u001b[0;32m--> 113\u001b[0m     \u001b[38;5;28;01mif\u001b[39;00m \u001b[38;5;129;01mnot\u001b[39;00m \u001b[38;5;28;43mself\u001b[39;49m\u001b[38;5;241;43m.\u001b[39;49m\u001b[43m_poll\u001b[49m\u001b[43m(\u001b[49m\u001b[43mtimeout\u001b[49m\u001b[43m)\u001b[49m:\n\u001b[1;32m    114\u001b[0m         \u001b[38;5;28;01mraise\u001b[39;00m Empty\n\u001b[1;32m    115\u001b[0m \u001b[38;5;28;01melif\u001b[39;00m \u001b[38;5;129;01mnot\u001b[39;00m \u001b[38;5;28mself\u001b[39m\u001b[38;5;241m.\u001b[39m_poll():\n",
      "File \u001b[0;32m~/miniconda3/envs/pytorch/lib/python3.10/multiprocessing/connection.py:257\u001b[0m, in \u001b[0;36m_ConnectionBase.poll\u001b[0;34m(self, timeout)\u001b[0m\n\u001b[1;32m    255\u001b[0m \u001b[38;5;28mself\u001b[39m\u001b[38;5;241m.\u001b[39m_check_closed()\n\u001b[1;32m    256\u001b[0m \u001b[38;5;28mself\u001b[39m\u001b[38;5;241m.\u001b[39m_check_readable()\n\u001b[0;32m--> 257\u001b[0m \u001b[38;5;28;01mreturn\u001b[39;00m \u001b[38;5;28;43mself\u001b[39;49m\u001b[38;5;241;43m.\u001b[39;49m\u001b[43m_poll\u001b[49m\u001b[43m(\u001b[49m\u001b[43mtimeout\u001b[49m\u001b[43m)\u001b[49m\n",
      "File \u001b[0;32m~/miniconda3/envs/pytorch/lib/python3.10/multiprocessing/connection.py:424\u001b[0m, in \u001b[0;36mConnection._poll\u001b[0;34m(self, timeout)\u001b[0m\n\u001b[1;32m    423\u001b[0m \u001b[38;5;28;01mdef\u001b[39;00m \u001b[38;5;21m_poll\u001b[39m(\u001b[38;5;28mself\u001b[39m, timeout):\n\u001b[0;32m--> 424\u001b[0m     r \u001b[38;5;241m=\u001b[39m \u001b[43mwait\u001b[49m\u001b[43m(\u001b[49m\u001b[43m[\u001b[49m\u001b[38;5;28;43mself\u001b[39;49m\u001b[43m]\u001b[49m\u001b[43m,\u001b[49m\u001b[43m \u001b[49m\u001b[43mtimeout\u001b[49m\u001b[43m)\u001b[49m\n\u001b[1;32m    425\u001b[0m     \u001b[38;5;28;01mreturn\u001b[39;00m \u001b[38;5;28mbool\u001b[39m(r)\n",
      "File \u001b[0;32m~/miniconda3/envs/pytorch/lib/python3.10/multiprocessing/connection.py:931\u001b[0m, in \u001b[0;36mwait\u001b[0;34m(object_list, timeout)\u001b[0m\n\u001b[1;32m    928\u001b[0m     deadline \u001b[38;5;241m=\u001b[39m time\u001b[38;5;241m.\u001b[39mmonotonic() \u001b[38;5;241m+\u001b[39m timeout\n\u001b[1;32m    930\u001b[0m \u001b[38;5;28;01mwhile\u001b[39;00m \u001b[38;5;28;01mTrue\u001b[39;00m:\n\u001b[0;32m--> 931\u001b[0m     ready \u001b[38;5;241m=\u001b[39m \u001b[43mselector\u001b[49m\u001b[38;5;241;43m.\u001b[39;49m\u001b[43mselect\u001b[49m\u001b[43m(\u001b[49m\u001b[43mtimeout\u001b[49m\u001b[43m)\u001b[49m\n\u001b[1;32m    932\u001b[0m     \u001b[38;5;28;01mif\u001b[39;00m ready:\n\u001b[1;32m    933\u001b[0m         \u001b[38;5;28;01mreturn\u001b[39;00m [key\u001b[38;5;241m.\u001b[39mfileobj \u001b[38;5;28;01mfor\u001b[39;00m (key, events) \u001b[38;5;129;01min\u001b[39;00m ready]\n",
      "File \u001b[0;32m~/miniconda3/envs/pytorch/lib/python3.10/selectors.py:416\u001b[0m, in \u001b[0;36m_PollLikeSelector.select\u001b[0;34m(self, timeout)\u001b[0m\n\u001b[1;32m    414\u001b[0m ready \u001b[38;5;241m=\u001b[39m []\n\u001b[1;32m    415\u001b[0m \u001b[38;5;28;01mtry\u001b[39;00m:\n\u001b[0;32m--> 416\u001b[0m     fd_event_list \u001b[38;5;241m=\u001b[39m \u001b[38;5;28;43mself\u001b[39;49m\u001b[38;5;241;43m.\u001b[39;49m\u001b[43m_selector\u001b[49m\u001b[38;5;241;43m.\u001b[39;49m\u001b[43mpoll\u001b[49m\u001b[43m(\u001b[49m\u001b[43mtimeout\u001b[49m\u001b[43m)\u001b[49m\n\u001b[1;32m    417\u001b[0m \u001b[38;5;28;01mexcept\u001b[39;00m \u001b[38;5;167;01mInterruptedError\u001b[39;00m:\n\u001b[1;32m    418\u001b[0m     \u001b[38;5;28;01mreturn\u001b[39;00m ready\n",
      "\u001b[0;31mKeyboardInterrupt\u001b[0m: "
     ]
    }
   ],
   "source": [
    "IN_FEATURES = len(indf.columns)\n",
    "HIDDEN_UNITS1 = 128\n",
    "HIDDEN_UNITS2 = 64\n",
    "OUT_FEATURES = 1\n",
    "\n",
    "torch.manual_seed(42) \n",
    "model = yachtModel6(input_shape=IN_FEATURES, \n",
    "                     hidden_units1=HIDDEN_UNITS1,\n",
    "                     hidden_units2=HIDDEN_UNITS2,\n",
    "                     output_shape=OUT_FEATURES).to(device)\n",
    "\n",
    "loss_fun = nn.HuberLoss()\n",
    "optimizer = torch.optim.Adam(params=model.parameters(),\n",
    "                             lr=0.0001)\n",
    "\n",
    "model_results = train(model=model, \n",
    "                       train_dataloader=train_dataloader, \n",
    "                       test_dataloader=test_dataloader, \n",
    "                       loss_fn=loss_fun, \n",
    "                       optimizer=optimizer, \n",
    "                       epochs=EPOCHS, \n",
    "                       device=device)\n",
    "\n",
    "plot_results_since(model_results, 5)"
   ]
  },
  {
   "cell_type": "code",
   "execution_count": null,
   "metadata": {},
   "outputs": [],
   "source": [
    "from tqdm.auto import tqdm\n",
    "def test_step(model: torch.nn.Module, \n",
    "              dataloader: torch.utils.data.DataLoader, \n",
    "              loss_fn: torch.nn.Module,\n",
    "              device=device):\n",
    "    # Put model in eval mode\n",
    "    model.eval() \n",
    "    \n",
    "    # Setup test loss and test accuracy values\n",
    "    test_loss = 0\n",
    "    \n",
    "    # Turn on inference context manager\n",
    "    with torch.inference_mode():\n",
    "        # Loop through DataLoader batches\n",
    "        for batch, (X, y) in enumerate(dataloader):\n",
    "            # Send data to target device\n",
    "            X, y = X.to(device), y.to(device)\n",
    "    \n",
    "            # 1. Forward pass\n",
    "            test_pred = model(X).squeeze()\n",
    "\n",
    "            # 2. Calculate and accumulate loss\n",
    "            loss = loss_fn(test_pred, y)\n",
    "            test_loss += loss.item()\n",
    "            \n",
    "    # Adjust metrics to get average loss and accuracy per batch \n",
    "    test_loss = test_loss / len(dataloader)\n",
    "    return test_loss\n",
    "\n",
    "def train_step(model: torch.nn.Module, \n",
    "               dataloader: torch.utils.data.DataLoader, \n",
    "               loss_fn: torch.nn.Module, \n",
    "               optimizer: torch.optim.Optimizer,\n",
    "               device=device):\n",
    "    # Put model in train mode\n",
    "    model.train()\n",
    "    \n",
    "    # Setup train loss and train accuracy values\n",
    "    train_loss = 0 \n",
    "    \n",
    "    # Loop through data loader data batches\n",
    "    for batch, (X, y) in enumerate(dataloader):\n",
    "        # Send data to target device\n",
    "        X, y = X.to(device), y.to(device)\n",
    "\n",
    "        # 1. Forward pass\n",
    "        y_pred = model(X).squeeze()\n",
    "\n",
    "        # 2. Calculate  and accumulate loss\n",
    "        loss = loss_fn(y_pred, y)\n",
    "        train_loss += loss.item() \n",
    "\n",
    "        # 3. Optimizer zero grad\n",
    "        optimizer.zero_grad()\n",
    "\n",
    "        # 4. Loss backward\n",
    "        loss.backward()\n",
    "\n",
    "        # 5. Optimizer step\n",
    "        optimizer.step()\n",
    "\n",
    "    # Adjust metrics to get average loss and accuracy per batch \n",
    "    train_loss = train_loss / len(dataloader)\n",
    "    return train_loss\n",
    "\n",
    "def train(model: torch.nn.Module, \n",
    "          train_dataloader: torch.utils.data.DataLoader, \n",
    "          test_dataloader: torch.utils.data.DataLoader,\n",
    "          loss_fn: torch.nn.Module, \n",
    "          optimizer: torch.optim.Optimizer, \n",
    "          epochs: int, \n",
    "          device: torch.device = device):\n",
    "    results = {\"train_loss\": [], \n",
    "               \"test_loss\": []}\n",
    "    \n",
    "    for epoch in range(epochs):\n",
    "        train_loss = train_step(model=model, \n",
    "                                dataloader=train_dataloader, \n",
    "                                loss_fn=loss_fn, \n",
    "                                optimizer=optimizer,\n",
    "                                device=device)\n",
    "        test_loss = test_step(model=model, \n",
    "                              dataloader=test_dataloader, \n",
    "                              loss_fn=loss_fn,\n",
    "                              device=device)\n",
    "        \n",
    "        # print(f\"epoch: {epoch}, train_loss: {train_loss:.4f}, test_loss: {test_loss:.4f}\")\n",
    "        results['train_loss'].append(train_loss)\n",
    "        results['test_loss'].append(test_loss)\n",
    "    \n",
    "    return results"
   ]
  },
  {
   "cell_type": "code",
   "execution_count": null,
   "metadata": {},
   "outputs": [
    {
     "name": "stderr",
     "output_type": "stream",
     "text": [
      "  0%|          | 0/96 [00:06<?, ?it/s]\n"
     ]
    },
    {
     "ename": "KeyboardInterrupt",
     "evalue": "",
     "output_type": "error",
     "traceback": [
      "\u001b[0;31m---------------------------------------------------------------------------\u001b[0m",
      "\u001b[0;31mKeyboardInterrupt\u001b[0m                         Traceback (most recent call last)",
      "Cell \u001b[0;32mIn[16], line 60\u001b[0m\n\u001b[1;32m     56\u001b[0m         torch\u001b[38;5;241m.\u001b[39msave(models[column]\u001b[38;5;241m.\u001b[39mstate_dict(), \u001b[38;5;124m\"\u001b[39m\u001b[38;5;124mmodels/\u001b[39m\u001b[38;5;124m\"\u001b[39m \u001b[38;5;241m+\u001b[39m \u001b[38;5;28mstr\u001b[39m(column))\n\u001b[1;32m     58\u001b[0m     \u001b[38;5;28;01mreturn\u001b[39;00m final_results\n\u001b[0;32m---> 60\u001b[0m final_results \u001b[38;5;241m=\u001b[39m \u001b[43mtrain_models\u001b[49m\u001b[43m(\u001b[49m\u001b[43mX_train\u001b[49m\u001b[38;5;241;43m=\u001b[39;49m\u001b[43mX_train\u001b[49m\u001b[43m,\u001b[49m\n\u001b[1;32m     61\u001b[0m \u001b[43m                             \u001b[49m\u001b[43my_train\u001b[49m\u001b[38;5;241;43m=\u001b[39;49m\u001b[43my_train\u001b[49m\u001b[43m,\u001b[49m\n\u001b[1;32m     62\u001b[0m \u001b[43m                             \u001b[49m\u001b[43mX_test\u001b[49m\u001b[38;5;241;43m=\u001b[39;49m\u001b[43mX_test\u001b[49m\u001b[43m,\u001b[49m\u001b[43m \u001b[49m\n\u001b[1;32m     63\u001b[0m \u001b[43m                             \u001b[49m\u001b[43my_test\u001b[49m\u001b[38;5;241;43m=\u001b[39;49m\u001b[43my_test\u001b[49m\u001b[43m,\u001b[49m\n\u001b[1;32m     64\u001b[0m \u001b[43m                             \u001b[49m\u001b[43mdevice\u001b[49m\u001b[38;5;241;43m=\u001b[39;49m\u001b[43mdevice\u001b[49m\u001b[43m)\u001b[49m\n",
      "Cell \u001b[0;32mIn[16], line 45\u001b[0m, in \u001b[0;36mtrain_models\u001b[0;34m(X_train, y_train, X_test, y_test, device)\u001b[0m\n\u001b[1;32m     41\u001b[0m loss_fun \u001b[38;5;241m=\u001b[39m nn\u001b[38;5;241m.\u001b[39mHuberLoss()\n\u001b[1;32m     42\u001b[0m optimizer \u001b[38;5;241m=\u001b[39m torch\u001b[38;5;241m.\u001b[39moptim\u001b[38;5;241m.\u001b[39mAdam(params\u001b[38;5;241m=\u001b[39mmodels[column]\u001b[38;5;241m.\u001b[39mparameters(),\n\u001b[1;32m     43\u001b[0m                             lr\u001b[38;5;241m=\u001b[39m\u001b[38;5;241m0.0001\u001b[39m)\n\u001b[0;32m---> 45\u001b[0m model_results \u001b[38;5;241m=\u001b[39m \u001b[43mtrain\u001b[49m\u001b[43m(\u001b[49m\u001b[43mmodel\u001b[49m\u001b[38;5;241;43m=\u001b[39;49m\u001b[43mmodels\u001b[49m\u001b[43m[\u001b[49m\u001b[43mcolumn\u001b[49m\u001b[43m]\u001b[49m\u001b[43m,\u001b[49m\u001b[43m \u001b[49m\n\u001b[1;32m     46\u001b[0m \u001b[43m                        \u001b[49m\u001b[43mtrain_dataloader\u001b[49m\u001b[38;5;241;43m=\u001b[39;49m\u001b[43mtrain_dataloader\u001b[49m\u001b[43m,\u001b[49m\u001b[43m \u001b[49m\n\u001b[1;32m     47\u001b[0m \u001b[43m                        \u001b[49m\u001b[43mtest_dataloader\u001b[49m\u001b[38;5;241;43m=\u001b[39;49m\u001b[43mtest_dataloader\u001b[49m\u001b[43m,\u001b[49m\u001b[43m \u001b[49m\n\u001b[1;32m     48\u001b[0m \u001b[43m                        \u001b[49m\u001b[43mloss_fn\u001b[49m\u001b[38;5;241;43m=\u001b[39;49m\u001b[43mloss_fun\u001b[49m\u001b[43m,\u001b[49m\u001b[43m \u001b[49m\n\u001b[1;32m     49\u001b[0m \u001b[43m                        \u001b[49m\u001b[43moptimizer\u001b[49m\u001b[38;5;241;43m=\u001b[39;49m\u001b[43moptimizer\u001b[49m\u001b[43m,\u001b[49m\u001b[43m \u001b[49m\n\u001b[1;32m     50\u001b[0m \u001b[43m                        \u001b[49m\u001b[43mepochs\u001b[49m\u001b[38;5;241;43m=\u001b[39;49m\u001b[43mEPOCHS\u001b[49m\u001b[43m,\u001b[49m\u001b[43m \u001b[49m\n\u001b[1;32m     51\u001b[0m \u001b[43m                        \u001b[49m\u001b[43mdevice\u001b[49m\u001b[38;5;241;43m=\u001b[39;49m\u001b[43mdevice\u001b[49m\u001b[43m)\u001b[49m\n\u001b[1;32m     52\u001b[0m final_results[\u001b[38;5;124m\"\u001b[39m\u001b[38;5;124mtrain_loss\u001b[39m\u001b[38;5;124m\"\u001b[39m]\u001b[38;5;241m.\u001b[39mappend(model_results[\u001b[38;5;124m\"\u001b[39m\u001b[38;5;124mtrain_loss\u001b[39m\u001b[38;5;124m\"\u001b[39m][\u001b[38;5;241m-\u001b[39m\u001b[38;5;241m1\u001b[39m])\n\u001b[1;32m     53\u001b[0m final_results[\u001b[38;5;124m\"\u001b[39m\u001b[38;5;124mtest_loss\u001b[39m\u001b[38;5;124m\"\u001b[39m]\u001b[38;5;241m.\u001b[39mappend(model_results[\u001b[38;5;124m\"\u001b[39m\u001b[38;5;124mtest_loss\u001b[39m\u001b[38;5;124m\"\u001b[39m][\u001b[38;5;241m-\u001b[39m\u001b[38;5;241m1\u001b[39m])\n",
      "Cell \u001b[0;32mIn[15], line 77\u001b[0m, in \u001b[0;36mtrain\u001b[0;34m(model, train_dataloader, test_dataloader, loss_fn, optimizer, epochs, device)\u001b[0m\n\u001b[1;32m     73\u001b[0m results \u001b[38;5;241m=\u001b[39m {\u001b[38;5;124m\"\u001b[39m\u001b[38;5;124mtrain_loss\u001b[39m\u001b[38;5;124m\"\u001b[39m: [], \n\u001b[1;32m     74\u001b[0m            \u001b[38;5;124m\"\u001b[39m\u001b[38;5;124mtest_loss\u001b[39m\u001b[38;5;124m\"\u001b[39m: []}\n\u001b[1;32m     76\u001b[0m \u001b[38;5;28;01mfor\u001b[39;00m epoch \u001b[38;5;129;01min\u001b[39;00m \u001b[38;5;28mrange\u001b[39m(epochs):\n\u001b[0;32m---> 77\u001b[0m     train_loss \u001b[38;5;241m=\u001b[39m \u001b[43mtrain_step\u001b[49m\u001b[43m(\u001b[49m\u001b[43mmodel\u001b[49m\u001b[38;5;241;43m=\u001b[39;49m\u001b[43mmodel\u001b[49m\u001b[43m,\u001b[49m\u001b[43m \u001b[49m\n\u001b[1;32m     78\u001b[0m \u001b[43m                            \u001b[49m\u001b[43mdataloader\u001b[49m\u001b[38;5;241;43m=\u001b[39;49m\u001b[43mtrain_dataloader\u001b[49m\u001b[43m,\u001b[49m\u001b[43m \u001b[49m\n\u001b[1;32m     79\u001b[0m \u001b[43m                            \u001b[49m\u001b[43mloss_fn\u001b[49m\u001b[38;5;241;43m=\u001b[39;49m\u001b[43mloss_fn\u001b[49m\u001b[43m,\u001b[49m\u001b[43m \u001b[49m\n\u001b[1;32m     80\u001b[0m \u001b[43m                            \u001b[49m\u001b[43moptimizer\u001b[49m\u001b[38;5;241;43m=\u001b[39;49m\u001b[43moptimizer\u001b[49m\u001b[43m,\u001b[49m\n\u001b[1;32m     81\u001b[0m \u001b[43m                            \u001b[49m\u001b[43mdevice\u001b[49m\u001b[38;5;241;43m=\u001b[39;49m\u001b[43mdevice\u001b[49m\u001b[43m)\u001b[49m\n\u001b[1;32m     82\u001b[0m     test_loss \u001b[38;5;241m=\u001b[39m test_step(model\u001b[38;5;241m=\u001b[39mmodel, \n\u001b[1;32m     83\u001b[0m                           dataloader\u001b[38;5;241m=\u001b[39mtest_dataloader, \n\u001b[1;32m     84\u001b[0m                           loss_fn\u001b[38;5;241m=\u001b[39mloss_fn,\n\u001b[1;32m     85\u001b[0m                           device\u001b[38;5;241m=\u001b[39mdevice)\n\u001b[1;32m     87\u001b[0m     \u001b[38;5;66;03m# print(f\"epoch: {epoch}, train_loss: {train_loss:.4f}, test_loss: {test_loss:.4f}\")\u001b[39;00m\n",
      "Cell \u001b[0;32mIn[15], line 42\u001b[0m, in \u001b[0;36mtrain_step\u001b[0;34m(model, dataloader, loss_fn, optimizer, device)\u001b[0m\n\u001b[1;32m     39\u001b[0m train_loss \u001b[38;5;241m=\u001b[39m \u001b[38;5;241m0\u001b[39m \n\u001b[1;32m     41\u001b[0m \u001b[38;5;66;03m# Loop through data loader data batches\u001b[39;00m\n\u001b[0;32m---> 42\u001b[0m \u001b[38;5;28;01mfor\u001b[39;00m batch, (X, y) \u001b[38;5;129;01min\u001b[39;00m \u001b[38;5;28menumerate\u001b[39m(dataloader):\n\u001b[1;32m     43\u001b[0m     \u001b[38;5;66;03m# Send data to target device\u001b[39;00m\n\u001b[1;32m     44\u001b[0m     X, y \u001b[38;5;241m=\u001b[39m X\u001b[38;5;241m.\u001b[39mto(device), y\u001b[38;5;241m.\u001b[39mto(device)\n\u001b[1;32m     46\u001b[0m     \u001b[38;5;66;03m# 1. Forward pass\u001b[39;00m\n",
      "File \u001b[0;32m~/miniconda3/envs/pytorch/lib/python3.10/site-packages/torch/utils/data/dataloader.py:631\u001b[0m, in \u001b[0;36m_BaseDataLoaderIter.__next__\u001b[0;34m(self)\u001b[0m\n\u001b[1;32m    628\u001b[0m \u001b[38;5;28;01mif\u001b[39;00m \u001b[38;5;28mself\u001b[39m\u001b[38;5;241m.\u001b[39m_sampler_iter \u001b[38;5;129;01mis\u001b[39;00m \u001b[38;5;28;01mNone\u001b[39;00m:\n\u001b[1;32m    629\u001b[0m     \u001b[38;5;66;03m# TODO(https://github.com/pytorch/pytorch/issues/76750)\u001b[39;00m\n\u001b[1;32m    630\u001b[0m     \u001b[38;5;28mself\u001b[39m\u001b[38;5;241m.\u001b[39m_reset()  \u001b[38;5;66;03m# type: ignore[call-arg]\u001b[39;00m\n\u001b[0;32m--> 631\u001b[0m data \u001b[38;5;241m=\u001b[39m \u001b[38;5;28;43mself\u001b[39;49m\u001b[38;5;241;43m.\u001b[39;49m\u001b[43m_next_data\u001b[49m\u001b[43m(\u001b[49m\u001b[43m)\u001b[49m\n\u001b[1;32m    632\u001b[0m \u001b[38;5;28mself\u001b[39m\u001b[38;5;241m.\u001b[39m_num_yielded \u001b[38;5;241m+\u001b[39m\u001b[38;5;241m=\u001b[39m \u001b[38;5;241m1\u001b[39m\n\u001b[1;32m    633\u001b[0m \u001b[38;5;28;01mif\u001b[39;00m \u001b[38;5;28mself\u001b[39m\u001b[38;5;241m.\u001b[39m_dataset_kind \u001b[38;5;241m==\u001b[39m _DatasetKind\u001b[38;5;241m.\u001b[39mIterable \u001b[38;5;129;01mand\u001b[39;00m \\\n\u001b[1;32m    634\u001b[0m         \u001b[38;5;28mself\u001b[39m\u001b[38;5;241m.\u001b[39m_IterableDataset_len_called \u001b[38;5;129;01mis\u001b[39;00m \u001b[38;5;129;01mnot\u001b[39;00m \u001b[38;5;28;01mNone\u001b[39;00m \u001b[38;5;129;01mand\u001b[39;00m \\\n\u001b[1;32m    635\u001b[0m         \u001b[38;5;28mself\u001b[39m\u001b[38;5;241m.\u001b[39m_num_yielded \u001b[38;5;241m>\u001b[39m \u001b[38;5;28mself\u001b[39m\u001b[38;5;241m.\u001b[39m_IterableDataset_len_called:\n",
      "File \u001b[0;32m~/miniconda3/envs/pytorch/lib/python3.10/site-packages/torch/utils/data/dataloader.py:1346\u001b[0m, in \u001b[0;36m_MultiProcessingDataLoaderIter._next_data\u001b[0;34m(self)\u001b[0m\n\u001b[1;32m   1344\u001b[0m \u001b[38;5;28;01melse\u001b[39;00m:\n\u001b[1;32m   1345\u001b[0m     \u001b[38;5;28;01mdel\u001b[39;00m \u001b[38;5;28mself\u001b[39m\u001b[38;5;241m.\u001b[39m_task_info[idx]\n\u001b[0;32m-> 1346\u001b[0m     \u001b[38;5;28;01mreturn\u001b[39;00m \u001b[38;5;28;43mself\u001b[39;49m\u001b[38;5;241;43m.\u001b[39;49m\u001b[43m_process_data\u001b[49m\u001b[43m(\u001b[49m\u001b[43mdata\u001b[49m\u001b[43m)\u001b[49m\n",
      "File \u001b[0;32m~/miniconda3/envs/pytorch/lib/python3.10/site-packages/torch/utils/data/dataloader.py:1370\u001b[0m, in \u001b[0;36m_MultiProcessingDataLoaderIter._process_data\u001b[0;34m(self, data)\u001b[0m\n\u001b[1;32m   1368\u001b[0m \u001b[38;5;28;01mdef\u001b[39;00m \u001b[38;5;21m_process_data\u001b[39m(\u001b[38;5;28mself\u001b[39m, data):\n\u001b[1;32m   1369\u001b[0m     \u001b[38;5;28mself\u001b[39m\u001b[38;5;241m.\u001b[39m_rcvd_idx \u001b[38;5;241m+\u001b[39m\u001b[38;5;241m=\u001b[39m \u001b[38;5;241m1\u001b[39m\n\u001b[0;32m-> 1370\u001b[0m     \u001b[38;5;28;43mself\u001b[39;49m\u001b[38;5;241;43m.\u001b[39;49m\u001b[43m_try_put_index\u001b[49m\u001b[43m(\u001b[49m\u001b[43m)\u001b[49m\n\u001b[1;32m   1371\u001b[0m     \u001b[38;5;28;01mif\u001b[39;00m \u001b[38;5;28misinstance\u001b[39m(data, ExceptionWrapper):\n\u001b[1;32m   1372\u001b[0m         data\u001b[38;5;241m.\u001b[39mreraise()\n",
      "File \u001b[0;32m~/miniconda3/envs/pytorch/lib/python3.10/site-packages/torch/utils/data/dataloader.py:1363\u001b[0m, in \u001b[0;36m_MultiProcessingDataLoaderIter._try_put_index\u001b[0;34m(self)\u001b[0m\n\u001b[1;32m   1359\u001b[0m \u001b[38;5;28;01melse\u001b[39;00m:\n\u001b[1;32m   1360\u001b[0m     \u001b[38;5;66;03m# not found (i.e., didn't break)\u001b[39;00m\n\u001b[1;32m   1361\u001b[0m     \u001b[38;5;28;01mreturn\u001b[39;00m\n\u001b[0;32m-> 1363\u001b[0m \u001b[38;5;28;43mself\u001b[39;49m\u001b[38;5;241;43m.\u001b[39;49m\u001b[43m_index_queues\u001b[49m\u001b[43m[\u001b[49m\u001b[43mworker_queue_idx\u001b[49m\u001b[43m]\u001b[49m\u001b[38;5;241;43m.\u001b[39;49m\u001b[43mput\u001b[49m\u001b[43m(\u001b[49m\u001b[43m(\u001b[49m\u001b[38;5;28;43mself\u001b[39;49m\u001b[38;5;241;43m.\u001b[39;49m\u001b[43m_send_idx\u001b[49m\u001b[43m,\u001b[49m\u001b[43m \u001b[49m\u001b[43mindex\u001b[49m\u001b[43m)\u001b[49m\u001b[43m)\u001b[49m  \u001b[38;5;66;03m# type: ignore[possibly-undefined]\u001b[39;00m\n\u001b[1;32m   1364\u001b[0m \u001b[38;5;28mself\u001b[39m\u001b[38;5;241m.\u001b[39m_task_info[\u001b[38;5;28mself\u001b[39m\u001b[38;5;241m.\u001b[39m_send_idx] \u001b[38;5;241m=\u001b[39m (worker_queue_idx,)\n\u001b[1;32m   1365\u001b[0m \u001b[38;5;28mself\u001b[39m\u001b[38;5;241m.\u001b[39m_tasks_outstanding \u001b[38;5;241m+\u001b[39m\u001b[38;5;241m=\u001b[39m \u001b[38;5;241m1\u001b[39m\n",
      "File \u001b[0;32m~/miniconda3/envs/pytorch/lib/python3.10/multiprocessing/queues.py:96\u001b[0m, in \u001b[0;36mQueue.put\u001b[0;34m(self, obj, block, timeout)\u001b[0m\n\u001b[1;32m     94\u001b[0m     \u001b[38;5;28mself\u001b[39m\u001b[38;5;241m.\u001b[39m_start_thread()\n\u001b[1;32m     95\u001b[0m \u001b[38;5;28mself\u001b[39m\u001b[38;5;241m.\u001b[39m_buffer\u001b[38;5;241m.\u001b[39mappend(obj)\n\u001b[0;32m---> 96\u001b[0m \u001b[38;5;28;43mself\u001b[39;49m\u001b[38;5;241;43m.\u001b[39;49m\u001b[43m_notempty\u001b[49m\u001b[38;5;241;43m.\u001b[39;49m\u001b[43mnotify\u001b[49m\u001b[43m(\u001b[49m\u001b[43m)\u001b[49m\n",
      "File \u001b[0;32m~/miniconda3/envs/pytorch/lib/python3.10/threading.py:375\u001b[0m, in \u001b[0;36mCondition.notify\u001b[0;34m(self, n)\u001b[0m\n\u001b[1;32m    373\u001b[0m waiter \u001b[38;5;241m=\u001b[39m waiters[\u001b[38;5;241m0\u001b[39m]\n\u001b[1;32m    374\u001b[0m \u001b[38;5;28;01mtry\u001b[39;00m:\n\u001b[0;32m--> 375\u001b[0m     \u001b[43mwaiter\u001b[49m\u001b[38;5;241;43m.\u001b[39;49m\u001b[43mrelease\u001b[49m\u001b[43m(\u001b[49m\u001b[43m)\u001b[49m\n\u001b[1;32m    376\u001b[0m \u001b[38;5;28;01mexcept\u001b[39;00m \u001b[38;5;167;01mRuntimeError\u001b[39;00m:\n\u001b[1;32m    377\u001b[0m     \u001b[38;5;66;03m# gh-92530: The previous call of notify() released the lock,\u001b[39;00m\n\u001b[1;32m    378\u001b[0m     \u001b[38;5;66;03m# but was interrupted before removing it from the queue.\u001b[39;00m\n\u001b[1;32m    379\u001b[0m     \u001b[38;5;66;03m# It can happen if a signal handler raises an exception,\u001b[39;00m\n\u001b[1;32m    380\u001b[0m     \u001b[38;5;66;03m# like CTRL+C which raises KeyboardInterrupt.\u001b[39;00m\n\u001b[1;32m    381\u001b[0m     \u001b[38;5;28;01mpass\u001b[39;00m\n",
      "\u001b[0;31mKeyboardInterrupt\u001b[0m: "
     ]
    }
   ],
   "source": [
    "def train_models( X_train: pd.DataFrame, \n",
    "                  y_train: pd.DataFrame,\n",
    "                  X_test: pd.DataFrame, \n",
    "                  y_test: pd.DataFrame,\n",
    "                  device: torch.device = device):\n",
    "  \n",
    "    models = {}\n",
    "    final_results = {\"train_loss\": [], \n",
    "               \"test_loss\": []}\n",
    "    \n",
    "    if not os.path.exists('models'):\n",
    "        os.makedirs('models', exist_ok=True)\n",
    "     \n",
    "    for column in tqdm(y_train.columns.to_list()):\n",
    "        # making datasets \n",
    "        train_dataset = MyDataset(X_train, y_train[column])\n",
    "        test_dataset = MyDataset(X_test, y_test[column]) \n",
    "\n",
    "        # making dataloader\n",
    "        train_dataloader = DataLoader(dataset=train_dataset, \n",
    "                                        batch_size=32,\n",
    "                                        shuffle=True, \n",
    "                                        num_workers=os.cpu_count())\n",
    "        test_dataloader = DataLoader(dataset=test_dataset, \n",
    "                                    batch_size=32, \n",
    "                                    shuffle=False, \n",
    "                                    num_workers=os.cpu_count())\n",
    "        \n",
    "        # making model\n",
    "        IN_FEATURES = len(indf.columns)\n",
    "        HIDDEN_UNITS1 = 128\n",
    "        HIDDEN_UNITS2 = 64\n",
    "        OUT_FEATURES = 1\n",
    "\n",
    "        torch.manual_seed(42) \n",
    "        models[column] = yachtModel6(input_shape=IN_FEATURES, \n",
    "                        hidden_units1=HIDDEN_UNITS1,\n",
    "                        hidden_units2=HIDDEN_UNITS2,\n",
    "                        output_shape=OUT_FEATURES).to(device)\n",
    "\n",
    "        loss_fun = nn.HuberLoss()\n",
    "        optimizer = torch.optim.Adam(params=models[column].parameters(),\n",
    "                                    lr=0.0001)\n",
    "\n",
    "        model_results = train(model=models[column], \n",
    "                                train_dataloader=train_dataloader, \n",
    "                                test_dataloader=test_dataloader, \n",
    "                                loss_fn=loss_fun, \n",
    "                                optimizer=optimizer, \n",
    "                                epochs=EPOCHS, \n",
    "                                device=device)\n",
    "        final_results[\"train_loss\"].append(model_results[\"train_loss\"][-1])\n",
    "        final_results[\"test_loss\"].append(model_results[\"test_loss\"][-1])\n",
    "        \n",
    "        # saving model\n",
    "        torch.save(models[column].state_dict(), \"models/\" + str(column))\n",
    "    \n",
    "    return final_results\n",
    "\n",
    "final_results = train_models(X_train=X_train,\n",
    "                             y_train=y_train,\n",
    "                             X_test=X_test, \n",
    "                             y_test=y_test,\n",
    "                             device=device)\n",
    "      \n",
    "    "
   ]
  },
  {
   "cell_type": "code",
   "execution_count": null,
   "metadata": {},
   "outputs": [
    {
     "name": "stdout",
     "output_type": "stream",
     "text": [
      "{'train_loss': [0.21377085128663734, 0.2387742920678792, 0.2547902051346525, 0.3342327076980399, 0.41784169986380015, 0.49190813674233774, 0.6641346549286562, 0.97396822309824, 0.011800959767535278, 0.012237605003955867, 0.012924017412040164, 0.014949936685587398, 0.016897683798828545, 0.019506099891678067, 0.0317702452429799, 0.04443796769841526, 0.024112555158089292, 0.021208747283629686, 0.018552819131567404, 0.018622953025785285, 0.02013825598595, 0.023151574994737096, 0.04460553407578836, 0.068650345253568, 0.025382486404045435, 0.020984433578475535, 0.01781222696664218, 0.0190491948105962, 0.021567729691681563, 0.02562138945457226, 0.034768545624693684, 0.044107416625357006, 0.026909825956017087, 0.0212822955127509, 0.019787666299235347, 0.023939730457729534, 0.02824812754827542, 0.03401160446578914, 0.046924015964706876, 0.05895793720254849, 0.024374288390793395, 0.019506749416666046, 0.02015631235362543, 0.029023623920551737, 0.03908993648751848, 0.048522686761414, 0.06779429339078677, 0.08894923818539377, 0.02913596957058333, 0.02770875879018777, 0.025951867571880453, 0.03193492129296838, 0.0423451359367649, 0.059011131215673, 0.10692337535605298, 0.17086055208397158, 0.03315408578767702, 0.0335351622995363, 0.03234607375075454, 0.04123589467212145, 0.05403853390224046, 0.07021939698413375, 0.12012809485351751, 0.21374324680818407, 0.03277735394718944, 0.038354255636077646, 0.03752131551297891, 0.04762731527000872, 0.07368751339433928, 0.11241618583178643, 0.21174118268242345, 0.31982804025333234, 0.0232020026849499, 0.030162519256497336, 0.03390356336613943, 0.03670076566029688, 0.04563492728932197, 0.0745950212096312, 0.22013301899895124, 0.47918935888366304, 0.017123934456749874, 0.021407312919807887, 0.021623010365260206, 0.02130558166111526, 0.027069296367195753, 0.04514180519698658, 0.14523260635049903, 0.34726313620187005, 1.1171345769534062, 1.5474560155588037, 2.8205150629822358, 4.487242918113524, 5.614597092037795, 4.3588260296719294, 5.282161753895373, 7.998074975393223], 'test_loss': [0.2024157816314534, 0.26251836998821937, 0.304111876103976, 0.40661603334831864, 0.5194250847378822, 0.6182101478111254, 0.8234546792833772, 1.162722794568702, 0.012777507158430063, 0.012600657743822834, 0.01330659357346084, 0.015167913865298033, 0.017530368854712746, 0.020142251970118857, 0.027132693001974937, 0.041200987522630655, 0.025872595289288317, 0.020033043946381914, 0.01617463089984982, 0.01583866285134668, 0.018011364680778696, 0.02108652603952852, 0.029571307159654083, 0.04361793865794188, 0.027298401122632092, 0.019321768295836365, 0.015442672415240987, 0.016526758071188242, 0.020211452347137136, 0.0248899106574181, 0.03372062330631769, 0.04206240868629658, 0.02833750895033144, 0.019997314061995033, 0.01860889666139671, 0.022787089568039733, 0.02907900013386795, 0.03688327872436749, 0.0529137481871533, 0.06662611540866224, 0.02691907008267837, 0.02035283839508687, 0.022486497724607382, 0.03102762747734581, 0.043253602778972826, 0.05588639766130954, 0.08292283394616352, 0.11231098671073783, 0.03725972400391347, 0.03186643351992107, 0.030414507035421184, 0.0388818683664072, 0.053788345906730387, 0.0737451545077644, 0.13645109567434005, 0.2172011840221, 0.040857085945365364, 0.03908437087315403, 0.0377723491712384, 0.0477680087708294, 0.06581063900296003, 0.08915374966414824, 0.15531861577948478, 0.2583170356611683, 0.039901908703964865, 0.04684747579469256, 0.046596263969087434, 0.06227849520844956, 0.10175451087727122, 0.15272489889231447, 0.266128747532629, 0.37896670850172437, 0.0276471741548548, 0.03617654610680391, 0.039249198842946795, 0.04256194776357853, 0.06059281810582297, 0.11201565141138965, 0.34617616751626745, 0.6844394692819412, 0.020653176083140178, 0.026452101773442063, 0.02683660959544247, 0.02722875516198269, 0.03852931794085323, 0.0703316065419006, 0.23694912979557906, 0.5141240799263732, 1.2656707661609128, 1.5751902750910145, 3.0375846950975185, 4.955871954356154, 6.523851675530002, 6.5829699153769505, 8.252739096341069, 8.764927537473914]}\n"
     ]
    },
    {
     "data": {
      "text/plain": [
       "<BarContainer object of 96 artists>"
      ]
     },
     "execution_count": 31,
     "metadata": {},
     "output_type": "execute_result"
    },
    {
     "data": {
      "image/png": "[encoded data removed]",
      "text/plain": [
       "<Figure size 640x480 with 1 Axes>"
      ]
     },
     "metadata": {},
     "output_type": "display_data"
    }
   ],
   "source": [
    "print(final_results)\n",
    "plt.bar(range(len(final_results['test_loss'])), final_results['test_loss']) # predictions for last 8 looks bad, let"
   ]
  },
  {
   "cell_type": "code",
   "execution_count": null,
   "metadata": {},
   "outputs": [
    {
     "data": {
      "text/html": [
       "<div>\n",
       "<style scoped>\n",
       "    .dataframe tbody tr th:only-of-type {\n",
       "        vertical-align: middle;\n",
       "    }\n",
       "\n",
       "    .dataframe tbody tr th {\n",
       "        vertical-align: top;\n",
       "    }\n",
       "\n",
       "    .dataframe thead th {\n",
       "        text-align: right;\n",
       "    }\n",
       "</style>\n",
       "<table border=\"1\" class=\"dataframe\">\n",
       "  <thead>\n",
       "    <tr style=\"text-align: right;\">\n",
       "      <th></th>\n",
       "      <th>0</th>\n",
       "      <th>1</th>\n",
       "    </tr>\n",
       "  </thead>\n",
       "  <tbody>\n",
       "    <tr>\n",
       "      <th>Gybe Angles 6 kt</th>\n",
       "      <td>129.500000</td>\n",
       "      <td>180.0</td>\n",
       "    </tr>\n",
       "    <tr>\n",
       "      <th>Gybe Angles 8 kt</th>\n",
       "      <td>138.800003</td>\n",
       "      <td>180.0</td>\n",
       "    </tr>\n",
       "    <tr>\n",
       "      <th>Gybe Angles 10 kt</th>\n",
       "      <td>139.600006</td>\n",
       "      <td>180.0</td>\n",
       "    </tr>\n",
       "    <tr>\n",
       "      <th>Gybe Angles 12 kt</th>\n",
       "      <td>136.000000</td>\n",
       "      <td>180.0</td>\n",
       "    </tr>\n",
       "    <tr>\n",
       "      <th>Gybe Angles 14 kt</th>\n",
       "      <td>133.199997</td>\n",
       "      <td>180.0</td>\n",
       "    </tr>\n",
       "    <tr>\n",
       "      <th>Gybe Angles 16 kt</th>\n",
       "      <td>134.699997</td>\n",
       "      <td>180.0</td>\n",
       "    </tr>\n",
       "    <tr>\n",
       "      <th>Gybe Angles 20 kt</th>\n",
       "      <td>132.399994</td>\n",
       "      <td>180.0</td>\n",
       "    </tr>\n",
       "    <tr>\n",
       "      <th>Gybe Angles 24 kt</th>\n",
       "      <td>132.699997</td>\n",
       "      <td>180.0</td>\n",
       "    </tr>\n",
       "  </tbody>\n",
       "</table>\n",
       "</div>"
      ],
      "text/plain": [
       "                            0      1\n",
       "Gybe Angles 6 kt   129.500000  180.0\n",
       "Gybe Angles 8 kt   138.800003  180.0\n",
       "Gybe Angles 10 kt  139.600006  180.0\n",
       "Gybe Angles 12 kt  136.000000  180.0\n",
       "Gybe Angles 14 kt  133.199997  180.0\n",
       "Gybe Angles 16 kt  134.699997  180.0\n",
       "Gybe Angles 20 kt  132.399994  180.0\n",
       "Gybe Angles 24 kt  132.699997  180.0"
      ]
     },
     "execution_count": 17,
     "metadata": {},
     "output_type": "execute_result"
    }
   ],
   "source": [
    "pd.concat([outdf[outdf.columns.to_list()[-8:]].min(), \n",
    "              outdf[outdf.columns.to_list()[-8:]].max()],\n",
    "          axis=1)"
   ]
  },
  {
   "cell_type": "code",
   "execution_count": null,
   "metadata": {},
   "outputs": [],
   "source": [
    "\n",
    "def train2(model: torch.nn.Module, \n",
    "          train_dataloader: torch.utils.data.DataLoader, \n",
    "          test_dataloader: torch.utils.data.DataLoader,\n",
    "          loss_fn: torch.nn.Module, \n",
    "          optimizer: torch.optim.Optimizer, \n",
    "          epochs: int, \n",
    "          lr_start: int,\n",
    "          lr_end: int,\n",
    "          device: torch.device = device):\n",
    "    \n",
    "    def lr_lambda(epoch):\n",
    "        return (lr_end / lr_start) ** (epoch / EPOCHS)\n",
    "    \n",
    "    results = {\"train_loss\": [], \n",
    "               \"test_loss\": []}\n",
    "    \n",
    "    scheduler = torch.optim.lr_scheduler.LambdaLR(optimizer, lr_lambda)\n",
    "    \n",
    "    for epoch in range(epochs):\n",
    "        train_loss = train_step(model=model, \n",
    "                                dataloader=train_dataloader, \n",
    "                                loss_fn=loss_fn, \n",
    "                                optimizer=optimizer,\n",
    "                                device=device)\n",
    "        test_loss = test_step(model=model, \n",
    "                              dataloader=test_dataloader, \n",
    "                              loss_fn=loss_fn,\n",
    "                              device=device)\n",
    "        scheduler.step()\n",
    "        \n",
    "        print(f\"epoch: {epoch}, train_loss: {train_loss:.4f}, test_loss: {test_loss:.4f}\")\n",
    "        results['train_loss'].append(train_loss)\n",
    "        results['test_loss'].append(test_loss)\n",
    "    return results"
   ]
  },
  {
   "cell_type": "code",
   "execution_count": null,
   "metadata": {},
   "outputs": [
    {
     "name": "stdout",
     "output_type": "stream",
     "text": [
      "epoch: 0, train_loss: 41.3045, test_loss: 10.2907\n",
      "epoch: 1, train_loss: 8.5223, test_loss: 8.8348\n",
      "epoch: 2, train_loss: 7.7021, test_loss: 7.8635\n",
      "epoch: 3, train_loss: 6.8762, test_loss: 7.1116\n",
      "epoch: 4, train_loss: 6.4266, test_loss: 7.3801\n"
     ]
    }
   ],
   "source": [
    "class yachtModel8(nn.Module):\n",
    "    def __init__(self, \n",
    "                 input_shape: int, \n",
    "                 hidden_units1: int, \n",
    "                 hidden_units2: int, \n",
    "                 output_shape: int): \n",
    "        super().__init__()\n",
    "        self.layer_stack = nn.Sequential(\n",
    "            nn.Linear(in_features=input_shape, out_features= hidden_units1),\n",
    "            nn.ReLU(),\n",
    "            nn.Linear(in_features=hidden_units1, out_features=hidden_units2),\n",
    "            nn.ReLU(),\n",
    "            nn.Linear(in_features=hidden_units2, out_features=hidden_units2),\n",
    "            nn.ReLU(),\n",
    "            nn.Linear(in_features=hidden_units2, out_features=hidden_units1),\n",
    "            nn.ReLU(),\n",
    "            nn.Linear(in_features=hidden_units1, out_features=output_shape), \n",
    "            nn.ReLU(),\n",
    "        )\n",
    "        \n",
    "    def forward(self, x):\n",
    "        return self.layer_stack(x) \n",
    "    \n",
    "def train_models2( X_train: pd.DataFrame, \n",
    "                  y_train: pd.DataFrame,\n",
    "                  X_test: pd.DataFrame, \n",
    "                  y_test: pd.DataFrame,\n",
    "                  device: torch.device = device):\n",
    "  \n",
    "    models = {}\n",
    "    final_results2 = {\"train_loss\": [], \n",
    "               \"test_loss\": []}\n",
    "     \n",
    "    for column in [y_train.columns.to_list()[-1]]:\n",
    "        # making datasets \n",
    "        train_dataset = MyDataset(X_train, y_train[column])\n",
    "        test_dataset = MyDataset(X_test, y_test[column]) \n",
    "\n",
    "        # making dataloader\n",
    "        train_dataloader = DataLoader(dataset=train_dataset, \n",
    "                                        batch_size=32,\n",
    "                                        shuffle=True, \n",
    "                                        num_workers=os.cpu_count())\n",
    "        test_dataloader = DataLoader(dataset=test_dataset, \n",
    "                                    batch_size=32, \n",
    "                                    shuffle=False, \n",
    "                                    num_workers=os.cpu_count())\n",
    "        \n",
    "        # making model\n",
    "        IN_FEATURES = len(indf.columns)\n",
    "        HIDDEN_UNITS1 = 128\n",
    "        HIDDEN_UNITS2 = 64\n",
    "        OUT_FEATURES = 1\n",
    "        EPOCHS=5\n",
    "        start_lr = 0.001\n",
    "        end_lr = 0.0001\n",
    "        \n",
    "\n",
    "        torch.manual_seed(42) \n",
    "        models[column] = yachtModel8(input_shape=IN_FEATURES, # this is with relu\n",
    "                        hidden_units1=HIDDEN_UNITS1,\n",
    "                        hidden_units2=HIDDEN_UNITS2,\n",
    "                        output_shape=OUT_FEATURES).to(device)\n",
    "\n",
    "        loss_fun = nn.HuberLoss()\n",
    "        optimizer = torch.optim.Adam(params=models[column].parameters(),\n",
    "                                    lr=start_lr)\n",
    "\n",
    "        model_results = train2(model=models[column], \n",
    "                                train_dataloader=train_dataloader, \n",
    "                                test_dataloader=test_dataloader, \n",
    "                                loss_fn=loss_fun, \n",
    "                                optimizer=optimizer, \n",
    "                                epochs=EPOCHS,\n",
    "                                lr_start=start_lr,\n",
    "                                lr_end=end_lr, \n",
    "                                device=device)\n",
    "        final_results2[\"train_loss\"].append(model_results[\"train_loss\"][-1])\n",
    "        final_results2[\"test_loss\"].append(model_results[\"test_loss\"][-1])\n",
    "        \n",
    "        # saving model\n",
    "        torch.save(models[column].state_dict(), \"models/\" + str(column))\n",
    "    \n",
    "    return final_results2\n",
    "\n",
    "final_results2 = train_models2(X_train=X_train,\n",
    "                             y_train=y_train,\n",
    "                             X_test=X_test, \n",
    "                             y_test=y_test,\n",
    "                             device=device)"
   ]
  },
  {
   "cell_type": "markdown",
   "metadata": {},
   "source": [
    "cel above I found best nn setings for last elemnet, now i will apply it to last row (last 8 elements) i have to predict\n",
    "protips for future: when you serach for best setting it's good to make extra one cell with best setting for later to not loss it "
   ]
  },
  {
   "cell_type": "code",
   "execution_count": null,
   "metadata": {},
   "outputs": [
    {
     "name": "stdout",
     "output_type": "stream",
     "text": [
      "epoch: 0, train_loss: 32.8416, test_loss: 3.7706\n",
      "epoch: 1, train_loss: 1.7445, test_loss: 1.3685\n",
      "epoch: 2, train_loss: 1.2386, test_loss: 1.5736\n",
      "epoch: 3, train_loss: 1.0960, test_loss: 1.1484\n",
      "epoch: 4, train_loss: 1.0936, test_loss: 1.3665\n",
      "epoch: 5, train_loss: 1.0412, test_loss: 0.9889\n",
      "epoch: 6, train_loss: 1.0178, test_loss: 0.9759\n",
      "epoch: 7, train_loss: 0.9452, test_loss: 1.2907\n",
      "epoch: 8, train_loss: 0.9321, test_loss: 1.2304\n",
      "epoch: 9, train_loss: 0.9552, test_loss: 1.1320\n",
      "epoch: 10, train_loss: 0.8586, test_loss: 0.9823\n",
      "epoch: 11, train_loss: 0.8621, test_loss: 0.8832\n",
      "epoch: 12, train_loss: 0.8707, test_loss: 0.8800\n",
      "epoch: 13, train_loss: 0.8462, test_loss: 0.8482\n",
      "epoch: 14, train_loss: 0.8395, test_loss: 0.9533\n",
      "epoch: 15, train_loss: 0.8036, test_loss: 0.8067\n",
      "epoch: 16, train_loss: 0.8225, test_loss: 1.2830\n",
      "epoch: 17, train_loss: 0.7756, test_loss: 0.9441\n",
      "epoch: 18, train_loss: 0.7722, test_loss: 0.7694\n",
      "epoch: 19, train_loss: 0.7601, test_loss: 0.7558\n",
      "epoch: 20, train_loss: 0.7604, test_loss: 0.7259\n",
      "epoch: 21, train_loss: 0.7720, test_loss: 0.7648\n",
      "epoch: 22, train_loss: 0.7445, test_loss: 0.7100\n",
      "epoch: 23, train_loss: 0.7326, test_loss: 0.7186\n",
      "epoch: 24, train_loss: 0.7374, test_loss: 0.8961\n",
      "epoch: 25, train_loss: 0.7166, test_loss: 0.7087\n",
      "epoch: 26, train_loss: 0.7184, test_loss: 0.7311\n",
      "epoch: 27, train_loss: 0.7140, test_loss: 0.7037\n",
      "epoch: 28, train_loss: 0.7138, test_loss: 0.6972\n",
      "epoch: 29, train_loss: 0.7081, test_loss: 0.7719\n",
      "epoch: 30, train_loss: 0.6957, test_loss: 0.6734\n",
      "epoch: 31, train_loss: 0.6955, test_loss: 0.6809\n",
      "epoch: 32, train_loss: 0.7004, test_loss: 0.7241\n",
      "epoch: 33, train_loss: 0.6895, test_loss: 0.6816\n",
      "epoch: 34, train_loss: 0.6963, test_loss: 0.7089\n",
      "epoch: 35, train_loss: 0.6881, test_loss: 0.7084\n",
      "epoch: 36, train_loss: 0.6873, test_loss: 0.6698\n",
      "epoch: 37, train_loss: 0.6803, test_loss: 0.7293\n",
      "epoch: 38, train_loss: 0.6791, test_loss: 0.7625\n",
      "epoch: 39, train_loss: 0.6794, test_loss: 0.6647\n",
      "epoch: 40, train_loss: 0.6807, test_loss: 0.6586\n",
      "epoch: 41, train_loss: 0.6779, test_loss: 0.7279\n",
      "epoch: 42, train_loss: 0.6752, test_loss: 0.7771\n",
      "epoch: 43, train_loss: 0.6723, test_loss: 0.6655\n",
      "epoch: 44, train_loss: 0.6664, test_loss: 0.6510\n",
      "epoch: 45, train_loss: 0.6676, test_loss: 0.6976\n",
      "epoch: 46, train_loss: 0.6660, test_loss: 0.7003\n",
      "epoch: 47, train_loss: 0.6639, test_loss: 0.6508\n",
      "epoch: 48, train_loss: 0.6706, test_loss: 0.6439\n",
      "epoch: 49, train_loss: 0.6664, test_loss: 0.6602\n",
      "epoch: 50, train_loss: 0.6625, test_loss: 0.6597\n",
      "epoch: 51, train_loss: 0.6666, test_loss: 0.6457\n",
      "epoch: 52, train_loss: 0.6660, test_loss: 0.6439\n",
      "epoch: 53, train_loss: 0.6612, test_loss: 0.6435\n",
      "epoch: 54, train_loss: 0.6585, test_loss: 0.6373\n",
      "epoch: 55, train_loss: 0.6645, test_loss: 0.6472\n",
      "epoch: 56, train_loss: 0.6568, test_loss: 0.6383\n",
      "epoch: 57, train_loss: 0.6578, test_loss: 0.6887\n",
      "epoch: 58, train_loss: 0.6581, test_loss: 0.6460\n",
      "epoch: 59, train_loss: 0.6565, test_loss: 0.6420\n",
      "epoch: 60, train_loss: 0.6543, test_loss: 0.6748\n",
      "epoch: 61, train_loss: 0.6591, test_loss: 0.6376\n",
      "epoch: 62, train_loss: 0.6505, test_loss: 0.6555\n",
      "epoch: 63, train_loss: 0.6524, test_loss: 0.6584\n",
      "epoch: 64, train_loss: 0.6540, test_loss: 0.6396\n",
      "epoch: 65, train_loss: 0.6534, test_loss: 0.6358\n",
      "epoch: 66, train_loss: 0.6539, test_loss: 0.6340\n",
      "epoch: 67, train_loss: 0.6580, test_loss: 0.6570\n",
      "epoch: 68, train_loss: 0.6508, test_loss: 0.6431\n",
      "epoch: 69, train_loss: 0.6477, test_loss: 0.6531\n",
      "epoch: 70, train_loss: 0.6476, test_loss: 0.6415\n",
      "epoch: 71, train_loss: 0.6506, test_loss: 0.6309\n",
      "epoch: 72, train_loss: 0.6476, test_loss: 0.6546\n",
      "epoch: 73, train_loss: 0.6476, test_loss: 0.6449\n",
      "epoch: 74, train_loss: 0.6480, test_loss: 0.6423\n",
      "epoch: 75, train_loss: 0.6453, test_loss: 0.6331\n",
      "epoch: 76, train_loss: 0.6451, test_loss: 0.6324\n",
      "epoch: 77, train_loss: 0.6464, test_loss: 0.6440\n",
      "epoch: 78, train_loss: 0.6445, test_loss: 0.6396\n",
      "epoch: 79, train_loss: 0.6445, test_loss: 0.6282\n",
      "epoch: 80, train_loss: 0.6465, test_loss: 0.6596\n",
      "epoch: 81, train_loss: 0.6447, test_loss: 0.6354\n",
      "epoch: 82, train_loss: 0.6442, test_loss: 0.6319\n",
      "epoch: 83, train_loss: 0.6455, test_loss: 0.6276\n",
      "epoch: 84, train_loss: 0.6427, test_loss: 0.6348\n",
      "epoch: 85, train_loss: 0.6487, test_loss: 0.6303\n",
      "epoch: 86, train_loss: 0.6440, test_loss: 0.6337\n",
      "epoch: 87, train_loss: 0.6430, test_loss: 0.6294\n",
      "epoch: 88, train_loss: 0.6433, test_loss: 0.6302\n",
      "epoch: 89, train_loss: 0.6412, test_loss: 0.6344\n",
      "epoch: 90, train_loss: 0.6450, test_loss: 0.6291\n",
      "epoch: 91, train_loss: 0.6418, test_loss: 0.6310\n",
      "epoch: 92, train_loss: 0.6423, test_loss: 0.6458\n",
      "epoch: 93, train_loss: 0.6418, test_loss: 0.6365\n",
      "epoch: 94, train_loss: 0.6469, test_loss: 0.6287\n",
      "epoch: 95, train_loss: 0.6412, test_loss: 0.6608\n",
      "epoch: 96, train_loss: 0.6414, test_loss: 0.6323\n",
      "epoch: 97, train_loss: 0.6454, test_loss: 0.6356\n",
      "epoch: 98, train_loss: 0.6410, test_loss: 0.6290\n",
      "epoch: 99, train_loss: 0.6439, test_loss: 0.6305\n",
      "epoch: 100, train_loss: 0.6408, test_loss: 0.6395\n",
      "epoch: 101, train_loss: 0.6411, test_loss: 0.6316\n",
      "epoch: 102, train_loss: 0.6399, test_loss: 0.6270\n",
      "epoch: 103, train_loss: 0.6409, test_loss: 0.6461\n",
      "epoch: 104, train_loss: 0.6402, test_loss: 0.6425\n",
      "epoch: 105, train_loss: 0.6401, test_loss: 0.6358\n",
      "epoch: 106, train_loss: 0.6398, test_loss: 0.6313\n",
      "epoch: 107, train_loss: 0.6414, test_loss: 0.6402\n",
      "epoch: 108, train_loss: 0.6394, test_loss: 0.6305\n",
      "epoch: 109, train_loss: 0.6401, test_loss: 0.6286\n",
      "epoch: 110, train_loss: 0.6409, test_loss: 0.6354\n",
      "epoch: 111, train_loss: 0.6396, test_loss: 0.6287\n",
      "epoch: 112, train_loss: 0.6408, test_loss: 0.6437\n",
      "epoch: 113, train_loss: 0.6387, test_loss: 0.6269\n",
      "epoch: 114, train_loss: 0.6398, test_loss: 0.6357\n",
      "epoch: 115, train_loss: 0.6399, test_loss: 0.6267\n",
      "epoch: 116, train_loss: 0.6399, test_loss: 0.6342\n",
      "epoch: 117, train_loss: 0.6432, test_loss: 0.6451\n",
      "epoch: 118, train_loss: 0.6393, test_loss: 0.6278\n",
      "epoch: 119, train_loss: 0.6402, test_loss: 0.6287\n",
      "epoch: 120, train_loss: 0.6392, test_loss: 0.6427\n",
      "epoch: 121, train_loss: 0.6397, test_loss: 0.6311\n",
      "epoch: 122, train_loss: 0.6380, test_loss: 0.6335\n",
      "epoch: 123, train_loss: 0.6380, test_loss: 0.6335\n",
      "epoch: 124, train_loss: 0.6394, test_loss: 0.6342\n",
      "epoch: 125, train_loss: 0.6390, test_loss: 0.6293\n"
     ]
    },
    {
     "name": "stderr",
     "output_type": "stream",
     "text": [
      "Exception ignored in: <function _MultiProcessingDataLoaderIter.__del__ at 0x7ef5690ea950>\n",
      "Traceback (most recent call last):\n",
      "  File \"/home/kuba/miniconda3/envs/pytorch/lib/python3.10/site-packages/torch/utils/data/dataloader.py\", line 1479, in __del__\n",
      "    self._shutdown_workers()\n",
      "  File \"/home/kuba/miniconda3/envs/pytorch/lib/python3.10/site-packages/torch/utils/data/dataloader.py\", line 1462, in _shutdown_workers\n",
      "    if w.is_alive():\n",
      "  File \"/home/kuba/miniconda3/envs/pytorch/lib/python3.10/multiprocessing/process.py\", line 160, in is_alive\n",
      "    \n",
      "assert self._parent_pid == os.getpid(), 'can only test a child process'AssertionError: can only test a child process\n",
      "Exception ignored in: <function _MultiProcessingDataLoaderIter.__del__ at 0x7ef5690ea950>\n",
      "Traceback (most recent call last):\n",
      "  File \"/home/kuba/miniconda3/envs/pytorch/lib/python3.10/site-packages/torch/utils/data/dataloader.py\", line 1479, in __del__\n",
      "    self._shutdown_workers()Exception ignored in: \n",
      "<function _MultiProcessingDataLoaderIter.__del__ at 0x7ef5690ea950>  File \"/home/kuba/miniconda3/envs/pytorch/lib/python3.10/site-packages/torch/utils/data/dataloader.py\", line 1462, in _shutdown_workers\n",
      "\n",
      "    if w.is_alive():Traceback (most recent call last):\n",
      "\n",
      "  File \"/home/kuba/miniconda3/envs/pytorch/lib/python3.10/site-packages/torch/utils/data/dataloader.py\", line 1479, in __del__\n",
      "  File \"/home/kuba/miniconda3/envs/pytorch/lib/python3.10/multiprocessing/process.py\", line 160, in is_alive\n",
      "        self._shutdown_workers()assert self._parent_pid == os.getpid(), 'can only test a child process'\n",
      "\n",
      "  File \"/home/kuba/miniconda3/envs/pytorch/lib/python3.10/site-packages/torch/utils/data/dataloader.py\", line 1462, in _shutdown_workers\n",
      "AssertionError    Exception ignored in: if w.is_alive():: <function _MultiProcessingDataLoaderIter.__del__ at 0x7ef5690ea950>\n",
      "can only test a child process\n",
      "  File \"/home/kuba/miniconda3/envs/pytorch/lib/python3.10/multiprocessing/process.py\", line 160, in is_alive\n",
      "\n",
      "Traceback (most recent call last):\n",
      "    Exception ignored in:   File \"/home/kuba/miniconda3/envs/pytorch/lib/python3.10/site-packages/torch/utils/data/dataloader.py\", line 1479, in __del__\n",
      "assert self._parent_pid == os.getpid(), 'can only test a child process'<function _MultiProcessingDataLoaderIter.__del__ at 0x7ef5690ea950>    \n",
      "\n",
      "self._shutdown_workers()Traceback (most recent call last):\n",
      "AssertionError: Exception ignored in: \n",
      "  File \"/home/kuba/miniconda3/envs/pytorch/lib/python3.10/site-packages/torch/utils/data/dataloader.py\", line 1479, in __del__\n",
      "  File \"/home/kuba/miniconda3/envs/pytorch/lib/python3.10/site-packages/torch/utils/data/dataloader.py\", line 1462, in _shutdown_workers\n",
      "<function _MultiProcessingDataLoaderIter.__del__ at 0x7ef5690ea950>can only test a child process        \n",
      "\n",
      "self._shutdown_workers()if w.is_alive():Traceback (most recent call last):\n",
      "\n",
      "\n",
      "  File \"/home/kuba/miniconda3/envs/pytorch/lib/python3.10/site-packages/torch/utils/data/dataloader.py\", line 1462, in _shutdown_workers\n",
      "  File \"/home/kuba/miniconda3/envs/pytorch/lib/python3.10/site-packages/torch/utils/data/dataloader.py\", line 1479, in __del__\n",
      "  File \"/home/kuba/miniconda3/envs/pytorch/lib/python3.10/multiprocessing/process.py\", line 160, in is_alive\n",
      "            self._shutdown_workers()if w.is_alive():assert self._parent_pid == os.getpid(), 'can only test a child process'\n",
      "\n",
      "\n",
      "  File \"/home/kuba/miniconda3/envs/pytorch/lib/python3.10/site-packages/torch/utils/data/dataloader.py\", line 1462, in _shutdown_workers\n",
      "  File \"/home/kuba/miniconda3/envs/pytorch/lib/python3.10/multiprocessing/process.py\", line 160, in is_alive\n",
      "AssertionError        : if w.is_alive():assert self._parent_pid == os.getpid(), 'can only test a child process'can only test a child process\n",
      "\n",
      "\n",
      "  File \"/home/kuba/miniconda3/envs/pytorch/lib/python3.10/multiprocessing/process.py\", line 160, in is_alive\n",
      "AssertionError    : assert self._parent_pid == os.getpid(), 'can only test a child process'can only test a child process\n",
      "\n",
      "AssertionError: can only test a child process\n",
      "Exception ignored in: <function _MultiProcessingDataLoaderIter.__del__ at 0x7ef5690ea950>\n",
      "Traceback (most recent call last):\n",
      "  File \"/home/kuba/miniconda3/envs/pytorch/lib/python3.10/site-packages/torch/utils/data/dataloader.py\", line 1479, in __del__\n",
      "    self._shutdown_workers()\n",
      "  File \"/home/kuba/miniconda3/envs/pytorch/lib/python3.10/site-packages/torch/utils/data/dataloader.py\", line 1462, in _shutdown_workers\n",
      "    if w.is_alive():\n",
      "  File \"/home/kuba/miniconda3/envs/pytorch/lib/python3.10/multiprocessing/process.py\", line 160, in is_alive\n",
      "    assert self._parent_pid == os.getpid(), 'can only test a child process'\n",
      "AssertionError: can only test a child process\n",
      "Exception ignored in: <function _MultiProcessingDataLoaderIter.__del__ at 0x7ef5690ea950>\n",
      "Traceback (most recent call last):\n",
      "  File \"/home/kuba/miniconda3/envs/pytorch/lib/python3.10/site-packages/torch/utils/data/dataloader.py\", line 1479, in __del__\n",
      "    self._shutdown_workers()\n",
      "  File \"/home/kuba/miniconda3/envs/pytorch/lib/python3.10/site-packages/torch/utils/data/dataloader.py\", line 1462, in _shutdown_workers\n",
      "    if w.is_alive():\n",
      "  File \"/home/kuba/miniconda3/envs/pytorch/lib/python3.10/multiprocessing/process.py\", line 160, in is_alive\n",
      "    assert self._parent_pid == os.getpid(), 'can only test a child process'\n",
      "AssertionError: can only test a child process\n",
      "Exception ignored in: <function _MultiProcessingDataLoaderIter.__del__ at 0x7ef5690ea950>\n",
      "Traceback (most recent call last):\n",
      "  File \"/home/kuba/miniconda3/envs/pytorch/lib/python3.10/site-packages/torch/utils/data/dataloader.py\", line 1479, in __del__\n",
      "    self._shutdown_workers()\n",
      "  File \"/home/kuba/miniconda3/envs/pytorch/lib/python3.10/site-packages/torch/utils/data/dataloader.py\", line 1462, in _shutdown_workers\n",
      "    if w.is_alive():\n",
      "  File \"/home/kuba/miniconda3/envs/pytorch/lib/python3.10/multiprocessing/process.py\", line 160, in is_alive\n",
      "    assert self._parent_pid == os.getpid(), 'can only test a child process'\n",
      "AssertionError: can only test a child process\n",
      "Exception ignored in: <function _MultiProcessingDataLoaderIter.__del__ at 0x7ef5690ea950>\n",
      "Traceback (most recent call last):\n",
      "  File \"/home/kuba/miniconda3/envs/pytorch/lib/python3.10/site-packages/torch/utils/data/dataloader.py\", line 1479, in __del__\n",
      "    self._shutdown_workers()\n",
      "  File \"/home/kuba/miniconda3/envs/pytorch/lib/python3.10/site-packages/torch/utils/data/dataloader.py\", line 1462, in _shutdown_workers\n",
      "    if w.is_alive():\n",
      "  File \"/home/kuba/miniconda3/envs/pytorch/lib/python3.10/multiprocessing/process.py\", line 160, in is_alive\n",
      "    assert self._parent_pid == os.getpid(), 'can only test a child process'\n",
      "AssertionError: can only test a child process\n",
      "Exception ignored in: <function _MultiProcessingDataLoaderIter.__del__ at 0x7ef5690ea950>\n",
      "Traceback (most recent call last):\n",
      "  File \"/home/kuba/miniconda3/envs/pytorch/lib/python3.10/site-packages/torch/utils/data/dataloader.py\", line 1479, in __del__\n",
      "    self._shutdown_workers()\n",
      "  File \"/home/kuba/miniconda3/envs/pytorch/lib/python3.10/site-packages/torch/utils/data/dataloader.py\", line 1462, in _shutdown_workers\n",
      "    if w.is_alive():\n",
      "  File \"/home/kuba/miniconda3/envs/pytorch/lib/python3.10/multiprocessing/process.py\", line 160, in is_alive\n",
      "    assert self._parent_pid == os.getpid(), 'can only test a child process'\n",
      "AssertionError: can only test a child process\n",
      "Exception ignored in: <function _MultiProcessingDataLoaderIter.__del__ at 0x7ef5690ea950>\n",
      "Traceback (most recent call last):\n",
      "  File \"/home/kuba/miniconda3/envs/pytorch/lib/python3.10/site-packages/torch/utils/data/dataloader.py\", line 1479, in __del__\n",
      "    self._shutdown_workers()\n",
      "  File \"/home/kuba/miniconda3/envs/pytorch/lib/python3.10/site-packages/torch/utils/data/dataloader.py\", line 1462, in _shutdown_workers\n",
      "    if w.is_alive():\n",
      "  File \"/home/kuba/miniconda3/envs/pytorch/lib/python3.10/multiprocessing/process.py\", line 160, in is_alive\n",
      "    assert self._parent_pid == os.getpid(), 'can only test a child process'\n",
      "AssertionError: can only test a child process\n",
      "Exception ignored in: <function _MultiProcessingDataLoaderIter.__del__ at 0x7ef5690ea950>\n",
      "Traceback (most recent call last):\n",
      "  File \"/home/kuba/miniconda3/envs/pytorch/lib/python3.10/site-packages/torch/utils/data/dataloader.py\", line 1479, in __del__\n",
      "    self._shutdown_workers()\n",
      "  File \"/home/kuba/miniconda3/envs/pytorch/lib/python3.10/site-packages/torch/utils/data/dataloader.py\", line 1462, in _shutdown_workers\n",
      "    if w.is_alive():\n",
      "  File \"/home/kuba/miniconda3/envs/pytorch/lib/python3.10/multiprocessing/process.py\", line 160, in is_alive\n",
      "    assert self._parent_pid == os.getpid(), 'can only test a child process'\n",
      "AssertionError: can only test a child process\n",
      "Exception ignored in: <function _MultiProcessingDataLoaderIter.__del__ at 0x7ef5690ea950>\n",
      "Traceback (most recent call last):\n",
      "  File \"/home/kuba/miniconda3/envs/pytorch/lib/python3.10/site-packages/torch/utils/data/dataloader.py\", line 1479, in __del__\n",
      "    self._shutdown_workers()\n",
      "  File \"/home/kuba/miniconda3/envs/pytorch/lib/python3.10/site-packages/torch/utils/data/dataloader.py\", line 1462, in _shutdown_workers\n",
      "    if w.is_alive():\n",
      "  File \"/home/kuba/miniconda3/envs/pytorch/lib/python3.10/multiprocessing/process.py\", line 160, in is_alive\n",
      "    assert self._parent_pid == os.getpid(), 'can only test a child process'\n",
      "AssertionError: can only test a child process\n",
      "Exception ignored in: <function _MultiProcessingDataLoaderIter.__del__ at 0x7ef5690ea950>\n",
      "Traceback (most recent call last):\n",
      "  File \"/home/kuba/miniconda3/envs/pytorch/lib/python3.10/site-packages/torch/utils/data/dataloader.py\", line 1479, in __del__\n",
      "    self._shutdown_workers()\n",
      "  File \"/home/kuba/miniconda3/envs/pytorch/lib/python3.10/site-packages/torch/utils/data/dataloader.py\", line 1462, in _shutdown_workers\n",
      "    if w.is_alive():\n",
      "  File \"/home/kuba/miniconda3/envs/pytorch/lib/python3.10/multiprocessing/process.py\", line 160, in is_alive\n",
      "    assert self._parent_pid == os.getpid(), 'can only test a child process'\n",
      "AssertionError: can only test a child process\n"
     ]
    },
    {
     "name": "stdout",
     "output_type": "stream",
     "text": [
      "epoch: 126, train_loss: 0.6380, test_loss: 0.6276\n",
      "epoch: 127, train_loss: 0.6395, test_loss: 0.6302\n",
      "epoch: 128, train_loss: 0.6378, test_loss: 0.6283\n",
      "epoch: 129, train_loss: 0.6383, test_loss: 0.6292\n",
      "epoch: 130, train_loss: 0.6394, test_loss: 0.6288\n",
      "epoch: 131, train_loss: 0.6397, test_loss: 0.6259\n",
      "epoch: 132, train_loss: 0.6377, test_loss: 0.6412\n",
      "epoch: 133, train_loss: 0.6378, test_loss: 0.6278\n",
      "epoch: 134, train_loss: 0.6385, test_loss: 0.6323\n",
      "epoch: 135, train_loss: 0.6375, test_loss: 0.6313\n",
      "epoch: 136, train_loss: 0.6385, test_loss: 0.6301\n",
      "epoch: 137, train_loss: 0.6379, test_loss: 0.6290\n",
      "epoch: 138, train_loss: 0.6376, test_loss: 0.6354\n",
      "epoch: 139, train_loss: 0.6387, test_loss: 0.6325\n",
      "epoch: 140, train_loss: 0.6377, test_loss: 0.6354\n",
      "epoch: 141, train_loss: 0.6380, test_loss: 0.6322\n",
      "epoch: 142, train_loss: 0.6428, test_loss: 0.6306\n",
      "epoch: 143, train_loss: 0.6377, test_loss: 0.6300\n",
      "epoch: 144, train_loss: 0.6388, test_loss: 0.6308\n",
      "epoch: 145, train_loss: 0.6382, test_loss: 0.6283\n",
      "epoch: 146, train_loss: 0.6377, test_loss: 0.6337\n",
      "epoch: 147, train_loss: 0.6379, test_loss: 0.6304\n",
      "epoch: 148, train_loss: 0.6386, test_loss: 0.6296\n",
      "epoch: 149, train_loss: 0.6376, test_loss: 0.6293\n",
      "epoch: 0, train_loss: 34.5339, test_loss: 4.2560\n",
      "epoch: 1, train_loss: 2.2685, test_loss: 1.6762\n",
      "epoch: 2, train_loss: 1.6235, test_loss: 2.1273\n",
      "epoch: 3, train_loss: 1.4981, test_loss: 1.8071\n",
      "epoch: 4, train_loss: 1.4627, test_loss: 2.1200\n",
      "epoch: 5, train_loss: 1.3724, test_loss: 1.4735\n",
      "epoch: 6, train_loss: 1.3252, test_loss: 1.2414\n",
      "epoch: 7, train_loss: 1.2377, test_loss: 1.2065\n",
      "epoch: 8, train_loss: 1.2204, test_loss: 1.1831\n",
      "epoch: 9, train_loss: 1.2395, test_loss: 1.2413\n",
      "epoch: 10, train_loss: 1.1359, test_loss: 1.0490\n",
      "epoch: 11, train_loss: 1.1250, test_loss: 1.0556\n",
      "epoch: 12, train_loss: 1.1087, test_loss: 1.0014\n",
      "epoch: 13, train_loss: 1.0981, test_loss: 0.9724\n",
      "epoch: 14, train_loss: 1.1184, test_loss: 1.0415\n",
      "epoch: 15, train_loss: 1.0594, test_loss: 1.1156\n",
      "epoch: 16, train_loss: 1.0572, test_loss: 1.0170\n",
      "epoch: 17, train_loss: 1.0190, test_loss: 1.0447\n",
      "epoch: 18, train_loss: 1.0380, test_loss: 0.9403\n",
      "epoch: 19, train_loss: 1.0205, test_loss: 0.8988\n",
      "epoch: 20, train_loss: 0.9923, test_loss: 0.8987\n",
      "epoch: 21, train_loss: 0.9829, test_loss: 0.9308\n",
      "epoch: 22, train_loss: 0.9853, test_loss: 0.8879\n",
      "epoch: 23, train_loss: 0.9562, test_loss: 0.8754\n",
      "epoch: 24, train_loss: 0.9644, test_loss: 0.9549\n",
      "epoch: 25, train_loss: 0.9505, test_loss: 0.8717\n",
      "epoch: 26, train_loss: 0.9493, test_loss: 0.8838\n",
      "epoch: 27, train_loss: 0.9523, test_loss: 0.8958\n",
      "epoch: 28, train_loss: 0.9342, test_loss: 0.8909\n",
      "epoch: 29, train_loss: 0.9388, test_loss: 0.8520\n",
      "epoch: 30, train_loss: 0.9486, test_loss: 0.8989\n",
      "epoch: 31, train_loss: 0.9271, test_loss: 0.8598\n",
      "epoch: 32, train_loss: 0.9384, test_loss: 0.8483\n",
      "epoch: 33, train_loss: 0.9251, test_loss: 0.8592\n",
      "epoch: 34, train_loss: 0.9194, test_loss: 0.8367\n",
      "epoch: 35, train_loss: 0.9257, test_loss: 0.8399\n",
      "epoch: 36, train_loss: 0.9217, test_loss: 0.8377\n",
      "epoch: 37, train_loss: 0.9158, test_loss: 0.8364\n",
      "epoch: 38, train_loss: 0.9114, test_loss: 0.8391\n",
      "epoch: 39, train_loss: 0.9077, test_loss: 0.8388\n",
      "epoch: 40, train_loss: 0.9087, test_loss: 0.8471\n",
      "epoch: 41, train_loss: 0.9227, test_loss: 0.8463\n",
      "epoch: 42, train_loss: 0.9123, test_loss: 0.8947\n",
      "epoch: 43, train_loss: 0.8940, test_loss: 0.8351\n",
      "epoch: 44, train_loss: 0.9052, test_loss: 0.8289\n",
      "epoch: 45, train_loss: 0.9059, test_loss: 0.8323\n",
      "epoch: 46, train_loss: 0.8992, test_loss: 0.8272\n",
      "epoch: 47, train_loss: 0.8965, test_loss: 0.8586\n",
      "epoch: 48, train_loss: 0.8967, test_loss: 0.8244\n",
      "epoch: 49, train_loss: 0.8896, test_loss: 0.8270\n",
      "epoch: 50, train_loss: 0.9002, test_loss: 0.8229\n",
      "epoch: 51, train_loss: 0.8895, test_loss: 0.8902\n",
      "epoch: 52, train_loss: 0.8929, test_loss: 0.8219\n",
      "epoch: 53, train_loss: 0.8931, test_loss: 0.8323\n",
      "epoch: 54, train_loss: 0.8870, test_loss: 0.8286\n",
      "epoch: 55, train_loss: 0.8841, test_loss: 0.8161\n",
      "epoch: 56, train_loss: 0.8858, test_loss: 0.8335\n",
      "epoch: 57, train_loss: 0.8849, test_loss: 0.8227\n",
      "epoch: 58, train_loss: 0.8824, test_loss: 0.8278\n",
      "epoch: 59, train_loss: 0.8823, test_loss: 0.8307\n",
      "epoch: 60, train_loss: 0.8810, test_loss: 0.8186\n",
      "epoch: 61, train_loss: 0.8847, test_loss: 0.8356\n",
      "epoch: 62, train_loss: 0.8803, test_loss: 0.8134\n",
      "epoch: 63, train_loss: 0.8807, test_loss: 0.8144\n",
      "epoch: 64, train_loss: 0.8776, test_loss: 0.8123\n",
      "epoch: 65, train_loss: 0.8868, test_loss: 0.8165\n",
      "epoch: 66, train_loss: 0.8811, test_loss: 0.8153\n",
      "epoch: 67, train_loss: 0.8816, test_loss: 0.8218\n",
      "epoch: 68, train_loss: 0.8858, test_loss: 0.8134\n",
      "epoch: 69, train_loss: 0.8743, test_loss: 0.8118\n",
      "epoch: 70, train_loss: 0.8760, test_loss: 0.8447\n",
      "epoch: 71, train_loss: 0.8758, test_loss: 0.8133\n",
      "epoch: 72, train_loss: 0.8734, test_loss: 0.8165\n",
      "epoch: 73, train_loss: 0.8738, test_loss: 0.8314\n",
      "epoch: 74, train_loss: 0.8756, test_loss: 0.8211\n",
      "epoch: 75, train_loss: 0.8749, test_loss: 0.8108\n",
      "epoch: 76, train_loss: 0.8747, test_loss: 0.8145\n",
      "epoch: 77, train_loss: 0.8725, test_loss: 0.8077\n",
      "epoch: 78, train_loss: 0.8709, test_loss: 0.8085\n",
      "epoch: 79, train_loss: 0.8721, test_loss: 0.8126\n",
      "epoch: 80, train_loss: 0.8704, test_loss: 0.8103\n",
      "epoch: 81, train_loss: 0.8738, test_loss: 0.8079\n",
      "epoch: 82, train_loss: 0.8699, test_loss: 0.8075\n",
      "epoch: 83, train_loss: 0.8697, test_loss: 0.8068\n",
      "epoch: 84, train_loss: 0.8710, test_loss: 0.8136\n",
      "epoch: 85, train_loss: 0.8746, test_loss: 0.8069\n",
      "epoch: 86, train_loss: 0.8738, test_loss: 0.8057\n",
      "epoch: 87, train_loss: 0.8680, test_loss: 0.8061\n",
      "epoch: 88, train_loss: 0.8740, test_loss: 0.8068\n",
      "epoch: 89, train_loss: 0.8683, test_loss: 0.8068\n",
      "epoch: 90, train_loss: 0.8764, test_loss: 0.8066\n",
      "epoch: 91, train_loss: 0.8684, test_loss: 0.8056\n",
      "epoch: 92, train_loss: 0.8699, test_loss: 0.8139\n",
      "epoch: 93, train_loss: 0.8698, test_loss: 0.8054\n",
      "epoch: 94, train_loss: 0.8716, test_loss: 0.8047\n",
      "epoch: 95, train_loss: 0.8714, test_loss: 0.8071\n",
      "epoch: 96, train_loss: 0.8670, test_loss: 0.8090\n",
      "epoch: 97, train_loss: 0.8705, test_loss: 0.8067\n",
      "epoch: 98, train_loss: 0.8677, test_loss: 0.8166\n",
      "epoch: 99, train_loss: 0.8747, test_loss: 0.8051\n",
      "epoch: 100, train_loss: 0.8666, test_loss: 0.8114\n",
      "epoch: 101, train_loss: 0.8702, test_loss: 0.8087\n",
      "epoch: 102, train_loss: 0.8663, test_loss: 0.8046\n",
      "epoch: 103, train_loss: 0.8669, test_loss: 0.8123\n",
      "epoch: 104, train_loss: 0.8662, test_loss: 0.8083\n",
      "epoch: 105, train_loss: 0.8660, test_loss: 0.8045\n",
      "epoch: 106, train_loss: 0.8662, test_loss: 0.8042\n",
      "epoch: 107, train_loss: 0.8688, test_loss: 0.8071\n",
      "epoch: 108, train_loss: 0.8663, test_loss: 0.8061\n",
      "epoch: 109, train_loss: 0.8650, test_loss: 0.8191\n",
      "epoch: 110, train_loss: 0.8658, test_loss: 0.8054\n",
      "epoch: 111, train_loss: 0.8674, test_loss: 0.8106\n",
      "epoch: 112, train_loss: 0.8668, test_loss: 0.8042\n",
      "epoch: 113, train_loss: 0.8660, test_loss: 0.8089\n",
      "epoch: 114, train_loss: 0.8679, test_loss: 0.8057\n",
      "epoch: 115, train_loss: 0.8654, test_loss: 0.8042\n",
      "epoch: 116, train_loss: 0.8650, test_loss: 0.8068\n",
      "epoch: 117, train_loss: 0.8690, test_loss: 0.8079\n",
      "epoch: 118, train_loss: 0.8644, test_loss: 0.8081\n",
      "epoch: 119, train_loss: 0.8690, test_loss: 0.8043\n",
      "epoch: 120, train_loss: 0.8657, test_loss: 0.8102\n",
      "epoch: 121, train_loss: 0.8647, test_loss: 0.8043\n",
      "epoch: 122, train_loss: 0.8648, test_loss: 0.8104\n",
      "epoch: 123, train_loss: 0.8644, test_loss: 0.8070\n",
      "epoch: 124, train_loss: 0.8658, test_loss: 0.8070\n",
      "epoch: 125, train_loss: 0.8707, test_loss: 0.8045\n",
      "epoch: 126, train_loss: 0.8643, test_loss: 0.8078\n",
      "epoch: 127, train_loss: 0.8643, test_loss: 0.8041\n",
      "epoch: 128, train_loss: 0.8640, test_loss: 0.8059\n",
      "epoch: 129, train_loss: 0.8650, test_loss: 0.8034\n",
      "epoch: 130, train_loss: 0.8675, test_loss: 0.8038\n",
      "epoch: 131, train_loss: 0.8636, test_loss: 0.8034\n",
      "epoch: 132, train_loss: 0.8638, test_loss: 0.8059\n",
      "epoch: 133, train_loss: 0.8638, test_loss: 0.8034\n",
      "epoch: 134, train_loss: 0.8649, test_loss: 0.8066\n",
      "epoch: 135, train_loss: 0.8646, test_loss: 0.8056\n",
      "epoch: 136, train_loss: 0.8647, test_loss: 0.8036\n",
      "epoch: 137, train_loss: 0.8640, test_loss: 0.8034\n",
      "epoch: 138, train_loss: 0.8644, test_loss: 0.8047\n",
      "epoch: 139, train_loss: 0.8639, test_loss: 0.8037\n",
      "epoch: 140, train_loss: 0.8636, test_loss: 0.8071\n",
      "epoch: 141, train_loss: 0.8639, test_loss: 0.8052\n",
      "epoch: 142, train_loss: 0.8683, test_loss: 0.8034\n",
      "epoch: 143, train_loss: 0.8633, test_loss: 0.8036\n",
      "epoch: 144, train_loss: 0.8672, test_loss: 0.8070\n",
      "epoch: 145, train_loss: 0.8636, test_loss: 0.8041\n",
      "epoch: 146, train_loss: 0.8633, test_loss: 0.8049\n",
      "epoch: 147, train_loss: 0.8638, test_loss: 0.8032\n",
      "epoch: 148, train_loss: 0.8672, test_loss: 0.8033\n",
      "epoch: 149, train_loss: 0.8637, test_loss: 0.8038\n",
      "epoch: 0, train_loss: 35.9646, test_loss: 4.9233\n",
      "epoch: 1, train_loss: 3.1896, test_loss: 2.9550\n",
      "epoch: 2, train_loss: 2.5894, test_loss: 3.6648\n",
      "epoch: 3, train_loss: 2.3629, test_loss: 2.4383\n",
      "epoch: 4, train_loss: 2.1136, test_loss: 2.3861\n",
      "epoch: 5, train_loss: 2.0009, test_loss: 2.0624\n",
      "epoch: 6, train_loss: 1.8898, test_loss: 1.9263\n",
      "epoch: 7, train_loss: 1.7930, test_loss: 2.5867\n",
      "epoch: 8, train_loss: 1.7326, test_loss: 1.8055\n",
      "epoch: 9, train_loss: 1.6727, test_loss: 1.8991\n",
      "epoch: 10, train_loss: 1.5894, test_loss: 2.4328\n",
      "epoch: 11, train_loss: 1.5669, test_loss: 1.7155\n",
      "epoch: 12, train_loss: 1.5170, test_loss: 1.7804\n",
      "epoch: 13, train_loss: 1.5476, test_loss: 1.6821\n",
      "epoch: 14, train_loss: 1.4827, test_loss: 2.1025\n",
      "epoch: 15, train_loss: 1.4511, test_loss: 1.6782\n",
      "epoch: 16, train_loss: 1.4179, test_loss: 1.8170\n",
      "epoch: 17, train_loss: 1.4031, test_loss: 1.7404\n",
      "epoch: 18, train_loss: 1.3656, test_loss: 1.7929\n",
      "epoch: 19, train_loss: 1.3712, test_loss: 1.7061\n",
      "epoch: 20, train_loss: 1.3523, test_loss: 1.5888\n",
      "epoch: 21, train_loss: 1.3415, test_loss: 1.6849\n",
      "epoch: 22, train_loss: 1.3144, test_loss: 1.7290\n",
      "epoch: 23, train_loss: 1.3168, test_loss: 1.5794\n",
      "epoch: 24, train_loss: 1.2823, test_loss: 1.5812\n",
      "epoch: 25, train_loss: 1.2950, test_loss: 1.6218\n",
      "epoch: 26, train_loss: 1.2882, test_loss: 1.8517\n",
      "epoch: 27, train_loss: 1.2697, test_loss: 1.7590\n",
      "epoch: 28, train_loss: 1.2494, test_loss: 1.7215\n",
      "epoch: 29, train_loss: 1.2728, test_loss: 1.6199\n",
      "epoch: 30, train_loss: 1.2488, test_loss: 1.6711\n",
      "epoch: 31, train_loss: 1.2466, test_loss: 1.5745\n",
      "epoch: 32, train_loss: 1.2388, test_loss: 1.5485\n",
      "epoch: 33, train_loss: 1.2411, test_loss: 1.5032\n",
      "epoch: 34, train_loss: 1.2241, test_loss: 1.5370\n",
      "epoch: 35, train_loss: 1.2206, test_loss: 1.5717\n",
      "epoch: 36, train_loss: 1.2211, test_loss: 1.5793\n",
      "epoch: 37, train_loss: 1.2171, test_loss: 1.5503\n",
      "epoch: 38, train_loss: 1.2027, test_loss: 1.5716\n",
      "epoch: 39, train_loss: 1.2103, test_loss: 1.5614\n",
      "epoch: 40, train_loss: 1.2098, test_loss: 1.5401\n",
      "epoch: 41, train_loss: 1.1973, test_loss: 1.5708\n",
      "epoch: 42, train_loss: 1.1973, test_loss: 1.5670\n",
      "epoch: 43, train_loss: 1.2054, test_loss: 1.6157\n",
      "epoch: 44, train_loss: 1.1865, test_loss: 1.5538\n",
      "epoch: 45, train_loss: 1.1902, test_loss: 1.4550\n",
      "epoch: 46, train_loss: 1.1825, test_loss: 1.5223\n",
      "epoch: 47, train_loss: 1.1797, test_loss: 1.5643\n",
      "epoch: 48, train_loss: 1.1787, test_loss: 1.5036\n",
      "epoch: 49, train_loss: 1.1740, test_loss: 1.5319\n",
      "epoch: 50, train_loss: 1.1702, test_loss: 1.5015\n",
      "epoch: 51, train_loss: 1.1742, test_loss: 1.6432\n",
      "epoch: 52, train_loss: 1.1683, test_loss: 1.6127\n",
      "epoch: 53, train_loss: 1.1630, test_loss: 1.4947\n",
      "epoch: 54, train_loss: 1.1592, test_loss: 1.5179\n",
      "epoch: 55, train_loss: 1.1618, test_loss: 1.5813\n",
      "epoch: 56, train_loss: 1.1621, test_loss: 1.5110\n",
      "epoch: 57, train_loss: 1.1659, test_loss: 1.4895\n",
      "epoch: 58, train_loss: 1.1584, test_loss: 1.5419\n",
      "epoch: 59, train_loss: 1.1652, test_loss: 1.5027\n",
      "epoch: 60, train_loss: 1.1605, test_loss: 1.5273\n",
      "epoch: 61, train_loss: 1.1498, test_loss: 1.4895\n",
      "epoch: 62, train_loss: 1.1486, test_loss: 1.5276\n",
      "epoch: 63, train_loss: 1.1516, test_loss: 1.5126\n",
      "epoch: 64, train_loss: 1.1491, test_loss: 1.4952\n",
      "epoch: 65, train_loss: 1.1507, test_loss: 1.5198\n",
      "epoch: 66, train_loss: 1.1487, test_loss: 1.4713\n",
      "epoch: 67, train_loss: 1.1440, test_loss: 1.5059\n",
      "epoch: 68, train_loss: 1.1472, test_loss: 1.5008\n",
      "epoch: 69, train_loss: 1.1471, test_loss: 1.4863\n",
      "epoch: 70, train_loss: 1.1424, test_loss: 1.4874\n",
      "epoch: 71, train_loss: 1.1381, test_loss: 1.5298\n",
      "epoch: 72, train_loss: 1.1419, test_loss: 1.4726\n",
      "epoch: 73, train_loss: 1.1408, test_loss: 1.4823\n",
      "epoch: 74, train_loss: 1.1382, test_loss: 1.5075\n",
      "epoch: 75, train_loss: 1.1388, test_loss: 1.5071\n",
      "epoch: 76, train_loss: 1.1381, test_loss: 1.4823\n",
      "epoch: 77, train_loss: 1.1379, test_loss: 1.4932\n",
      "epoch: 78, train_loss: 1.1358, test_loss: 1.4770\n",
      "epoch: 79, train_loss: 1.1353, test_loss: 1.4804\n",
      "epoch: 80, train_loss: 1.1342, test_loss: 1.4808\n",
      "epoch: 81, train_loss: 1.1380, test_loss: 1.4936\n",
      "epoch: 82, train_loss: 1.1352, test_loss: 1.4877\n",
      "epoch: 83, train_loss: 1.1382, test_loss: 1.4993\n",
      "epoch: 84, train_loss: 1.1357, test_loss: 1.4744\n",
      "epoch: 85, train_loss: 1.1326, test_loss: 1.4738\n",
      "epoch: 86, train_loss: 1.1418, test_loss: 1.4683\n",
      "epoch: 87, train_loss: 1.1307, test_loss: 1.4587\n",
      "epoch: 88, train_loss: 1.1359, test_loss: 1.4650\n",
      "epoch: 89, train_loss: 1.1302, test_loss: 1.4938\n",
      "epoch: 90, train_loss: 1.1346, test_loss: 1.4711\n",
      "epoch: 91, train_loss: 1.1295, test_loss: 1.4689\n",
      "epoch: 92, train_loss: 1.1291, test_loss: 1.4642\n",
      "epoch: 93, train_loss: 1.1309, test_loss: 1.4765\n",
      "epoch: 94, train_loss: 1.1323, test_loss: 1.4814\n",
      "epoch: 95, train_loss: 1.1291, test_loss: 1.4816\n",
      "epoch: 96, train_loss: 1.1314, test_loss: 1.4743\n",
      "epoch: 97, train_loss: 1.1281, test_loss: 1.4760\n",
      "epoch: 98, train_loss: 1.1313, test_loss: 1.4774\n",
      "epoch: 99, train_loss: 1.1328, test_loss: 1.4759\n",
      "epoch: 100, train_loss: 1.1258, test_loss: 1.4704\n",
      "epoch: 101, train_loss: 1.1294, test_loss: 1.4758\n",
      "epoch: 102, train_loss: 1.1258, test_loss: 1.4714\n",
      "epoch: 103, train_loss: 1.1276, test_loss: 1.4723\n",
      "epoch: 104, train_loss: 1.1284, test_loss: 1.4754\n",
      "epoch: 105, train_loss: 1.1281, test_loss: 1.4756\n",
      "epoch: 106, train_loss: 1.1276, test_loss: 1.4779\n",
      "epoch: 107, train_loss: 1.1285, test_loss: 1.4720\n",
      "epoch: 108, train_loss: 1.1246, test_loss: 1.4738\n",
      "epoch: 109, train_loss: 1.1281, test_loss: 1.4715\n",
      "epoch: 110, train_loss: 1.1282, test_loss: 1.4699\n",
      "epoch: 111, train_loss: 1.1249, test_loss: 1.4688\n",
      "epoch: 112, train_loss: 1.1238, test_loss: 1.4770\n",
      "epoch: 113, train_loss: 1.1259, test_loss: 1.4686\n",
      "epoch: 114, train_loss: 1.1272, test_loss: 1.4701\n",
      "epoch: 115, train_loss: 1.1262, test_loss: 1.4711\n",
      "epoch: 116, train_loss: 1.1251, test_loss: 1.4690\n",
      "epoch: 117, train_loss: 1.1262, test_loss: 1.4700\n",
      "epoch: 118, train_loss: 1.1252, test_loss: 1.4729\n",
      "epoch: 119, train_loss: 1.1247, test_loss: 1.4696\n",
      "epoch: 120, train_loss: 1.1274, test_loss: 1.4711\n",
      "epoch: 121, train_loss: 1.1233, test_loss: 1.4706\n",
      "epoch: 122, train_loss: 1.1251, test_loss: 1.4703\n",
      "epoch: 123, train_loss: 1.1230, test_loss: 1.4692\n",
      "epoch: 124, train_loss: 1.1280, test_loss: 1.4705\n",
      "epoch: 125, train_loss: 1.1252, test_loss: 1.4698\n",
      "epoch: 126, train_loss: 1.1231, test_loss: 1.4718\n",
      "epoch: 127, train_loss: 1.1224, test_loss: 1.4714\n",
      "epoch: 128, train_loss: 1.1226, test_loss: 1.4712\n",
      "epoch: 129, train_loss: 1.1243, test_loss: 1.4689\n",
      "epoch: 130, train_loss: 1.1225, test_loss: 1.4682\n",
      "epoch: 131, train_loss: 1.1223, test_loss: 1.4693\n",
      "epoch: 132, train_loss: 1.1230, test_loss: 1.4717\n",
      "epoch: 133, train_loss: 1.1220, test_loss: 1.4690\n",
      "epoch: 134, train_loss: 1.1268, test_loss: 1.4703\n",
      "epoch: 135, train_loss: 1.1242, test_loss: 1.4686\n",
      "epoch: 136, train_loss: 1.1232, test_loss: 1.4687\n",
      "epoch: 137, train_loss: 1.1233, test_loss: 1.4691\n",
      "epoch: 138, train_loss: 1.1245, test_loss: 1.4693\n",
      "epoch: 139, train_loss: 1.1215, test_loss: 1.4692\n",
      "epoch: 140, train_loss: 1.1219, test_loss: 1.4691\n",
      "epoch: 141, train_loss: 1.1215, test_loss: 1.4687\n",
      "epoch: 142, train_loss: 1.1244, test_loss: 1.4688\n",
      "epoch: 143, train_loss: 1.1228, test_loss: 1.4689\n",
      "epoch: 144, train_loss: 1.1254, test_loss: 1.4692\n",
      "epoch: 145, train_loss: 1.1209, test_loss: 1.4687\n",
      "epoch: 146, train_loss: 1.1220, test_loss: 1.4689\n",
      "epoch: 147, train_loss: 1.1224, test_loss: 1.4687\n",
      "epoch: 148, train_loss: 1.1248, test_loss: 1.4684\n",
      "epoch: 149, train_loss: 1.1217, test_loss: 1.4680\n",
      "epoch: 0, train_loss: 38.0858, test_loss: 6.6569\n",
      "epoch: 1, train_loss: 4.4973, test_loss: 3.6906\n",
      "epoch: 2, train_loss: 3.0945, test_loss: 2.7943\n",
      "epoch: 3, train_loss: 2.4551, test_loss: 2.3076\n",
      "epoch: 4, train_loss: 2.0708, test_loss: 2.3017\n",
      "epoch: 5, train_loss: 1.9284, test_loss: 1.9357\n",
      "epoch: 6, train_loss: 1.8064, test_loss: 2.1219\n",
      "epoch: 7, train_loss: 1.7003, test_loss: 1.9042\n",
      "epoch: 8, train_loss: 1.5826, test_loss: 1.6954\n",
      "epoch: 9, train_loss: 1.5113, test_loss: 1.8330\n",
      "epoch: 10, train_loss: 1.4722, test_loss: 1.5541\n",
      "epoch: 11, train_loss: 1.4036, test_loss: 1.6908\n",
      "epoch: 12, train_loss: 1.3967, test_loss: 1.6087\n",
      "epoch: 13, train_loss: 1.3323, test_loss: 1.5184\n",
      "epoch: 14, train_loss: 1.3035, test_loss: 1.4874\n",
      "epoch: 15, train_loss: 1.2741, test_loss: 1.6001\n",
      "epoch: 16, train_loss: 1.2276, test_loss: 1.4229\n",
      "epoch: 17, train_loss: 1.2318, test_loss: 1.4078\n",
      "epoch: 18, train_loss: 1.2143, test_loss: 1.4073\n",
      "epoch: 19, train_loss: 1.2568, test_loss: 1.3855\n",
      "epoch: 20, train_loss: 1.1612, test_loss: 1.3489\n",
      "epoch: 21, train_loss: 1.1667, test_loss: 1.3583\n",
      "epoch: 22, train_loss: 1.1521, test_loss: 1.3826\n",
      "epoch: 23, train_loss: 1.1409, test_loss: 1.3255\n",
      "epoch: 24, train_loss: 1.1367, test_loss: 1.3025\n",
      "epoch: 25, train_loss: 1.1319, test_loss: 1.4194\n",
      "epoch: 26, train_loss: 1.1274, test_loss: 1.3512\n",
      "epoch: 27, train_loss: 1.0909, test_loss: 1.3013\n",
      "epoch: 28, train_loss: 1.1049, test_loss: 1.4039\n",
      "epoch: 29, train_loss: 1.0792, test_loss: 1.3326\n",
      "epoch: 30, train_loss: 1.0899, test_loss: 1.2747\n",
      "epoch: 31, train_loss: 1.0779, test_loss: 1.2802\n",
      "epoch: 32, train_loss: 1.0704, test_loss: 1.2568\n",
      "epoch: 33, train_loss: 1.0523, test_loss: 1.2488\n",
      "epoch: 34, train_loss: 1.0503, test_loss: 1.2707\n",
      "epoch: 35, train_loss: 1.0466, test_loss: 1.2344\n",
      "epoch: 36, train_loss: 1.0532, test_loss: 1.2625\n",
      "epoch: 37, train_loss: 1.0525, test_loss: 1.2744\n",
      "epoch: 38, train_loss: 1.0278, test_loss: 1.2389\n",
      "epoch: 39, train_loss: 1.0255, test_loss: 1.2493\n",
      "epoch: 40, train_loss: 1.0236, test_loss: 1.2567\n",
      "epoch: 41, train_loss: 1.0226, test_loss: 1.2254\n",
      "epoch: 42, train_loss: 1.0195, test_loss: 1.2930\n",
      "epoch: 43, train_loss: 1.0196, test_loss: 1.2777\n",
      "epoch: 44, train_loss: 1.0083, test_loss: 1.2367\n",
      "epoch: 45, train_loss: 1.0125, test_loss: 1.2306\n",
      "epoch: 46, train_loss: 1.0172, test_loss: 1.2227\n",
      "epoch: 47, train_loss: 1.0037, test_loss: 1.2265\n",
      "epoch: 48, train_loss: 1.0047, test_loss: 1.2015\n",
      "epoch: 49, train_loss: 1.0023, test_loss: 1.2009\n",
      "epoch: 50, train_loss: 0.9990, test_loss: 1.2022\n",
      "epoch: 51, train_loss: 0.9978, test_loss: 1.2102\n",
      "epoch: 52, train_loss: 0.9954, test_loss: 1.2422\n",
      "epoch: 53, train_loss: 0.9940, test_loss: 1.2021\n",
      "epoch: 54, train_loss: 0.9851, test_loss: 1.2246\n",
      "epoch: 55, train_loss: 0.9885, test_loss: 1.3146\n",
      "epoch: 56, train_loss: 0.9928, test_loss: 1.2056\n",
      "epoch: 57, train_loss: 0.9865, test_loss: 1.1999\n",
      "epoch: 58, train_loss: 0.9779, test_loss: 1.2067\n",
      "epoch: 59, train_loss: 0.9830, test_loss: 1.1893\n",
      "epoch: 60, train_loss: 0.9801, test_loss: 1.2076\n",
      "epoch: 61, train_loss: 0.9772, test_loss: 1.2066\n",
      "epoch: 62, train_loss: 0.9684, test_loss: 1.1872\n",
      "epoch: 63, train_loss: 0.9751, test_loss: 1.2128\n",
      "epoch: 64, train_loss: 0.9711, test_loss: 1.1963\n",
      "epoch: 65, train_loss: 0.9700, test_loss: 1.1964\n",
      "epoch: 66, train_loss: 0.9741, test_loss: 1.1886\n",
      "epoch: 67, train_loss: 0.9674, test_loss: 1.1928\n",
      "epoch: 68, train_loss: 0.9683, test_loss: 1.1763\n",
      "epoch: 69, train_loss: 0.9673, test_loss: 1.1823\n",
      "epoch: 70, train_loss: 0.9614, test_loss: 1.1906\n",
      "epoch: 71, train_loss: 0.9644, test_loss: 1.1933\n",
      "epoch: 72, train_loss: 0.9657, test_loss: 1.1983\n",
      "epoch: 73, train_loss: 0.9647, test_loss: 1.1821\n",
      "epoch: 74, train_loss: 0.9621, test_loss: 1.1752\n",
      "epoch: 75, train_loss: 0.9615, test_loss: 1.1740\n",
      "epoch: 76, train_loss: 0.9613, test_loss: 1.1830\n",
      "epoch: 77, train_loss: 0.9577, test_loss: 1.1765\n",
      "epoch: 78, train_loss: 0.9571, test_loss: 1.1807\n",
      "epoch: 79, train_loss: 0.9629, test_loss: 1.1805\n",
      "epoch: 80, train_loss: 0.9562, test_loss: 1.1774\n",
      "epoch: 81, train_loss: 0.9569, test_loss: 1.1783\n",
      "epoch: 82, train_loss: 0.9581, test_loss: 1.1783\n",
      "epoch: 83, train_loss: 0.9554, test_loss: 1.1734\n",
      "epoch: 84, train_loss: 0.9536, test_loss: 1.1771\n",
      "epoch: 85, train_loss: 0.9540, test_loss: 1.1907\n",
      "epoch: 86, train_loss: 0.9577, test_loss: 1.1702\n",
      "epoch: 87, train_loss: 0.9512, test_loss: 1.1762\n",
      "epoch: 88, train_loss: 0.9550, test_loss: 1.1739\n",
      "epoch: 89, train_loss: 0.9499, test_loss: 1.1784\n",
      "epoch: 90, train_loss: 0.9546, test_loss: 1.1861\n",
      "epoch: 91, train_loss: 0.9521, test_loss: 1.1798\n",
      "epoch: 92, train_loss: 0.9538, test_loss: 1.1848\n",
      "epoch: 93, train_loss: 0.9514, test_loss: 1.1712\n",
      "epoch: 94, train_loss: 0.9515, test_loss: 1.1699\n",
      "epoch: 95, train_loss: 0.9505, test_loss: 1.1730\n",
      "epoch: 96, train_loss: 0.9489, test_loss: 1.1716\n",
      "epoch: 97, train_loss: 0.9473, test_loss: 1.1737\n",
      "epoch: 98, train_loss: 0.9486, test_loss: 1.1704\n",
      "epoch: 99, train_loss: 0.9487, test_loss: 1.1714\n",
      "epoch: 100, train_loss: 0.9471, test_loss: 1.1743\n",
      "epoch: 101, train_loss: 0.9497, test_loss: 1.1731\n",
      "epoch: 102, train_loss: 0.9473, test_loss: 1.1727\n",
      "epoch: 103, train_loss: 0.9475, test_loss: 1.1686\n",
      "epoch: 104, train_loss: 0.9489, test_loss: 1.1700\n",
      "epoch: 105, train_loss: 0.9460, test_loss: 1.1689\n",
      "epoch: 106, train_loss: 0.9471, test_loss: 1.1732\n",
      "epoch: 107, train_loss: 0.9472, test_loss: 1.1722\n",
      "epoch: 108, train_loss: 0.9443, test_loss: 1.1700\n",
      "epoch: 109, train_loss: 0.9444, test_loss: 1.1722\n",
      "epoch: 110, train_loss: 0.9455, test_loss: 1.1699\n",
      "epoch: 111, train_loss: 0.9448, test_loss: 1.1691\n",
      "epoch: 112, train_loss: 0.9502, test_loss: 1.1679\n",
      "epoch: 113, train_loss: 0.9490, test_loss: 1.1734\n",
      "epoch: 114, train_loss: 0.9457, test_loss: 1.1733\n",
      "epoch: 115, train_loss: 0.9453, test_loss: 1.1696\n",
      "epoch: 116, train_loss: 0.9461, test_loss: 1.1690\n",
      "epoch: 117, train_loss: 0.9460, test_loss: 1.1739\n",
      "epoch: 118, train_loss: 0.9474, test_loss: 1.1684\n",
      "epoch: 119, train_loss: 0.9446, test_loss: 1.1745\n",
      "epoch: 120, train_loss: 0.9432, test_loss: 1.1693\n",
      "epoch: 121, train_loss: 0.9454, test_loss: 1.1700\n",
      "epoch: 122, train_loss: 0.9460, test_loss: 1.1714\n",
      "epoch: 123, train_loss: 0.9434, test_loss: 1.1714\n",
      "epoch: 124, train_loss: 0.9450, test_loss: 1.1759\n",
      "epoch: 125, train_loss: 0.9439, test_loss: 1.1687\n",
      "epoch: 126, train_loss: 0.9443, test_loss: 1.1681\n",
      "epoch: 127, train_loss: 0.9439, test_loss: 1.1691\n",
      "epoch: 128, train_loss: 0.9416, test_loss: 1.1696\n",
      "epoch: 129, train_loss: 0.9441, test_loss: 1.1692\n",
      "epoch: 130, train_loss: 0.9430, test_loss: 1.1676\n",
      "epoch: 131, train_loss: 0.9416, test_loss: 1.1767\n",
      "epoch: 132, train_loss: 0.9453, test_loss: 1.1698\n",
      "epoch: 133, train_loss: 0.9420, test_loss: 1.1674\n",
      "epoch: 134, train_loss: 0.9433, test_loss: 1.1674\n",
      "epoch: 135, train_loss: 0.9429, test_loss: 1.1693\n",
      "epoch: 136, train_loss: 0.9415, test_loss: 1.1714\n",
      "epoch: 137, train_loss: 0.9419, test_loss: 1.1679\n",
      "epoch: 138, train_loss: 0.9423, test_loss: 1.1672\n",
      "epoch: 139, train_loss: 0.9430, test_loss: 1.1685\n",
      "epoch: 140, train_loss: 0.9433, test_loss: 1.1675\n",
      "epoch: 141, train_loss: 0.9411, test_loss: 1.1677\n",
      "epoch: 142, train_loss: 0.9427, test_loss: 1.1693\n",
      "epoch: 143, train_loss: 0.9426, test_loss: 1.1696\n",
      "epoch: 144, train_loss: 0.9435, test_loss: 1.1689\n",
      "epoch: 145, train_loss: 0.9433, test_loss: 1.1696\n",
      "epoch: 146, train_loss: 0.9420, test_loss: 1.1692\n",
      "epoch: 147, train_loss: 0.9419, test_loss: 1.1686\n",
      "epoch: 148, train_loss: 0.9446, test_loss: 1.1689\n",
      "epoch: 149, train_loss: 0.9421, test_loss: 1.1668\n",
      "epoch: 0, train_loss: 40.3398, test_loss: 7.3872\n",
      "epoch: 1, train_loss: 5.8987, test_loss: 5.3136\n",
      "epoch: 2, train_loss: 4.4043, test_loss: 4.4507\n",
      "epoch: 3, train_loss: 3.7746, test_loss: 3.5899\n",
      "epoch: 4, train_loss: 3.3561, test_loss: 3.2656\n",
      "epoch: 5, train_loss: 3.1836, test_loss: 3.4232\n",
      "epoch: 6, train_loss: 2.9761, test_loss: 3.1644\n",
      "epoch: 7, train_loss: 2.8427, test_loss: 2.7405\n",
      "epoch: 8, train_loss: 2.7309, test_loss: 2.6649\n",
      "epoch: 9, train_loss: 2.6591, test_loss: 2.7069\n",
      "epoch: 10, train_loss: 2.6121, test_loss: 2.4438\n",
      "epoch: 11, train_loss: 2.5176, test_loss: 2.4070\n",
      "epoch: 12, train_loss: 2.4802, test_loss: 2.3158\n",
      "epoch: 13, train_loss: 2.4036, test_loss: 2.5588\n",
      "epoch: 14, train_loss: 2.3348, test_loss: 2.3058\n",
      "epoch: 15, train_loss: 2.2840, test_loss: 2.2042\n",
      "epoch: 16, train_loss: 2.2861, test_loss: 2.5320\n",
      "epoch: 17, train_loss: 2.2489, test_loss: 2.1646\n",
      "epoch: 18, train_loss: 2.2393, test_loss: 2.2274\n",
      "epoch: 19, train_loss: 2.2413, test_loss: 2.5527\n",
      "epoch: 20, train_loss: 2.2302, test_loss: 2.1066\n",
      "epoch: 21, train_loss: 2.1546, test_loss: 2.2112\n",
      "epoch: 22, train_loss: 2.1858, test_loss: 2.1369\n",
      "epoch: 23, train_loss: 2.1407, test_loss: 2.0908\n",
      "epoch: 24, train_loss: 2.1059, test_loss: 2.1412\n",
      "epoch: 25, train_loss: 2.1168, test_loss: 2.0737\n",
      "epoch: 26, train_loss: 2.1296, test_loss: 2.2084\n",
      "epoch: 27, train_loss: 2.1072, test_loss: 2.0789\n",
      "epoch: 28, train_loss: 2.0919, test_loss: 2.2471\n",
      "epoch: 29, train_loss: 2.0980, test_loss: 2.0831\n",
      "epoch: 30, train_loss: 2.0721, test_loss: 2.0456\n",
      "epoch: 31, train_loss: 2.0793, test_loss: 2.0646\n",
      "epoch: 32, train_loss: 2.0546, test_loss: 2.2902\n",
      "epoch: 33, train_loss: 2.0654, test_loss: 2.0257\n",
      "epoch: 34, train_loss: 2.0318, test_loss: 2.0694\n",
      "epoch: 35, train_loss: 2.0323, test_loss: 2.0185\n",
      "epoch: 36, train_loss: 2.0409, test_loss: 2.0495\n",
      "epoch: 37, train_loss: 2.0200, test_loss: 2.1786\n",
      "epoch: 38, train_loss: 2.0193, test_loss: 2.0130\n",
      "epoch: 39, train_loss: 2.0029, test_loss: 1.9836\n",
      "epoch: 40, train_loss: 2.0087, test_loss: 2.0348\n",
      "epoch: 41, train_loss: 2.0101, test_loss: 2.0106\n",
      "epoch: 42, train_loss: 2.0081, test_loss: 2.0405\n",
      "epoch: 43, train_loss: 1.9928, test_loss: 2.0325\n",
      "epoch: 44, train_loss: 1.9851, test_loss: 1.9932\n",
      "epoch: 45, train_loss: 1.9922, test_loss: 2.0933\n",
      "epoch: 46, train_loss: 1.9977, test_loss: 1.9917\n",
      "epoch: 47, train_loss: 1.9824, test_loss: 2.2549\n",
      "epoch: 48, train_loss: 1.9876, test_loss: 2.0713\n",
      "epoch: 49, train_loss: 1.9768, test_loss: 1.9799\n",
      "epoch: 50, train_loss: 1.9702, test_loss: 1.9794\n",
      "epoch: 51, train_loss: 1.9764, test_loss: 1.9810\n",
      "epoch: 52, train_loss: 1.9619, test_loss: 2.0003\n",
      "epoch: 53, train_loss: 1.9620, test_loss: 2.0209\n",
      "epoch: 54, train_loss: 1.9527, test_loss: 1.9937\n",
      "epoch: 55, train_loss: 1.9613, test_loss: 2.0091\n",
      "epoch: 56, train_loss: 1.9684, test_loss: 1.9767\n",
      "epoch: 57, train_loss: 1.9626, test_loss: 2.0612\n",
      "epoch: 58, train_loss: 1.9388, test_loss: 1.9534\n",
      "epoch: 59, train_loss: 1.9511, test_loss: 1.9855\n",
      "epoch: 60, train_loss: 1.9409, test_loss: 1.9663\n",
      "epoch: 61, train_loss: 1.9491, test_loss: 2.0266\n",
      "epoch: 62, train_loss: 1.9418, test_loss: 1.9526\n",
      "epoch: 63, train_loss: 1.9405, test_loss: 1.9627\n",
      "epoch: 64, train_loss: 1.9350, test_loss: 1.9871\n",
      "epoch: 65, train_loss: 1.9377, test_loss: 1.9729\n",
      "epoch: 66, train_loss: 1.9315, test_loss: 1.9514\n",
      "epoch: 67, train_loss: 1.9384, test_loss: 1.9503\n",
      "epoch: 68, train_loss: 1.9376, test_loss: 1.9616\n",
      "epoch: 69, train_loss: 1.9325, test_loss: 1.9787\n",
      "epoch: 70, train_loss: 1.9293, test_loss: 1.9698\n",
      "epoch: 71, train_loss: 1.9266, test_loss: 1.9533\n",
      "epoch: 72, train_loss: 1.9256, test_loss: 1.9595\n",
      "epoch: 73, train_loss: 1.9243, test_loss: 1.9467\n",
      "epoch: 74, train_loss: 1.9275, test_loss: 1.9432\n",
      "epoch: 75, train_loss: 1.9229, test_loss: 1.9613\n",
      "epoch: 76, train_loss: 1.9249, test_loss: 1.9472\n",
      "epoch: 77, train_loss: 1.9200, test_loss: 1.9642\n",
      "epoch: 78, train_loss: 1.9151, test_loss: 1.9660\n",
      "epoch: 79, train_loss: 1.9226, test_loss: 1.9427\n",
      "epoch: 80, train_loss: 1.9177, test_loss: 1.9400\n",
      "epoch: 81, train_loss: 1.9194, test_loss: 1.9452\n",
      "epoch: 82, train_loss: 1.9199, test_loss: 1.9547\n",
      "epoch: 83, train_loss: 1.9210, test_loss: 1.9429\n",
      "epoch: 84, train_loss: 1.9142, test_loss: 1.9415\n",
      "epoch: 85, train_loss: 1.9099, test_loss: 1.9879\n",
      "epoch: 86, train_loss: 1.9157, test_loss: 1.9391\n",
      "epoch: 87, train_loss: 1.9136, test_loss: 1.9453\n",
      "epoch: 88, train_loss: 1.9138, test_loss: 1.9364\n",
      "epoch: 89, train_loss: 1.9168, test_loss: 1.9448\n",
      "epoch: 90, train_loss: 1.9103, test_loss: 1.9485\n",
      "epoch: 91, train_loss: 1.9092, test_loss: 1.9474\n",
      "epoch: 92, train_loss: 1.9136, test_loss: 1.9338\n",
      "epoch: 93, train_loss: 1.9161, test_loss: 1.9398\n",
      "epoch: 94, train_loss: 1.9098, test_loss: 1.9657\n",
      "epoch: 95, train_loss: 1.9091, test_loss: 1.9366\n",
      "epoch: 96, train_loss: 1.9045, test_loss: 1.9568\n",
      "epoch: 97, train_loss: 1.9062, test_loss: 1.9320\n",
      "epoch: 98, train_loss: 1.9102, test_loss: 1.9441\n",
      "epoch: 99, train_loss: 1.9066, test_loss: 1.9350\n",
      "epoch: 100, train_loss: 1.9045, test_loss: 1.9406\n",
      "epoch: 101, train_loss: 1.9041, test_loss: 1.9391\n",
      "epoch: 102, train_loss: 1.9056, test_loss: 1.9361\n",
      "epoch: 103, train_loss: 1.9057, test_loss: 1.9372\n",
      "epoch: 104, train_loss: 1.9046, test_loss: 1.9329\n",
      "epoch: 105, train_loss: 1.9052, test_loss: 1.9326\n",
      "epoch: 106, train_loss: 1.9040, test_loss: 1.9504\n",
      "epoch: 107, train_loss: 1.9035, test_loss: 1.9381\n",
      "epoch: 108, train_loss: 1.9007, test_loss: 1.9310\n",
      "epoch: 109, train_loss: 1.9056, test_loss: 1.9315\n",
      "epoch: 110, train_loss: 1.9047, test_loss: 1.9321\n",
      "epoch: 111, train_loss: 1.8994, test_loss: 1.9358\n",
      "epoch: 112, train_loss: 1.9085, test_loss: 1.9313\n",
      "epoch: 113, train_loss: 1.9039, test_loss: 1.9372\n",
      "epoch: 114, train_loss: 1.8993, test_loss: 1.9330\n",
      "epoch: 115, train_loss: 1.9037, test_loss: 1.9304\n",
      "epoch: 116, train_loss: 1.9063, test_loss: 1.9301\n",
      "epoch: 117, train_loss: 1.9030, test_loss: 1.9506\n",
      "epoch: 118, train_loss: 1.9040, test_loss: 1.9311\n",
      "epoch: 119, train_loss: 1.9001, test_loss: 1.9375\n",
      "epoch: 120, train_loss: 1.9012, test_loss: 1.9324\n",
      "epoch: 121, train_loss: 1.9021, test_loss: 1.9297\n",
      "epoch: 122, train_loss: 1.9074, test_loss: 1.9332\n",
      "epoch: 123, train_loss: 1.9008, test_loss: 1.9305\n",
      "epoch: 124, train_loss: 1.9024, test_loss: 1.9491\n",
      "epoch: 125, train_loss: 1.8993, test_loss: 1.9353\n",
      "epoch: 126, train_loss: 1.9018, test_loss: 1.9326\n",
      "epoch: 127, train_loss: 1.9049, test_loss: 1.9303\n",
      "epoch: 128, train_loss: 1.9017, test_loss: 1.9316\n",
      "epoch: 129, train_loss: 1.9005, test_loss: 1.9351\n",
      "epoch: 130, train_loss: 1.9009, test_loss: 1.9338\n",
      "epoch: 131, train_loss: 1.8960, test_loss: 1.9409\n",
      "epoch: 132, train_loss: 1.9002, test_loss: 1.9324\n",
      "epoch: 133, train_loss: 1.8974, test_loss: 1.9306\n",
      "epoch: 134, train_loss: 1.8965, test_loss: 1.9321\n",
      "epoch: 135, train_loss: 1.8986, test_loss: 1.9314\n",
      "epoch: 136, train_loss: 1.8986, test_loss: 1.9311\n",
      "epoch: 137, train_loss: 1.9006, test_loss: 1.9312\n",
      "epoch: 138, train_loss: 1.8964, test_loss: 1.9325\n",
      "epoch: 139, train_loss: 1.9030, test_loss: 1.9300\n",
      "epoch: 140, train_loss: 1.8965, test_loss: 1.9342\n",
      "epoch: 141, train_loss: 1.8988, test_loss: 1.9306\n",
      "epoch: 142, train_loss: 1.9007, test_loss: 1.9310\n",
      "epoch: 143, train_loss: 1.8980, test_loss: 1.9313\n",
      "epoch: 144, train_loss: 1.9016, test_loss: 1.9319\n",
      "epoch: 145, train_loss: 1.9017, test_loss: 1.9327\n",
      "epoch: 146, train_loss: 1.8958, test_loss: 1.9336\n",
      "epoch: 147, train_loss: 1.8973, test_loss: 1.9318\n",
      "epoch: 148, train_loss: 1.8995, test_loss: 1.9313\n",
      "epoch: 149, train_loss: 1.8969, test_loss: 1.9307\n",
      "epoch: 0, train_loss: 41.1144, test_loss: 8.3203\n",
      "epoch: 1, train_loss: 5.1519, test_loss: 6.5876\n",
      "epoch: 2, train_loss: 4.1930, test_loss: 5.3592\n",
      "epoch: 3, train_loss: 3.6781, test_loss: 4.7365\n",
      "epoch: 4, train_loss: 3.3516, test_loss: 4.6532\n",
      "epoch: 5, train_loss: 3.1157, test_loss: 3.9637\n",
      "epoch: 6, train_loss: 2.8495, test_loss: 3.7575\n",
      "epoch: 7, train_loss: 2.8123, test_loss: 3.8078\n",
      "epoch: 8, train_loss: 2.6697, test_loss: 3.7229\n",
      "epoch: 9, train_loss: 2.7511, test_loss: 3.5561\n",
      "epoch: 10, train_loss: 2.6061, test_loss: 3.3741\n",
      "epoch: 11, train_loss: 2.5701, test_loss: 3.6188\n",
      "epoch: 12, train_loss: 2.5211, test_loss: 3.2547\n",
      "epoch: 13, train_loss: 2.5553, test_loss: 3.3459\n",
      "epoch: 14, train_loss: 2.4525, test_loss: 3.2389\n",
      "epoch: 15, train_loss: 2.4127, test_loss: 3.2053\n",
      "epoch: 16, train_loss: 2.4009, test_loss: 3.1934\n",
      "epoch: 17, train_loss: 2.3353, test_loss: 3.1550\n",
      "epoch: 18, train_loss: 2.3585, test_loss: 3.0762\n",
      "epoch: 19, train_loss: 2.3017, test_loss: 3.0695\n",
      "epoch: 20, train_loss: 2.2824, test_loss: 3.0075\n",
      "epoch: 21, train_loss: 2.2403, test_loss: 3.0607\n",
      "epoch: 22, train_loss: 2.2415, test_loss: 3.0256\n",
      "epoch: 23, train_loss: 2.2076, test_loss: 3.3078\n",
      "epoch: 24, train_loss: 2.1921, test_loss: 3.2397\n",
      "epoch: 25, train_loss: 2.1855, test_loss: 2.9902\n",
      "epoch: 26, train_loss: 2.1647, test_loss: 2.9259\n",
      "epoch: 27, train_loss: 2.1237, test_loss: 2.9296\n",
      "epoch: 28, train_loss: 2.1376, test_loss: 3.0217\n",
      "epoch: 29, train_loss: 2.1227, test_loss: 3.0444\n",
      "epoch: 30, train_loss: 2.1262, test_loss: 2.8609\n",
      "epoch: 31, train_loss: 2.1000, test_loss: 3.0173\n",
      "epoch: 32, train_loss: 2.0754, test_loss: 2.8924\n",
      "epoch: 33, train_loss: 2.0618, test_loss: 2.8610\n",
      "epoch: 34, train_loss: 2.0499, test_loss: 2.8420\n",
      "epoch: 35, train_loss: 2.0394, test_loss: 2.8881\n",
      "epoch: 36, train_loss: 2.0395, test_loss: 2.9104\n",
      "epoch: 37, train_loss: 2.0532, test_loss: 2.9960\n",
      "epoch: 38, train_loss: 2.0377, test_loss: 2.8506\n",
      "epoch: 39, train_loss: 2.0043, test_loss: 2.8095\n",
      "epoch: 40, train_loss: 2.0023, test_loss: 2.7766\n",
      "epoch: 41, train_loss: 2.0118, test_loss: 2.7993\n",
      "epoch: 42, train_loss: 2.0017, test_loss: 2.7927\n",
      "epoch: 43, train_loss: 1.9836, test_loss: 2.7712\n",
      "epoch: 44, train_loss: 1.9973, test_loss: 2.7993\n",
      "epoch: 45, train_loss: 1.9771, test_loss: 2.7818\n",
      "epoch: 46, train_loss: 1.9863, test_loss: 2.7544\n",
      "epoch: 47, train_loss: 1.9761, test_loss: 2.8411\n",
      "epoch: 48, train_loss: 1.9658, test_loss: 2.7845\n",
      "epoch: 49, train_loss: 1.9576, test_loss: 2.7427\n",
      "epoch: 50, train_loss: 1.9557, test_loss: 2.7467\n",
      "epoch: 51, train_loss: 1.9666, test_loss: 2.7338\n",
      "epoch: 52, train_loss: 1.9353, test_loss: 2.7310\n",
      "epoch: 53, train_loss: 1.9434, test_loss: 2.7342\n",
      "epoch: 54, train_loss: 1.9428, test_loss: 2.7254\n",
      "epoch: 55, train_loss: 1.9439, test_loss: 2.7204\n",
      "epoch: 56, train_loss: 1.9380, test_loss: 2.7189\n",
      "epoch: 57, train_loss: 1.9424, test_loss: 2.7216\n",
      "epoch: 58, train_loss: 1.9245, test_loss: 2.7303\n",
      "epoch: 59, train_loss: 1.9304, test_loss: 2.7121\n",
      "epoch: 60, train_loss: 1.9340, test_loss: 2.7172\n",
      "epoch: 61, train_loss: 1.9312, test_loss: 2.7391\n",
      "epoch: 62, train_loss: 1.9152, test_loss: 2.6999\n",
      "epoch: 63, train_loss: 1.9179, test_loss: 2.7473\n",
      "epoch: 64, train_loss: 1.9136, test_loss: 2.6939\n",
      "epoch: 65, train_loss: 1.9127, test_loss: 2.7355\n",
      "epoch: 66, train_loss: 1.9072, test_loss: 2.6916\n",
      "epoch: 67, train_loss: 1.9044, test_loss: 2.6936\n",
      "epoch: 68, train_loss: 1.9086, test_loss: 2.6948\n",
      "epoch: 69, train_loss: 1.9077, test_loss: 2.6901\n",
      "epoch: 70, train_loss: 1.9070, test_loss: 2.6905\n",
      "epoch: 71, train_loss: 1.9007, test_loss: 2.7017\n",
      "epoch: 72, train_loss: 1.9007, test_loss: 2.6996\n",
      "epoch: 73, train_loss: 1.8952, test_loss: 2.6854\n",
      "epoch: 74, train_loss: 1.8951, test_loss: 2.6779\n",
      "epoch: 75, train_loss: 1.8940, test_loss: 2.7068\n",
      "epoch: 76, train_loss: 1.8978, test_loss: 2.6754\n",
      "epoch: 77, train_loss: 1.8903, test_loss: 2.6766\n",
      "epoch: 78, train_loss: 1.8903, test_loss: 2.6755\n",
      "epoch: 79, train_loss: 1.8939, test_loss: 2.6822\n",
      "epoch: 80, train_loss: 1.8859, test_loss: 2.6906\n",
      "epoch: 81, train_loss: 1.8947, test_loss: 2.6819\n",
      "epoch: 82, train_loss: 1.8875, test_loss: 2.7011\n",
      "epoch: 83, train_loss: 1.8930, test_loss: 2.6702\n",
      "epoch: 84, train_loss: 1.8856, test_loss: 2.6749\n",
      "epoch: 85, train_loss: 1.8813, test_loss: 2.6666\n",
      "epoch: 86, train_loss: 1.8798, test_loss: 2.6694\n",
      "epoch: 87, train_loss: 1.8812, test_loss: 2.6669\n",
      "epoch: 88, train_loss: 1.8885, test_loss: 2.6688\n",
      "epoch: 89, train_loss: 1.8869, test_loss: 2.6653\n",
      "epoch: 90, train_loss: 1.8835, test_loss: 2.6653\n",
      "epoch: 91, train_loss: 1.8797, test_loss: 2.6663\n",
      "epoch: 92, train_loss: 1.8827, test_loss: 2.6662\n",
      "epoch: 93, train_loss: 1.8849, test_loss: 2.6806\n",
      "epoch: 94, train_loss: 1.8795, test_loss: 2.6666\n",
      "epoch: 95, train_loss: 1.8770, test_loss: 2.6626\n",
      "epoch: 96, train_loss: 1.8816, test_loss: 2.6621\n",
      "epoch: 97, train_loss: 1.8732, test_loss: 2.6722\n",
      "epoch: 98, train_loss: 1.8750, test_loss: 2.6642\n",
      "epoch: 99, train_loss: 1.8780, test_loss: 2.6670\n",
      "epoch: 100, train_loss: 1.8739, test_loss: 2.6721\n",
      "epoch: 101, train_loss: 1.8748, test_loss: 2.6644\n",
      "epoch: 102, train_loss: 1.8707, test_loss: 2.6600\n",
      "epoch: 103, train_loss: 1.8724, test_loss: 2.6618\n",
      "epoch: 104, train_loss: 1.8741, test_loss: 2.6634\n",
      "epoch: 105, train_loss: 1.8736, test_loss: 2.6596\n",
      "epoch: 106, train_loss: 1.8693, test_loss: 2.6677\n",
      "epoch: 107, train_loss: 1.8696, test_loss: 2.6629\n",
      "epoch: 108, train_loss: 1.8753, test_loss: 2.6600\n",
      "epoch: 109, train_loss: 1.8686, test_loss: 2.6598\n",
      "epoch: 110, train_loss: 1.8739, test_loss: 2.6590\n",
      "epoch: 111, train_loss: 1.8712, test_loss: 2.6584\n",
      "epoch: 112, train_loss: 1.8691, test_loss: 2.6590\n",
      "epoch: 113, train_loss: 1.8704, test_loss: 2.6615\n",
      "epoch: 114, train_loss: 1.8705, test_loss: 2.6631\n",
      "epoch: 115, train_loss: 1.8688, test_loss: 2.6583\n",
      "epoch: 116, train_loss: 1.8684, test_loss: 2.6578\n",
      "epoch: 117, train_loss: 1.8698, test_loss: 2.6615\n",
      "epoch: 118, train_loss: 1.8726, test_loss: 2.6605\n",
      "epoch: 119, train_loss: 1.8663, test_loss: 2.6593\n",
      "epoch: 120, train_loss: 1.8673, test_loss: 2.6573\n",
      "epoch: 121, train_loss: 1.8683, test_loss: 2.6578\n",
      "epoch: 122, train_loss: 1.8655, test_loss: 2.6572\n",
      "epoch: 123, train_loss: 1.8676, test_loss: 2.6574\n",
      "epoch: 124, train_loss: 1.8689, test_loss: 2.6640\n",
      "epoch: 125, train_loss: 1.8646, test_loss: 2.6575\n",
      "epoch: 126, train_loss: 1.8690, test_loss: 2.6607\n",
      "epoch: 127, train_loss: 1.8691, test_loss: 2.6572\n",
      "epoch: 128, train_loss: 1.8632, test_loss: 2.6565\n",
      "epoch: 129, train_loss: 1.8754, test_loss: 2.6580\n",
      "epoch: 130, train_loss: 1.8638, test_loss: 2.6567\n",
      "epoch: 131, train_loss: 1.8657, test_loss: 2.6576\n",
      "epoch: 132, train_loss: 1.8653, test_loss: 2.6567\n",
      "epoch: 133, train_loss: 1.8644, test_loss: 2.6562\n",
      "epoch: 134, train_loss: 1.8635, test_loss: 2.6579\n",
      "epoch: 135, train_loss: 1.8645, test_loss: 2.6562\n",
      "epoch: 136, train_loss: 1.8632, test_loss: 2.6576\n",
      "epoch: 137, train_loss: 1.8663, test_loss: 2.6563\n",
      "epoch: 138, train_loss: 1.8696, test_loss: 2.6566\n",
      "epoch: 139, train_loss: 1.8659, test_loss: 2.6557\n",
      "epoch: 140, train_loss: 1.8657, test_loss: 2.6558\n",
      "epoch: 141, train_loss: 1.8633, test_loss: 2.6575\n",
      "epoch: 142, train_loss: 1.8714, test_loss: 2.6562\n",
      "epoch: 143, train_loss: 1.8623, test_loss: 2.6557\n",
      "epoch: 144, train_loss: 1.8666, test_loss: 2.6566\n",
      "epoch: 145, train_loss: 1.8643, test_loss: 2.6592\n",
      "epoch: 146, train_loss: 1.8622, test_loss: 2.6583\n",
      "epoch: 147, train_loss: 1.8645, test_loss: 2.6562\n",
      "epoch: 148, train_loss: 1.8638, test_loss: 2.6565\n",
      "epoch: 149, train_loss: 1.8721, test_loss: 2.6553\n",
      "epoch: 0, train_loss: 41.3285, test_loss: 9.6163\n",
      "epoch: 1, train_loss: 5.8085, test_loss: 6.6631\n",
      "epoch: 2, train_loss: 4.0212, test_loss: 5.5511\n",
      "epoch: 3, train_loss: 3.3880, test_loss: 5.1179\n",
      "epoch: 4, train_loss: 3.2990, test_loss: 4.7670\n",
      "epoch: 5, train_loss: 3.1479, test_loss: 4.5088\n",
      "epoch: 6, train_loss: 3.1133, test_loss: 4.5742\n",
      "epoch: 7, train_loss: 3.0045, test_loss: 4.6259\n",
      "epoch: 8, train_loss: 2.9231, test_loss: 4.4442\n",
      "epoch: 9, train_loss: 2.9287, test_loss: 4.5755\n",
      "epoch: 10, train_loss: 2.8760, test_loss: 4.2263\n",
      "epoch: 11, train_loss: 2.8212, test_loss: 4.2376\n",
      "epoch: 12, train_loss: 2.7341, test_loss: 4.1841\n",
      "epoch: 13, train_loss: 2.7417, test_loss: 4.1616\n",
      "epoch: 14, train_loss: 2.6955, test_loss: 4.1056\n",
      "epoch: 15, train_loss: 2.6584, test_loss: 4.0475\n",
      "epoch: 16, train_loss: 2.6365, test_loss: 4.1093\n",
      "epoch: 17, train_loss: 2.5881, test_loss: 4.0728\n",
      "epoch: 18, train_loss: 2.5681, test_loss: 4.0173\n",
      "epoch: 19, train_loss: 2.5294, test_loss: 4.2407\n",
      "epoch: 20, train_loss: 2.5413, test_loss: 3.9632\n",
      "epoch: 21, train_loss: 2.4906, test_loss: 3.8998\n",
      "epoch: 22, train_loss: 2.4810, test_loss: 3.9397\n",
      "epoch: 23, train_loss: 2.4762, test_loss: 3.8739\n",
      "epoch: 24, train_loss: 2.4404, test_loss: 3.8618\n",
      "epoch: 25, train_loss: 2.4350, test_loss: 3.8809\n",
      "epoch: 26, train_loss: 2.4262, test_loss: 3.8148\n",
      "epoch: 27, train_loss: 2.4175, test_loss: 3.8182\n",
      "epoch: 28, train_loss: 2.4015, test_loss: 3.7686\n",
      "epoch: 29, train_loss: 2.3958, test_loss: 3.7450\n",
      "epoch: 30, train_loss: 2.3708, test_loss: 3.7672\n",
      "epoch: 31, train_loss: 2.3614, test_loss: 3.7532\n",
      "epoch: 32, train_loss: 2.3578, test_loss: 3.6983\n",
      "epoch: 33, train_loss: 2.3781, test_loss: 3.6886\n",
      "epoch: 34, train_loss: 2.3321, test_loss: 3.6772\n",
      "epoch: 35, train_loss: 2.3213, test_loss: 3.6870\n",
      "epoch: 36, train_loss: 2.3235, test_loss: 3.7765\n",
      "epoch: 37, train_loss: 2.3064, test_loss: 3.6859\n",
      "epoch: 38, train_loss: 2.3132, test_loss: 3.7445\n",
      "epoch: 39, train_loss: 2.2859, test_loss: 3.6228\n",
      "epoch: 40, train_loss: 2.2817, test_loss: 3.6827\n",
      "epoch: 41, train_loss: 2.2724, test_loss: 3.5901\n",
      "epoch: 42, train_loss: 2.2780, test_loss: 3.7200\n",
      "epoch: 43, train_loss: 2.2505, test_loss: 3.5650\n",
      "epoch: 44, train_loss: 2.2547, test_loss: 3.7206\n",
      "epoch: 45, train_loss: 2.2494, test_loss: 3.5384\n",
      "epoch: 46, train_loss: 2.2279, test_loss: 3.5345\n",
      "epoch: 47, train_loss: 2.2199, test_loss: 3.5755\n",
      "epoch: 48, train_loss: 2.2194, test_loss: 3.5278\n",
      "epoch: 49, train_loss: 2.2060, test_loss: 3.5647\n",
      "epoch: 50, train_loss: 2.1947, test_loss: 3.4897\n",
      "epoch: 51, train_loss: 2.1924, test_loss: 3.4986\n",
      "epoch: 52, train_loss: 2.1911, test_loss: 3.4829\n",
      "epoch: 53, train_loss: 2.1708, test_loss: 3.5275\n",
      "epoch: 54, train_loss: 2.1824, test_loss: 3.4627\n",
      "epoch: 55, train_loss: 2.1645, test_loss: 3.4513\n",
      "epoch: 56, train_loss: 2.1514, test_loss: 3.4373\n",
      "epoch: 57, train_loss: 2.1675, test_loss: 3.4472\n",
      "epoch: 58, train_loss: 2.1507, test_loss: 3.4315\n",
      "epoch: 59, train_loss: 2.1515, test_loss: 3.4235\n",
      "epoch: 60, train_loss: 2.1424, test_loss: 3.4789\n",
      "epoch: 61, train_loss: 2.1422, test_loss: 3.4127\n",
      "epoch: 62, train_loss: 2.1279, test_loss: 3.4128\n",
      "epoch: 63, train_loss: 2.1273, test_loss: 3.4492\n",
      "epoch: 64, train_loss: 2.1227, test_loss: 3.3893\n",
      "epoch: 65, train_loss: 2.1214, test_loss: 3.4332\n",
      "epoch: 66, train_loss: 2.1151, test_loss: 3.3857\n",
      "epoch: 67, train_loss: 2.1110, test_loss: 3.3769\n",
      "epoch: 68, train_loss: 2.1072, test_loss: 3.3713\n",
      "epoch: 69, train_loss: 2.1029, test_loss: 3.3765\n",
      "epoch: 70, train_loss: 2.0984, test_loss: 3.3717\n",
      "epoch: 71, train_loss: 2.0937, test_loss: 3.3807\n",
      "epoch: 72, train_loss: 2.0984, test_loss: 3.4935\n",
      "epoch: 73, train_loss: 2.0933, test_loss: 3.4178\n",
      "epoch: 74, train_loss: 2.0844, test_loss: 3.3457\n",
      "epoch: 75, train_loss: 2.0924, test_loss: 3.3443\n",
      "epoch: 76, train_loss: 2.0897, test_loss: 3.3442\n",
      "epoch: 77, train_loss: 2.0786, test_loss: 3.3283\n",
      "epoch: 78, train_loss: 2.0838, test_loss: 3.3441\n",
      "epoch: 79, train_loss: 2.0762, test_loss: 3.3561\n",
      "epoch: 80, train_loss: 2.0712, test_loss: 3.3321\n",
      "epoch: 81, train_loss: 2.0714, test_loss: 3.3177\n",
      "epoch: 82, train_loss: 2.0731, test_loss: 3.3396\n",
      "epoch: 83, train_loss: 2.0728, test_loss: 3.3118\n",
      "epoch: 84, train_loss: 2.0646, test_loss: 3.3171\n",
      "epoch: 85, train_loss: 2.0696, test_loss: 3.3071\n",
      "epoch: 86, train_loss: 2.0607, test_loss: 3.3063\n",
      "epoch: 87, train_loss: 2.0597, test_loss: 3.3124\n",
      "epoch: 88, train_loss: 2.0628, test_loss: 3.3067\n",
      "epoch: 89, train_loss: 2.0614, test_loss: 3.3085\n",
      "epoch: 90, train_loss: 2.0627, test_loss: 3.3100\n",
      "epoch: 91, train_loss: 2.0541, test_loss: 3.2974\n",
      "epoch: 92, train_loss: 2.0604, test_loss: 3.3337\n",
      "epoch: 93, train_loss: 2.0645, test_loss: 3.2945\n",
      "epoch: 94, train_loss: 2.0530, test_loss: 3.3126\n",
      "epoch: 95, train_loss: 2.0576, test_loss: 3.3126\n",
      "epoch: 96, train_loss: 2.0535, test_loss: 3.2939\n",
      "epoch: 97, train_loss: 2.0458, test_loss: 3.3121\n",
      "epoch: 98, train_loss: 2.0500, test_loss: 3.2901\n",
      "epoch: 99, train_loss: 2.0495, test_loss: 3.2993\n",
      "epoch: 100, train_loss: 2.0465, test_loss: 3.3002\n",
      "epoch: 101, train_loss: 2.0492, test_loss: 3.3014\n",
      "epoch: 102, train_loss: 2.0453, test_loss: 3.2822\n",
      "epoch: 103, train_loss: 2.0436, test_loss: 3.2826\n",
      "epoch: 104, train_loss: 2.0450, test_loss: 3.2914\n",
      "epoch: 105, train_loss: 2.0459, test_loss: 3.2849\n",
      "epoch: 106, train_loss: 2.0408, test_loss: 3.3082\n",
      "epoch: 107, train_loss: 2.0391, test_loss: 3.2847\n",
      "epoch: 108, train_loss: 2.0458, test_loss: 3.2939\n",
      "epoch: 109, train_loss: 2.0376, test_loss: 3.2848\n",
      "epoch: 110, train_loss: 2.0518, test_loss: 3.2845\n",
      "epoch: 111, train_loss: 2.0386, test_loss: 3.2796\n",
      "epoch: 112, train_loss: 2.0363, test_loss: 3.2931\n",
      "epoch: 113, train_loss: 2.0398, test_loss: 3.2925\n",
      "epoch: 114, train_loss: 2.0386, test_loss: 3.2815\n",
      "epoch: 115, train_loss: 2.0386, test_loss: 3.2781\n",
      "epoch: 116, train_loss: 2.0358, test_loss: 3.2792\n",
      "epoch: 117, train_loss: 2.0345, test_loss: 3.2884\n",
      "epoch: 118, train_loss: 2.0331, test_loss: 3.2771\n",
      "epoch: 119, train_loss: 2.0324, test_loss: 3.2816\n",
      "epoch: 120, train_loss: 2.0371, test_loss: 3.2903\n",
      "epoch: 121, train_loss: 2.0360, test_loss: 3.2748\n",
      "epoch: 122, train_loss: 2.0321, test_loss: 3.2777\n",
      "epoch: 123, train_loss: 2.0374, test_loss: 3.2826\n",
      "epoch: 124, train_loss: 2.0367, test_loss: 3.2921\n",
      "epoch: 125, train_loss: 2.0347, test_loss: 3.2739\n",
      "epoch: 126, train_loss: 2.0356, test_loss: 3.2743\n",
      "epoch: 127, train_loss: 2.0392, test_loss: 3.2689\n",
      "epoch: 128, train_loss: 2.0299, test_loss: 3.2740\n",
      "epoch: 129, train_loss: 2.0397, test_loss: 3.2798\n",
      "epoch: 130, train_loss: 2.0303, test_loss: 3.2728\n",
      "epoch: 131, train_loss: 2.0346, test_loss: 3.2765\n",
      "epoch: 132, train_loss: 2.0296, test_loss: 3.2728\n",
      "epoch: 133, train_loss: 2.0345, test_loss: 3.2705\n",
      "epoch: 134, train_loss: 2.0282, test_loss: 3.2773\n",
      "epoch: 135, train_loss: 2.0298, test_loss: 3.2693\n",
      "epoch: 136, train_loss: 2.0280, test_loss: 3.2740\n",
      "epoch: 137, train_loss: 2.0313, test_loss: 3.2722\n",
      "epoch: 138, train_loss: 2.0341, test_loss: 3.2788\n",
      "epoch: 139, train_loss: 2.0354, test_loss: 3.2685\n",
      "epoch: 140, train_loss: 2.0345, test_loss: 3.2731\n",
      "epoch: 141, train_loss: 2.0272, test_loss: 3.2784\n",
      "epoch: 142, train_loss: 2.0335, test_loss: 3.2756\n",
      "epoch: 143, train_loss: 2.0278, test_loss: 3.2734\n",
      "epoch: 144, train_loss: 2.0383, test_loss: 3.2702\n",
      "epoch: 145, train_loss: 2.0277, test_loss: 3.2804\n",
      "epoch: 146, train_loss: 2.0268, test_loss: 3.2705\n",
      "epoch: 147, train_loss: 2.0308, test_loss: 3.2707\n",
      "epoch: 148, train_loss: 2.0267, test_loss: 3.2731\n",
      "epoch: 149, train_loss: 2.0366, test_loss: 3.2723\n",
      "epoch: 0, train_loss: 41.3045, test_loss: 10.2907\n",
      "epoch: 1, train_loss: 8.5223, test_loss: 8.8348\n",
      "epoch: 2, train_loss: 7.7021, test_loss: 7.8635\n",
      "epoch: 3, train_loss: 6.8762, test_loss: 7.1116\n",
      "epoch: 4, train_loss: 6.4266, test_loss: 7.3801\n",
      "epoch: 5, train_loss: 6.1372, test_loss: 6.5512\n",
      "epoch: 6, train_loss: 5.9904, test_loss: 7.1722\n",
      "epoch: 7, train_loss: 5.9006, test_loss: 6.1125\n",
      "epoch: 8, train_loss: 5.7177, test_loss: 5.9231\n",
      "epoch: 9, train_loss: 5.5733, test_loss: 5.9483\n",
      "epoch: 10, train_loss: 5.4597, test_loss: 5.5405\n",
      "epoch: 11, train_loss: 5.2991, test_loss: 5.3836\n",
      "epoch: 12, train_loss: 5.2241, test_loss: 5.2918\n",
      "epoch: 13, train_loss: 5.0956, test_loss: 5.1407\n",
      "epoch: 14, train_loss: 4.9913, test_loss: 5.0128\n",
      "epoch: 15, train_loss: 4.9130, test_loss: 4.9556\n",
      "epoch: 16, train_loss: 4.8181, test_loss: 4.8428\n",
      "epoch: 17, train_loss: 4.7717, test_loss: 4.9104\n",
      "epoch: 18, train_loss: 4.6479, test_loss: 4.6064\n",
      "epoch: 19, train_loss: 4.6234, test_loss: 4.6902\n",
      "epoch: 20, train_loss: 4.5193, test_loss: 4.6312\n",
      "epoch: 21, train_loss: 4.4219, test_loss: 4.4167\n",
      "epoch: 22, train_loss: 4.3669, test_loss: 4.3270\n",
      "epoch: 23, train_loss: 4.3430, test_loss: 4.2590\n",
      "epoch: 24, train_loss: 4.2667, test_loss: 4.3270\n",
      "epoch: 25, train_loss: 4.2185, test_loss: 4.1151\n",
      "epoch: 26, train_loss: 4.1959, test_loss: 4.2723\n",
      "epoch: 27, train_loss: 4.1374, test_loss: 4.0660\n",
      "epoch: 28, train_loss: 4.0988, test_loss: 4.1528\n",
      "epoch: 29, train_loss: 4.0595, test_loss: 4.0087\n",
      "epoch: 30, train_loss: 4.0740, test_loss: 4.1230\n",
      "epoch: 31, train_loss: 4.0076, test_loss: 3.9660\n",
      "epoch: 32, train_loss: 4.0306, test_loss: 3.9093\n",
      "epoch: 33, train_loss: 3.9683, test_loss: 3.9063\n",
      "epoch: 34, train_loss: 3.9270, test_loss: 3.8444\n",
      "epoch: 35, train_loss: 3.9136, test_loss: 3.8215\n",
      "epoch: 36, train_loss: 3.8858, test_loss: 4.1439\n",
      "epoch: 37, train_loss: 3.9009, test_loss: 3.9510\n",
      "epoch: 38, train_loss: 3.8441, test_loss: 3.7859\n",
      "epoch: 39, train_loss: 3.8243, test_loss: 3.8257\n",
      "epoch: 40, train_loss: 3.8149, test_loss: 3.7890\n",
      "epoch: 41, train_loss: 3.7987, test_loss: 3.7542\n",
      "epoch: 42, train_loss: 3.7725, test_loss: 3.7708\n",
      "epoch: 43, train_loss: 3.7703, test_loss: 3.7199\n",
      "epoch: 44, train_loss: 3.7712, test_loss: 3.7781\n",
      "epoch: 45, train_loss: 3.7321, test_loss: 3.6743\n",
      "epoch: 46, train_loss: 3.7412, test_loss: 3.7323\n",
      "epoch: 47, train_loss: 3.7117, test_loss: 3.9840\n",
      "epoch: 48, train_loss: 3.7010, test_loss: 3.6577\n",
      "epoch: 49, train_loss: 3.7126, test_loss: 3.6731\n",
      "epoch: 50, train_loss: 3.6829, test_loss: 3.6314\n",
      "epoch: 51, train_loss: 3.6766, test_loss: 3.6209\n",
      "epoch: 52, train_loss: 3.6727, test_loss: 3.6444\n",
      "epoch: 53, train_loss: 3.6617, test_loss: 3.6538\n",
      "epoch: 54, train_loss: 3.6537, test_loss: 3.6200\n",
      "epoch: 55, train_loss: 3.6407, test_loss: 3.6022\n",
      "epoch: 56, train_loss: 3.6370, test_loss: 3.7246\n",
      "epoch: 57, train_loss: 3.6364, test_loss: 3.6393\n",
      "epoch: 58, train_loss: 3.6241, test_loss: 3.5987\n",
      "epoch: 59, train_loss: 3.6091, test_loss: 3.5860\n",
      "epoch: 60, train_loss: 3.6076, test_loss: 3.6134\n",
      "epoch: 61, train_loss: 3.6097, test_loss: 3.5779\n",
      "epoch: 62, train_loss: 3.5961, test_loss: 3.5768\n",
      "epoch: 63, train_loss: 3.5879, test_loss: 3.5890\n",
      "epoch: 64, train_loss: 3.5824, test_loss: 3.5743\n",
      "epoch: 65, train_loss: 3.5844, test_loss: 3.5795\n",
      "epoch: 66, train_loss: 3.5750, test_loss: 3.5614\n",
      "epoch: 67, train_loss: 3.5716, test_loss: 3.5640\n",
      "epoch: 68, train_loss: 3.5682, test_loss: 3.6309\n",
      "epoch: 69, train_loss: 3.5652, test_loss: 3.5577\n",
      "epoch: 70, train_loss: 3.5571, test_loss: 3.5966\n",
      "epoch: 71, train_loss: 3.5614, test_loss: 3.6271\n",
      "epoch: 72, train_loss: 3.5446, test_loss: 3.5429\n",
      "epoch: 73, train_loss: 3.5413, test_loss: 3.5505\n",
      "epoch: 74, train_loss: 3.5434, test_loss: 3.5572\n",
      "epoch: 75, train_loss: 3.5509, test_loss: 3.5664\n",
      "epoch: 76, train_loss: 3.5319, test_loss: 3.5358\n",
      "epoch: 77, train_loss: 3.5406, test_loss: 3.5342\n",
      "epoch: 78, train_loss: 3.5366, test_loss: 3.5576\n",
      "epoch: 79, train_loss: 3.5357, test_loss: 3.5615\n",
      "epoch: 80, train_loss: 3.5324, test_loss: 3.5742\n",
      "epoch: 81, train_loss: 3.5192, test_loss: 3.5370\n",
      "epoch: 82, train_loss: 3.5181, test_loss: 3.5453\n",
      "epoch: 83, train_loss: 3.5190, test_loss: 3.5541\n",
      "epoch: 84, train_loss: 3.5247, test_loss: 3.5425\n",
      "epoch: 85, train_loss: 3.5245, test_loss: 3.5351\n",
      "epoch: 86, train_loss: 3.5184, test_loss: 3.5335\n",
      "epoch: 87, train_loss: 3.5082, test_loss: 3.5356\n",
      "epoch: 88, train_loss: 3.5141, test_loss: 3.5428\n",
      "epoch: 89, train_loss: 3.5178, test_loss: 3.5248\n",
      "epoch: 90, train_loss: 3.5056, test_loss: 3.5475\n",
      "epoch: 91, train_loss: 3.5090, test_loss: 3.5826\n",
      "epoch: 92, train_loss: 3.5012, test_loss: 3.5689\n",
      "epoch: 93, train_loss: 3.5123, test_loss: 3.5136\n",
      "epoch: 94, train_loss: 3.5046, test_loss: 3.5825\n",
      "epoch: 95, train_loss: 3.5033, test_loss: 3.5189\n",
      "epoch: 96, train_loss: 3.4999, test_loss: 3.5315\n",
      "epoch: 97, train_loss: 3.4979, test_loss: 3.5250\n",
      "epoch: 98, train_loss: 3.4931, test_loss: 3.5099\n",
      "epoch: 99, train_loss: 3.5021, test_loss: 3.5282\n",
      "epoch: 100, train_loss: 3.4911, test_loss: 3.5628\n",
      "epoch: 101, train_loss: 3.4941, test_loss: 3.5172\n",
      "epoch: 102, train_loss: 3.4961, test_loss: 3.5117\n",
      "epoch: 103, train_loss: 3.4959, test_loss: 3.5099\n",
      "epoch: 104, train_loss: 3.4912, test_loss: 3.5402\n",
      "epoch: 105, train_loss: 3.4859, test_loss: 3.5130\n",
      "epoch: 106, train_loss: 3.4893, test_loss: 3.5383\n",
      "epoch: 107, train_loss: 3.4850, test_loss: 3.5357\n",
      "epoch: 108, train_loss: 3.4906, test_loss: 3.5117\n",
      "epoch: 109, train_loss: 3.4836, test_loss: 3.5240\n",
      "epoch: 110, train_loss: 3.4858, test_loss: 3.5208\n",
      "epoch: 111, train_loss: 3.4816, test_loss: 3.5283\n",
      "epoch: 112, train_loss: 3.4869, test_loss: 3.5209\n",
      "epoch: 113, train_loss: 3.4802, test_loss: 3.5234\n",
      "epoch: 114, train_loss: 3.4820, test_loss: 3.5053\n",
      "epoch: 115, train_loss: 3.4874, test_loss: 3.5028\n",
      "epoch: 116, train_loss: 3.4860, test_loss: 3.5214\n",
      "epoch: 117, train_loss: 3.4776, test_loss: 3.5370\n",
      "epoch: 118, train_loss: 3.4775, test_loss: 3.5233\n",
      "epoch: 119, train_loss: 3.4769, test_loss: 3.5184\n",
      "epoch: 120, train_loss: 3.4780, test_loss: 3.5098\n",
      "epoch: 121, train_loss: 3.4925, test_loss: 3.5012\n",
      "epoch: 122, train_loss: 3.4904, test_loss: 3.5255\n",
      "epoch: 123, train_loss: 3.4841, test_loss: 3.5146\n",
      "epoch: 124, train_loss: 3.4866, test_loss: 3.5311\n",
      "epoch: 125, train_loss: 3.4875, test_loss: 3.5131\n",
      "epoch: 126, train_loss: 3.4785, test_loss: 3.5157\n",
      "epoch: 127, train_loss: 3.4733, test_loss: 3.4991\n",
      "epoch: 128, train_loss: 3.4763, test_loss: 3.5144\n",
      "epoch: 129, train_loss: 3.4722, test_loss: 3.5141\n",
      "epoch: 130, train_loss: 3.4850, test_loss: 3.5146\n",
      "epoch: 131, train_loss: 3.4817, test_loss: 3.5210\n",
      "epoch: 132, train_loss: 3.4795, test_loss: 3.5087\n",
      "epoch: 133, train_loss: 3.4786, test_loss: 3.5062\n",
      "epoch: 134, train_loss: 3.4734, test_loss: 3.5149\n",
      "epoch: 135, train_loss: 3.4729, test_loss: 3.5074\n",
      "epoch: 136, train_loss: 3.4733, test_loss: 3.5127\n",
      "epoch: 137, train_loss: 3.4717, test_loss: 3.5136\n",
      "epoch: 138, train_loss: 3.4781, test_loss: 3.5091\n",
      "epoch: 139, train_loss: 3.4753, test_loss: 3.5069\n",
      "epoch: 140, train_loss: 3.4783, test_loss: 3.5208\n",
      "epoch: 141, train_loss: 3.4801, test_loss: 3.5129\n",
      "epoch: 142, train_loss: 3.4736, test_loss: 3.5076\n",
      "epoch: 143, train_loss: 3.4743, test_loss: 3.5160\n",
      "epoch: 144, train_loss: 3.4768, test_loss: 3.5153\n",
      "epoch: 145, train_loss: 3.4731, test_loss: 3.5190\n",
      "epoch: 146, train_loss: 3.4703, test_loss: 3.5141\n",
      "epoch: 147, train_loss: 3.4764, test_loss: 3.5051\n",
      "epoch: 148, train_loss: 3.4762, test_loss: 3.5075\n",
      "epoch: 149, train_loss: 3.4754, test_loss: 3.5070\n"
     ]
    }
   ],
   "source": [
    "class yachtModel8(nn.Module):\n",
    "    def __init__(self, \n",
    "                 input_shape: int, \n",
    "                 hidden_units1: int, \n",
    "                 hidden_units2: int, \n",
    "                 output_shape: int): \n",
    "        super().__init__()\n",
    "        self.layer_stack = nn.Sequential(\n",
    "            nn.Linear(in_features=input_shape, out_features= hidden_units1),\n",
    "            nn.ReLU(),\n",
    "            nn.Linear(in_features=hidden_units1, out_features=hidden_units2),\n",
    "            nn.ReLU(),\n",
    "            nn.Linear(in_features=hidden_units2, out_features=hidden_units2),\n",
    "            nn.ReLU(),\n",
    "            nn.Linear(in_features=hidden_units2, out_features=hidden_units1),\n",
    "            nn.ReLU(),\n",
    "            nn.Linear(in_features=hidden_units1, out_features=output_shape), \n",
    "            nn.ReLU(),\n",
    "        )\n",
    "        \n",
    "    def forward(self, x):\n",
    "        return self.layer_stack(x) \n",
    "    \n",
    "def train_models2( X_train: pd.DataFrame, \n",
    "                  y_train: pd.DataFrame,\n",
    "                  X_test: pd.DataFrame, \n",
    "                  y_test: pd.DataFrame,\n",
    "                  device: torch.device = device):\n",
    "  \n",
    "    models = {}\n",
    "    final_results2 = {\"train_loss\": [], \n",
    "               \"test_loss\": []}\n",
    "     \n",
    "    for column in y_train.columns.to_list()[-8:]:\n",
    "        # making datasets \n",
    "        train_dataset = MyDataset(X_train, y_train[column])\n",
    "        test_dataset = MyDataset(X_test, y_test[column]) \n",
    "\n",
    "        # making dataloader\n",
    "        train_dataloader = DataLoader(dataset=train_dataset, \n",
    "                                        batch_size=32,\n",
    "                                        shuffle=True, \n",
    "                                        num_workers=os.cpu_count())\n",
    "        test_dataloader = DataLoader(dataset=test_dataset, \n",
    "                                    batch_size=32, \n",
    "                                    shuffle=False, \n",
    "                                    num_workers=os.cpu_count())\n",
    "        \n",
    "        # making model\n",
    "        IN_FEATURES = len(indf.columns)\n",
    "        HIDDEN_UNITS1 = 128\n",
    "        HIDDEN_UNITS2 = 64\n",
    "        OUT_FEATURES = 1\n",
    "        EPOCHS=150\n",
    "        start_lr = 0.001\n",
    "        end_lr = 0.0001\n",
    "        \n",
    "\n",
    "        torch.manual_seed(42) \n",
    "        models[column] = yachtModel8(input_shape=IN_FEATURES, # this is with relu\n",
    "                        hidden_units1=HIDDEN_UNITS1,\n",
    "                        hidden_units2=HIDDEN_UNITS2,\n",
    "                        output_shape=OUT_FEATURES).to(device)\n",
    "\n",
    "        loss_fun = nn.HuberLoss()\n",
    "        optimizer = torch.optim.Adam(params=models[column].parameters(),\n",
    "                                    lr=start_lr)\n",
    "\n",
    "        model_results = train2(model=models[column], \n",
    "                                train_dataloader=train_dataloader, \n",
    "                                test_dataloader=test_dataloader, \n",
    "                                loss_fn=loss_fun, \n",
    "                                optimizer=optimizer, \n",
    "                                epochs=EPOCHS,\n",
    "                                lr_start=start_lr,\n",
    "                                lr_end=end_lr, \n",
    "                                device=device)\n",
    "        final_results2[\"train_loss\"].append(model_results[\"train_loss\"][-1])\n",
    "        final_results2[\"test_loss\"].append(model_results[\"test_loss\"][-1])\n",
    "        \n",
    "        # saving model\n",
    "        torch.save(models[column].state_dict(), \"models/\" + str(column))\n",
    "    \n",
    "    return final_results2\n",
    "\n",
    "final_results2 = train_models2(X_train=X_train,\n",
    "                             y_train=y_train,\n",
    "                             X_test=X_test, \n",
    "                             y_test=y_test,\n",
    "                             device=device)"
   ]
  },
  {
   "cell_type": "code",
   "execution_count": null,
   "metadata": {},
   "outputs": [
    {
     "name": "stdout",
     "output_type": "stream",
     "text": [
      "{'train_loss': [0.637565661930708, 0.8637025017536223, 1.121680630944592, 0.9420726663307335, 1.8969165800351997, 1.8721429596310255, 2.036621178310223, 3.475432942895328], 'test_loss': [0.6292900626790033, 0.8038282231108783, 1.4680226371712881, 1.1668217521007747, 1.930725193186982, 2.655328472999677, 3.272263767784589, 3.5069526858525735]}\n"
     ]
    },
    {
     "data": {
      "text/plain": [
       "<BarContainer object of 8 artists>"
      ]
     },
     "execution_count": 28,
     "metadata": {},
     "output_type": "execute_result"
    },
    {
     "data": {
      "image/png": "[encoded data removed]",
      "text/plain": [
       "<Figure size 640x480 with 1 Axes>"
      ]
     },
     "metadata": {},
     "output_type": "display_data"
    }
   ],
   "source": [
    "print(final_results2)\n",
    "plt.bar(range(len(final_results2['test_loss'])), final_results2['test_loss']) # predictions for last 8 "
   ]
  },
  {
   "cell_type": "code",
   "execution_count": null,
   "metadata": {},
   "outputs": [
    {
     "data": {
      "text/plain": [
       "25"
      ]
     },
     "execution_count": 29,
     "metadata": {},
     "output_type": "execute_result"
    }
   ],
   "source": [
    "len(indf.columns)"
   ]
  }
 ],
 "metadata": {
  "kernelspec": {
   "display_name": "pytorch",
   "language": "python",
   "name": "python3"
  },
  "language_info": {
   "codemirror_mode": {
    "name": "ipython",
    "version": 3
   },
   "file_extension": ".py",
   "mimetype": "text/x-python",
   "name": "python",
   "nbconvert_exporter": "python",
   "pygments_lexer": "ipython3",
   "version": "3.10.14"
  }
 },
 "nbformat": 4,
 "nbformat_minor": 2
}
