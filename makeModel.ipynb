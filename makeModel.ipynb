{
 "cells": [
  {
   "cell_type": "markdown",
   "metadata": {},
   "source": [
    "# creating models"
   ]
  },
  {
   "cell_type": "code",
   "execution_count": 98,
   "metadata": {},
   "outputs": [
    {
     "data": {
      "text/plain": [
       "'cuda'"
      ]
     },
     "execution_count": 98,
     "metadata": {},
     "output_type": "execute_result"
    }
   ],
   "source": [
    "import numpy as np \n",
    "import matplotlib.pyplot as plt \n",
    "import torch \n",
    "import pandas as pd\n",
    " \n",
    "device = \"cuda\" if torch.cuda.is_available() else \"cpu\"\n",
    "device"
   ]
  },
  {
   "cell_type": "code",
   "execution_count": 99,
   "metadata": {},
   "outputs": [
    {
     "data": {
      "text/plain": [
       "(9805, 1731, 11536)"
      ]
     },
     "execution_count": 99,
     "metadata": {},
     "output_type": "execute_result"
    }
   ],
   "source": [
    "indf = pd.read_excel('data/clean/indf.xlsx').drop('Unnamed: 0', axis=1)\n",
    "outdf = pd.read_excel('data/clean/outdf.xlsx').drop('Unnamed: 0', axis=1)\n",
    "\n",
    "TEST_SPLIT = int(0.85 * len(indf))\n",
    "X_train, y_train, X_test, y_test = indf.iloc[:TEST_SPLIT], outdf.iloc[:TEST_SPLIT], indf.iloc[TEST_SPLIT:], outdf.iloc[TEST_SPLIT:]\n",
    "len(X_train), len(X_test), len(indf)"
   ]
  },
  {
   "cell_type": "code",
   "execution_count": 100,
   "metadata": {},
   "outputs": [
    {
     "data": {
      "text/html": [
       "<div>\n",
       "<style scoped>\n",
       "    .dataframe tbody tr th:only-of-type {\n",
       "        vertical-align: middle;\n",
       "    }\n",
       "\n",
       "    .dataframe tbody tr th {\n",
       "        vertical-align: top;\n",
       "    }\n",
       "\n",
       "    .dataframe thead th {\n",
       "        text-align: right;\n",
       "    }\n",
       "</style>\n",
       "<table border=\"1\" class=\"dataframe\">\n",
       "  <thead>\n",
       "    <tr style=\"text-align: right;\">\n",
       "      <th></th>\n",
       "      <th>Series date</th>\n",
       "      <th>Length Overall</th>\n",
       "      <th>Maximum Beam</th>\n",
       "      <th>Draft</th>\n",
       "      <th>Displacement</th>\n",
       "      <th>DLR</th>\n",
       "      <th>IMS Division</th>\n",
       "      <th>Dynamic Allowance</th>\n",
       "      <th>Age Allowance</th>\n",
       "      <th>Mainsail measured</th>\n",
       "      <th>...</th>\n",
       "      <th>Mizzen measured</th>\n",
       "      <th>Mizzen rated</th>\n",
       "      <th>Headsail Flying measured</th>\n",
       "      <th>Headsail Flying rated</th>\n",
       "      <th>Asymmetric measured</th>\n",
       "      <th>Asymmetric rated</th>\n",
       "      <th>Quad. Mainsail measured</th>\n",
       "      <th>Quad. Mainsail rated</th>\n",
       "      <th>Mizzen Staysail measured</th>\n",
       "      <th>Mizzen Staysail rated</th>\n",
       "    </tr>\n",
       "  </thead>\n",
       "  <tbody>\n",
       "    <tr>\n",
       "      <th>0</th>\n",
       "      <td>0.926917</td>\n",
       "      <td>0.129929</td>\n",
       "      <td>0.092691</td>\n",
       "      <td>0.166967</td>\n",
       "      <td>0.012646</td>\n",
       "      <td>0.198474</td>\n",
       "      <td>0.666667</td>\n",
       "      <td>0.200000</td>\n",
       "      <td>1.000000</td>\n",
       "      <td>0.049676</td>\n",
       "      <td>...</td>\n",
       "      <td>0.000000</td>\n",
       "      <td>0.000000</td>\n",
       "      <td>0.000000</td>\n",
       "      <td>0.000000</td>\n",
       "      <td>0.000000</td>\n",
       "      <td>0.000000</td>\n",
       "      <td>0.0</td>\n",
       "      <td>0.0</td>\n",
       "      <td>0.0</td>\n",
       "      <td>0.0</td>\n",
       "    </tr>\n",
       "    <tr>\n",
       "      <th>1</th>\n",
       "      <td>0.880755</td>\n",
       "      <td>0.139393</td>\n",
       "      <td>0.102733</td>\n",
       "      <td>0.062528</td>\n",
       "      <td>0.019525</td>\n",
       "      <td>0.406542</td>\n",
       "      <td>0.000000</td>\n",
       "      <td>0.800000</td>\n",
       "      <td>1.000000</td>\n",
       "      <td>0.031359</td>\n",
       "      <td>...</td>\n",
       "      <td>0.056285</td>\n",
       "      <td>0.056638</td>\n",
       "      <td>0.050080</td>\n",
       "      <td>0.148463</td>\n",
       "      <td>0.032390</td>\n",
       "      <td>0.135318</td>\n",
       "      <td>0.0</td>\n",
       "      <td>0.0</td>\n",
       "      <td>0.0</td>\n",
       "      <td>0.0</td>\n",
       "    </tr>\n",
       "    <tr>\n",
       "      <th>2</th>\n",
       "      <td>0.940614</td>\n",
       "      <td>0.161120</td>\n",
       "      <td>0.107443</td>\n",
       "      <td>0.207639</td>\n",
       "      <td>0.019245</td>\n",
       "      <td>0.264876</td>\n",
       "      <td>0.666667</td>\n",
       "      <td>0.000000</td>\n",
       "      <td>1.000000</td>\n",
       "      <td>0.069499</td>\n",
       "      <td>...</td>\n",
       "      <td>0.000000</td>\n",
       "      <td>0.000000</td>\n",
       "      <td>0.000000</td>\n",
       "      <td>0.000000</td>\n",
       "      <td>0.000000</td>\n",
       "      <td>0.000000</td>\n",
       "      <td>0.0</td>\n",
       "      <td>0.0</td>\n",
       "      <td>0.0</td>\n",
       "      <td>0.0</td>\n",
       "    </tr>\n",
       "    <tr>\n",
       "      <th>3</th>\n",
       "      <td>0.964422</td>\n",
       "      <td>0.098186</td>\n",
       "      <td>0.070207</td>\n",
       "      <td>0.155250</td>\n",
       "      <td>0.004272</td>\n",
       "      <td>0.078507</td>\n",
       "      <td>1.000000</td>\n",
       "      <td>0.000000</td>\n",
       "      <td>0.800821</td>\n",
       "      <td>0.044433</td>\n",
       "      <td>...</td>\n",
       "      <td>0.000000</td>\n",
       "      <td>0.000000</td>\n",
       "      <td>0.000000</td>\n",
       "      <td>0.000000</td>\n",
       "      <td>0.043438</td>\n",
       "      <td>0.181478</td>\n",
       "      <td>0.0</td>\n",
       "      <td>0.0</td>\n",
       "      <td>0.0</td>\n",
       "      <td>0.0</td>\n",
       "    </tr>\n",
       "    <tr>\n",
       "      <th>4</th>\n",
       "      <td>0.964422</td>\n",
       "      <td>0.098186</td>\n",
       "      <td>0.070207</td>\n",
       "      <td>0.155250</td>\n",
       "      <td>0.004272</td>\n",
       "      <td>0.078507</td>\n",
       "      <td>1.000000</td>\n",
       "      <td>0.000000</td>\n",
       "      <td>0.800821</td>\n",
       "      <td>0.044433</td>\n",
       "      <td>...</td>\n",
       "      <td>0.000000</td>\n",
       "      <td>0.000000</td>\n",
       "      <td>0.000000</td>\n",
       "      <td>0.000000</td>\n",
       "      <td>0.043438</td>\n",
       "      <td>0.181478</td>\n",
       "      <td>0.0</td>\n",
       "      <td>0.0</td>\n",
       "      <td>0.0</td>\n",
       "      <td>0.0</td>\n",
       "    </tr>\n",
       "    <tr>\n",
       "      <th>...</th>\n",
       "      <td>...</td>\n",
       "      <td>...</td>\n",
       "      <td>...</td>\n",
       "      <td>...</td>\n",
       "      <td>...</td>\n",
       "      <td>...</td>\n",
       "      <td>...</td>\n",
       "      <td>...</td>\n",
       "      <td>...</td>\n",
       "      <td>...</td>\n",
       "      <td>...</td>\n",
       "      <td>...</td>\n",
       "      <td>...</td>\n",
       "      <td>...</td>\n",
       "      <td>...</td>\n",
       "      <td>...</td>\n",
       "      <td>...</td>\n",
       "      <td>...</td>\n",
       "      <td>...</td>\n",
       "      <td>...</td>\n",
       "      <td>...</td>\n",
       "    </tr>\n",
       "    <tr>\n",
       "      <th>11531</th>\n",
       "      <td>0.993278</td>\n",
       "      <td>0.114077</td>\n",
       "      <td>0.099711</td>\n",
       "      <td>0.163024</td>\n",
       "      <td>0.009759</td>\n",
       "      <td>0.174742</td>\n",
       "      <td>1.000000</td>\n",
       "      <td>0.000000</td>\n",
       "      <td>0.133470</td>\n",
       "      <td>0.042830</td>\n",
       "      <td>...</td>\n",
       "      <td>0.000000</td>\n",
       "      <td>0.000000</td>\n",
       "      <td>0.055708</td>\n",
       "      <td>0.165149</td>\n",
       "      <td>0.044585</td>\n",
       "      <td>0.186268</td>\n",
       "      <td>0.0</td>\n",
       "      <td>0.0</td>\n",
       "      <td>0.0</td>\n",
       "      <td>0.0</td>\n",
       "    </tr>\n",
       "    <tr>\n",
       "      <th>11532</th>\n",
       "      <td>0.817285</td>\n",
       "      <td>0.081329</td>\n",
       "      <td>0.061409</td>\n",
       "      <td>0.076386</td>\n",
       "      <td>0.008794</td>\n",
       "      <td>0.436856</td>\n",
       "      <td>0.666667</td>\n",
       "      <td>0.680000</td>\n",
       "      <td>1.000000</td>\n",
       "      <td>0.027189</td>\n",
       "      <td>...</td>\n",
       "      <td>0.000000</td>\n",
       "      <td>0.000000</td>\n",
       "      <td>0.000000</td>\n",
       "      <td>0.000000</td>\n",
       "      <td>0.020251</td>\n",
       "      <td>0.084603</td>\n",
       "      <td>0.0</td>\n",
       "      <td>0.0</td>\n",
       "      <td>0.0</td>\n",
       "      <td>0.0</td>\n",
       "    </tr>\n",
       "    <tr>\n",
       "      <th>11533</th>\n",
       "      <td>0.931483</td>\n",
       "      <td>0.134661</td>\n",
       "      <td>0.095001</td>\n",
       "      <td>0.179811</td>\n",
       "      <td>0.010956</td>\n",
       "      <td>0.191282</td>\n",
       "      <td>1.000000</td>\n",
       "      <td>0.000000</td>\n",
       "      <td>1.000000</td>\n",
       "      <td>0.055850</td>\n",
       "      <td>...</td>\n",
       "      <td>0.000000</td>\n",
       "      <td>0.000000</td>\n",
       "      <td>0.000000</td>\n",
       "      <td>0.000000</td>\n",
       "      <td>0.055785</td>\n",
       "      <td>0.233060</td>\n",
       "      <td>0.0</td>\n",
       "      <td>0.0</td>\n",
       "      <td>0.0</td>\n",
       "      <td>0.0</td>\n",
       "    </tr>\n",
       "    <tr>\n",
       "      <th>11534</th>\n",
       "      <td>0.926917</td>\n",
       "      <td>0.125631</td>\n",
       "      <td>0.108509</td>\n",
       "      <td>0.183979</td>\n",
       "      <td>0.010565</td>\n",
       "      <td>0.177380</td>\n",
       "      <td>0.666667</td>\n",
       "      <td>0.146667</td>\n",
       "      <td>1.000000</td>\n",
       "      <td>0.051593</td>\n",
       "      <td>...</td>\n",
       "      <td>0.000000</td>\n",
       "      <td>0.000000</td>\n",
       "      <td>0.000000</td>\n",
       "      <td>0.000000</td>\n",
       "      <td>0.054677</td>\n",
       "      <td>0.228430</td>\n",
       "      <td>0.0</td>\n",
       "      <td>0.0</td>\n",
       "      <td>0.0</td>\n",
       "      <td>0.0</td>\n",
       "    </tr>\n",
       "    <tr>\n",
       "      <th>11535</th>\n",
       "      <td>0.948063</td>\n",
       "      <td>0.229278</td>\n",
       "      <td>0.130371</td>\n",
       "      <td>0.357256</td>\n",
       "      <td>0.019176</td>\n",
       "      <td>0.070426</td>\n",
       "      <td>1.000000</td>\n",
       "      <td>0.000000</td>\n",
       "      <td>1.000000</td>\n",
       "      <td>0.131112</td>\n",
       "      <td>...</td>\n",
       "      <td>0.000000</td>\n",
       "      <td>0.000000</td>\n",
       "      <td>0.167105</td>\n",
       "      <td>0.495389</td>\n",
       "      <td>0.107078</td>\n",
       "      <td>0.447353</td>\n",
       "      <td>0.0</td>\n",
       "      <td>0.0</td>\n",
       "      <td>0.0</td>\n",
       "      <td>0.0</td>\n",
       "    </tr>\n",
       "  </tbody>\n",
       "</table>\n",
       "<p>11536 rows × 25 columns</p>\n",
       "</div>"
      ],
      "text/plain": [
       "       Series date  Length Overall  Maximum Beam     Draft  Displacement  \\\n",
       "0         0.926917        0.129929      0.092691  0.166967      0.012646   \n",
       "1         0.880755        0.139393      0.102733  0.062528      0.019525   \n",
       "2         0.940614        0.161120      0.107443  0.207639      0.019245   \n",
       "3         0.964422        0.098186      0.070207  0.155250      0.004272   \n",
       "4         0.964422        0.098186      0.070207  0.155250      0.004272   \n",
       "...            ...             ...           ...       ...           ...   \n",
       "11531     0.993278        0.114077      0.099711  0.163024      0.009759   \n",
       "11532     0.817285        0.081329      0.061409  0.076386      0.008794   \n",
       "11533     0.931483        0.134661      0.095001  0.179811      0.010956   \n",
       "11534     0.926917        0.125631      0.108509  0.183979      0.010565   \n",
       "11535     0.948063        0.229278      0.130371  0.357256      0.019176   \n",
       "\n",
       "            DLR  IMS Division  Dynamic Allowance  Age Allowance  \\\n",
       "0      0.198474      0.666667           0.200000       1.000000   \n",
       "1      0.406542      0.000000           0.800000       1.000000   \n",
       "2      0.264876      0.666667           0.000000       1.000000   \n",
       "3      0.078507      1.000000           0.000000       0.800821   \n",
       "4      0.078507      1.000000           0.000000       0.800821   \n",
       "...         ...           ...                ...            ...   \n",
       "11531  0.174742      1.000000           0.000000       0.133470   \n",
       "11532  0.436856      0.666667           0.680000       1.000000   \n",
       "11533  0.191282      1.000000           0.000000       1.000000   \n",
       "11534  0.177380      0.666667           0.146667       1.000000   \n",
       "11535  0.070426      1.000000           0.000000       1.000000   \n",
       "\n",
       "       Mainsail measured  ...  Mizzen measured  Mizzen rated  \\\n",
       "0               0.049676  ...         0.000000      0.000000   \n",
       "1               0.031359  ...         0.056285      0.056638   \n",
       "2               0.069499  ...         0.000000      0.000000   \n",
       "3               0.044433  ...         0.000000      0.000000   \n",
       "4               0.044433  ...         0.000000      0.000000   \n",
       "...                  ...  ...              ...           ...   \n",
       "11531           0.042830  ...         0.000000      0.000000   \n",
       "11532           0.027189  ...         0.000000      0.000000   \n",
       "11533           0.055850  ...         0.000000      0.000000   \n",
       "11534           0.051593  ...         0.000000      0.000000   \n",
       "11535           0.131112  ...         0.000000      0.000000   \n",
       "\n",
       "       Headsail Flying measured  Headsail Flying rated  Asymmetric measured  \\\n",
       "0                      0.000000               0.000000             0.000000   \n",
       "1                      0.050080               0.148463             0.032390   \n",
       "2                      0.000000               0.000000             0.000000   \n",
       "3                      0.000000               0.000000             0.043438   \n",
       "4                      0.000000               0.000000             0.043438   \n",
       "...                         ...                    ...                  ...   \n",
       "11531                  0.055708               0.165149             0.044585   \n",
       "11532                  0.000000               0.000000             0.020251   \n",
       "11533                  0.000000               0.000000             0.055785   \n",
       "11534                  0.000000               0.000000             0.054677   \n",
       "11535                  0.167105               0.495389             0.107078   \n",
       "\n",
       "       Asymmetric rated  Quad. Mainsail measured  Quad. Mainsail rated  \\\n",
       "0              0.000000                      0.0                   0.0   \n",
       "1              0.135318                      0.0                   0.0   \n",
       "2              0.000000                      0.0                   0.0   \n",
       "3              0.181478                      0.0                   0.0   \n",
       "4              0.181478                      0.0                   0.0   \n",
       "...                 ...                      ...                   ...   \n",
       "11531          0.186268                      0.0                   0.0   \n",
       "11532          0.084603                      0.0                   0.0   \n",
       "11533          0.233060                      0.0                   0.0   \n",
       "11534          0.228430                      0.0                   0.0   \n",
       "11535          0.447353                      0.0                   0.0   \n",
       "\n",
       "       Mizzen Staysail measured  Mizzen Staysail rated  \n",
       "0                           0.0                    0.0  \n",
       "1                           0.0                    0.0  \n",
       "2                           0.0                    0.0  \n",
       "3                           0.0                    0.0  \n",
       "4                           0.0                    0.0  \n",
       "...                         ...                    ...  \n",
       "11531                       0.0                    0.0  \n",
       "11532                       0.0                    0.0  \n",
       "11533                       0.0                    0.0  \n",
       "11534                       0.0                    0.0  \n",
       "11535                       0.0                    0.0  \n",
       "\n",
       "[11536 rows x 25 columns]"
      ]
     },
     "execution_count": 100,
     "metadata": {},
     "output_type": "execute_result"
    }
   ],
   "source": [
    "indf"
   ]
  },
  {
   "cell_type": "code",
   "execution_count": 101,
   "metadata": {},
   "outputs": [
    {
     "data": {
      "text/html": [
       "<div>\n",
       "<style scoped>\n",
       "    .dataframe tbody tr th:only-of-type {\n",
       "        vertical-align: middle;\n",
       "    }\n",
       "\n",
       "    .dataframe tbody tr th {\n",
       "        vertical-align: top;\n",
       "    }\n",
       "\n",
       "    .dataframe thead th {\n",
       "        text-align: right;\n",
       "    }\n",
       "</style>\n",
       "<table border=\"1\" class=\"dataframe\">\n",
       "  <thead>\n",
       "    <tr style=\"text-align: right;\">\n",
       "      <th></th>\n",
       "      <th>Beat Angles 6 kt</th>\n",
       "      <th>Beat Angles 8 kt</th>\n",
       "      <th>Beat Angles 10 kt</th>\n",
       "      <th>Beat Angles 12 kt</th>\n",
       "      <th>Beat Angles 14 kt</th>\n",
       "      <th>Beat Angles 16 kt</th>\n",
       "      <th>Beat Angles 20 kt</th>\n",
       "      <th>Beat Angles 24 kt</th>\n",
       "      <th>Beat VMG 6 kt</th>\n",
       "      <th>Beat VMG 8 kt</th>\n",
       "      <th>...</th>\n",
       "      <th>Run VMG 20 kt</th>\n",
       "      <th>Run VMG 24 kt</th>\n",
       "      <th>Gybe Angles 6 kt</th>\n",
       "      <th>Gybe Angles 8 kt</th>\n",
       "      <th>Gybe Angles 10 kt</th>\n",
       "      <th>Gybe Angles 12 kt</th>\n",
       "      <th>Gybe Angles 14 kt</th>\n",
       "      <th>Gybe Angles 16 kt</th>\n",
       "      <th>Gybe Angles 20 kt</th>\n",
       "      <th>Gybe Angles 24 kt</th>\n",
       "    </tr>\n",
       "  </thead>\n",
       "  <tbody>\n",
       "    <tr>\n",
       "      <th>0</th>\n",
       "      <td>42.900002</td>\n",
       "      <td>40.799999</td>\n",
       "      <td>39.099998</td>\n",
       "      <td>37.799999</td>\n",
       "      <td>37.099998</td>\n",
       "      <td>36.599998</td>\n",
       "      <td>36.200001</td>\n",
       "      <td>36.599998</td>\n",
       "      <td>3.74</td>\n",
       "      <td>4.58</td>\n",
       "      <td>...</td>\n",
       "      <td>8.46</td>\n",
       "      <td>9.370000</td>\n",
       "      <td>140.800003</td>\n",
       "      <td>146.899994</td>\n",
       "      <td>150.500000</td>\n",
       "      <td>155.800003</td>\n",
       "      <td>165.100006</td>\n",
       "      <td>176.800003</td>\n",
       "      <td>177.699997</td>\n",
       "      <td>176.399994</td>\n",
       "    </tr>\n",
       "    <tr>\n",
       "      <th>1</th>\n",
       "      <td>49.400002</td>\n",
       "      <td>48.000000</td>\n",
       "      <td>47.200001</td>\n",
       "      <td>47.200001</td>\n",
       "      <td>47.500000</td>\n",
       "      <td>48.200001</td>\n",
       "      <td>49.599998</td>\n",
       "      <td>51.700001</td>\n",
       "      <td>2.63</td>\n",
       "      <td>3.24</td>\n",
       "      <td>...</td>\n",
       "      <td>7.71</td>\n",
       "      <td>8.320000</td>\n",
       "      <td>144.800003</td>\n",
       "      <td>148.699997</td>\n",
       "      <td>152.500000</td>\n",
       "      <td>156.800003</td>\n",
       "      <td>165.100006</td>\n",
       "      <td>175.000000</td>\n",
       "      <td>179.000000</td>\n",
       "      <td>179.000000</td>\n",
       "    </tr>\n",
       "    <tr>\n",
       "      <th>2</th>\n",
       "      <td>42.500000</td>\n",
       "      <td>40.200001</td>\n",
       "      <td>38.599998</td>\n",
       "      <td>37.799999</td>\n",
       "      <td>37.299999</td>\n",
       "      <td>37.099998</td>\n",
       "      <td>37.500000</td>\n",
       "      <td>38.500000</td>\n",
       "      <td>4.14</td>\n",
       "      <td>4.96</td>\n",
       "      <td>...</td>\n",
       "      <td>8.70</td>\n",
       "      <td>9.510000</td>\n",
       "      <td>141.399994</td>\n",
       "      <td>146.500000</td>\n",
       "      <td>150.699997</td>\n",
       "      <td>155.600006</td>\n",
       "      <td>163.300003</td>\n",
       "      <td>175.399994</td>\n",
       "      <td>178.300003</td>\n",
       "      <td>178.100006</td>\n",
       "    </tr>\n",
       "    <tr>\n",
       "      <th>3</th>\n",
       "      <td>42.599998</td>\n",
       "      <td>40.200001</td>\n",
       "      <td>38.799999</td>\n",
       "      <td>38.700001</td>\n",
       "      <td>38.400002</td>\n",
       "      <td>38.200001</td>\n",
       "      <td>38.900002</td>\n",
       "      <td>40.599998</td>\n",
       "      <td>4.08</td>\n",
       "      <td>4.85</td>\n",
       "      <td>...</td>\n",
       "      <td>11.50</td>\n",
       "      <td>14.570000</td>\n",
       "      <td>143.100006</td>\n",
       "      <td>145.800003</td>\n",
       "      <td>149.699997</td>\n",
       "      <td>149.600006</td>\n",
       "      <td>146.500000</td>\n",
       "      <td>145.699997</td>\n",
       "      <td>146.199997</td>\n",
       "      <td>150.300003</td>\n",
       "    </tr>\n",
       "    <tr>\n",
       "      <th>4</th>\n",
       "      <td>42.599998</td>\n",
       "      <td>40.200001</td>\n",
       "      <td>38.799999</td>\n",
       "      <td>38.700001</td>\n",
       "      <td>38.400002</td>\n",
       "      <td>38.200001</td>\n",
       "      <td>38.900002</td>\n",
       "      <td>40.599998</td>\n",
       "      <td>4.08</td>\n",
       "      <td>4.85</td>\n",
       "      <td>...</td>\n",
       "      <td>11.50</td>\n",
       "      <td>14.570000</td>\n",
       "      <td>143.100006</td>\n",
       "      <td>145.800003</td>\n",
       "      <td>149.699997</td>\n",
       "      <td>149.600006</td>\n",
       "      <td>146.500000</td>\n",
       "      <td>145.699997</td>\n",
       "      <td>146.199997</td>\n",
       "      <td>150.300003</td>\n",
       "    </tr>\n",
       "    <tr>\n",
       "      <th>...</th>\n",
       "      <td>...</td>\n",
       "      <td>...</td>\n",
       "      <td>...</td>\n",
       "      <td>...</td>\n",
       "      <td>...</td>\n",
       "      <td>...</td>\n",
       "      <td>...</td>\n",
       "      <td>...</td>\n",
       "      <td>...</td>\n",
       "      <td>...</td>\n",
       "      <td>...</td>\n",
       "      <td>...</td>\n",
       "      <td>...</td>\n",
       "      <td>...</td>\n",
       "      <td>...</td>\n",
       "      <td>...</td>\n",
       "      <td>...</td>\n",
       "      <td>...</td>\n",
       "      <td>...</td>\n",
       "      <td>...</td>\n",
       "      <td>...</td>\n",
       "    </tr>\n",
       "    <tr>\n",
       "      <th>11531</th>\n",
       "      <td>44.099998</td>\n",
       "      <td>41.700001</td>\n",
       "      <td>40.000000</td>\n",
       "      <td>38.900002</td>\n",
       "      <td>38.400002</td>\n",
       "      <td>38.299999</td>\n",
       "      <td>39.200001</td>\n",
       "      <td>40.400002</td>\n",
       "      <td>3.53</td>\n",
       "      <td>4.33</td>\n",
       "      <td>...</td>\n",
       "      <td>8.27</td>\n",
       "      <td>10.320000</td>\n",
       "      <td>143.300003</td>\n",
       "      <td>146.899994</td>\n",
       "      <td>148.000000</td>\n",
       "      <td>149.399994</td>\n",
       "      <td>148.399994</td>\n",
       "      <td>146.600006</td>\n",
       "      <td>143.100006</td>\n",
       "      <td>139.500000</td>\n",
       "    </tr>\n",
       "    <tr>\n",
       "      <th>11532</th>\n",
       "      <td>43.799999</td>\n",
       "      <td>42.000000</td>\n",
       "      <td>41.299999</td>\n",
       "      <td>40.599998</td>\n",
       "      <td>39.900002</td>\n",
       "      <td>39.599998</td>\n",
       "      <td>39.799999</td>\n",
       "      <td>40.900002</td>\n",
       "      <td>2.96</td>\n",
       "      <td>3.56</td>\n",
       "      <td>...</td>\n",
       "      <td>6.98</td>\n",
       "      <td>7.520000</td>\n",
       "      <td>145.300003</td>\n",
       "      <td>151.000000</td>\n",
       "      <td>153.800003</td>\n",
       "      <td>159.399994</td>\n",
       "      <td>173.600006</td>\n",
       "      <td>178.100006</td>\n",
       "      <td>179.000000</td>\n",
       "      <td>179.000000</td>\n",
       "    </tr>\n",
       "    <tr>\n",
       "      <th>11533</th>\n",
       "      <td>42.400002</td>\n",
       "      <td>40.000000</td>\n",
       "      <td>38.200001</td>\n",
       "      <td>37.400002</td>\n",
       "      <td>37.099998</td>\n",
       "      <td>37.299999</td>\n",
       "      <td>37.400002</td>\n",
       "      <td>38.900002</td>\n",
       "      <td>3.99</td>\n",
       "      <td>4.80</td>\n",
       "      <td>...</td>\n",
       "      <td>8.90</td>\n",
       "      <td>11.450000</td>\n",
       "      <td>143.000000</td>\n",
       "      <td>146.199997</td>\n",
       "      <td>149.300003</td>\n",
       "      <td>151.300003</td>\n",
       "      <td>149.399994</td>\n",
       "      <td>146.699997</td>\n",
       "      <td>143.600006</td>\n",
       "      <td>144.199997</td>\n",
       "    </tr>\n",
       "    <tr>\n",
       "      <th>11534</th>\n",
       "      <td>42.799999</td>\n",
       "      <td>40.599998</td>\n",
       "      <td>38.799999</td>\n",
       "      <td>37.599998</td>\n",
       "      <td>37.599998</td>\n",
       "      <td>37.500000</td>\n",
       "      <td>37.500000</td>\n",
       "      <td>38.700001</td>\n",
       "      <td>3.77</td>\n",
       "      <td>4.61</td>\n",
       "      <td>...</td>\n",
       "      <td>8.91</td>\n",
       "      <td>11.580000</td>\n",
       "      <td>143.100006</td>\n",
       "      <td>146.500000</td>\n",
       "      <td>148.899994</td>\n",
       "      <td>150.600006</td>\n",
       "      <td>148.600006</td>\n",
       "      <td>146.500000</td>\n",
       "      <td>143.300003</td>\n",
       "      <td>143.500000</td>\n",
       "    </tr>\n",
       "    <tr>\n",
       "      <th>11535</th>\n",
       "      <td>41.900002</td>\n",
       "      <td>39.799999</td>\n",
       "      <td>38.400002</td>\n",
       "      <td>37.700001</td>\n",
       "      <td>37.000000</td>\n",
       "      <td>36.400002</td>\n",
       "      <td>36.200001</td>\n",
       "      <td>36.900002</td>\n",
       "      <td>5.62</td>\n",
       "      <td>6.29</td>\n",
       "      <td>...</td>\n",
       "      <td>13.27</td>\n",
       "      <td>16.360001</td>\n",
       "      <td>140.600006</td>\n",
       "      <td>142.899994</td>\n",
       "      <td>147.800003</td>\n",
       "      <td>151.600006</td>\n",
       "      <td>147.399994</td>\n",
       "      <td>145.000000</td>\n",
       "      <td>146.199997</td>\n",
       "      <td>149.300003</td>\n",
       "    </tr>\n",
       "  </tbody>\n",
       "</table>\n",
       "<p>11536 rows × 96 columns</p>\n",
       "</div>"
      ],
      "text/plain": [
       "       Beat Angles 6 kt  Beat Angles 8 kt  Beat Angles 10 kt  \\\n",
       "0             42.900002         40.799999          39.099998   \n",
       "1             49.400002         48.000000          47.200001   \n",
       "2             42.500000         40.200001          38.599998   \n",
       "3             42.599998         40.200001          38.799999   \n",
       "4             42.599998         40.200001          38.799999   \n",
       "...                 ...               ...                ...   \n",
       "11531         44.099998         41.700001          40.000000   \n",
       "11532         43.799999         42.000000          41.299999   \n",
       "11533         42.400002         40.000000          38.200001   \n",
       "11534         42.799999         40.599998          38.799999   \n",
       "11535         41.900002         39.799999          38.400002   \n",
       "\n",
       "       Beat Angles 12 kt  Beat Angles 14 kt  Beat Angles 16 kt  \\\n",
       "0              37.799999          37.099998          36.599998   \n",
       "1              47.200001          47.500000          48.200001   \n",
       "2              37.799999          37.299999          37.099998   \n",
       "3              38.700001          38.400002          38.200001   \n",
       "4              38.700001          38.400002          38.200001   \n",
       "...                  ...                ...                ...   \n",
       "11531          38.900002          38.400002          38.299999   \n",
       "11532          40.599998          39.900002          39.599998   \n",
       "11533          37.400002          37.099998          37.299999   \n",
       "11534          37.599998          37.599998          37.500000   \n",
       "11535          37.700001          37.000000          36.400002   \n",
       "\n",
       "       Beat Angles 20 kt  Beat Angles 24 kt  Beat VMG 6 kt  Beat VMG 8 kt  \\\n",
       "0              36.200001          36.599998           3.74           4.58   \n",
       "1              49.599998          51.700001           2.63           3.24   \n",
       "2              37.500000          38.500000           4.14           4.96   \n",
       "3              38.900002          40.599998           4.08           4.85   \n",
       "4              38.900002          40.599998           4.08           4.85   \n",
       "...                  ...                ...            ...            ...   \n",
       "11531          39.200001          40.400002           3.53           4.33   \n",
       "11532          39.799999          40.900002           2.96           3.56   \n",
       "11533          37.400002          38.900002           3.99           4.80   \n",
       "11534          37.500000          38.700001           3.77           4.61   \n",
       "11535          36.200001          36.900002           5.62           6.29   \n",
       "\n",
       "       ...  Run VMG 20 kt  Run VMG 24 kt  Gybe Angles 6 kt  Gybe Angles 8 kt  \\\n",
       "0      ...           8.46       9.370000        140.800003        146.899994   \n",
       "1      ...           7.71       8.320000        144.800003        148.699997   \n",
       "2      ...           8.70       9.510000        141.399994        146.500000   \n",
       "3      ...          11.50      14.570000        143.100006        145.800003   \n",
       "4      ...          11.50      14.570000        143.100006        145.800003   \n",
       "...    ...            ...            ...               ...               ...   \n",
       "11531  ...           8.27      10.320000        143.300003        146.899994   \n",
       "11532  ...           6.98       7.520000        145.300003        151.000000   \n",
       "11533  ...           8.90      11.450000        143.000000        146.199997   \n",
       "11534  ...           8.91      11.580000        143.100006        146.500000   \n",
       "11535  ...          13.27      16.360001        140.600006        142.899994   \n",
       "\n",
       "       Gybe Angles 10 kt  Gybe Angles 12 kt  Gybe Angles 14 kt  \\\n",
       "0             150.500000         155.800003         165.100006   \n",
       "1             152.500000         156.800003         165.100006   \n",
       "2             150.699997         155.600006         163.300003   \n",
       "3             149.699997         149.600006         146.500000   \n",
       "4             149.699997         149.600006         146.500000   \n",
       "...                  ...                ...                ...   \n",
       "11531         148.000000         149.399994         148.399994   \n",
       "11532         153.800003         159.399994         173.600006   \n",
       "11533         149.300003         151.300003         149.399994   \n",
       "11534         148.899994         150.600006         148.600006   \n",
       "11535         147.800003         151.600006         147.399994   \n",
       "\n",
       "       Gybe Angles 16 kt  Gybe Angles 20 kt  Gybe Angles 24 kt  \n",
       "0             176.800003         177.699997         176.399994  \n",
       "1             175.000000         179.000000         179.000000  \n",
       "2             175.399994         178.300003         178.100006  \n",
       "3             145.699997         146.199997         150.300003  \n",
       "4             145.699997         146.199997         150.300003  \n",
       "...                  ...                ...                ...  \n",
       "11531         146.600006         143.100006         139.500000  \n",
       "11532         178.100006         179.000000         179.000000  \n",
       "11533         146.699997         143.600006         144.199997  \n",
       "11534         146.500000         143.300003         143.500000  \n",
       "11535         145.000000         146.199997         149.300003  \n",
       "\n",
       "[11536 rows x 96 columns]"
      ]
     },
     "execution_count": 101,
     "metadata": {},
     "output_type": "execute_result"
    }
   ],
   "source": [
    "outdf"
   ]
  },
  {
   "cell_type": "code",
   "execution_count": 102,
   "metadata": {},
   "outputs": [
    {
     "data": {
      "text/plain": [
       "tensor([0.9269, 0.1299, 0.0927, 0.1670, 0.0126, 0.1985, 0.6667, 0.2000, 1.0000,\n",
       "        0.0497, 0.0446, 0.0445, 0.0651, 0.2816, 0.2816, 0.0000, 0.0000, 0.0000,\n",
       "        0.0000, 0.0000, 0.0000, 0.0000, 0.0000, 0.0000, 0.0000])"
      ]
     },
     "execution_count": 102,
     "metadata": {},
     "output_type": "execute_result"
    }
   ],
   "source": [
    "import os \n",
    "if not os.path.exists('models'):\n",
    "    os.mkdir('models')\n",
    "    \n",
    "tesatTensor = torch.tensor(indf.iloc[0].values, dtype=torch.float32)\n",
    "tesatTensor"
   ]
  },
  {
   "cell_type": "markdown",
   "metadata": {},
   "source": [
    "#### custom dataset and dataloader"
   ]
  },
  {
   "cell_type": "code",
   "execution_count": 103,
   "metadata": {},
   "outputs": [
    {
     "name": "stdout",
     "output_type": "stream",
     "text": [
      "307 55\n",
      "torch.Size([32, 25]) torch.Size([32])\n"
     ]
    }
   ],
   "source": [
    "from torch.utils.data import Dataset, DataLoader\n",
    "col0 = outdf.columns.tolist()[0]\n",
    "\n",
    "# making dataset\n",
    "class MyDataset(Dataset):\n",
    "    def __init__(self, input_df, output_df):\n",
    "        self.input_df = input_df \n",
    "        self.output_df = output_df \n",
    "    \n",
    "    def __len__(self):\n",
    "        return len(self.input_df)\n",
    "    \n",
    "    def __getitem__(self, idx):\n",
    "        input_data = self.input_df.iloc[idx].values \n",
    "        output_data = self.output_df.iloc[idx] \n",
    "        \n",
    "        input_tensor = torch.tensor(input_data, dtype=torch.float32)\n",
    "        output_tensor = torch.tensor(output_data, dtype=torch.float32)\n",
    "        return input_tensor, output_tensor\n",
    "    \n",
    "train_dataset = MyDataset(X_train, y_train[col0])\n",
    "test_dataset = MyDataset(X_test, y_test[col0]) \n",
    "\n",
    "# making dataloader\n",
    "train_dataloader = DataLoader(dataset=train_dataset, \n",
    "                              batch_size=32,\n",
    "                              shuffle=True, \n",
    "                              num_workers=os.cpu_count())\n",
    "test_dataloader = DataLoader(dataset=test_dataset, \n",
    "                             batch_size=32, \n",
    "                             shuffle=False, \n",
    "                             num_workers=os.cpu_count())\n",
    "\n",
    "# test \n",
    "print(len(train_dataloader), len(test_dataloader))\n",
    "x, y = next(iter(train_dataloader))\n",
    "print(x.shape, y.shape)"
   ]
  },
  {
   "cell_type": "code",
   "execution_count": 104,
   "metadata": {},
   "outputs": [],
   "source": [
    "from tqdm.auto import tqdm\n",
    "def test_step(model: torch.nn.Module, \n",
    "              dataloader: torch.utils.data.DataLoader, \n",
    "              loss_fn: torch.nn.Module,\n",
    "              device=device):\n",
    "    # Put model in eval mode\n",
    "    model.eval() \n",
    "    \n",
    "    # Setup test loss and test accuracy values\n",
    "    test_loss = 0\n",
    "    \n",
    "    # Turn on inference context manager\n",
    "    with torch.inference_mode():\n",
    "        # Loop through DataLoader batches\n",
    "        for batch, (X, y) in enumerate(dataloader):\n",
    "            # Send data to target device\n",
    "            X, y = X.to(device), y.to(device)\n",
    "    \n",
    "            # 1. Forward pass\n",
    "            test_pred = model(X)\n",
    "\n",
    "            # 2. Calculate and accumulate loss\n",
    "            loss = loss_fn(test_pred, y)\n",
    "            test_loss += loss.item()\n",
    "            \n",
    "    # Adjust metrics to get average loss and accuracy per batch \n",
    "    test_loss = test_loss / len(dataloader)\n",
    "    return test_loss\n",
    "\n",
    "def train_step(model: torch.nn.Module, \n",
    "               dataloader: torch.utils.data.DataLoader, \n",
    "               loss_fn: torch.nn.Module, \n",
    "               optimizer: torch.optim.Optimizer,\n",
    "               device=device):\n",
    "    # Put model in train mode\n",
    "    model.train()\n",
    "    \n",
    "    # Setup train loss and train accuracy values\n",
    "    train_loss = 0 \n",
    "    \n",
    "    # Loop through data loader data batches\n",
    "    for batch, (X, y) in enumerate(dataloader):\n",
    "        # Send data to target device\n",
    "        X, y = X.to(device), y.to(device)\n",
    "\n",
    "        # 1. Forward pass\n",
    "        y_pred = model(X)\n",
    "\n",
    "        # 2. Calculate  and accumulate loss\n",
    "        loss = loss_fn(y_pred, y)\n",
    "        train_loss += loss.item() \n",
    "\n",
    "        # 3. Optimizer zero grad\n",
    "        optimizer.zero_grad()\n",
    "\n",
    "        # 4. Loss backward\n",
    "        loss.backward()\n",
    "\n",
    "        # 5. Optimizer step\n",
    "        optimizer.step()\n",
    "\n",
    "    # Adjust metrics to get average loss and accuracy per batch \n",
    "    train_loss = train_loss / len(dataloader)\n",
    "    return train_loss\n",
    "\n",
    "def train(model: torch.nn.Module, \n",
    "          train_dataloader: torch.utils.data.DataLoader, \n",
    "          test_dataloader: torch.utils.data.DataLoader,\n",
    "          loss_fn: torch.nn.Module, \n",
    "          optimizer: torch.optim.Optimizer, \n",
    "          epochs: int, \n",
    "          device: torch.device = device):\n",
    "    results = {\"train_loss\": [], \n",
    "               \"test_loss\": []}\n",
    "    \n",
    "    for epoch in tqdm(range(epochs)):\n",
    "        train_loss = train_step(model=model, \n",
    "                                dataloader=train_dataloader, \n",
    "                                loss_fn=loss_fn, \n",
    "                                optimizer=optimizer,\n",
    "                                device=device)\n",
    "        test_loss = test_step(model=model, \n",
    "                              dataloader=test_dataloader, \n",
    "                              loss_fn=loss_fn,\n",
    "                              device=device)\n",
    "        \n",
    "        print(f\"epoch: {epoch}, train_loss: {train_loss:.4f}, test_loss: {test_loss:.4f}\")\n",
    "        results['train_loss'].append(train_loss)\n",
    "        results['test_loss'].append(test_loss)\n",
    "    \n",
    "    return results\n",
    "    "
   ]
  },
  {
   "cell_type": "code",
   "execution_count": 105,
   "metadata": {},
   "outputs": [],
   "source": [
    "def plot_results(res):\n",
    "    test_loss = res['test_loss']\n",
    "    train_loss = res['train_loss'] \n",
    "    epochs = range(len(train_loss))\n",
    "    \n",
    "    plt.figure(figsize=(10, 7)) \n",
    "    plt.plot(epochs, train_loss, label=\"train_loss\") \n",
    "    plt.plot(epochs, test_loss, label=\"test_loss\") \n",
    "    plt.title(\"loss\")\n",
    "    plt.legend()\n",
    "    plt.show()\n",
    "\n",
    "def plot_results_since(res, since):\n",
    "    test_loss = res['test_loss'][since:]\n",
    "    train_loss = res['train_loss'][since:]\n",
    "    epochs = range(len(train_loss))\n",
    "    \n",
    "    plt.figure(figsize=(10, 7)) \n",
    "    plt.plot(epochs, train_loss, label=\"train_loss\") \n",
    "    plt.plot(epochs, test_loss, label=\"test_loss\") \n",
    "    plt.title(\"loss\")\n",
    "    plt.legend()\n",
    "    plt.show()\n",
    "    \n",
    "    \n",
    "    "
   ]
  },
  {
   "cell_type": "markdown",
   "metadata": {},
   "source": [
    "#### model 0"
   ]
  },
  {
   "cell_type": "code",
   "execution_count": 106,
   "metadata": {},
   "outputs": [],
   "source": [
    "from torch import nn\n",
    "class yachtModel0(nn.Module):\n",
    "    def __init__(self, \n",
    "                 input_shape: int, \n",
    "                 hidden_units: int, \n",
    "                 output_shape: int): \n",
    "        super().__init__()\n",
    "        self.layer_stack = nn.Sequential(\n",
    "            nn.Linear(in_features=input_shape, out_features= hidden_units),\n",
    "            nn.ReLU(), \n",
    "            nn.Linear(in_features=hidden_units, out_features=hidden_units),\n",
    "            nn.ReLU(), \n",
    "            nn.Linear(in_features=hidden_units, out_features=output_shape)\n",
    "        )\n",
    "        \n",
    "    def forward(self, x):\n",
    "        return self.layer_stack(x) \n",
    "    \n",
    "IN_FEATURES = len(indf.columns)\n",
    "HIDDEN_UNITS = 32\n",
    "OUT_FEATURES = 1\n",
    "\n",
    "torch.manual_seed(42) \n",
    "model0 = yachtModel0(input_shape=IN_FEATURES, \n",
    "                     hidden_units=HIDDEN_UNITS, \n",
    "                     output_shape=OUT_FEATURES).to(device)\n",
    "\n",
    "loss_fun = nn.MSELoss()\n",
    "optimizer = torch.optim.Adam(params=model0.parameters(),\n",
    "                             lr=0.0002)"
   ]
  },
  {
   "cell_type": "code",
   "execution_count": 107,
   "metadata": {},
   "outputs": [
    {
     "name": "stderr",
     "output_type": "stream",
     "text": [
      "  0%|          | 0/40 [00:00<?, ?it/s]/home/kuba/miniconda3/envs/pytorch/lib/python3.10/site-packages/torch/nn/modules/loss.py:535: UserWarning: Using a target size (torch.Size([32])) that is different to the input size (torch.Size([32, 1])). This will likely lead to incorrect results due to broadcasting. Please ensure they have the same size.\n",
      "  return F.mse_loss(input, target, reduction=self.reduction)\n",
      "/home/kuba/miniconda3/envs/pytorch/lib/python3.10/site-packages/torch/nn/modules/loss.py:535: UserWarning: Using a target size (torch.Size([13])) that is different to the input size (torch.Size([13, 1])). This will likely lead to incorrect results due to broadcasting. Please ensure they have the same size.\n",
      "  return F.mse_loss(input, target, reduction=self.reduction)\n",
      "/home/kuba/miniconda3/envs/pytorch/lib/python3.10/site-packages/torch/nn/modules/loss.py:535: UserWarning: Using a target size (torch.Size([3])) that is different to the input size (torch.Size([3, 1])). This will likely lead to incorrect results due to broadcasting. Please ensure they have the same size.\n",
      "  return F.mse_loss(input, target, reduction=self.reduction)\n",
      "  2%|▎         | 1/40 [00:01<01:16,  1.96s/it]"
     ]
    },
    {
     "name": "stdout",
     "output_type": "stream",
     "text": [
      "epoch: 0, train_loss: 1857.7440, test_loss: 1732.7929\n"
     ]
    },
    {
     "name": "stderr",
     "output_type": "stream",
     "text": [
      "  5%|▌         | 2/40 [00:03<01:10,  1.86s/it]"
     ]
    },
    {
     "name": "stdout",
     "output_type": "stream",
     "text": [
      "epoch: 1, train_loss: 1277.6643, test_loss: 632.5737\n"
     ]
    },
    {
     "name": "stderr",
     "output_type": "stream",
     "text": [
      "  8%|▊         | 3/40 [00:05<01:09,  1.88s/it]"
     ]
    },
    {
     "name": "stdout",
     "output_type": "stream",
     "text": [
      "epoch: 2, train_loss: 217.7472, test_loss: 36.4284\n"
     ]
    },
    {
     "name": "stderr",
     "output_type": "stream",
     "text": [
      " 10%|█         | 4/40 [00:07<01:11,  1.98s/it]"
     ]
    },
    {
     "name": "stdout",
     "output_type": "stream",
     "text": [
      "epoch: 3, train_loss: 22.5576, test_loss: 25.1504\n"
     ]
    },
    {
     "name": "stderr",
     "output_type": "stream",
     "text": [
      " 12%|█▎        | 5/40 [00:09<01:08,  1.96s/it]"
     ]
    },
    {
     "name": "stdout",
     "output_type": "stream",
     "text": [
      "epoch: 4, train_loss: 19.8328, test_loss: 23.6354\n"
     ]
    },
    {
     "name": "stderr",
     "output_type": "stream",
     "text": [
      " 15%|█▌        | 6/40 [00:11<01:06,  1.96s/it]"
     ]
    },
    {
     "name": "stdout",
     "output_type": "stream",
     "text": [
      "epoch: 5, train_loss: 18.4213, test_loss: 22.1223\n"
     ]
    },
    {
     "name": "stderr",
     "output_type": "stream",
     "text": [
      " 18%|█▊        | 7/40 [00:13<01:04,  1.97s/it]"
     ]
    },
    {
     "name": "stdout",
     "output_type": "stream",
     "text": [
      "epoch: 6, train_loss: 16.8948, test_loss: 19.9600\n"
     ]
    },
    {
     "name": "stderr",
     "output_type": "stream",
     "text": [
      " 20%|██        | 8/40 [00:15<01:02,  1.95s/it]"
     ]
    },
    {
     "name": "stdout",
     "output_type": "stream",
     "text": [
      "epoch: 7, train_loss: 14.6511, test_loss: 17.6663\n"
     ]
    },
    {
     "name": "stderr",
     "output_type": "stream",
     "text": [
      " 22%|██▎       | 9/40 [00:17<01:00,  1.94s/it]"
     ]
    },
    {
     "name": "stdout",
     "output_type": "stream",
     "text": [
      "epoch: 8, train_loss: 12.5347, test_loss: 15.3139\n"
     ]
    },
    {
     "name": "stderr",
     "output_type": "stream",
     "text": [
      " 25%|██▌       | 10/40 [00:19<00:59,  1.98s/it]"
     ]
    },
    {
     "name": "stdout",
     "output_type": "stream",
     "text": [
      "epoch: 9, train_loss: 10.7510, test_loss: 13.5136\n"
     ]
    },
    {
     "name": "stderr",
     "output_type": "stream",
     "text": [
      " 28%|██▊       | 11/40 [00:21<00:55,  1.93s/it]"
     ]
    },
    {
     "name": "stdout",
     "output_type": "stream",
     "text": [
      "epoch: 10, train_loss: 9.2087, test_loss: 11.7929\n"
     ]
    },
    {
     "name": "stderr",
     "output_type": "stream",
     "text": [
      " 30%|███       | 12/40 [00:23<00:53,  1.90s/it]"
     ]
    },
    {
     "name": "stdout",
     "output_type": "stream",
     "text": [
      "epoch: 11, train_loss: 7.9602, test_loss: 10.5056\n"
     ]
    },
    {
     "name": "stderr",
     "output_type": "stream",
     "text": [
      " 32%|███▎      | 13/40 [00:25<00:51,  1.91s/it]"
     ]
    },
    {
     "name": "stdout",
     "output_type": "stream",
     "text": [
      "epoch: 12, train_loss: 7.0405, test_loss: 9.5335\n"
     ]
    },
    {
     "name": "stderr",
     "output_type": "stream",
     "text": [
      " 35%|███▌      | 14/40 [00:27<00:49,  1.92s/it]"
     ]
    },
    {
     "name": "stdout",
     "output_type": "stream",
     "text": [
      "epoch: 13, train_loss: 6.2766, test_loss: 8.0930\n"
     ]
    },
    {
     "name": "stderr",
     "output_type": "stream",
     "text": [
      " 38%|███▊      | 15/40 [00:29<00:48,  1.95s/it]"
     ]
    },
    {
     "name": "stdout",
     "output_type": "stream",
     "text": [
      "epoch: 14, train_loss: 5.6076, test_loss: 7.2212\n"
     ]
    },
    {
     "name": "stderr",
     "output_type": "stream",
     "text": [
      " 40%|████      | 16/40 [00:30<00:46,  1.92s/it]"
     ]
    },
    {
     "name": "stdout",
     "output_type": "stream",
     "text": [
      "epoch: 15, train_loss: 5.1093, test_loss: 6.5090\n"
     ]
    },
    {
     "name": "stderr",
     "output_type": "stream",
     "text": [
      " 42%|████▎     | 17/40 [00:32<00:44,  1.96s/it]"
     ]
    },
    {
     "name": "stdout",
     "output_type": "stream",
     "text": [
      "epoch: 16, train_loss: 4.6109, test_loss: 5.6187\n"
     ]
    },
    {
     "name": "stderr",
     "output_type": "stream",
     "text": [
      " 45%|████▌     | 18/40 [00:35<00:44,  2.03s/it]"
     ]
    },
    {
     "name": "stdout",
     "output_type": "stream",
     "text": [
      "epoch: 17, train_loss: 4.2146, test_loss: 4.9804\n"
     ]
    },
    {
     "name": "stderr",
     "output_type": "stream",
     "text": [
      " 48%|████▊     | 19/40 [00:37<00:45,  2.14s/it]"
     ]
    },
    {
     "name": "stdout",
     "output_type": "stream",
     "text": [
      "epoch: 18, train_loss: 3.8460, test_loss: 4.2549\n"
     ]
    },
    {
     "name": "stderr",
     "output_type": "stream",
     "text": [
      " 50%|█████     | 20/40 [00:40<00:45,  2.29s/it]"
     ]
    },
    {
     "name": "stdout",
     "output_type": "stream",
     "text": [
      "epoch: 19, train_loss: 3.5160, test_loss: 3.8123\n"
     ]
    },
    {
     "name": "stderr",
     "output_type": "stream",
     "text": [
      " 52%|█████▎    | 21/40 [00:42<00:45,  2.40s/it]"
     ]
    },
    {
     "name": "stdout",
     "output_type": "stream",
     "text": [
      "epoch: 20, train_loss: 3.2438, test_loss: 3.2545\n"
     ]
    },
    {
     "name": "stderr",
     "output_type": "stream",
     "text": [
      " 55%|█████▌    | 22/40 [00:45<00:46,  2.57s/it]"
     ]
    },
    {
     "name": "stdout",
     "output_type": "stream",
     "text": [
      "epoch: 21, train_loss: 3.0123, test_loss: 3.0178\n"
     ]
    },
    {
     "name": "stderr",
     "output_type": "stream",
     "text": [
      " 57%|█████▊    | 23/40 [00:48<00:44,  2.61s/it]"
     ]
    },
    {
     "name": "stdout",
     "output_type": "stream",
     "text": [
      "epoch: 22, train_loss: 2.8031, test_loss: 2.6213\n"
     ]
    },
    {
     "name": "stderr",
     "output_type": "stream",
     "text": [
      " 60%|██████    | 24/40 [00:51<00:41,  2.60s/it]"
     ]
    },
    {
     "name": "stdout",
     "output_type": "stream",
     "text": [
      "epoch: 23, train_loss: 2.6565, test_loss: 2.4290\n"
     ]
    },
    {
     "name": "stderr",
     "output_type": "stream",
     "text": [
      " 62%|██████▎   | 25/40 [00:53<00:38,  2.59s/it]"
     ]
    },
    {
     "name": "stdout",
     "output_type": "stream",
     "text": [
      "epoch: 24, train_loss: 2.5236, test_loss: 2.2890\n"
     ]
    },
    {
     "name": "stderr",
     "output_type": "stream",
     "text": [
      " 65%|██████▌   | 26/40 [00:55<00:35,  2.51s/it]"
     ]
    },
    {
     "name": "stdout",
     "output_type": "stream",
     "text": [
      "epoch: 25, train_loss: 2.4418, test_loss: 2.0884\n"
     ]
    },
    {
     "name": "stderr",
     "output_type": "stream",
     "text": [
      " 68%|██████▊   | 27/40 [00:58<00:31,  2.45s/it]"
     ]
    },
    {
     "name": "stdout",
     "output_type": "stream",
     "text": [
      "epoch: 26, train_loss: 2.3698, test_loss: 2.0086\n"
     ]
    },
    {
     "name": "stderr",
     "output_type": "stream",
     "text": [
      " 70%|███████   | 28/40 [01:00<00:29,  2.46s/it]"
     ]
    },
    {
     "name": "stdout",
     "output_type": "stream",
     "text": [
      "epoch: 27, train_loss: 2.3121, test_loss: 1.9449\n"
     ]
    },
    {
     "name": "stderr",
     "output_type": "stream",
     "text": [
      " 72%|███████▎  | 29/40 [01:03<00:26,  2.45s/it]"
     ]
    },
    {
     "name": "stdout",
     "output_type": "stream",
     "text": [
      "epoch: 28, train_loss: 2.2764, test_loss: 1.9243\n"
     ]
    },
    {
     "name": "stderr",
     "output_type": "stream",
     "text": [
      " 75%|███████▌  | 30/40 [01:05<00:24,  2.45s/it]"
     ]
    },
    {
     "name": "stdout",
     "output_type": "stream",
     "text": [
      "epoch: 29, train_loss: 2.2386, test_loss: 1.8742\n"
     ]
    },
    {
     "name": "stderr",
     "output_type": "stream",
     "text": [
      " 78%|███████▊  | 31/40 [01:07<00:21,  2.38s/it]"
     ]
    },
    {
     "name": "stdout",
     "output_type": "stream",
     "text": [
      "epoch: 30, train_loss: 2.1988, test_loss: 1.8098\n"
     ]
    },
    {
     "name": "stderr",
     "output_type": "stream",
     "text": [
      " 80%|████████  | 32/40 [01:10<00:19,  2.40s/it]"
     ]
    },
    {
     "name": "stdout",
     "output_type": "stream",
     "text": [
      "epoch: 31, train_loss: 2.1779, test_loss: 1.8148\n"
     ]
    },
    {
     "name": "stderr",
     "output_type": "stream",
     "text": [
      " 82%|████████▎ | 33/40 [01:12<00:16,  2.41s/it]"
     ]
    },
    {
     "name": "stdout",
     "output_type": "stream",
     "text": [
      "epoch: 32, train_loss: 2.1435, test_loss: 1.9200\n"
     ]
    },
    {
     "name": "stderr",
     "output_type": "stream",
     "text": [
      " 85%|████████▌ | 34/40 [01:15<00:14,  2.36s/it]"
     ]
    },
    {
     "name": "stdout",
     "output_type": "stream",
     "text": [
      "epoch: 33, train_loss: 2.1202, test_loss: 1.7411\n"
     ]
    },
    {
     "name": "stderr",
     "output_type": "stream",
     "text": [
      " 88%|████████▊ | 35/40 [01:17<00:11,  2.38s/it]"
     ]
    },
    {
     "name": "stdout",
     "output_type": "stream",
     "text": [
      "epoch: 34, train_loss: 2.0931, test_loss: 1.7661\n"
     ]
    },
    {
     "name": "stderr",
     "output_type": "stream",
     "text": [
      " 90%|█████████ | 36/40 [01:19<00:09,  2.35s/it]"
     ]
    },
    {
     "name": "stdout",
     "output_type": "stream",
     "text": [
      "epoch: 35, train_loss: 2.0662, test_loss: 1.7295\n"
     ]
    },
    {
     "name": "stderr",
     "output_type": "stream",
     "text": [
      " 92%|█████████▎| 37/40 [01:22<00:07,  2.35s/it]"
     ]
    },
    {
     "name": "stdout",
     "output_type": "stream",
     "text": [
      "epoch: 36, train_loss: 2.0563, test_loss: 1.7023\n"
     ]
    },
    {
     "name": "stderr",
     "output_type": "stream",
     "text": [
      " 95%|█████████▌| 38/40 [01:24<00:04,  2.31s/it]"
     ]
    },
    {
     "name": "stdout",
     "output_type": "stream",
     "text": [
      "epoch: 37, train_loss: 2.0314, test_loss: 1.6819\n"
     ]
    },
    {
     "name": "stderr",
     "output_type": "stream",
     "text": [
      " 98%|█████████▊| 39/40 [01:26<00:02,  2.32s/it]"
     ]
    },
    {
     "name": "stdout",
     "output_type": "stream",
     "text": [
      "epoch: 38, train_loss: 2.0163, test_loss: 1.6773\n"
     ]
    },
    {
     "name": "stderr",
     "output_type": "stream",
     "text": [
      "100%|██████████| 40/40 [01:28<00:00,  2.22s/it]"
     ]
    },
    {
     "name": "stdout",
     "output_type": "stream",
     "text": [
      "epoch: 39, train_loss: 2.0004, test_loss: 1.6768\n"
     ]
    },
    {
     "name": "stderr",
     "output_type": "stream",
     "text": [
      "\n"
     ]
    },
    {
     "data": {
      "image/png": "[encoded data removed]",
      "text/plain": [
       "<Figure size 1000x700 with 1 Axes>"
      ]
     },
     "metadata": {},
     "output_type": "display_data"
    }
   ],
   "source": [
    "model0_results = train(model=model0, \n",
    "                       train_dataloader=train_dataloader, \n",
    "                       test_dataloader=test_dataloader, \n",
    "                       loss_fn=loss_fun, \n",
    "                       optimizer=optimizer, \n",
    "                       epochs=40, \n",
    "                       device=device)\n",
    "\n",
    "plot_results_since(model0_results, 5)"
   ]
  },
  {
   "cell_type": "markdown",
   "metadata": {},
   "source": [
    "#### model 1"
   ]
  },
  {
   "cell_type": "code",
   "execution_count": 115,
   "metadata": {},
   "outputs": [],
   "source": [
    "class yachtModel1(nn.Module):\n",
    "    def __init__(self, \n",
    "                 input_shape: int, \n",
    "                 hidden_units1: int, \n",
    "                 hidden_units2: int, \n",
    "                 output_shape: int): \n",
    "        super().__init__()\n",
    "        self.layer_stack = nn.Sequential(\n",
    "            nn.Linear(in_features=input_shape, out_features= hidden_units2),\n",
    "            nn.ReLU(), \n",
    "            nn.Linear(in_features=hidden_units2, out_features=hidden_units2),\n",
    "            nn.ReLU(), \n",
    "            nn.Linear(in_features=hidden_units2, out_features=hidden_units1),\n",
    "            nn.ReLU(), \n",
    "            nn.Linear(in_features=hidden_units1, out_features=output_shape)\n",
    "        )\n",
    "        \n",
    "    def forward(self, x):\n",
    "        return self.layer_stack(x) \n",
    "    \n",
    "IN_FEATURES = len(indf.columns)\n",
    "HIDDEN_UNITS1 = 64\n",
    "HIDDEN_UNITS2 = 32\n",
    "OUT_FEATURES = 1\n",
    "\n",
    "torch.manual_seed(42) \n",
    "model1 = yachtModel1(input_shape=IN_FEATURES, \n",
    "                     hidden_units1=HIDDEN_UNITS1,\n",
    "                     hidden_units2=HIDDEN_UNITS2,\n",
    "                     output_shape=OUT_FEATURES).to(device)\n",
    "\n",
    "loss_fun = nn.MSELoss()\n",
    "optimizer = torch.optim.Adam(params=model1.parameters(),\n",
    "                             lr=0.0001)"
   ]
  },
  {
   "cell_type": "code",
   "execution_count": 117,
   "metadata": {},
   "outputs": [
    {
     "name": "stderr",
     "output_type": "stream",
     "text": [
      "  1%|          | 1/100 [00:02<03:18,  2.00s/it]"
     ]
    },
    {
     "name": "stdout",
     "output_type": "stream",
     "text": [
      "epoch: 0, train_loss: 1.9570, test_loss: 1.6619\n"
     ]
    },
    {
     "name": "stderr",
     "output_type": "stream",
     "text": [
      "  2%|▏         | 2/100 [00:04<03:28,  2.13s/it]"
     ]
    },
    {
     "name": "stdout",
     "output_type": "stream",
     "text": [
      "epoch: 1, train_loss: 1.9357, test_loss: 1.6588\n"
     ]
    },
    {
     "name": "stderr",
     "output_type": "stream",
     "text": [
      "  3%|▎         | 3/100 [00:06<03:18,  2.04s/it]"
     ]
    },
    {
     "name": "stdout",
     "output_type": "stream",
     "text": [
      "epoch: 2, train_loss: 1.9252, test_loss: 1.7022\n"
     ]
    },
    {
     "name": "stderr",
     "output_type": "stream",
     "text": [
      "  4%|▍         | 4/100 [00:08<03:14,  2.02s/it]"
     ]
    },
    {
     "name": "stdout",
     "output_type": "stream",
     "text": [
      "epoch: 3, train_loss: 1.9213, test_loss: 1.6324\n"
     ]
    },
    {
     "name": "stderr",
     "output_type": "stream",
     "text": [
      "  5%|▌         | 5/100 [00:10<03:25,  2.17s/it]"
     ]
    },
    {
     "name": "stdout",
     "output_type": "stream",
     "text": [
      "epoch: 4, train_loss: 1.9063, test_loss: 1.6552\n"
     ]
    },
    {
     "name": "stderr",
     "output_type": "stream",
     "text": [
      "  6%|▌         | 6/100 [00:13<03:34,  2.28s/it]"
     ]
    },
    {
     "name": "stdout",
     "output_type": "stream",
     "text": [
      "epoch: 5, train_loss: 1.8941, test_loss: 1.6252\n"
     ]
    },
    {
     "name": "stderr",
     "output_type": "stream",
     "text": [
      "  7%|▋         | 7/100 [00:15<03:40,  2.37s/it]"
     ]
    },
    {
     "name": "stdout",
     "output_type": "stream",
     "text": [
      "epoch: 6, train_loss: 1.8793, test_loss: 1.6897\n"
     ]
    },
    {
     "name": "stderr",
     "output_type": "stream",
     "text": [
      "  8%|▊         | 8/100 [00:18<03:41,  2.41s/it]"
     ]
    },
    {
     "name": "stdout",
     "output_type": "stream",
     "text": [
      "epoch: 7, train_loss: 1.8653, test_loss: 1.6345\n"
     ]
    },
    {
     "name": "stderr",
     "output_type": "stream",
     "text": [
      "  9%|▉         | 9/100 [00:20<03:45,  2.47s/it]"
     ]
    },
    {
     "name": "stdout",
     "output_type": "stream",
     "text": [
      "epoch: 8, train_loss: 1.8609, test_loss: 1.6008\n"
     ]
    },
    {
     "name": "stderr",
     "output_type": "stream",
     "text": [
      " 10%|█         | 10/100 [00:23<03:44,  2.50s/it]"
     ]
    },
    {
     "name": "stdout",
     "output_type": "stream",
     "text": [
      "epoch: 9, train_loss: 1.8523, test_loss: 1.5964\n"
     ]
    },
    {
     "name": "stderr",
     "output_type": "stream",
     "text": [
      " 11%|█         | 11/100 [00:25<03:43,  2.51s/it]"
     ]
    },
    {
     "name": "stdout",
     "output_type": "stream",
     "text": [
      "epoch: 10, train_loss: 1.8428, test_loss: 1.6031\n"
     ]
    },
    {
     "name": "stderr",
     "output_type": "stream",
     "text": [
      " 12%|█▏        | 12/100 [00:28<03:45,  2.56s/it]"
     ]
    },
    {
     "name": "stdout",
     "output_type": "stream",
     "text": [
      "epoch: 11, train_loss: 1.8204, test_loss: 1.5861\n"
     ]
    },
    {
     "name": "stderr",
     "output_type": "stream",
     "text": [
      " 13%|█▎        | 13/100 [00:31<03:45,  2.60s/it]"
     ]
    },
    {
     "name": "stdout",
     "output_type": "stream",
     "text": [
      "epoch: 12, train_loss: 1.8260, test_loss: 1.5865\n"
     ]
    },
    {
     "name": "stderr",
     "output_type": "stream",
     "text": [
      " 14%|█▍        | 14/100 [00:33<03:39,  2.55s/it]"
     ]
    },
    {
     "name": "stdout",
     "output_type": "stream",
     "text": [
      "epoch: 13, train_loss: 1.8181, test_loss: 1.5814\n"
     ]
    },
    {
     "name": "stderr",
     "output_type": "stream",
     "text": [
      " 15%|█▌        | 15/100 [00:36<03:35,  2.53s/it]"
     ]
    },
    {
     "name": "stdout",
     "output_type": "stream",
     "text": [
      "epoch: 14, train_loss: 1.8008, test_loss: 1.6170\n"
     ]
    },
    {
     "name": "stderr",
     "output_type": "stream",
     "text": [
      " 16%|█▌        | 16/100 [00:38<03:29,  2.50s/it]"
     ]
    },
    {
     "name": "stdout",
     "output_type": "stream",
     "text": [
      "epoch: 15, train_loss: 1.8148, test_loss: 1.6375\n"
     ]
    },
    {
     "name": "stderr",
     "output_type": "stream",
     "text": [
      " 17%|█▋        | 17/100 [00:41<03:27,  2.50s/it]"
     ]
    },
    {
     "name": "stdout",
     "output_type": "stream",
     "text": [
      "epoch: 16, train_loss: 1.7919, test_loss: 1.5851\n"
     ]
    },
    {
     "name": "stderr",
     "output_type": "stream",
     "text": [
      " 18%|█▊        | 18/100 [00:43<03:20,  2.45s/it]"
     ]
    },
    {
     "name": "stdout",
     "output_type": "stream",
     "text": [
      "epoch: 17, train_loss: 1.7821, test_loss: 1.5503\n"
     ]
    },
    {
     "name": "stderr",
     "output_type": "stream",
     "text": [
      " 19%|█▉        | 19/100 [00:45<03:18,  2.45s/it]"
     ]
    },
    {
     "name": "stdout",
     "output_type": "stream",
     "text": [
      "epoch: 18, train_loss: 1.7855, test_loss: 1.6802\n"
     ]
    },
    {
     "name": "stderr",
     "output_type": "stream",
     "text": [
      " 20%|██        | 20/100 [00:48<03:17,  2.47s/it]"
     ]
    },
    {
     "name": "stdout",
     "output_type": "stream",
     "text": [
      "epoch: 19, train_loss: 1.7722, test_loss: 1.5441\n"
     ]
    },
    {
     "name": "stderr",
     "output_type": "stream",
     "text": [
      " 21%|██        | 21/100 [00:50<03:17,  2.50s/it]"
     ]
    },
    {
     "name": "stdout",
     "output_type": "stream",
     "text": [
      "epoch: 20, train_loss: 1.7523, test_loss: 1.6240\n"
     ]
    },
    {
     "name": "stderr",
     "output_type": "stream",
     "text": [
      " 22%|██▏       | 22/100 [00:53<03:17,  2.53s/it]"
     ]
    },
    {
     "name": "stdout",
     "output_type": "stream",
     "text": [
      "epoch: 21, train_loss: 1.7492, test_loss: 1.5845\n"
     ]
    },
    {
     "name": "stderr",
     "output_type": "stream",
     "text": [
      " 23%|██▎       | 23/100 [00:55<03:11,  2.49s/it]"
     ]
    },
    {
     "name": "stdout",
     "output_type": "stream",
     "text": [
      "epoch: 22, train_loss: 1.7545, test_loss: 1.5316\n"
     ]
    },
    {
     "name": "stderr",
     "output_type": "stream",
     "text": [
      " 24%|██▍       | 24/100 [00:58<03:04,  2.43s/it]"
     ]
    },
    {
     "name": "stdout",
     "output_type": "stream",
     "text": [
      "epoch: 23, train_loss: 1.7422, test_loss: 1.6633\n"
     ]
    },
    {
     "name": "stderr",
     "output_type": "stream",
     "text": [
      " 25%|██▌       | 25/100 [01:00<03:05,  2.47s/it]"
     ]
    },
    {
     "name": "stdout",
     "output_type": "stream",
     "text": [
      "epoch: 24, train_loss: 1.7353, test_loss: 1.5483\n"
     ]
    },
    {
     "name": "stderr",
     "output_type": "stream",
     "text": [
      " 26%|██▌       | 26/100 [01:03<03:04,  2.50s/it]"
     ]
    },
    {
     "name": "stdout",
     "output_type": "stream",
     "text": [
      "epoch: 25, train_loss: 1.7243, test_loss: 1.5582\n"
     ]
    },
    {
     "name": "stderr",
     "output_type": "stream",
     "text": [
      " 27%|██▋       | 27/100 [01:05<03:01,  2.48s/it]"
     ]
    },
    {
     "name": "stdout",
     "output_type": "stream",
     "text": [
      "epoch: 26, train_loss: 1.7214, test_loss: 1.5127\n"
     ]
    },
    {
     "name": "stderr",
     "output_type": "stream",
     "text": [
      " 28%|██▊       | 28/100 [01:08<02:57,  2.46s/it]"
     ]
    },
    {
     "name": "stdout",
     "output_type": "stream",
     "text": [
      "epoch: 27, train_loss: 1.7182, test_loss: 1.5560\n"
     ]
    },
    {
     "name": "stderr",
     "output_type": "stream",
     "text": [
      " 29%|██▉       | 29/100 [01:10<02:52,  2.43s/it]"
     ]
    },
    {
     "name": "stdout",
     "output_type": "stream",
     "text": [
      "epoch: 28, train_loss: 1.7105, test_loss: 1.5420\n"
     ]
    },
    {
     "name": "stderr",
     "output_type": "stream",
     "text": [
      " 30%|███       | 30/100 [01:12<02:49,  2.42s/it]"
     ]
    },
    {
     "name": "stdout",
     "output_type": "stream",
     "text": [
      "epoch: 29, train_loss: 1.7020, test_loss: 1.5978\n"
     ]
    },
    {
     "name": "stderr",
     "output_type": "stream",
     "text": [
      " 31%|███       | 31/100 [01:15<02:48,  2.44s/it]"
     ]
    },
    {
     "name": "stdout",
     "output_type": "stream",
     "text": [
      "epoch: 30, train_loss: 1.6976, test_loss: 1.5082\n"
     ]
    },
    {
     "name": "stderr",
     "output_type": "stream",
     "text": [
      " 32%|███▏      | 32/100 [01:17<02:43,  2.40s/it]"
     ]
    },
    {
     "name": "stdout",
     "output_type": "stream",
     "text": [
      "epoch: 31, train_loss: 1.6962, test_loss: 1.5086\n"
     ]
    },
    {
     "name": "stderr",
     "output_type": "stream",
     "text": [
      " 33%|███▎      | 33/100 [01:20<02:41,  2.41s/it]"
     ]
    },
    {
     "name": "stdout",
     "output_type": "stream",
     "text": [
      "epoch: 32, train_loss: 1.6874, test_loss: 1.5081\n"
     ]
    },
    {
     "name": "stderr",
     "output_type": "stream",
     "text": [
      " 34%|███▍      | 34/100 [01:22<02:37,  2.38s/it]"
     ]
    },
    {
     "name": "stdout",
     "output_type": "stream",
     "text": [
      "epoch: 33, train_loss: 1.6829, test_loss: 1.5500\n"
     ]
    },
    {
     "name": "stderr",
     "output_type": "stream",
     "text": [
      " 35%|███▌      | 35/100 [01:24<02:36,  2.41s/it]"
     ]
    },
    {
     "name": "stdout",
     "output_type": "stream",
     "text": [
      "epoch: 34, train_loss: 1.6805, test_loss: 1.5336\n"
     ]
    },
    {
     "name": "stderr",
     "output_type": "stream",
     "text": [
      " 36%|███▌      | 36/100 [01:27<02:33,  2.40s/it]"
     ]
    },
    {
     "name": "stdout",
     "output_type": "stream",
     "text": [
      "epoch: 35, train_loss: 1.6788, test_loss: 1.4831\n"
     ]
    },
    {
     "name": "stderr",
     "output_type": "stream",
     "text": [
      " 37%|███▋      | 37/100 [01:29<02:33,  2.44s/it]"
     ]
    },
    {
     "name": "stdout",
     "output_type": "stream",
     "text": [
      "epoch: 36, train_loss: 1.6812, test_loss: 1.6709\n"
     ]
    },
    {
     "name": "stderr",
     "output_type": "stream",
     "text": [
      " 38%|███▊      | 38/100 [01:32<02:30,  2.43s/it]"
     ]
    },
    {
     "name": "stdout",
     "output_type": "stream",
     "text": [
      "epoch: 37, train_loss: 1.6638, test_loss: 1.5823\n"
     ]
    },
    {
     "name": "stderr",
     "output_type": "stream",
     "text": [
      " 39%|███▉      | 39/100 [01:34<02:25,  2.38s/it]"
     ]
    },
    {
     "name": "stdout",
     "output_type": "stream",
     "text": [
      "epoch: 38, train_loss: 1.6582, test_loss: 1.4719\n"
     ]
    },
    {
     "name": "stderr",
     "output_type": "stream",
     "text": [
      " 40%|████      | 40/100 [01:36<02:23,  2.40s/it]"
     ]
    },
    {
     "name": "stdout",
     "output_type": "stream",
     "text": [
      "epoch: 39, train_loss: 1.6513, test_loss: 1.5013\n"
     ]
    },
    {
     "name": "stderr",
     "output_type": "stream",
     "text": [
      " 41%|████      | 41/100 [01:39<02:21,  2.39s/it]"
     ]
    },
    {
     "name": "stdout",
     "output_type": "stream",
     "text": [
      "epoch: 40, train_loss: 1.6506, test_loss: 1.4736\n"
     ]
    },
    {
     "name": "stderr",
     "output_type": "stream",
     "text": [
      " 42%|████▏     | 42/100 [01:41<02:16,  2.35s/it]"
     ]
    },
    {
     "name": "stdout",
     "output_type": "stream",
     "text": [
      "epoch: 41, train_loss: 1.6512, test_loss: 1.4874\n"
     ]
    },
    {
     "name": "stderr",
     "output_type": "stream",
     "text": [
      " 43%|████▎     | 43/100 [01:44<02:15,  2.38s/it]"
     ]
    },
    {
     "name": "stdout",
     "output_type": "stream",
     "text": [
      "epoch: 42, train_loss: 1.6461, test_loss: 1.5409\n"
     ]
    },
    {
     "name": "stderr",
     "output_type": "stream",
     "text": [
      " 44%|████▍     | 44/100 [01:46<02:11,  2.34s/it]"
     ]
    },
    {
     "name": "stdout",
     "output_type": "stream",
     "text": [
      "epoch: 43, train_loss: 1.6486, test_loss: 1.4931\n"
     ]
    },
    {
     "name": "stderr",
     "output_type": "stream",
     "text": [
      " 45%|████▌     | 45/100 [01:48<02:07,  2.33s/it]"
     ]
    },
    {
     "name": "stdout",
     "output_type": "stream",
     "text": [
      "epoch: 44, train_loss: 1.6375, test_loss: 1.4828\n"
     ]
    },
    {
     "name": "stderr",
     "output_type": "stream",
     "text": [
      " 46%|████▌     | 46/100 [01:50<02:06,  2.35s/it]"
     ]
    },
    {
     "name": "stdout",
     "output_type": "stream",
     "text": [
      "epoch: 45, train_loss: 1.6441, test_loss: 1.4560\n"
     ]
    },
    {
     "name": "stderr",
     "output_type": "stream",
     "text": [
      " 47%|████▋     | 47/100 [01:53<02:07,  2.41s/it]"
     ]
    },
    {
     "name": "stdout",
     "output_type": "stream",
     "text": [
      "epoch: 46, train_loss: 1.6264, test_loss: 1.4616\n"
     ]
    },
    {
     "name": "stderr",
     "output_type": "stream",
     "text": [
      " 48%|████▊     | 48/100 [01:55<02:02,  2.35s/it]"
     ]
    },
    {
     "name": "stdout",
     "output_type": "stream",
     "text": [
      "epoch: 47, train_loss: 1.6331, test_loss: 1.4476\n"
     ]
    },
    {
     "name": "stderr",
     "output_type": "stream",
     "text": [
      " 49%|████▉     | 49/100 [01:58<01:58,  2.32s/it]"
     ]
    },
    {
     "name": "stdout",
     "output_type": "stream",
     "text": [
      "epoch: 48, train_loss: 1.6264, test_loss: 1.4774\n"
     ]
    },
    {
     "name": "stderr",
     "output_type": "stream",
     "text": [
      " 50%|█████     | 50/100 [02:00<01:58,  2.37s/it]"
     ]
    },
    {
     "name": "stdout",
     "output_type": "stream",
     "text": [
      "epoch: 49, train_loss: 1.6212, test_loss: 1.4499\n"
     ]
    },
    {
     "name": "stderr",
     "output_type": "stream",
     "text": [
      " 51%|█████     | 51/100 [02:02<01:56,  2.38s/it]"
     ]
    },
    {
     "name": "stdout",
     "output_type": "stream",
     "text": [
      "epoch: 50, train_loss: 1.6155, test_loss: 1.4948\n"
     ]
    },
    {
     "name": "stderr",
     "output_type": "stream",
     "text": [
      " 52%|█████▏    | 52/100 [02:05<01:55,  2.40s/it]"
     ]
    },
    {
     "name": "stdout",
     "output_type": "stream",
     "text": [
      "epoch: 51, train_loss: 1.6286, test_loss: 1.4618\n"
     ]
    },
    {
     "name": "stderr",
     "output_type": "stream",
     "text": [
      " 53%|█████▎    | 53/100 [02:07<01:52,  2.39s/it]"
     ]
    },
    {
     "name": "stdout",
     "output_type": "stream",
     "text": [
      "epoch: 52, train_loss: 1.6198, test_loss: 1.4952\n"
     ]
    },
    {
     "name": "stderr",
     "output_type": "stream",
     "text": [
      " 54%|█████▍    | 54/100 [02:10<01:48,  2.37s/it]"
     ]
    },
    {
     "name": "stdout",
     "output_type": "stream",
     "text": [
      "epoch: 53, train_loss: 1.6079, test_loss: 1.4663\n"
     ]
    },
    {
     "name": "stderr",
     "output_type": "stream",
     "text": [
      " 55%|█████▌    | 55/100 [02:12<01:45,  2.34s/it]"
     ]
    },
    {
     "name": "stdout",
     "output_type": "stream",
     "text": [
      "epoch: 54, train_loss: 1.6093, test_loss: 1.4329\n"
     ]
    },
    {
     "name": "stderr",
     "output_type": "stream",
     "text": [
      " 56%|█████▌    | 56/100 [02:14<01:41,  2.31s/it]"
     ]
    },
    {
     "name": "stdout",
     "output_type": "stream",
     "text": [
      "epoch: 55, train_loss: 1.6044, test_loss: 1.4572\n"
     ]
    },
    {
     "name": "stderr",
     "output_type": "stream",
     "text": [
      " 57%|█████▋    | 57/100 [02:16<01:40,  2.33s/it]"
     ]
    },
    {
     "name": "stdout",
     "output_type": "stream",
     "text": [
      "epoch: 56, train_loss: 1.6071, test_loss: 1.5187\n"
     ]
    },
    {
     "name": "stderr",
     "output_type": "stream",
     "text": [
      " 58%|█████▊    | 58/100 [02:19<01:37,  2.32s/it]"
     ]
    },
    {
     "name": "stdout",
     "output_type": "stream",
     "text": [
      "epoch: 57, train_loss: 1.5980, test_loss: 1.4401\n"
     ]
    },
    {
     "name": "stderr",
     "output_type": "stream",
     "text": [
      " 59%|█████▉    | 59/100 [02:21<01:35,  2.33s/it]"
     ]
    },
    {
     "name": "stdout",
     "output_type": "stream",
     "text": [
      "epoch: 58, train_loss: 1.5970, test_loss: 1.4802\n"
     ]
    },
    {
     "name": "stderr",
     "output_type": "stream",
     "text": [
      " 60%|██████    | 60/100 [02:24<01:34,  2.37s/it]"
     ]
    },
    {
     "name": "stdout",
     "output_type": "stream",
     "text": [
      "epoch: 59, train_loss: 1.5995, test_loss: 1.4679\n"
     ]
    },
    {
     "name": "stderr",
     "output_type": "stream",
     "text": [
      " 61%|██████    | 61/100 [02:26<01:31,  2.33s/it]"
     ]
    },
    {
     "name": "stdout",
     "output_type": "stream",
     "text": [
      "epoch: 60, train_loss: 1.5982, test_loss: 1.4273\n"
     ]
    },
    {
     "name": "stderr",
     "output_type": "stream",
     "text": [
      " 62%|██████▏   | 62/100 [02:28<01:28,  2.32s/it]"
     ]
    },
    {
     "name": "stdout",
     "output_type": "stream",
     "text": [
      "epoch: 61, train_loss: 1.5947, test_loss: 1.4707\n"
     ]
    },
    {
     "name": "stderr",
     "output_type": "stream",
     "text": [
      " 63%|██████▎   | 63/100 [02:31<01:27,  2.37s/it]"
     ]
    },
    {
     "name": "stdout",
     "output_type": "stream",
     "text": [
      "epoch: 62, train_loss: 1.5874, test_loss: 1.5310\n"
     ]
    },
    {
     "name": "stderr",
     "output_type": "stream",
     "text": [
      " 64%|██████▍   | 64/100 [02:33<01:24,  2.36s/it]"
     ]
    },
    {
     "name": "stdout",
     "output_type": "stream",
     "text": [
      "epoch: 63, train_loss: 1.5935, test_loss: 1.4219\n"
     ]
    },
    {
     "name": "stderr",
     "output_type": "stream",
     "text": [
      " 65%|██████▌   | 65/100 [02:35<01:22,  2.36s/it]"
     ]
    },
    {
     "name": "stdout",
     "output_type": "stream",
     "text": [
      "epoch: 64, train_loss: 1.5898, test_loss: 1.4186\n"
     ]
    },
    {
     "name": "stderr",
     "output_type": "stream",
     "text": [
      " 66%|██████▌   | 66/100 [02:37<01:18,  2.32s/it]"
     ]
    },
    {
     "name": "stdout",
     "output_type": "stream",
     "text": [
      "epoch: 65, train_loss: 1.5873, test_loss: 1.5359\n"
     ]
    },
    {
     "name": "stderr",
     "output_type": "stream",
     "text": [
      " 67%|██████▋   | 67/100 [02:40<01:17,  2.35s/it]"
     ]
    },
    {
     "name": "stdout",
     "output_type": "stream",
     "text": [
      "epoch: 66, train_loss: 1.5928, test_loss: 1.5482\n"
     ]
    },
    {
     "name": "stderr",
     "output_type": "stream",
     "text": [
      " 68%|██████▊   | 68/100 [02:42<01:16,  2.38s/it]"
     ]
    },
    {
     "name": "stdout",
     "output_type": "stream",
     "text": [
      "epoch: 67, train_loss: 1.5832, test_loss: 1.4285\n"
     ]
    },
    {
     "name": "stderr",
     "output_type": "stream",
     "text": [
      " 69%|██████▉   | 69/100 [02:45<01:13,  2.37s/it]"
     ]
    },
    {
     "name": "stdout",
     "output_type": "stream",
     "text": [
      "epoch: 68, train_loss: 1.5828, test_loss: 1.4372\n"
     ]
    },
    {
     "name": "stderr",
     "output_type": "stream",
     "text": [
      " 70%|███████   | 70/100 [02:47<01:11,  2.37s/it]"
     ]
    },
    {
     "name": "stdout",
     "output_type": "stream",
     "text": [
      "epoch: 69, train_loss: 1.5835, test_loss: 1.4132\n"
     ]
    },
    {
     "name": "stderr",
     "output_type": "stream",
     "text": [
      " 71%|███████   | 71/100 [02:49<01:08,  2.36s/it]"
     ]
    },
    {
     "name": "stdout",
     "output_type": "stream",
     "text": [
      "epoch: 70, train_loss: 1.5834, test_loss: 1.4713\n"
     ]
    },
    {
     "name": "stderr",
     "output_type": "stream",
     "text": [
      " 72%|███████▏  | 72/100 [02:52<01:06,  2.38s/it]"
     ]
    },
    {
     "name": "stdout",
     "output_type": "stream",
     "text": [
      "epoch: 71, train_loss: 1.5782, test_loss: 1.4602\n"
     ]
    },
    {
     "name": "stderr",
     "output_type": "stream",
     "text": [
      " 73%|███████▎  | 73/100 [02:54<01:03,  2.34s/it]"
     ]
    },
    {
     "name": "stdout",
     "output_type": "stream",
     "text": [
      "epoch: 72, train_loss: 1.5801, test_loss: 1.4114\n"
     ]
    },
    {
     "name": "stderr",
     "output_type": "stream",
     "text": [
      " 74%|███████▍  | 74/100 [02:56<01:00,  2.33s/it]"
     ]
    },
    {
     "name": "stdout",
     "output_type": "stream",
     "text": [
      "epoch: 73, train_loss: 1.5734, test_loss: 1.5110\n"
     ]
    },
    {
     "name": "stderr",
     "output_type": "stream",
     "text": [
      " 75%|███████▌  | 75/100 [02:59<00:57,  2.30s/it]"
     ]
    },
    {
     "name": "stdout",
     "output_type": "stream",
     "text": [
      "epoch: 74, train_loss: 1.5750, test_loss: 1.4499\n"
     ]
    },
    {
     "name": "stderr",
     "output_type": "stream",
     "text": [
      " 76%|███████▌  | 76/100 [03:01<00:55,  2.31s/it]"
     ]
    },
    {
     "name": "stdout",
     "output_type": "stream",
     "text": [
      "epoch: 75, train_loss: 1.5765, test_loss: 1.4624\n"
     ]
    },
    {
     "name": "stderr",
     "output_type": "stream",
     "text": [
      " 77%|███████▋  | 77/100 [03:03<00:53,  2.32s/it]"
     ]
    },
    {
     "name": "stdout",
     "output_type": "stream",
     "text": [
      "epoch: 76, train_loss: 1.5744, test_loss: 1.4892\n"
     ]
    },
    {
     "name": "stderr",
     "output_type": "stream",
     "text": [
      " 78%|███████▊  | 78/100 [03:06<00:50,  2.29s/it]"
     ]
    },
    {
     "name": "stdout",
     "output_type": "stream",
     "text": [
      "epoch: 77, train_loss: 1.5782, test_loss: 1.4299\n"
     ]
    },
    {
     "name": "stderr",
     "output_type": "stream",
     "text": [
      " 79%|███████▉  | 79/100 [03:08<00:48,  2.30s/it]"
     ]
    },
    {
     "name": "stdout",
     "output_type": "stream",
     "text": [
      "epoch: 78, train_loss: 1.5754, test_loss: 1.4360\n"
     ]
    },
    {
     "name": "stderr",
     "output_type": "stream",
     "text": [
      " 80%|████████  | 80/100 [03:10<00:45,  2.28s/it]"
     ]
    },
    {
     "name": "stdout",
     "output_type": "stream",
     "text": [
      "epoch: 79, train_loss: 1.5810, test_loss: 1.4568\n"
     ]
    },
    {
     "name": "stderr",
     "output_type": "stream",
     "text": [
      " 81%|████████  | 81/100 [03:12<00:43,  2.27s/it]"
     ]
    },
    {
     "name": "stdout",
     "output_type": "stream",
     "text": [
      "epoch: 80, train_loss: 1.5701, test_loss: 1.4209\n"
     ]
    },
    {
     "name": "stderr",
     "output_type": "stream",
     "text": [
      " 82%|████████▏ | 82/100 [03:15<00:41,  2.28s/it]"
     ]
    },
    {
     "name": "stdout",
     "output_type": "stream",
     "text": [
      "epoch: 81, train_loss: 1.5670, test_loss: 1.4067\n"
     ]
    },
    {
     "name": "stderr",
     "output_type": "stream",
     "text": [
      " 83%|████████▎ | 83/100 [03:17<00:39,  2.31s/it]"
     ]
    },
    {
     "name": "stdout",
     "output_type": "stream",
     "text": [
      "epoch: 82, train_loss: 1.5738, test_loss: 1.4631\n"
     ]
    },
    {
     "name": "stderr",
     "output_type": "stream",
     "text": [
      " 84%|████████▍ | 84/100 [03:19<00:37,  2.35s/it]"
     ]
    },
    {
     "name": "stdout",
     "output_type": "stream",
     "text": [
      "epoch: 83, train_loss: 1.5671, test_loss: 1.4156\n"
     ]
    },
    {
     "name": "stderr",
     "output_type": "stream",
     "text": [
      " 84%|████████▍ | 84/100 [03:20<00:38,  2.39s/it]\n"
     ]
    },
    {
     "ename": "KeyboardInterrupt",
     "evalue": "",
     "output_type": "error",
     "traceback": [
      "\u001b[0;31m---------------------------------------------------------------------------\u001b[0m",
      "\u001b[0;31mKeyboardInterrupt\u001b[0m                         Traceback (most recent call last)",
      "Cell \u001b[0;32mIn[117], line 1\u001b[0m\n\u001b[0;32m----> 1\u001b[0m model1_results \u001b[38;5;241m=\u001b[39m \u001b[43mtrain\u001b[49m\u001b[43m(\u001b[49m\u001b[43mmodel\u001b[49m\u001b[38;5;241;43m=\u001b[39;49m\u001b[43mmodel1\u001b[49m\u001b[43m,\u001b[49m\u001b[43m \u001b[49m\n\u001b[1;32m      2\u001b[0m \u001b[43m                       \u001b[49m\u001b[43mtrain_dataloader\u001b[49m\u001b[38;5;241;43m=\u001b[39;49m\u001b[43mtrain_dataloader\u001b[49m\u001b[43m,\u001b[49m\u001b[43m \u001b[49m\n\u001b[1;32m      3\u001b[0m \u001b[43m                       \u001b[49m\u001b[43mtest_dataloader\u001b[49m\u001b[38;5;241;43m=\u001b[39;49m\u001b[43mtest_dataloader\u001b[49m\u001b[43m,\u001b[49m\u001b[43m \u001b[49m\n\u001b[1;32m      4\u001b[0m \u001b[43m                       \u001b[49m\u001b[43mloss_fn\u001b[49m\u001b[38;5;241;43m=\u001b[39;49m\u001b[43mloss_fun\u001b[49m\u001b[43m,\u001b[49m\u001b[43m \u001b[49m\n\u001b[1;32m      5\u001b[0m \u001b[43m                       \u001b[49m\u001b[43moptimizer\u001b[49m\u001b[38;5;241;43m=\u001b[39;49m\u001b[43moptimizer\u001b[49m\u001b[43m,\u001b[49m\u001b[43m \u001b[49m\n\u001b[1;32m      6\u001b[0m \u001b[43m                       \u001b[49m\u001b[43mepochs\u001b[49m\u001b[38;5;241;43m=\u001b[39;49m\u001b[38;5;241;43m100\u001b[39;49m\u001b[43m,\u001b[49m\u001b[43m \u001b[49m\n\u001b[1;32m      7\u001b[0m \u001b[43m                       \u001b[49m\u001b[43mdevice\u001b[49m\u001b[38;5;241;43m=\u001b[39;49m\u001b[43mdevice\u001b[49m\u001b[43m)\u001b[49m\n\u001b[1;32m      9\u001b[0m plot_results_since(model1_results, \u001b[38;5;241m5\u001b[39m)\n",
      "Cell \u001b[0;32mIn[104], line 77\u001b[0m, in \u001b[0;36mtrain\u001b[0;34m(model, train_dataloader, test_dataloader, loss_fn, optimizer, epochs, device)\u001b[0m\n\u001b[1;32m     73\u001b[0m results \u001b[38;5;241m=\u001b[39m {\u001b[38;5;124m\"\u001b[39m\u001b[38;5;124mtrain_loss\u001b[39m\u001b[38;5;124m\"\u001b[39m: [], \n\u001b[1;32m     74\u001b[0m            \u001b[38;5;124m\"\u001b[39m\u001b[38;5;124mtest_loss\u001b[39m\u001b[38;5;124m\"\u001b[39m: []}\n\u001b[1;32m     76\u001b[0m \u001b[38;5;28;01mfor\u001b[39;00m epoch \u001b[38;5;129;01min\u001b[39;00m tqdm(\u001b[38;5;28mrange\u001b[39m(epochs)):\n\u001b[0;32m---> 77\u001b[0m     train_loss \u001b[38;5;241m=\u001b[39m \u001b[43mtrain_step\u001b[49m\u001b[43m(\u001b[49m\u001b[43mmodel\u001b[49m\u001b[38;5;241;43m=\u001b[39;49m\u001b[43mmodel\u001b[49m\u001b[43m,\u001b[49m\u001b[43m \u001b[49m\n\u001b[1;32m     78\u001b[0m \u001b[43m                            \u001b[49m\u001b[43mdataloader\u001b[49m\u001b[38;5;241;43m=\u001b[39;49m\u001b[43mtrain_dataloader\u001b[49m\u001b[43m,\u001b[49m\u001b[43m \u001b[49m\n\u001b[1;32m     79\u001b[0m \u001b[43m                            \u001b[49m\u001b[43mloss_fn\u001b[49m\u001b[38;5;241;43m=\u001b[39;49m\u001b[43mloss_fn\u001b[49m\u001b[43m,\u001b[49m\u001b[43m \u001b[49m\n\u001b[1;32m     80\u001b[0m \u001b[43m                            \u001b[49m\u001b[43moptimizer\u001b[49m\u001b[38;5;241;43m=\u001b[39;49m\u001b[43moptimizer\u001b[49m\u001b[43m,\u001b[49m\n\u001b[1;32m     81\u001b[0m \u001b[43m                            \u001b[49m\u001b[43mdevice\u001b[49m\u001b[38;5;241;43m=\u001b[39;49m\u001b[43mdevice\u001b[49m\u001b[43m)\u001b[49m\n\u001b[1;32m     82\u001b[0m     test_loss \u001b[38;5;241m=\u001b[39m test_step(model\u001b[38;5;241m=\u001b[39mmodel, \n\u001b[1;32m     83\u001b[0m                           dataloader\u001b[38;5;241m=\u001b[39mtest_dataloader, \n\u001b[1;32m     84\u001b[0m                           loss_fn\u001b[38;5;241m=\u001b[39mloss_fn,\n\u001b[1;32m     85\u001b[0m                           device\u001b[38;5;241m=\u001b[39mdevice)\n\u001b[1;32m     87\u001b[0m     \u001b[38;5;28mprint\u001b[39m(\u001b[38;5;124mf\u001b[39m\u001b[38;5;124m\"\u001b[39m\u001b[38;5;124mepoch: \u001b[39m\u001b[38;5;132;01m{\u001b[39;00mepoch\u001b[38;5;132;01m}\u001b[39;00m\u001b[38;5;124m, train_loss: \u001b[39m\u001b[38;5;132;01m{\u001b[39;00mtrain_loss\u001b[38;5;132;01m:\u001b[39;00m\u001b[38;5;124m.4f\u001b[39m\u001b[38;5;132;01m}\u001b[39;00m\u001b[38;5;124m, test_loss: \u001b[39m\u001b[38;5;132;01m{\u001b[39;00mtest_loss\u001b[38;5;132;01m:\u001b[39;00m\u001b[38;5;124m.4f\u001b[39m\u001b[38;5;132;01m}\u001b[39;00m\u001b[38;5;124m\"\u001b[39m)\n",
      "Cell \u001b[0;32mIn[104], line 57\u001b[0m, in \u001b[0;36mtrain_step\u001b[0;34m(model, dataloader, loss_fn, optimizer, device)\u001b[0m\n\u001b[1;32m     54\u001b[0m optimizer\u001b[38;5;241m.\u001b[39mzero_grad()\n\u001b[1;32m     56\u001b[0m \u001b[38;5;66;03m# 4. Loss backward\u001b[39;00m\n\u001b[0;32m---> 57\u001b[0m \u001b[43mloss\u001b[49m\u001b[38;5;241;43m.\u001b[39;49m\u001b[43mbackward\u001b[49m\u001b[43m(\u001b[49m\u001b[43m)\u001b[49m\n\u001b[1;32m     59\u001b[0m \u001b[38;5;66;03m# 5. Optimizer step\u001b[39;00m\n\u001b[1;32m     60\u001b[0m optimizer\u001b[38;5;241m.\u001b[39mstep()\n",
      "File \u001b[0;32m~/miniconda3/envs/pytorch/lib/python3.10/site-packages/torch/_tensor.py:525\u001b[0m, in \u001b[0;36mTensor.backward\u001b[0;34m(self, gradient, retain_graph, create_graph, inputs)\u001b[0m\n\u001b[1;32m    515\u001b[0m \u001b[38;5;28;01mif\u001b[39;00m has_torch_function_unary(\u001b[38;5;28mself\u001b[39m):\n\u001b[1;32m    516\u001b[0m     \u001b[38;5;28;01mreturn\u001b[39;00m handle_torch_function(\n\u001b[1;32m    517\u001b[0m         Tensor\u001b[38;5;241m.\u001b[39mbackward,\n\u001b[1;32m    518\u001b[0m         (\u001b[38;5;28mself\u001b[39m,),\n\u001b[0;32m   (...)\u001b[0m\n\u001b[1;32m    523\u001b[0m         inputs\u001b[38;5;241m=\u001b[39minputs,\n\u001b[1;32m    524\u001b[0m     )\n\u001b[0;32m--> 525\u001b[0m \u001b[43mtorch\u001b[49m\u001b[38;5;241;43m.\u001b[39;49m\u001b[43mautograd\u001b[49m\u001b[38;5;241;43m.\u001b[39;49m\u001b[43mbackward\u001b[49m\u001b[43m(\u001b[49m\n\u001b[1;32m    526\u001b[0m \u001b[43m    \u001b[49m\u001b[38;5;28;43mself\u001b[39;49m\u001b[43m,\u001b[49m\u001b[43m \u001b[49m\u001b[43mgradient\u001b[49m\u001b[43m,\u001b[49m\u001b[43m \u001b[49m\u001b[43mretain_graph\u001b[49m\u001b[43m,\u001b[49m\u001b[43m \u001b[49m\u001b[43mcreate_graph\u001b[49m\u001b[43m,\u001b[49m\u001b[43m \u001b[49m\u001b[43minputs\u001b[49m\u001b[38;5;241;43m=\u001b[39;49m\u001b[43minputs\u001b[49m\n\u001b[1;32m    527\u001b[0m \u001b[43m\u001b[49m\u001b[43m)\u001b[49m\n",
      "File \u001b[0;32m~/miniconda3/envs/pytorch/lib/python3.10/site-packages/torch/autograd/__init__.py:267\u001b[0m, in \u001b[0;36mbackward\u001b[0;34m(tensors, grad_tensors, retain_graph, create_graph, grad_variables, inputs)\u001b[0m\n\u001b[1;32m    262\u001b[0m     retain_graph \u001b[38;5;241m=\u001b[39m create_graph\n\u001b[1;32m    264\u001b[0m \u001b[38;5;66;03m# The reason we repeat the same comment below is that\u001b[39;00m\n\u001b[1;32m    265\u001b[0m \u001b[38;5;66;03m# some Python versions print out the first line of a multi-line function\u001b[39;00m\n\u001b[1;32m    266\u001b[0m \u001b[38;5;66;03m# calls in the traceback and some print out the last line\u001b[39;00m\n\u001b[0;32m--> 267\u001b[0m \u001b[43m_engine_run_backward\u001b[49m\u001b[43m(\u001b[49m\n\u001b[1;32m    268\u001b[0m \u001b[43m    \u001b[49m\u001b[43mtensors\u001b[49m\u001b[43m,\u001b[49m\n\u001b[1;32m    269\u001b[0m \u001b[43m    \u001b[49m\u001b[43mgrad_tensors_\u001b[49m\u001b[43m,\u001b[49m\n\u001b[1;32m    270\u001b[0m \u001b[43m    \u001b[49m\u001b[43mretain_graph\u001b[49m\u001b[43m,\u001b[49m\n\u001b[1;32m    271\u001b[0m \u001b[43m    \u001b[49m\u001b[43mcreate_graph\u001b[49m\u001b[43m,\u001b[49m\n\u001b[1;32m    272\u001b[0m \u001b[43m    \u001b[49m\u001b[43minputs\u001b[49m\u001b[43m,\u001b[49m\n\u001b[1;32m    273\u001b[0m \u001b[43m    \u001b[49m\u001b[43mallow_unreachable\u001b[49m\u001b[38;5;241;43m=\u001b[39;49m\u001b[38;5;28;43;01mTrue\u001b[39;49;00m\u001b[43m,\u001b[49m\n\u001b[1;32m    274\u001b[0m \u001b[43m    \u001b[49m\u001b[43maccumulate_grad\u001b[49m\u001b[38;5;241;43m=\u001b[39;49m\u001b[38;5;28;43;01mTrue\u001b[39;49;00m\u001b[43m,\u001b[49m\n\u001b[1;32m    275\u001b[0m \u001b[43m\u001b[49m\u001b[43m)\u001b[49m\n",
      "File \u001b[0;32m~/miniconda3/envs/pytorch/lib/python3.10/site-packages/torch/autograd/graph.py:744\u001b[0m, in \u001b[0;36m_engine_run_backward\u001b[0;34m(t_outputs, *args, **kwargs)\u001b[0m\n\u001b[1;32m    742\u001b[0m     unregister_hooks \u001b[38;5;241m=\u001b[39m _register_logging_hooks_on_whole_graph(t_outputs)\n\u001b[1;32m    743\u001b[0m \u001b[38;5;28;01mtry\u001b[39;00m:\n\u001b[0;32m--> 744\u001b[0m     \u001b[38;5;28;01mreturn\u001b[39;00m \u001b[43mVariable\u001b[49m\u001b[38;5;241;43m.\u001b[39;49m\u001b[43m_execution_engine\u001b[49m\u001b[38;5;241;43m.\u001b[39;49m\u001b[43mrun_backward\u001b[49m\u001b[43m(\u001b[49m\u001b[43m  \u001b[49m\u001b[38;5;66;43;03m# Calls into the C++ engine to run the backward pass\u001b[39;49;00m\n\u001b[1;32m    745\u001b[0m \u001b[43m        \u001b[49m\u001b[43mt_outputs\u001b[49m\u001b[43m,\u001b[49m\u001b[43m \u001b[49m\u001b[38;5;241;43m*\u001b[39;49m\u001b[43margs\u001b[49m\u001b[43m,\u001b[49m\u001b[43m \u001b[49m\u001b[38;5;241;43m*\u001b[39;49m\u001b[38;5;241;43m*\u001b[39;49m\u001b[43mkwargs\u001b[49m\n\u001b[1;32m    746\u001b[0m \u001b[43m    \u001b[49m\u001b[43m)\u001b[49m  \u001b[38;5;66;03m# Calls into the C++ engine to run the backward pass\u001b[39;00m\n\u001b[1;32m    747\u001b[0m \u001b[38;5;28;01mfinally\u001b[39;00m:\n\u001b[1;32m    748\u001b[0m     \u001b[38;5;28;01mif\u001b[39;00m attach_logging_hooks:\n",
      "\u001b[0;31mKeyboardInterrupt\u001b[0m: "
     ]
    }
   ],
   "source": [
    "model1_results = train(model=model1, \n",
    "                       train_dataloader=train_dataloader, \n",
    "                       test_dataloader=test_dataloader, \n",
    "                       loss_fn=loss_fun, \n",
    "                       optimizer=optimizer, \n",
    "                       epochs=100, \n",
    "                       device=device)\n",
    "\n",
    "plot_results_since(model1_results, 5)"
   ]
  }
 ],
 "metadata": {
  "kernelspec": {
   "display_name": "pytorch",
   "language": "python",
   "name": "python3"
  },
  "language_info": {
   "codemirror_mode": {
    "name": "ipython",
    "version": 3
   },
   "file_extension": ".py",
   "mimetype": "text/x-python",
   "name": "python",
   "nbconvert_exporter": "python",
   "pygments_lexer": "ipython3",
   "version": "3.10.14"
  }
 },
 "nbformat": 4,
 "nbformat_minor": 2
}
